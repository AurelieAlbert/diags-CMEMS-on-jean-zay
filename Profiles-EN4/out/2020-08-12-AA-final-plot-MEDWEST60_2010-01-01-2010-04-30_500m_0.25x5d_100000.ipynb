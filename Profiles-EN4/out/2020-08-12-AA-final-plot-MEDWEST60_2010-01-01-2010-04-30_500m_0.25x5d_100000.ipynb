{
 "cells": [
  {
   "cell_type": "markdown",
   "metadata": {
    "papermill": {
     "duration": 0.008337,
     "end_time": "2020-08-12T16:21:41.992081",
     "exception": false,
     "start_time": "2020-08-12T16:21:41.983744",
     "status": "completed"
    },
    "tags": []
   },
   "source": [
    "## Import all the libraries"
   ]
  },
  {
   "cell_type": "code",
   "execution_count": 1,
   "metadata": {
    "execution": {
     "iopub.execute_input": "2020-08-12T16:21:42.015797Z",
     "iopub.status.busy": "2020-08-12T16:21:42.014978Z",
     "iopub.status.idle": "2020-08-12T16:21:43.114686Z",
     "shell.execute_reply": "2020-08-12T16:21:43.114080Z"
    },
    "papermill": {
     "duration": 1.113708,
     "end_time": "2020-08-12T16:21:43.114829",
     "exception": false,
     "start_time": "2020-08-12T16:21:42.001121",
     "status": "completed"
    },
    "tags": []
   },
   "outputs": [],
   "source": [
    "import numpy as np\n",
    "import dask\n",
    "import xarray as xr\n",
    "from netCDF4 import Dataset\n",
    "import matplotlib.pyplot as plt\n",
    "import pandas as pd\n",
    "import datetime\n",
    "import glob as glob\n",
    "import time\n",
    "from dask.diagnostics import ProgressBar\n",
    "from datetime import date\n",
    "import json\n",
    "import os\n",
    "import warnings\n",
    "import seawater\n",
    "import re\n",
    "\n",
    "warnings.filterwarnings('ignore')\n"
   ]
  },
  {
   "cell_type": "markdown",
   "metadata": {
    "papermill": {
     "duration": 0.00788,
     "end_time": "2020-08-12T16:21:43.131809",
     "exception": false,
     "start_time": "2020-08-12T16:21:43.123929",
     "status": "completed"
    },
    "tags": []
   },
   "source": [
    "## Parameters"
   ]
  },
  {
   "cell_type": "code",
   "execution_count": 2,
   "metadata": {
    "execution": {
     "iopub.execute_input": "2020-08-12T16:21:43.152126Z",
     "iopub.status.busy": "2020-08-12T16:21:43.151601Z",
     "iopub.status.idle": "2020-08-12T16:21:43.153987Z",
     "shell.execute_reply": "2020-08-12T16:21:43.153369Z"
    },
    "papermill": {
     "duration": 0.014188,
     "end_time": "2020-08-12T16:21:43.154113",
     "exception": false,
     "start_time": "2020-08-12T16:21:43.139925",
     "status": "completed"
    },
    "tags": [
     "parameters"
    ]
   },
   "outputs": [],
   "source": [
    "ymin=2010;mmin=1;dmin=1\n",
    "ymax=2010;mmax=4;dmax=30\n",
    "# depth of the desired comparison profile in m\n",
    "depthmin=100\n",
    "# radius of the circle around the profile location in which we take the modeled profiles, in °  \n",
    "radius_max=0.25\n",
    "# period of time around the profile sampling date in which we take the modeled profiles, in days\n",
    "period=5\n",
    "# minimum amount of model profiles to be considered to make a significant statistical comparison, for instance in a 1° square and 30-days window we have 2.6 millions modeled profiles, in a 0.5°x10 days 216 000\n",
    "number_of_model_profiles=100000\n"
   ]
  },
  {
   "cell_type": "code",
   "execution_count": 3,
   "metadata": {
    "execution": {
     "iopub.execute_input": "2020-08-12T16:21:43.173983Z",
     "iopub.status.busy": "2020-08-12T16:21:43.173413Z",
     "iopub.status.idle": "2020-08-12T16:21:43.175124Z",
     "shell.execute_reply": "2020-08-12T16:21:43.175611Z"
    },
    "papermill": {
     "duration": 0.013841,
     "end_time": "2020-08-12T16:21:43.175770",
     "exception": false,
     "start_time": "2020-08-12T16:21:43.161929",
     "status": "completed"
    },
    "tags": [
     "injected-parameters"
    ]
   },
   "outputs": [],
   "source": [
    "# Parameters\n",
    "ymin = 2010\n",
    "mmin = 1\n",
    "dmin = 1\n",
    "ymax = 2010\n",
    "mmax = 4\n",
    "dmax = 30\n",
    "depthmin = 500\n",
    "radius_max = 0.25\n",
    "period = 5\n",
    "number_of_model_profiles = 100000\n"
   ]
  },
  {
   "cell_type": "code",
   "execution_count": 4,
   "metadata": {
    "execution": {
     "iopub.execute_input": "2020-08-12T16:21:43.196137Z",
     "iopub.status.busy": "2020-08-12T16:21:43.195453Z",
     "iopub.status.idle": "2020-08-12T16:21:43.197294Z",
     "shell.execute_reply": "2020-08-12T16:21:43.197794Z"
    },
    "papermill": {
     "duration": 0.014432,
     "end_time": "2020-08-12T16:21:43.197947",
     "exception": false,
     "start_time": "2020-08-12T16:21:43.183515",
     "status": "completed"
    },
    "tags": []
   },
   "outputs": [],
   "source": [
    "datemin=datetime.date(ymin,mmin,dmin)\n",
    "datemax=datetime.date(ymax,mmax,dmax)\n",
    "jsonfile='txt/MEDWEST60-BLBT02_'+str(datemin)+'-'+str(datemax)+'_'+str(depthmin)+'m_'+str(radius_max)+'x'+str(period)+'d_'+str(number_of_model_profiles)+'.json'"
   ]
  },
  {
   "cell_type": "markdown",
   "metadata": {
    "papermill": {
     "duration": 0.007832,
     "end_time": "2020-08-12T16:21:43.213629",
     "exception": false,
     "start_time": "2020-08-12T16:21:43.205797",
     "status": "completed"
    },
    "tags": []
   },
   "source": [
    "## Read the jsonfile"
   ]
  },
  {
   "cell_type": "code",
   "execution_count": 5,
   "metadata": {
    "execution": {
     "iopub.execute_input": "2020-08-12T16:21:43.233736Z",
     "iopub.status.busy": "2020-08-12T16:21:43.232797Z",
     "iopub.status.idle": "2020-08-12T16:21:43.236027Z",
     "shell.execute_reply": "2020-08-12T16:21:43.235495Z"
    },
    "papermill": {
     "duration": 0.014679,
     "end_time": "2020-08-12T16:21:43.236148",
     "exception": false,
     "start_time": "2020-08-12T16:21:43.221469",
     "status": "completed"
    },
    "tags": []
   },
   "outputs": [],
   "source": [
    "sourcefile=open(jsonfile,'rU')\n",
    "infos=json.load(sourcefile)\n",
    "nb_profilesEN4=len(infos)\n"
   ]
  },
  {
   "cell_type": "code",
   "execution_count": 6,
   "metadata": {
    "execution": {
     "iopub.execute_input": "2020-08-12T16:21:43.264284Z",
     "iopub.status.busy": "2020-08-12T16:21:43.263704Z",
     "iopub.status.idle": "2020-08-12T16:21:43.265835Z",
     "shell.execute_reply": "2020-08-12T16:21:43.266362Z"
    },
    "papermill": {
     "duration": 0.020734,
     "end_time": "2020-08-12T16:21:43.266528",
     "exception": false,
     "start_time": "2020-08-12T16:21:43.245794",
     "status": "completed"
    },
    "tags": []
   },
   "outputs": [],
   "source": [
    "vert_standart=np.array([0,2,4,6,8,10,12,14,16,18,20,25,30,35,40,45,50,55,60,65,70,75,80,85,90,95,100,\n",
    "                   110,120,130,140,150,160,170,180,190,200,220,240,260,280,300,320,340,360,380,400,\n",
    "                   420,440,460,480,500,520,540,560,580,600,620,640,660,680,700,720,740,760,780,800,\n",
    "                   820,840,860,880,900,920,940,960,980,1000,1050,1100,1150,1200,1250,1300,1350,1400,\n",
    "                   1450,1500,1550,1600,1650,1700,1750,1800,1850,1900,1950,2000])\n",
    "indz=np.where(vert_standart>depthmin)\n",
    "vert_standart_red=vert_standart[0:np.min(indz[0])-1]\n",
    "\n",
    "all_temp_mean_model=np.zeros((nb_profilesEN4,len(vert_standart_red)))\n",
    "all_salt_mean_model=np.zeros((nb_profilesEN4,len(vert_standart_red)))\n",
    "all_temp_en4=np.zeros((nb_profilesEN4,len(vert_standart_red)))\n",
    "all_salt_en4=np.zeros((nb_profilesEN4,len(vert_standart_red)))\n",
    "all_temp_percent10_model=np.zeros((nb_profilesEN4,len(vert_standart_red)))\n",
    "all_salt_percent10_model=np.zeros((nb_profilesEN4,len(vert_standart_red)))\n",
    "all_temp_percent90_model=np.zeros((nb_profilesEN4,len(vert_standart_red)))\n",
    "all_salt_percent90_model=np.zeros((nb_profilesEN4,len(vert_standart_red)))\n"
   ]
  },
  {
   "cell_type": "code",
   "execution_count": 7,
   "metadata": {
    "execution": {
     "iopub.execute_input": "2020-08-12T16:21:43.296584Z",
     "iopub.status.busy": "2020-08-12T16:21:43.291622Z",
     "iopub.status.idle": "2020-08-12T16:21:44.983892Z",
     "shell.execute_reply": "2020-08-12T16:21:44.983357Z"
    },
    "papermill": {
     "duration": 1.709254,
     "end_time": "2020-08-12T16:21:44.984021",
     "exception": false,
     "start_time": "2020-08-12T16:21:43.274767",
     "status": "completed"
    },
    "tags": []
   },
   "outputs": [
    {
     "name": "stdout",
     "output_type": "stream",
     "text": [
      "Processing profile  Profile_20100106_prof.nc_71\n",
      "Processing profile  Profile_20100106_prof.nc_76\n",
      "Processing profile  Profile_20100108_prof.nc_90\n",
      "Processing profile  Profile_20100108_prof.nc_92\n",
      "Processing profile  Profile_20100109_prof.nc_0\n",
      "Processing profile  Profile_20100109_prof.nc_62\n",
      "Processing profile  Profile_20100110_prof.nc_0\n",
      "Processing profile  Profile_20100110_prof.nc_81\n",
      "Processing profile  Profile_20100113_prof.nc_69\n",
      "Processing profile  Profile_20100114_prof.nc_3\n",
      "Processing profile  Profile_20100114_prof.nc_44\n",
      "Processing profile  Profile_20100115_prof.nc_0\n",
      "Processing profile  Profile_20100115_prof.nc_58\n",
      "Processing profile  Profile_20100116_prof.nc_79\n",
      "Processing profile  Profile_20100118_prof.nc_85\n",
      "Processing profile  Profile_20100118_prof.nc_88\n"
     ]
    },
    {
     "name": "stdout",
     "output_type": "stream",
     "text": [
      "Processing profile  Profile_20100119_prof.nc_1\n",
      "Processing profile  Profile_20100119_prof.nc_58\n",
      "Processing profile  Profile_20100120_prof.nc_0\n",
      "Processing profile  Profile_20100120_prof.nc_91\n",
      "Processing profile  Profile_20100123_prof.nc_72\n",
      "Processing profile  Profile_20100124_prof.nc_42\n",
      "Processing profile  Profile_20100125_prof.nc_1\n",
      "Processing profile  Profile_20100125_prof.nc_57\n",
      "Processing profile  Profile_20100126_prof.nc_69\n",
      "Processing profile  Profile_20100128_prof.nc_92\n",
      "Processing profile  Profile_20100128_prof.nc_94\n",
      "Processing profile  Profile_20100129_prof.nc_0\n",
      "Processing profile  Profile_20100129_prof.nc_63\n",
      "Processing profile  Profile_20100130_prof.nc_112\n",
      "Processing profile  Profile_20100131_prof.nc_83\n",
      "Processing profile  Profile_20100202_prof.nc_70\n"
     ]
    },
    {
     "name": "stdout",
     "output_type": "stream",
     "text": [
      "Processing profile  Profile_20100203_prof.nc_52\n",
      "Processing profile  Profile_20100204_prof.nc_0\n",
      "Processing profile  Profile_20100204_prof.nc_61\n",
      "Processing profile  Profile_20100205_prof.nc_79\n",
      "Processing profile  Profile_20100207_prof.nc_87\n",
      "Processing profile  Profile_20100207_prof.nc_92\n",
      "Processing profile  Profile_20100208_prof.nc_0\n",
      "Processing profile  Profile_20100208_prof.nc_61\n",
      "Processing profile  Profile_20100209_prof.nc_0\n",
      "Processing profile  Profile_20100209_prof.nc_79\n",
      "Processing profile  Profile_20100212_prof.nc_77\n",
      "Processing profile  Profile_20100213_prof.nc_3\n",
      "Processing profile  Profile_20100213_prof.nc_46\n",
      "Processing profile  Profile_20100214_prof.nc_57\n",
      "Processing profile  Profile_20100215_prof.nc_74\n",
      "Processing profile  Profile_20100215_prof.nc_81\n"
     ]
    },
    {
     "name": "stdout",
     "output_type": "stream",
     "text": [
      "Processing profile  Profile_20100217_prof.nc_101\n",
      "Processing profile  Profile_20100217_prof.nc_96\n",
      "Processing profile  Profile_20100218_prof.nc_27\n",
      "Processing profile  Profile_20100219_prof.nc_0\n",
      "Processing profile  Profile_20100219_prof.nc_72\n",
      "Processing profile  Profile_20100219_prof.nc_96\n",
      "Processing profile  Profile_20100222_prof.nc_71\n",
      "Processing profile  Profile_20100223_prof.nc_25\n",
      "Processing profile  Profile_20100223_prof.nc_3\n",
      "Processing profile  Profile_20100224_prof.nc_58\n",
      "Processing profile  Profile_20100225_prof.nc_65\n",
      "Processing profile  Profile_20100225_prof.nc_73\n",
      "Processing profile  Profile_20100227_prof.nc_100\n",
      "Processing profile  Profile_20100227_prof.nc_99\n",
      "Processing profile  Profile_20100228_prof.nc_0\n",
      "Processing profile  Profile_20100228_prof.nc_59\n"
     ]
    },
    {
     "name": "stdout",
     "output_type": "stream",
     "text": [
      "Processing profile  Profile_20100301_prof.nc_0\n",
      "Processing profile  Profile_20100301_prof.nc_82\n",
      "Processing profile  Profile_20100303_prof.nc_38\n",
      "Processing profile  Profile_20100303_prof.nc_41\n",
      "Processing profile  Profile_20100304_prof.nc_75\n",
      "Processing profile  Profile_20100305_prof.nc_2\n",
      "Processing profile  Profile_20100306_prof.nc_0\n",
      "Processing profile  Profile_20100306_prof.nc_61\n",
      "Processing profile  Profile_20100307_prof.nc_69\n",
      "Processing profile  Profile_20100308_prof.nc_1\n",
      "Processing profile  Profile_20100308_prof.nc_52\n",
      "Processing profile  Profile_20100308_prof.nc_63\n",
      "Processing profile  Profile_20100309_prof.nc_97\n",
      "Processing profile  Profile_20100310_prof.nc_0\n",
      "Processing profile  Profile_20100310_prof.nc_49\n",
      "Processing profile  Profile_20100310_prof.nc_58\n"
     ]
    },
    {
     "name": "stdout",
     "output_type": "stream",
     "text": [
      "Processing profile  Profile_20100311_prof.nc_0\n",
      "Processing profile  Profile_20100311_prof.nc_80\n",
      "Processing profile  Profile_20100312_prof.nc_42\n",
      "Processing profile  Profile_20100312_prof.nc_48\n",
      "Processing profile  Profile_20100313_prof.nc_0\n",
      "Processing profile  Profile_20100314_prof.nc_36\n",
      "Processing profile  Profile_20100314_prof.nc_48\n",
      "Processing profile  Profile_20100315_prof.nc_0\n",
      "Processing profile  Profile_20100316_prof.nc_0\n",
      "Processing profile  Profile_20100316_prof.nc_18\n",
      "Processing profile  Profile_20100316_prof.nc_61\n",
      "Processing profile  Profile_20100317_prof.nc_81\n",
      "Processing profile  Profile_20100319_prof.nc_97\n",
      "Processing profile  Profile_20100319_prof.nc_99\n",
      "Processing profile  Profile_20100320_prof.nc_0\n",
      "Processing profile  Profile_20100321_prof.nc_92\n"
     ]
    },
    {
     "name": "stdout",
     "output_type": "stream",
     "text": [
      "Processing profile  Profile_20100322_prof.nc_60\n",
      "Processing profile  Profile_20100324_prof.nc_78\n",
      "Processing profile  Profile_20100325_prof.nc_1\n",
      "Processing profile  Profile_20100326_prof.nc_0\n",
      "Processing profile  Profile_20100326_prof.nc_55\n",
      "Processing profile  Profile_20100327_prof.nc_69\n",
      "Processing profile  Profile_20100329_prof.nc_91\n",
      "Processing profile  Profile_20100329_prof.nc_95\n",
      "Processing profile  Profile_20100330_prof.nc_0\n",
      "Processing profile  Profile_20100331_prof.nc_0\n",
      "Processing profile  Profile_20100331_prof.nc_83\n",
      "Processing profile  Profile_20100403_prof.nc_85\n",
      "Processing profile  Profile_20100405_prof.nc_0\n",
      "Processing profile  Profile_20100405_prof.nc_56\n",
      "Processing profile  Profile_20100405_prof.nc_75\n",
      "Processing profile  Profile_20100406_prof.nc_68\n"
     ]
    },
    {
     "name": "stdout",
     "output_type": "stream",
     "text": [
      "Processing profile  Profile_20100408_prof.nc_95\n",
      "Processing profile  Profile_20100408_prof.nc_96\n",
      "Processing profile  Profile_20100410_prof.nc_0\n",
      "Processing profile  Profile_20100410_prof.nc_103\n",
      "Processing profile  Profile_20100410_prof.nc_78\n",
      "Processing profile  Profile_20100412_prof.nc_0\n",
      "Processing profile  Profile_20100414_prof.nc_2\n",
      "Processing profile  Profile_20100415_prof.nc_0\n",
      "Processing profile  Profile_20100415_prof.nc_65\n",
      "Processing profile  Profile_20100416_prof.nc_74\n",
      "Processing profile  Profile_20100418_prof.nc_93\n",
      "Processing profile  Profile_20100418_prof.nc_96\n",
      "Processing profile  Profile_20100419_prof.nc_0\n",
      "Processing profile  Profile_20100420_prof.nc_0\n",
      "Processing profile  Profile_20100420_prof.nc_74\n",
      "Processing profile  Profile_20100422_prof.nc_0\n"
     ]
    },
    {
     "name": "stdout",
     "output_type": "stream",
     "text": [
      "Processing profile  Profile_20100424_prof.nc_0\n",
      "Processing profile  Profile_20100425_prof.nc_0\n",
      "Processing profile  Profile_20100425_prof.nc_66\n"
     ]
    }
   ],
   "source": [
    "for prof in np.arange(nb_profilesEN4):\n",
    "    list_profiles = infos.keys()\n",
    "    reference =  str(list(list_profiles)[prof])\n",
    "    print('Processing profile ', reference)\n",
    "    # Open the netcdf file\n",
    "    match=re.search(r'([\\w.-]+).nc([\\w.-]+)', reference)\n",
    "    debut_ref=match.group(1)\n",
    "    fin_ref=match.group(2)\n",
    "    diren4=\"/gpfswork/rech/egi/rote001/EN4/\"\n",
    "    dirname=diren4+'profiles_files/MEDWEST60-BLBT02/'\n",
    "    outname=dirname+str(debut_ref)+str(fin_ref)+'_MEDWEST60-BLBT02_TS.nc'\n",
    "    dsprof=xr.open_dataset(outname)\n",
    "\n",
    "    depth_en4=dsprof['depth_en4']\n",
    "    temp_en4=dsprof['temp_profileEN4']\n",
    "    salt_en4=dsprof['salt_profileEN4']\n",
    "    mean_temp_model=dsprof['mean_temp_model']\n",
    "    mean_salt_model=dsprof['mean_salt_model']\n",
    "    percent10_temp_model=dsprof['percent10_temp_model']\n",
    "    percent10_salt_model=dsprof['percent10_salt_model']\n",
    "    percent90_temp_model=dsprof['percent90_temp_model']\n",
    "    percent90_salt_model=dsprof['percent90_salt_model']\n",
    "    obs_lat=dsprof['latitude_profileEN4']\n",
    "    obs_lon=dsprof['longitude_profileEN4']\n",
    "    obs_time=dsprof['time_profileEN4']\n",
    "    \n",
    "    # Project the profile to standart vertical levels\n",
    "    temp_en4_standart=np.interp(vert_standart_red,depth_en4,temp_en4)\n",
    "    salt_en4_standart=np.interp(vert_standart_red,depth_en4,salt_en4)\n",
    "    mean_temp_model_standart=np.interp(vert_standart_red,depth_en4,mean_temp_model)\n",
    "    mean_salt_model_standart=np.interp(vert_standart_red,depth_en4,mean_salt_model)\n",
    "    percent10_temp_model_standart=np.interp(vert_standart_red,depth_en4,percent10_temp_model)\n",
    "    percent10_salt_model_standart=np.interp(vert_standart_red,depth_en4,percent10_salt_model)\n",
    "    percent90_temp_model_standart=np.interp(vert_standart_red,depth_en4,percent90_temp_model)\n",
    "    percent90_salt_model_standart=np.interp(vert_standart_red,depth_en4,percent90_salt_model)\n",
    "\n",
    "    #Fill the all profiles\n",
    "    all_temp_mean_model[prof,:]=mean_temp_model_standart[:]\n",
    "    all_salt_mean_model[prof,:]=mean_salt_model_standart[:]\n",
    "    all_temp_en4[prof,:]=temp_en4_standart[:]\n",
    "    all_salt_en4[prof,:]=salt_en4_standart[:]\n",
    "    all_temp_percent10_model[prof,:]=percent10_temp_model_standart[:]\n",
    "    all_salt_percent10_model[prof,:]=percent10_salt_model_standart[:]\n",
    "    all_temp_percent90_model[prof,:]=percent90_temp_model_standart[:]\n",
    "    all_salt_percent90_model[prof,:]=percent90_salt_model_standart[:]\n"
   ]
  },
  {
   "cell_type": "code",
   "execution_count": 8,
   "metadata": {
    "execution": {
     "iopub.execute_input": "2020-08-12T16:21:45.015620Z",
     "iopub.status.busy": "2020-08-12T16:21:45.014963Z",
     "iopub.status.idle": "2020-08-12T16:21:45.018309Z",
     "shell.execute_reply": "2020-08-12T16:21:45.017605Z"
    },
    "papermill": {
     "duration": 0.02219,
     "end_time": "2020-08-12T16:21:45.018509",
     "exception": false,
     "start_time": "2020-08-12T16:21:44.996319",
     "status": "completed"
    },
    "tags": []
   },
   "outputs": [],
   "source": [
    "mean_all_temp_mean_model=np.mean(all_temp_mean_model,axis=0)\n",
    "mean_all_salt_mean_model=np.mean(all_salt_mean_model,axis=0)\n",
    "mean_all_temp_en4=np.mean(all_temp_en4,axis=0)\n",
    "mean_all_salt_en4=np.mean(all_salt_en4,axis=0)\n",
    "mean_all_temp_percent10_model=np.mean(all_temp_percent10_model,axis=0)\n",
    "mean_all_salt_percent10_model=np.mean(all_salt_percent10_model,axis=0)\n",
    "mean_all_temp_percent90_model=np.mean(all_temp_percent90_model,axis=0)\n",
    "mean_all_salt_percent90_model=np.mean(all_salt_percent90_model,axis=0)\n"
   ]
  },
  {
   "cell_type": "code",
   "execution_count": 9,
   "metadata": {
    "execution": {
     "iopub.execute_input": "2020-08-12T16:21:45.048184Z",
     "iopub.status.busy": "2020-08-12T16:21:45.047469Z",
     "iopub.status.idle": "2020-08-12T16:21:45.050875Z",
     "shell.execute_reply": "2020-08-12T16:21:45.050199Z"
    },
    "papermill": {
     "duration": 0.021596,
     "end_time": "2020-08-12T16:21:45.051078",
     "exception": false,
     "start_time": "2020-08-12T16:21:45.029482",
     "status": "completed"
    },
    "tags": []
   },
   "outputs": [
    {
     "name": "stdout",
     "output_type": "stream",
     "text": [
      "12.908628388248138 15.222330959298416 37.628761018252426 38.53979215177431\n"
     ]
    }
   ],
   "source": [
    "min_temp=np.nanmin([np.nanmin(mean_all_temp_mean_model),\n",
    "                 np.nanmin(mean_all_temp_en4),\n",
    "                 np.nanmin(mean_all_temp_percent10_model),\n",
    "                 np.nanmin(mean_all_temp_percent90_model)])\n",
    "max_temp=np.nanmax([np.nanmax(mean_all_temp_mean_model),\n",
    "                 np.nanmax(mean_all_temp_en4),\n",
    "                 np.nanmax(mean_all_temp_percent10_model),\n",
    "                 np.nanmax(mean_all_temp_percent90_model)])\n",
    "min_salt=np.nanmin([np.nanmin(mean_all_salt_mean_model),\n",
    "                 np.nanmin(mean_all_salt_en4),\n",
    "                 np.nanmin(mean_all_salt_percent10_model),\n",
    "                 np.nanmin(mean_all_salt_percent90_model)])\n",
    "max_salt=np.nanmax([np.nanmax(mean_all_salt_mean_model),\n",
    "                 np.nanmax(mean_all_salt_en4),\n",
    "                 np.nanmax(mean_all_salt_percent10_model),\n",
    "                 np.nanmax(mean_all_salt_percent90_model)])\n",
    "print(min_temp,max_temp,min_salt,max_salt)\n",
    "\n"
   ]
  },
  {
   "cell_type": "code",
   "execution_count": 10,
   "metadata": {
    "execution": {
     "iopub.execute_input": "2020-08-12T16:21:45.077847Z",
     "iopub.status.busy": "2020-08-12T16:21:45.077189Z",
     "iopub.status.idle": "2020-08-12T16:21:45.079557Z",
     "shell.execute_reply": "2020-08-12T16:21:45.080048Z"
    },
    "papermill": {
     "duration": 0.017838,
     "end_time": "2020-08-12T16:21:45.080200",
     "exception": false,
     "start_time": "2020-08-12T16:21:45.062362",
     "status": "completed"
    },
    "tags": []
   },
   "outputs": [
    {
     "name": "stdout",
     "output_type": "stream",
     "text": [
      "37.628761018252426 37.90362621627691 37.69102173965656 37.89310071261223\n"
     ]
    }
   ],
   "source": [
    "print(np.nanmin(mean_all_salt_mean_model),\n",
    "                 np.nanmin(mean_all_salt_en4),\n",
    "                 np.nanmin(mean_all_salt_percent10_model),\n",
    "                 np.nanmin(mean_all_salt_percent90_model))"
   ]
  },
  {
   "cell_type": "code",
   "execution_count": 11,
   "metadata": {
    "execution": {
     "iopub.execute_input": "2020-08-12T16:21:45.117859Z",
     "iopub.status.busy": "2020-08-12T16:21:45.117244Z",
     "iopub.status.idle": "2020-08-12T16:21:46.391299Z",
     "shell.execute_reply": "2020-08-12T16:21:46.391820Z"
    },
    "papermill": {
     "duration": 1.300608,
     "end_time": "2020-08-12T16:21:46.391986",
     "exception": false,
     "start_time": "2020-08-12T16:21:45.091378",
     "status": "completed"
    },
    "tags": []
   },
   "outputs": [
    {
     "data": {
      "image/png": "[encoded data removed]",
      "text/plain": [
       "<Figure size 1080x432 with 3 Axes>"
      ]
     },
     "metadata": {
      "needs_background": "light"
     },
     "output_type": "display_data"
    }
   ],
   "source": [
    "fig, axs = plt.subplots(1,3, figsize=(15, 6))\n",
    "axs = axs.ravel()\n",
    "title = 'Comparison of Temperature and Salinity Profiles with '+str(nb_profilesEN4)+' profiles of EN4 database'\n",
    "plt.suptitle(title,size = 15,y=1.05)\n",
    "axs[0].plot(mean_all_temp_en4,vert_standart_red,'k.-', label='temp en4')\n",
    "axs[0].plot(mean_all_temp_mean_model,vert_standart_red,'b.-', label='temp model-mean')\n",
    "axs[0].set_ylabel('Depth [m]', size=14)\n",
    "axs[0].set_xlim(left=min_temp-(max_temp-min_temp)/10,right=max_temp+(max_temp-min_temp)/10)\n",
    "axs[0].set_ylim(depthmin, 0)\n",
    "axs[0].grid(True, which='both')\n",
    "axs[0].xaxis.tick_top()\n",
    "axs[0].xaxis.set_label_position('top') \n",
    "axs[0].plot(mean_all_temp_percent10_model,vert_standart_red,'b-', label='temp model-percent10')\n",
    "axs[0].plot(mean_all_temp_percent90_model,vert_standart_red,'b-', label='temp model-percent90')\n",
    "axs[0].fill_betweenx(vert_standart_red, mean_all_temp_percent10_model, x2=mean_all_temp_percent90_model, alpha=0.2, facecolor='b')\n",
    "#        axs[0].set_title('Temperature profiles')\n",
    "axs[0].legend()\n",
    "        \n",
    "axs[1].plot(mean_all_salt_en4,vert_standart_red,'k.-', label='salt en4')\n",
    "axs[1].plot(mean_all_salt_mean_model,vert_standart_red,'b.-', label='salt model-mean')\n",
    "axs[1].set_ylabel('Depth [m]', size=14)\n",
    "axs[1].set_xlim(left=min_salt-(max_salt-min_salt)/10,right=max_salt+(max_salt-min_salt)/10)\n",
    "axs[1].set_ylim(depthmin, 0)\n",
    "axs[1].grid(True, which='both')\n",
    "axs[1].xaxis.tick_top()\n",
    "axs[1].xaxis.set_label_position('top') \n",
    "axs[1].plot(mean_all_salt_percent10_model,vert_standart_red,'b-', label='salt model-percent10')\n",
    "axs[1].plot(mean_all_salt_percent90_model,vert_standart_red,'b-', label='salt model-percent90')\n",
    "axs[1].fill_betweenx(vert_standart_red, mean_all_salt_percent10_model, x2=mean_all_salt_percent90_model, alpha=0.2, facecolor='b')\n",
    "#        axs[1].set_title('Salinity profiles')\n",
    "axs[1].legend()\n",
    "\n",
    "textstr = '\\n'.join((\n",
    "            ' simulation = MEDWEST60-BLBT02',\n",
    "            ' dates = '+str(datemin)+' '+str(datemax),\n",
    "            ' radius max = '+str(radius_max)+'°',\n",
    "            ' period = '+str(period)+'d',\n",
    "            ' depth min = '+str(depthmin)+'m',\n",
    "            ' nb_profiles = '+str(number_of_model_profiles)))        \n",
    "props = dict(boxstyle='round', facecolor='wheat', alpha=0.5)\n",
    "axs[2].text(0.05, 0.95, textstr, transform=axs[2].transAxes, fontsize=14,verticalalignment='top', bbox=props)\n",
    "axs[2].axis('off')\n",
    "fig.tight_layout()\n",
    "plt.savefig('plots/profiles-TS-MEDWEST60-BLBT02_'+str(datemin)+'-'+str(datemax)+'_'+str(depthmin)+'m_'+str(radius_max)+'x'+str(period)+'d_'+str(number_of_model_profiles)+'.png',bbox_inches='tight')\n"
   ]
  },
  {
   "cell_type": "code",
   "execution_count": null,
   "metadata": {
    "papermill": {
     "duration": 0.014159,
     "end_time": "2020-08-12T16:21:46.422133",
     "exception": false,
     "start_time": "2020-08-12T16:21:46.407974",
     "status": "completed"
    },
    "tags": []
   },
   "outputs": [],
   "source": []
  }
 ],
 "metadata": {
  "celltoolbar": "Tags",
  "kernelspec": {
   "display_name": "new-seawater",
   "language": "python",
   "name": "seawater"
  },
  "language_info": {
   "codemirror_mode": {
    "name": "ipython",
    "version": 3
   },
   "file_extension": ".py",
   "mimetype": "text/x-python",
   "name": "python",
   "nbconvert_exporter": "python",
   "pygments_lexer": "ipython3",
   "version": "3.8.3"
  },
  "papermill": {
   "duration": 5.713442,
   "end_time": "2020-08-12T16:21:46.844047",
   "environment_variables": {},
   "exception": null,
   "input_path": "2020-08-07-AA-final-plot.ipynb",
   "output_path": "out/2020-08-12-AA-final-plot-MEDWEST60_2010-01-01-2010-04-30_500m_0.25x5d_100000.ipynb",
   "parameters": {
    "depthmin": 500,
    "dmax": 30,
    "dmin": 1,
    "mmax": 4,
    "mmin": 1,
    "number_of_model_profiles": 100000,
    "period": 5,
    "radius_max": 0.25,
    "ymax": 2010,
    "ymin": 2010
   },
   "start_time": "2020-08-12T16:21:41.130605",
   "version": "2.1.2"
  }
 },
 "nbformat": 4,
 "nbformat_minor": 4
}