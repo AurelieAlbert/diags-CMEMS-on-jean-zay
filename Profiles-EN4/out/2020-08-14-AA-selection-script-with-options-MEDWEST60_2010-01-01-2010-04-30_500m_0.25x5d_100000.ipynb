{
 "cells": [
  {
   "cell_type": "markdown",
   "metadata": {
    "papermill": {
     "duration": 0.012378,
     "end_time": "2020-08-14T07:53:12.847837",
     "exception": false,
     "start_time": "2020-08-14T07:53:12.835459",
     "status": "completed"
    },
    "tags": []
   },
   "source": [
    "## Selection of EN4 profiles to compare to a simulation"
   ]
  },
  {
   "cell_type": "markdown",
   "metadata": {
    "papermill": {
     "duration": 0.010235,
     "end_time": "2020-08-14T07:53:12.870322",
     "exception": false,
     "start_time": "2020-08-14T07:53:12.860087",
     "status": "completed"
    },
    "tags": []
   },
   "source": [
    "In this script the EN4 database is browsed in order to find the profiles that will be compare to the outputs of one simulation. \n",
    "\n",
    "The comparison will not be a simple colocation of the profile inside the model grid but we want to make a statistical comparison of the observed profile with  a significant number of profiles close to it in the model (close in terms of space and time, for instance in a 0,5° radius around the profile location and 10 days before and after it has been sampled)\n",
    "\n",
    "Therefor the selected profiles must have to be relevant according to some criteria :\n",
    "  - they must be inside the domain of simulation (the mask file of the configuration file must be provided)  \n",
    "  - they must be sampled inside the period of simulation (the period shortened by a certain amount of days must be provided)\n",
    "  - they must go as deep as a given depth (according to the desired depth for the comparison profiles)\n",
    "  - they must be in a location where there are enough model profiles (for instance if profile is too close to an island or the coast)"
   ]
  },
  {
   "cell_type": "markdown",
   "metadata": {
    "papermill": {
     "duration": 0.010138,
     "end_time": "2020-08-14T07:53:12.890702",
     "exception": false,
     "start_time": "2020-08-14T07:53:12.880564",
     "status": "completed"
    },
    "tags": []
   },
   "source": [
    "### Criteria of profiles selection"
   ]
  },
  {
   "cell_type": "code",
   "execution_count": 1,
   "metadata": {
    "execution": {
     "iopub.execute_input": "2020-08-14T07:53:12.916109Z",
     "iopub.status.busy": "2020-08-14T07:53:12.915533Z",
     "iopub.status.idle": "2020-08-14T07:53:12.917242Z",
     "shell.execute_reply": "2020-08-14T07:53:12.917768Z"
    },
    "papermill": {
     "duration": 0.016822,
     "end_time": "2020-08-14T07:53:12.917954",
     "exception": false,
     "start_time": "2020-08-14T07:53:12.901132",
     "status": "completed"
    },
    "tags": [
     "parameters"
    ]
   },
   "outputs": [],
   "source": [
    "# period of the simulation (year,month,day)\n",
    "ymin=2010;mmin=1;dmin=1\n",
    "ymax=2010;mmax=9;dmax=30\n",
    "# depth of the desired comparison profile in m\n",
    "depthmin=1000\n",
    "# radius of the circle around the profile location in which we take the modeled profiles, in °  \n",
    "radius_max=0.25\n",
    "# period of time around the profile sampling date in which we take the modeled profiles, in days\n",
    "period=5\n",
    "# minimum amount of model profiles to be considered to make a significant statistical comparison, for instance in a 1° square and 30-days window we have 2.6 millions modeled profiles, in a 0.5°x10 days 216 000\n",
    "number_of_model_profiles=100000\n"
   ]
  },
  {
   "cell_type": "code",
   "execution_count": 2,
   "metadata": {
    "execution": {
     "iopub.execute_input": "2020-08-14T07:53:12.943027Z",
     "iopub.status.busy": "2020-08-14T07:53:12.942317Z",
     "iopub.status.idle": "2020-08-14T07:53:12.944598Z",
     "shell.execute_reply": "2020-08-14T07:53:12.944082Z"
    },
    "papermill": {
     "duration": 0.016403,
     "end_time": "2020-08-14T07:53:12.944735",
     "exception": false,
     "start_time": "2020-08-14T07:53:12.928332",
     "status": "completed"
    },
    "tags": [
     "injected-parameters"
    ]
   },
   "outputs": [],
   "source": [
    "# Parameters\n",
    "ymin = 2010\n",
    "mmin = 1\n",
    "dmin = 1\n",
    "ymax = 2010\n",
    "mmax = 4\n",
    "dmax = 30\n",
    "depthmin = 500\n",
    "radius_max = 0.25\n",
    "period = 5\n",
    "number_of_model_profiles = 100000\n"
   ]
  },
  {
   "cell_type": "code",
   "execution_count": 3,
   "metadata": {
    "execution": {
     "iopub.execute_input": "2020-08-14T07:53:12.969386Z",
     "iopub.status.busy": "2020-08-14T07:53:12.968825Z",
     "iopub.status.idle": "2020-08-14T07:53:12.970744Z",
     "shell.execute_reply": "2020-08-14T07:53:12.971267Z"
    },
    "papermill": {
     "duration": 0.016274,
     "end_time": "2020-08-14T07:53:12.971440",
     "exception": false,
     "start_time": "2020-08-14T07:53:12.955166",
     "status": "completed"
    },
    "tags": []
   },
   "outputs": [],
   "source": [
    "# location and name of the maskfile of the model configuration\n",
    "meshfile='/gpfsstore/rech/egi/commun/MEDWEST60/MEDWEST60-I/mesh_mask.nc'\n"
   ]
  },
  {
   "cell_type": "markdown",
   "metadata": {
    "papermill": {
     "duration": 0.010933,
     "end_time": "2020-08-14T07:53:12.994187",
     "exception": false,
     "start_time": "2020-08-14T07:53:12.983254",
     "status": "completed"
    },
    "tags": []
   },
   "source": [
    "### imports of librairies"
   ]
  },
  {
   "cell_type": "code",
   "execution_count": 4,
   "metadata": {
    "execution": {
     "iopub.execute_input": "2020-08-14T07:53:13.021980Z",
     "iopub.status.busy": "2020-08-14T07:53:13.021353Z",
     "iopub.status.idle": "2020-08-14T07:53:19.420142Z",
     "shell.execute_reply": "2020-08-14T07:53:19.420659Z"
    },
    "papermill": {
     "duration": 6.413878,
     "end_time": "2020-08-14T07:53:19.420823",
     "exception": false,
     "start_time": "2020-08-14T07:53:13.006945",
     "status": "completed"
    },
    "tags": []
   },
   "outputs": [],
   "source": [
    "import numpy as np\n",
    "import dask\n",
    "import xarray as xr\n",
    "import matplotlib.pyplot as plt\n",
    "import pandas as pd\n",
    "import datetime\n",
    "import glob as glob\n",
    "import time\n",
    "from datetime import date\n",
    "import io\n",
    "import json\n",
    "import seawater\n",
    "import sys\n",
    "import os"
   ]
  },
  {
   "cell_type": "markdown",
   "metadata": {
    "papermill": {
     "duration": 0.010247,
     "end_time": "2020-08-14T07:53:19.444062",
     "exception": false,
     "start_time": "2020-08-14T07:53:19.433815",
     "status": "completed"
    },
    "tags": []
   },
   "source": [
    "### determining the dates"
   ]
  },
  {
   "cell_type": "code",
   "execution_count": 5,
   "metadata": {
    "execution": {
     "iopub.execute_input": "2020-08-14T07:53:19.473034Z",
     "iopub.status.busy": "2020-08-14T07:53:19.472149Z",
     "iopub.status.idle": "2020-08-14T07:53:19.481026Z",
     "shell.execute_reply": "2020-08-14T07:53:19.481537Z"
    },
    "papermill": {
     "duration": 0.02755,
     "end_time": "2020-08-14T07:53:19.481708",
     "exception": false,
     "start_time": "2020-08-14T07:53:19.454158",
     "status": "completed"
    },
    "scrolled": true,
    "tags": []
   },
   "outputs": [
    {
     "name": "stdout",
     "output_type": "stream",
     "text": [
      "2010-01-06\n",
      "2010-01-07\n",
      "2010-01-08\n",
      "2010-01-09\n",
      "2010-01-10\n",
      "2010-01-11\n",
      "2010-01-12\n",
      "2010-01-13\n",
      "2010-01-14\n",
      "2010-01-15\n",
      "2010-01-16\n",
      "2010-01-17\n",
      "2010-01-18\n",
      "2010-01-19\n",
      "2010-01-20\n",
      "2010-01-21\n",
      "2010-01-22\n",
      "2010-01-23\n",
      "2010-01-24\n",
      "2010-01-25\n",
      "2010-01-26\n",
      "2010-01-27\n",
      "2010-01-28\n",
      "2010-01-29\n",
      "2010-01-30\n",
      "2010-01-31\n",
      "2010-02-01\n",
      "2010-02-02\n",
      "2010-02-03\n",
      "2010-02-04\n",
      "2010-02-05\n",
      "2010-02-06\n",
      "2010-02-07\n",
      "2010-02-08\n",
      "2010-02-09\n",
      "2010-02-10\n",
      "2010-02-11\n",
      "2010-02-12\n",
      "2010-02-13\n",
      "2010-02-14\n",
      "2010-02-15\n",
      "2010-02-16\n",
      "2010-02-17\n",
      "2010-02-18\n",
      "2010-02-19\n",
      "2010-02-20\n",
      "2010-02-21\n",
      "2010-02-22\n",
      "2010-02-23\n",
      "2010-02-24\n",
      "2010-02-25\n",
      "2010-02-26\n",
      "2010-02-27\n",
      "2010-02-28\n",
      "2010-03-01\n",
      "2010-03-02\n",
      "2010-03-03\n",
      "2010-03-04\n",
      "2010-03-05\n",
      "2010-03-06\n",
      "2010-03-07\n",
      "2010-03-08\n",
      "2010-03-09\n",
      "2010-03-10\n",
      "2010-03-11\n",
      "2010-03-12\n",
      "2010-03-13\n",
      "2010-03-14\n",
      "2010-03-15\n",
      "2010-03-16\n",
      "2010-03-17\n",
      "2010-03-18\n",
      "2010-03-19\n",
      "2010-03-20\n",
      "2010-03-21\n",
      "2010-03-22\n",
      "2010-03-23\n",
      "2010-03-24\n",
      "2010-03-25\n",
      "2010-03-26\n",
      "2010-03-27\n",
      "2010-03-28\n",
      "2010-03-29\n",
      "2010-03-30\n",
      "2010-03-31\n",
      "2010-04-01\n",
      "2010-04-02\n",
      "2010-04-03\n",
      "2010-04-04\n",
      "2010-04-05\n",
      "2010-04-06\n",
      "2010-04-07\n",
      "2010-04-08\n",
      "2010-04-09\n",
      "2010-04-10\n",
      "2010-04-11\n",
      "2010-04-12\n",
      "2010-04-13\n",
      "2010-04-14\n",
      "2010-04-15\n",
      "2010-04-16\n",
      "2010-04-17\n",
      "2010-04-18\n",
      "2010-04-19\n",
      "2010-04-20\n",
      "2010-04-21\n",
      "2010-04-22\n",
      "2010-04-23\n",
      "2010-04-24\n",
      "2010-04-25\n"
     ]
    }
   ],
   "source": [
    "datemin=datetime.date(ymin,mmin,dmin)\n",
    "datemax=datetime.date(ymax,mmax,dmax)\n",
    "# list of days between datemin and datemax\n",
    "def date_range(start, end, period):\n",
    "    r = (end+datetime.timedelta(days=1)-start).days\n",
    "    return [start+datetime.timedelta(days=i) for i in range(period,r-period)]\n",
    "dateList = date_range(datemin, datemax,period) \n",
    "for date in dateList:\n",
    "    print(date)\n"
   ]
  },
  {
   "cell_type": "markdown",
   "metadata": {
    "papermill": {
     "duration": 0.010716,
     "end_time": "2020-08-14T07:53:19.503519",
     "exception": false,
     "start_time": "2020-08-14T07:53:19.492803",
     "status": "completed"
    },
    "tags": []
   },
   "source": [
    "### List of all EN4 files to search in"
   ]
  },
  {
   "cell_type": "code",
   "execution_count": 6,
   "metadata": {
    "execution": {
     "iopub.execute_input": "2020-08-14T07:53:19.531517Z",
     "iopub.status.busy": "2020-08-14T07:53:19.531004Z",
     "iopub.status.idle": "2020-08-14T07:53:19.533098Z",
     "shell.execute_reply": "2020-08-14T07:53:19.533579Z"
    },
    "papermill": {
     "duration": 0.01813,
     "end_time": "2020-08-14T07:53:19.533737",
     "exception": false,
     "start_time": "2020-08-14T07:53:19.515607",
     "status": "completed"
    },
    "scrolled": true,
    "tags": []
   },
   "outputs": [
    {
     "name": "stdout",
     "output_type": "stream",
     "text": [
      "['20100106_prof.nc', '20100107_prof.nc', '20100108_prof.nc', '20100109_prof.nc', '20100110_prof.nc', '20100111_prof.nc', '20100112_prof.nc', '20100113_prof.nc', '20100114_prof.nc', '20100115_prof.nc', '20100116_prof.nc', '20100117_prof.nc', '20100118_prof.nc', '20100119_prof.nc', '20100120_prof.nc', '20100121_prof.nc', '20100122_prof.nc', '20100123_prof.nc', '20100124_prof.nc', '20100125_prof.nc', '20100126_prof.nc', '20100127_prof.nc', '20100128_prof.nc', '20100129_prof.nc', '20100130_prof.nc', '20100131_prof.nc', '20100201_prof.nc', '20100202_prof.nc', '20100203_prof.nc', '20100204_prof.nc', '20100205_prof.nc', '20100206_prof.nc', '20100207_prof.nc', '20100208_prof.nc', '20100209_prof.nc', '20100210_prof.nc', '20100211_prof.nc', '20100212_prof.nc', '20100213_prof.nc', '20100214_prof.nc', '20100215_prof.nc', '20100216_prof.nc', '20100217_prof.nc', '20100218_prof.nc', '20100219_prof.nc', '20100220_prof.nc', '20100221_prof.nc', '20100222_prof.nc', '20100223_prof.nc', '20100224_prof.nc', '20100225_prof.nc', '20100226_prof.nc', '20100227_prof.nc', '20100228_prof.nc', '20100301_prof.nc', '20100302_prof.nc', '20100303_prof.nc', '20100304_prof.nc', '20100305_prof.nc', '20100306_prof.nc', '20100307_prof.nc', '20100308_prof.nc', '20100309_prof.nc', '20100310_prof.nc', '20100311_prof.nc', '20100312_prof.nc', '20100313_prof.nc', '20100314_prof.nc', '20100315_prof.nc', '20100316_prof.nc', '20100317_prof.nc', '20100318_prof.nc', '20100319_prof.nc', '20100320_prof.nc', '20100321_prof.nc', '20100322_prof.nc', '20100323_prof.nc', '20100324_prof.nc', '20100325_prof.nc', '20100326_prof.nc', '20100327_prof.nc', '20100328_prof.nc', '20100329_prof.nc', '20100330_prof.nc', '20100331_prof.nc', '20100401_prof.nc', '20100402_prof.nc', '20100403_prof.nc', '20100404_prof.nc', '20100405_prof.nc', '20100406_prof.nc', '20100407_prof.nc', '20100408_prof.nc', '20100409_prof.nc', '20100410_prof.nc', '20100411_prof.nc', '20100412_prof.nc', '20100413_prof.nc', '20100414_prof.nc', '20100415_prof.nc', '20100416_prof.nc', '20100417_prof.nc', '20100418_prof.nc', '20100419_prof.nc', '20100420_prof.nc', '20100421_prof.nc', '20100422_prof.nc', '20100423_prof.nc', '20100424_prof.nc', '20100425_prof.nc']\n"
     ]
    }
   ],
   "source": [
    "diren4=\"/gpfswork/rech/egi/rote001/EN4/\"\n",
    "list_filesEN4=[]\n",
    "for date in dateList:\n",
    "    year=date.year\n",
    "    month=date.month\n",
    "    day=date.day\n",
    "    mm=\"{:02d}\".format(month) #month on 2 digits\n",
    "    dd=\"{:02d}\".format(day) # day on 2 digits\n",
    "    list_filesEN4.append(str(year)+str(mm)+str(dd)+'_prof.nc')\n",
    "print(list_filesEN4)"
   ]
  },
  {
   "cell_type": "markdown",
   "metadata": {
    "papermill": {
     "duration": 0.011852,
     "end_time": "2020-08-14T07:53:19.558090",
     "exception": false,
     "start_time": "2020-08-14T07:53:19.546238",
     "status": "completed"
    },
    "tags": []
   },
   "source": [
    "### Define the criteria for one profile"
   ]
  },
  {
   "cell_type": "markdown",
   "metadata": {
    "papermill": {
     "duration": 0.01132,
     "end_time": "2020-08-14T07:53:19.583128",
     "exception": false,
     "start_time": "2020-08-14T07:53:19.571808",
     "status": "completed"
    },
    "tags": []
   },
   "source": [
    "#### Localisation of the profile location inside model domain"
   ]
  },
  {
   "cell_type": "code",
   "execution_count": 7,
   "metadata": {
    "execution": {
     "iopub.execute_input": "2020-08-14T07:53:19.628804Z",
     "iopub.status.busy": "2020-08-14T07:53:19.628236Z",
     "iopub.status.idle": "2020-08-14T07:53:19.630011Z",
     "shell.execute_reply": "2020-08-14T07:53:19.630508Z"
    },
    "papermill": {
     "duration": 0.036358,
     "end_time": "2020-08-14T07:53:19.630679",
     "exception": false,
     "start_time": "2020-08-14T07:53:19.594321",
     "status": "completed"
    },
    "tags": []
   },
   "outputs": [],
   "source": [
    "def loc(fileEN4,prof):\n",
    "    # open the maskfile and get lat lon and mask\n",
    "    ds=xr.open_dataset(meshfile)\n",
    "    lat=ds.nav_lat\n",
    "    lon=ds.nav_lon\n",
    "    latmin,latmax,lonmin,lonmax=(lat.min(),lat.max(),lon.min(),lon.max())\n",
    "    tmask=ds.tmask    \n",
    "    #open the profile file and read the infos on latitude, longitude and date \n",
    "    tfileEN4=diren4+fileEN4\n",
    "    dsen4=xr.open_dataset(tfileEN4)\n",
    "    laten4=dsen4['LATITUDE'][prof].values\n",
    "    lonen4=dsen4['LONGITUDE'][prof].values\n",
    "    \n",
    "    if (lonmin.values<lonen4)&(lonen4<lonmax.values)&(latmin.values<laten4)&(laten4<latmax.values):\n",
    "            with open('txt/prof0.txt','w') as txt_file:\n",
    "                txt_file.write('Profile_'+str(fileEN4)+'_'+str(prof)+' '+str(lonen4)+' '+str(laten4))\n",
    "            if os.path.exists('ij_found.out'):\n",
    "                !rm ij_found.out\n",
    "            \n",
    "            !/gpfswork/rech/egi/rote001/git/sosie/bin/ij_from_lon_lat.x -i $meshfile -p txt/prof0.txt > txt/output\n",
    "\n",
    "            with open('ij_found.out','r') as txt_file:\n",
    "                last_line = txt_file.readlines()[-1]\n",
    "                if last_line[1] == '#':\n",
    "                    print('Profile no '+str(prof)+' in file '+str(fileEN4)+' is not in the domain, do not keep')\n",
    "                    i0,j0=-1,-1\n",
    "                else:\n",
    "                    print('Profile no '+str(prof)+' in file '+str(fileEN4)+' is in the domain, go proceed')\n",
    "                    i0=int(last_line.split()[1])\n",
    "                    j0=int(last_line.split()[2])\n",
    "    else:\n",
    "        print('Profile no '+str(prof)+' in file '+str(fileEN4)+' is not in the domain, do not keep')\n",
    "#        print('Profile coordinates are '+str(lonen4)+'°E x '+str(laten4)+'°N')\n",
    "#        print('Model domain is '+str(latmin.values)+'-'+str(latmax.values)+'°E x '+str(lonmin.values)+'-'+str(lonmax.values)+'°N')\n",
    "        i0,j0=-1,-1\n",
    "       \n",
    "    return i0,j0\n"
   ]
  },
  {
   "cell_type": "markdown",
   "metadata": {
    "papermill": {
     "duration": 0.010753,
     "end_time": "2020-08-14T07:53:19.652353",
     "exception": false,
     "start_time": "2020-08-14T07:53:19.641600",
     "status": "completed"
    },
    "tags": []
   },
   "source": [
    "#### Check if profile location is on land"
   ]
  },
  {
   "cell_type": "code",
   "execution_count": 8,
   "metadata": {
    "execution": {
     "iopub.execute_input": "2020-08-14T07:53:19.679890Z",
     "iopub.status.busy": "2020-08-14T07:53:19.679408Z",
     "iopub.status.idle": "2020-08-14T07:53:19.681177Z",
     "shell.execute_reply": "2020-08-14T07:53:19.681661Z"
    },
    "papermill": {
     "duration": 0.017381,
     "end_time": "2020-08-14T07:53:19.681797",
     "exception": false,
     "start_time": "2020-08-14T07:53:19.664416",
     "status": "completed"
    },
    "tags": []
   },
   "outputs": [],
   "source": [
    "def check_prof_in_ocean(i0,j0):\n",
    "    print('check if profile is in the ocean : ')\n",
    "    dsN=xr.open_dataset(meshfile)\n",
    "    tmaskN=dsN.tmask\n",
    "    if tmaskN[0,0,int(j0)-1,int(i0)-1] == 1:\n",
    "        check=0\n",
    "    else:\n",
    "        check=1\n",
    "    return check\n"
   ]
  },
  {
   "cell_type": "markdown",
   "metadata": {
    "papermill": {
     "duration": 0.010841,
     "end_time": "2020-08-14T07:53:19.703244",
     "exception": false,
     "start_time": "2020-08-14T07:53:19.692403",
     "status": "completed"
    },
    "tags": []
   },
   "source": [
    "#### check depth of profile"
   ]
  },
  {
   "cell_type": "code",
   "execution_count": 9,
   "metadata": {
    "execution": {
     "iopub.execute_input": "2020-08-14T07:53:19.731392Z",
     "iopub.status.busy": "2020-08-14T07:53:19.730654Z",
     "iopub.status.idle": "2020-08-14T07:53:19.732465Z",
     "shell.execute_reply": "2020-08-14T07:53:19.732973Z"
    },
    "papermill": {
     "duration": 0.019065,
     "end_time": "2020-08-14T07:53:19.733134",
     "exception": false,
     "start_time": "2020-08-14T07:53:19.714069",
     "status": "completed"
    },
    "tags": []
   },
   "outputs": [],
   "source": [
    "def check_prof_depth(fileEN4,prof):\n",
    "    print('check if profile has a good depth : ')\n",
    "    #open the profile file and read the infos on pressure and latitude\n",
    "    tfileEN4=diren4+fileEN4\n",
    "    dsen4=xr.open_dataset(tfileEN4)\n",
    "    presen4=dsen4['PRES_ADJUSTED'][prof].values\n",
    "    laten4=dsen4['LATITUDE'][prof].values\n",
    "    #convert pressure to depth\n",
    "    depthen4=seawater.dpth(presen4,laten4)\n",
    "    #look for the last level\n",
    "    indzprof=np.min(np.where(np.isnan(depthen4)==True))\n",
    "    dmax=depthen4[indzprof-1]\n",
    "    print('profile max depth is '+str(dmax)+' m')\n",
    "    if dmax >= depthmin:\n",
    "        check=0\n",
    "    else:\n",
    "        check=1\n",
    "    return check"
   ]
  },
  {
   "cell_type": "markdown",
   "metadata": {
    "papermill": {
     "duration": 0.010981,
     "end_time": "2020-08-14T07:53:19.755237",
     "exception": false,
     "start_time": "2020-08-14T07:53:19.744256",
     "status": "completed"
    },
    "tags": []
   },
   "source": [
    "#### check if there are enough model profiles around the obs profile"
   ]
  },
  {
   "cell_type": "code",
   "execution_count": 10,
   "metadata": {
    "execution": {
     "iopub.execute_input": "2020-08-14T07:53:19.796771Z",
     "iopub.status.busy": "2020-08-14T07:53:19.796086Z",
     "iopub.status.idle": "2020-08-14T07:53:21.228435Z",
     "shell.execute_reply": "2020-08-14T07:53:21.229022Z"
    },
    "papermill": {
     "duration": 1.461812,
     "end_time": "2020-08-14T07:53:21.229199",
     "exception": false,
     "start_time": "2020-08-14T07:53:19.767387",
     "status": "completed"
    },
    "tags": []
   },
   "outputs": [],
   "source": [
    "import cartopy.crs as ccrs\n",
    "import cartopy.feature as cfeature\n",
    "from cartopy.mpl.gridliner import LONGITUDE_FORMATTER, LATITUDE_FORMATTER\n",
    "import matplotlib.patches as mpatches\n",
    "\n",
    "def map_profile_from_jsonfile(lon,lat,radius,lonmin, lonmax, latmin, latmax):\n",
    "    fig=plt.figure(figsize=(20,15))\n",
    "    ax = plt.subplot(111,projection=ccrs.PlateCarree(central_longitude=0))\n",
    "    ax.set_extent((lonmin, lonmax, latmin, latmax))\n",
    "    ax.coastlines(resolution=\"10m\")\n",
    "    gl = ax.gridlines(draw_labels=True, linestyle=':', color='black',\n",
    "                      alpha=0.5)\n",
    "    gl.xlabels_top = False\n",
    "    gl.ylabels_right = False\n",
    "    gl.xformatter = LONGITUDE_FORMATTER\n",
    "    gl.yformatter = LATITUDE_FORMATTER\n",
    "    ax.tick_params('both',labelsize=22)\n",
    "    ax.add_patch(mpatches.Circle(xy=[lon,lat], radius=radius, color='green', alpha=0.3, transform=ccrs.PlateCarree(), zorder=30))\n",
    "    plt.scatter(lon,lat, c='g', linewidth='0', s=18);\n",
    "\n",
    "def check_number_profile(fileEN4,prof,i0,j0,dmap=0):\n",
    "    print('check if there are enough model profiles : ')\n",
    "    #open mask file and read lat, lon and mask\n",
    "    ds=xr.open_dataset(meshfile)\n",
    "    gdpts=np.int(np.round(radius_max*60))\n",
    "    lat=ds.nav_lat[j0-gdpts:j0+gdpts,i0-gdpts:i0+gdpts]\n",
    "    lon=ds.nav_lon[j0-gdpts:j0+gdpts,i0-gdpts:i0+gdpts]\n",
    "    depth=ds.gdept_1d[0]\n",
    "    tmask=ds.tmask[0,:,j0-gdpts:j0+gdpts,i0-gdpts:i0+gdpts]\n",
    "    # Stack the variables\n",
    "    lon_stacked = lon.stack(profile=('x', 'y'))\n",
    "    lat_stacked = lat.stack(profile=('x', 'y'))\n",
    "    mask_stacked = tmask.stack(profile=('x', 'y'))\n",
    "    #Get the depth at every grid point\n",
    "    d,ly,lx=tmask.shape\n",
    "    depthmod2d=np.zeros([lx,ly])\n",
    "    for j in np.arange(ly):\n",
    "        for i in np.arange(lx):\n",
    "            depthmod2d[j,i]=depth[np.min(np.where(tmask[:,j,i].values<1))].values\n",
    "    xr_depthmod2d=xr.DataArray(depthmod2d, dims=(\"y\", \"x\"))    \n",
    "    depth_stacked = xr_depthmod2d.stack(profile=('x', 'y'))\n",
    "    #open the profile file and read the infos on latitude, longitude\n",
    "    tfileEN4=diren4+fileEN4\n",
    "    dsen4=xr.open_dataset(tfileEN4)\n",
    "    laten4=dsen4['LATITUDE'][prof].values\n",
    "    lonen4=dsen4['LONGITUDE'][prof].values\n",
    "    #find the profiles filling criteria\n",
    "    distance_threshold = radius_max\n",
    "    square_distance_to_observation = (lon_stacked - lonen4)**2 + (lat_stacked-laten4)**2\n",
    "    is_close_to_observation = (square_distance_to_observation < distance_threshold) & (depth_stacked > depthmin)\n",
    "    nb_profiles=np.sum(1*is_close_to_observation)*24*(period*2+1)\n",
    "    print('There is a total of '+str(nb_profiles)+' model oceanic profiles with enough depth')\n",
    "    if dmap == 1:\n",
    "        map_profile_from_jsonfile(lonen4,laten4,radius_max,lonmin, lonmax, latmin, latmax)\n",
    "    if nb_profiles > number_of_model_profiles:\n",
    "        check=0\n",
    "    else:\n",
    "        check=1\n",
    "    return check\n"
   ]
  },
  {
   "cell_type": "markdown",
   "metadata": {
    "papermill": {
     "duration": 0.011188,
     "end_time": "2020-08-14T07:53:21.251872",
     "exception": false,
     "start_time": "2020-08-14T07:53:21.240684",
     "status": "completed"
    },
    "tags": []
   },
   "source": [
    "#### function to select one profile and save its characteristics in the json file"
   ]
  },
  {
   "cell_type": "code",
   "execution_count": 11,
   "metadata": {
    "execution": {
     "iopub.execute_input": "2020-08-14T07:53:21.283447Z",
     "iopub.status.busy": "2020-08-14T07:53:21.282910Z",
     "iopub.status.idle": "2020-08-14T07:53:21.285367Z",
     "shell.execute_reply": "2020-08-14T07:53:21.284833Z"
    },
    "papermill": {
     "duration": 0.022403,
     "end_time": "2020-08-14T07:53:21.285493",
     "exception": false,
     "start_time": "2020-08-14T07:53:21.263090",
     "status": "completed"
    },
    "tags": []
   },
   "outputs": [],
   "source": [
    "def make_dict(fileEN4,prof,i0,j0,dictyml):\n",
    "    print('Adding profile to the dict')\n",
    "    #open the profile file and read the infos on latitude, longitude\n",
    "    tfileEN4=diren4+fileEN4\n",
    "    dsen4=xr.open_dataset(tfileEN4)\n",
    "    laten4=dsen4['LATITUDE'][prof].values\n",
    "    lonen4=dsen4['LONGITUDE'][prof].values\n",
    "    dayen4=dsen4['JULD'][prof].values\n",
    "    if dictyml:\n",
    "        up={'Profile_'+str(fileEN4)+'_'+str(prof):{'reference':'Profile_'+str(fileEN4)+'_'+str(prof),\n",
    "                                                        'file':fileEN4,'profile no':int(prof),\n",
    "                                                        'latitude':float(laten4),\n",
    "                                                        'longitude':float(lonen4),\n",
    "                                                        'date':str(dayen4),\n",
    "                                                        'i0':int(i0),'j0':int(j0)}}\n",
    "        dictyml.update(up)\n",
    "    else:\n",
    "        dictyml={'Profile_'+str(fileEN4)+'_'+str(prof):{'reference':'Profile_'+str(fileEN4)+'_'+str(prof),\n",
    "                                                        'file':fileEN4,'profile no':int(prof),\n",
    "                                                        'latitude':float(laten4),\n",
    "                                                        'longitude':float(lonen4),\n",
    "                                                        'date':str(dayen4),\n",
    "                                                        'i0':int(i0),'j0':int(j0)}}\n",
    "    return dictyml\n",
    "    \n",
    "    "
   ]
  },
  {
   "cell_type": "code",
   "execution_count": 12,
   "metadata": {
    "execution": {
     "iopub.execute_input": "2020-08-14T07:53:21.318399Z",
     "iopub.status.busy": "2020-08-14T07:53:21.317840Z",
     "iopub.status.idle": "2020-08-14T07:53:21.320963Z",
     "shell.execute_reply": "2020-08-14T07:53:21.321499Z"
    },
    "papermill": {
     "duration": 0.023943,
     "end_time": "2020-08-14T07:53:21.321679",
     "exception": false,
     "start_time": "2020-08-14T07:53:21.297736",
     "status": "completed"
    },
    "tags": []
   },
   "outputs": [
    {
     "name": "stdout",
     "output_type": "stream",
     "text": [
      "CPU times: user 524 µs, sys: 0 ns, total: 524 µs\n",
      "Wall time: 616 µs\n"
     ]
    }
   ],
   "source": [
    "%%time\n",
    "#loop on all the files\n",
    "\n",
    "# name of the json file in which selection of profiles informations will be stored\n",
    "jsonfile='txt/MEDWEST60-BLBT02_'+str(datemin)+'-'+str(datemax)+'_'+str(depthmin)+'m_'+str(radius_max)+'x'+str(period)+'d_'+str(number_of_model_profiles)+'.json'\n",
    "if not os.path.exists(jsonfile):\n",
    "    jdict={}\n",
    "    for f in range(len(list_filesEN4)):\n",
    "        fileEN4=list_filesEN4[f]\n",
    "        ds=xr.open_dataset(diren4+fileEN4)\n",
    "        nprof=len(ds.N_PROF)\n",
    "        for prof in range(nprof):\n",
    "            i0,j0=loc(fileEN4,prof)\n",
    "            if (i0,j0) == (-1,-1):\n",
    "                print('profile is not in the domain at all')\n",
    "                continue\n",
    "            check=check_prof_in_ocean(i0,j0)\n",
    "            if check == 1:\n",
    "                print('no, profile is on the land')\n",
    "                continue\n",
    "            print('yes, profile is in the ocean')\n",
    "            check=check_prof_depth(fileEN4,prof)\n",
    "            if check == 1:\n",
    "                print('no, profile is not deep enough')\n",
    "                continue\n",
    "            print('yes, profile is deep enough')\n",
    "            check_number_profile(fileEN4,prof,i0,j0)\n",
    "            print(check)\n",
    "            if check == 1:\n",
    "                print('no, there are not enough model profiles')\n",
    "                continue\n",
    "            print('yes, there are enough model profiles')\n",
    "            jdict=make_dict(fileEN4,prof,i0,j0,jdict)\n",
    "\n",
    "    #write dict in a json file           \n",
    "    with io.open(str(jsonfile), 'a+', encoding='utf8') as outfile:\n",
    "        outfile.write(str(json.dumps(jdict, sort_keys=True,indent=4, separators=(',', ': '))))\n"
   ]
  }
 ],
 "metadata": {
  "celltoolbar": "Tags",
  "kernelspec": {
   "display_name": "Python 3",
   "language": "python",
   "name": "python3"
  },
  "language_info": {
   "codemirror_mode": {
    "name": "ipython",
    "version": 3
   },
   "file_extension": ".py",
   "mimetype": "text/x-python",
   "name": "python",
   "nbconvert_exporter": "python",
   "pygments_lexer": "ipython3",
   "version": "3.8.3"
  },
  "papermill": {
   "duration": 9.84817,
   "end_time": "2020-08-14T07:53:21.842333",
   "environment_variables": {},
   "exception": null,
   "input_path": "2020-08-03-AA-selection-script-with-options.ipynb",
   "output_path": "out/2020-08-14-AA-selection-script-with-options-MEDWEST60_2010-01-01-2010-04-30_500m_0.25x5d_100000.ipynb",
   "parameters": {
    "depthmin": 500,
    "dmax": 30,
    "dmin": 1,
    "mmax": 4,
    "mmin": 1,
    "number_of_model_profiles": 100000,
    "period": 5,
    "radius_max": 0.25,
    "ymax": 2010,
    "ymin": 2010
   },
   "start_time": "2020-08-14T07:53:11.994163",
   "version": "2.1.2"
  }
 },
 "nbformat": 4,
 "nbformat_minor": 2
}