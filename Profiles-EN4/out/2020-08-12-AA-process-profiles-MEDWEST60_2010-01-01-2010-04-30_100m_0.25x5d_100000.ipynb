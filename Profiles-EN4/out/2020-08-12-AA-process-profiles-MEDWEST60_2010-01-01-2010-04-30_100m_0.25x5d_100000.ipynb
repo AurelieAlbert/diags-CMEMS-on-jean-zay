{
 "cells": [
  {
   "cell_type": "markdown",
   "metadata": {
    "papermill": {
     "duration": 0.006883,
     "end_time": "2020-08-12T08:17:11.400687",
     "exception": false,
     "start_time": "2020-08-12T08:17:11.393804",
     "status": "completed"
    },
    "tags": []
   },
   "source": [
    "## Import all the libraries"
   ]
  },
  {
   "cell_type": "code",
   "execution_count": 1,
   "metadata": {
    "execution": {
     "iopub.execute_input": "2020-08-12T08:17:11.424711Z",
     "iopub.status.busy": "2020-08-12T08:17:11.424074Z",
     "iopub.status.idle": "2020-08-12T08:17:12.534470Z",
     "shell.execute_reply": "2020-08-12T08:17:12.535017Z"
    },
    "papermill": {
     "duration": 1.126501,
     "end_time": "2020-08-12T08:17:12.535189",
     "exception": false,
     "start_time": "2020-08-12T08:17:11.408688",
     "status": "completed"
    },
    "tags": []
   },
   "outputs": [],
   "source": [
    "import numpy as np\n",
    "import dask\n",
    "import xarray as xr\n",
    "from netCDF4 import Dataset\n",
    "import matplotlib.pyplot as plt\n",
    "import pandas as pd\n",
    "import datetime\n",
    "import glob as glob\n",
    "import time\n",
    "from dask.diagnostics import ProgressBar\n",
    "from datetime import date\n",
    "import json\n",
    "import os\n",
    "import warnings\n",
    "import seawater\n",
    "import re\n",
    "\n",
    "warnings.filterwarnings('ignore')\n"
   ]
  },
  {
   "cell_type": "markdown",
   "metadata": {
    "papermill": {
     "duration": 0.00686,
     "end_time": "2020-08-12T08:17:12.551837",
     "exception": false,
     "start_time": "2020-08-12T08:17:12.544977",
     "status": "completed"
    },
    "tags": []
   },
   "source": [
    "## Parameters"
   ]
  },
  {
   "cell_type": "code",
   "execution_count": 2,
   "metadata": {
    "execution": {
     "iopub.execute_input": "2020-08-12T08:17:12.569803Z",
     "iopub.status.busy": "2020-08-12T08:17:12.569249Z",
     "iopub.status.idle": "2020-08-12T08:17:12.571002Z",
     "shell.execute_reply": "2020-08-12T08:17:12.571501Z"
    },
    "papermill": {
     "duration": 0.013011,
     "end_time": "2020-08-12T08:17:12.571654",
     "exception": false,
     "start_time": "2020-08-12T08:17:12.558643",
     "status": "completed"
    },
    "tags": [
     "parameters"
    ]
   },
   "outputs": [],
   "source": [
    "ymin=2010;mmin=1;dmin=1\n",
    "ymax=2010;mmax=9;dmax=30\n",
    "# depth of the desired comparison profile in m\n",
    "depthmin=1000\n",
    "# radius of the circle around the profile location in which we take the modeled profiles, in °  \n",
    "radius_max=0.25\n",
    "# period of time around the profile sampling date in which we take the modeled profiles, in days\n",
    "period=5\n",
    "# minimum amount of model profiles to be considered to make a significant statistical comparison, for instance in a 1° square and 30-days window we have 2.6 millions modeled profiles, in a 0.5°x10 days 216 000\n",
    "number_of_model_profiles=100000\n",
    "# \n",
    "debug_plot=False\n"
   ]
  },
  {
   "cell_type": "code",
   "execution_count": 3,
   "metadata": {
    "execution": {
     "iopub.execute_input": "2020-08-12T08:17:12.589800Z",
     "iopub.status.busy": "2020-08-12T08:17:12.589176Z",
     "iopub.status.idle": "2020-08-12T08:17:12.591308Z",
     "shell.execute_reply": "2020-08-12T08:17:12.591929Z"
    },
    "papermill": {
     "duration": 0.013558,
     "end_time": "2020-08-12T08:17:12.592121",
     "exception": false,
     "start_time": "2020-08-12T08:17:12.578563",
     "status": "completed"
    },
    "tags": [
     "injected-parameters"
    ]
   },
   "outputs": [],
   "source": [
    "# Parameters\n",
    "ymin = 2010\n",
    "mmin = 1\n",
    "dmin = 1\n",
    "ymax = 2010\n",
    "mmax = 4\n",
    "dmax = 30\n",
    "depthmin = 100\n",
    "radius_max = 0.25\n",
    "period = 5\n",
    "number_of_model_profiles = 100000\n"
   ]
  },
  {
   "cell_type": "code",
   "execution_count": 4,
   "metadata": {
    "execution": {
     "iopub.execute_input": "2020-08-12T08:17:12.611309Z",
     "iopub.status.busy": "2020-08-12T08:17:12.610582Z",
     "iopub.status.idle": "2020-08-12T08:17:12.612883Z",
     "shell.execute_reply": "2020-08-12T08:17:12.612315Z"
    },
    "papermill": {
     "duration": 0.014012,
     "end_time": "2020-08-12T08:17:12.613024",
     "exception": false,
     "start_time": "2020-08-12T08:17:12.599012",
     "status": "completed"
    },
    "tags": []
   },
   "outputs": [],
   "source": [
    "datemin=datetime.date(ymin,mmin,dmin)\n",
    "datemax=datetime.date(ymax,mmax,dmax)\n",
    "jsonfile='txt/MEDWEST60-BLBT02_'+str(datemin)+'-'+str(datemax)+'_'+str(depthmin)+'m_'+str(radius_max)+'x'+str(period)+'d_'+str(number_of_model_profiles)+'.json'"
   ]
  },
  {
   "cell_type": "markdown",
   "metadata": {
    "papermill": {
     "duration": 0.006469,
     "end_time": "2020-08-12T08:17:12.626825",
     "exception": false,
     "start_time": "2020-08-12T08:17:12.620356",
     "status": "completed"
    },
    "tags": []
   },
   "source": [
    "## Read the jsonfile"
   ]
  },
  {
   "cell_type": "code",
   "execution_count": 5,
   "metadata": {
    "execution": {
     "iopub.execute_input": "2020-08-12T08:17:12.644532Z",
     "iopub.status.busy": "2020-08-12T08:17:12.643628Z",
     "iopub.status.idle": "2020-08-12T08:17:12.646823Z",
     "shell.execute_reply": "2020-08-12T08:17:12.647480Z"
    },
    "papermill": {
     "duration": 0.014185,
     "end_time": "2020-08-12T08:17:12.647672",
     "exception": false,
     "start_time": "2020-08-12T08:17:12.633487",
     "status": "completed"
    },
    "tags": []
   },
   "outputs": [],
   "source": [
    "sourcefile=open(jsonfile,'rU')\n",
    "infos=json.load(sourcefile)\n",
    "nb_profilesEN4=len(infos)\n"
   ]
  },
  {
   "cell_type": "markdown",
   "metadata": {
    "papermill": {
     "duration": 0.007156,
     "end_time": "2020-08-12T08:17:12.663822",
     "exception": false,
     "start_time": "2020-08-12T08:17:12.656666",
     "status": "completed"
    },
    "tags": []
   },
   "source": [
    "## Loop on the number of profiles"
   ]
  },
  {
   "cell_type": "code",
   "execution_count": 6,
   "metadata": {
    "execution": {
     "iopub.execute_input": "2020-08-12T08:17:12.725272Z",
     "iopub.status.busy": "2020-08-12T08:17:12.703340Z",
     "iopub.status.idle": "2020-08-12T08:17:12.737403Z",
     "shell.execute_reply": "2020-08-12T08:17:12.738001Z"
    },
    "papermill": {
     "duration": 0.067142,
     "end_time": "2020-08-12T08:17:12.738177",
     "exception": false,
     "start_time": "2020-08-12T08:17:12.671035",
     "status": "completed"
    },
    "tags": []
   },
   "outputs": [],
   "source": [
    "def process_one_profile(prof):\n",
    "    # Process one profile\n",
    "    list_profiles = infos.keys()\n",
    "    reference =  str(list(list_profiles)[prof])\n",
    "    print('Processing profile ', reference)\n",
    "\n",
    "    # Get all infos from json file\n",
    "    lat_prof = infos[list(list_profiles)[prof]]['latitude']\n",
    "    lon_prof = infos[list(list_profiles)[prof]]['longitude']\n",
    "    date_prof = infos[list(list_profiles)[prof]]['date']\n",
    "    file_prof = infos[list(list_profiles)[prof]]['file']\n",
    "    prof_prof = infos[list(list_profiles)[prof]]['profile no']\n",
    "    i0 = infos[list(list_profiles)[prof]]['i0']\n",
    "    j0 = infos[list(list_profiles)[prof]]['j0']\n",
    "\n",
    "    # List of all model files involved\n",
    "    date_profmin=datetime.date(int(date_prof[0:4]),int(date_prof[5:7]),int(date_prof[8:10]))-datetime.timedelta(days=int(period))\n",
    "    date_profmax=datetime.date(int(date_prof[0:4]),int(date_prof[5:7]),int(date_prof[8:10]))+datetime.timedelta(days=int(period))\n",
    "    def date_range(start, end):\n",
    "        r = (end+datetime.timedelta(days=1)-start).days\n",
    "        return [start+datetime.timedelta(days=i) for i in range(r)]\n",
    "    dateList = date_range(date_profmin, date_profmax) \n",
    "    dirmod=\"/gpfsstore/rech/egi/commun/MEDWEST60/extracted_eNATL60/allv/\"\n",
    "    list_filesmod_T=[]\n",
    "    list_filesmod_S=[]\n",
    "    for date in dateList:\n",
    "        year=date.year\n",
    "        month=date.month\n",
    "        day=date.day\n",
    "        mm=\"{:02d}\".format(month) #month on 2 digits\n",
    "        dd=\"{:02d}\".format(day) # day on 2 digits\n",
    "        list_filesmod_T.append(dirmod+'MEDWEST60-BLBT02_y'+str(year)+'m'+str(mm)+'d'+str(dd)+'.1h_gridT.nc')\n",
    "        list_filesmod_S.append(dirmod+'MEDWEST60-BLBT02_y'+str(year)+'m'+str(mm)+'d'+str(dd)+'.1h_gridS.nc')\n",
    "    print(list_filesmod_T)  \n",
    "    \n",
    "    # Read model files\n",
    "    dsT=xr.open_mfdataset(list_filesmod_T)\n",
    "    dsS=xr.open_mfdataset(list_filesmod_S)\n",
    "    gdpts=np.int(np.round(radius_max*60))\n",
    "\n",
    "    lonmod=dsT.nav_lon[0,j0-gdpts:j0+gdpts,i0-gdpts:i0+gdpts]\n",
    "    latmod=dsT.nav_lat[0,j0-gdpts:j0+gdpts,i0-gdpts:i0+gdpts]\n",
    "    tempmod=dsT.votemper[:,:,j0-gdpts:j0+gdpts,i0-gdpts:i0+gdpts]\n",
    "    saltmod=dsS.vosaline[:,:,j0-gdpts:j0+gdpts,i0-gdpts:i0+gdpts]\n",
    "    depthmod=dsT.deptht\n",
    "    meshfile='/gpfsstore/rech/egi/commun/MEDWEST60/MEDWEST60-I/mesh_mask.nc'\n",
    "    ds=xr.open_dataset(meshfile)\n",
    "    maskmod=ds.tmask[0,:,j0-gdpts:j0+gdpts,i0-gdpts:i0+gdpts]\n",
    "    maskmod0=ds.tmask[0,0,j0-gdpts:j0+gdpts,i0-gdpts:i0+gdpts]\n",
    "\n",
    "    #Get the depth at every grid point\n",
    "    d,ly,lx=maskmod.shape\n",
    "    depthmod2d=np.zeros([lx,ly])\n",
    "    for j in np.arange(ly):\n",
    "        for i in np.arange(lx):\n",
    "            depthmod2d[j,i]=depthmod[np.min(np.where(maskmod[:,j,i].values<1))].values\n",
    "    \n",
    "    # Read the profile file\n",
    "    diren4=\"/gpfswork/rech/egi/rote001/EN4/\"\n",
    "    tfileEN4=diren4+file_prof\n",
    "    dsen4=xr.open_dataset(tfileEN4)\n",
    "    laten4=dsen4['LATITUDE'][prof_prof]\n",
    "    lonen4=dsen4['LONGITUDE'][prof_prof]\n",
    "    dayen4=dsen4['JULD'][prof_prof]\n",
    "    tempen4=dsen4['TEMP'][prof_prof]\n",
    "    salten4=dsen4['PSAL'][prof_prof]\n",
    "    presen4=dsen4['PRES_ADJUSTED'][prof_prof]\n",
    "    depthen4=seawater.dpth(presen4,laten4)\n",
    "\n",
    "    # Find the last level and reduce the profiles\n",
    "    indzprof=np.min(np.where(np.isnan(depthen4)==True))\n",
    "    dmax=depthen4[indzprof-1]\n",
    "    obsred_dep=np.zeros(int(indzprof))\n",
    "    obsred_temp=np.zeros(int(indzprof))\n",
    "    obsred_salt=np.zeros(int(indzprof))\n",
    "    for z in np.arange(int(indzprof)):\n",
    "        obsred_dep[int(z)]=depthen4[int(z)]\n",
    "        obsred_temp[int(z)]=tempen4[int(z)]\n",
    "        obsred_salt[int(z)]=salten4[int(z)]\n",
    "\n",
    "    # Find the model profiles\n",
    "    lon_stacked = lonmod.stack(profile=('x', 'y'))\n",
    "    lat_stacked = latmod.stack(profile=('x', 'y'))\n",
    "    mask_stacked = maskmod0.stack(profile=('x', 'y'))\n",
    "    xr_depthmod2d=xr.DataArray(depthmod2d, dims=('y', 'x'))\n",
    "    depth_stacked = xr_depthmod2d.stack(profile=('x', 'y'))\n",
    "    \n",
    "    distance_threshold = radius_max\n",
    "    square_distance_to_observation = (lon_stacked - lon_prof)**2 + (lat_stacked-lat_prof)**2\n",
    "    square_distance_to_observation_mask = np.ma.masked_where(mask_stacked==0.,square_distance_to_observation) \n",
    "    square_distance_to_observation_sorted = np.sort(square_distance_to_observation_mask)\n",
    "    nb_profiles_per_timestep=number_of_model_profiles/(24*period*2+24)\n",
    "    new_threshold=square_distance_to_observation_sorted[int(np.round(nb_profiles_per_timestep)+1)]\n",
    "    is_closer_to_observation = (square_distance_to_observation < new_threshold) & (depth_stacked > depthmin)\n",
    "\n",
    "    model_temperature_stacked = tempmod.stack(profile=('x', 'y'))\n",
    "    model_salinity_stacked = saltmod.stack(profile=('x', 'y'))\n",
    "\n",
    "    model_temperature_near_observation = model_temperature_stacked.where(is_closer_to_observation,drop=True)\n",
    "    model_salinity_near_observation = model_salinity_stacked.where(is_closer_to_observation, drop=True)\n",
    "    lat_near_observation = lat_stacked.where(is_closer_to_observation, drop=True)\n",
    "    lon_near_observation = lon_stacked.where(is_closer_to_observation, drop=True)\n",
    "    \n",
    "    # Compute statistics on the model profiles\n",
    "    temp_model_mean = np.mean(model_temperature_near_observation,axis=(0,2))\n",
    "    temp_percentile_10= np.percentile(model_temperature_near_observation,10,axis=(0,2))\n",
    "    temp_percentile_90= np.percentile(model_temperature_near_observation,90,axis=(0,2))\n",
    "    salt_model_mean = np.mean(model_salinity_near_observation,axis=(0,2))\n",
    "    salt_percentile_10= np.percentile(model_salinity_near_observation,10,axis=(0,2))\n",
    "    salt_percentile_90= np.percentile(model_salinity_near_observation,90,axis=(0,2))\n",
    "    \n",
    "    # Interpolate on obs vertical grid\n",
    "    temp_model_mean_depobs=np.interp(obsred_dep,depthmod,temp_model_mean)\n",
    "    temp_model_percentile_10_depobs=np.interp(obsred_dep,depthmod,temp_percentile_10)\n",
    "    temp_model_percentile_90_depobs=np.interp(obsred_dep,depthmod,temp_percentile_90)\n",
    "    salt_model_mean_depobs=np.interp(obsred_dep,depthmod,salt_model_mean)\n",
    "    salt_model_percentile_10_depobs=np.interp(obsred_dep,depthmod,salt_percentile_10)\n",
    "    salt_model_percentile_90_depobs=np.interp(obsred_dep,depthmod,salt_percentile_90)\n",
    "    \n",
    "    # Make a debug plot\n",
    "    if debug_plot == True:\n",
    "        fig, axs = plt.subplots(1,2, figsize=(10, 6))\n",
    "        axs = axs.ravel()\n",
    "        title = 'Temperature and Salinity Profiles for profile '+reference\n",
    "        plt.suptitle(title,size = 25,y=1.05)\n",
    "        axs[0].plot(temp_model_mean_depobs,obsred_dep,'b.-', label='temp model')\n",
    "        axs[0].plot(obsred_temp,obsred_dep,'k.-', label='temp en4')\n",
    "        axs[0].set_ylabel('Depth [m]', size=14)\n",
    "        axs[0].set_ylim(2000, 0)\n",
    "        axs[0].grid(True, which='both')\n",
    "        axs[0].xaxis.tick_top()\n",
    "        axs[0].xaxis.set_label_position('top') \n",
    "        axs[0].plot(temp_model_percentile_10_depobs,obsred_dep,'b-', label='percent10')\n",
    "        axs[0].plot(temp_model_percentile_90_depobs,obsred_dep,'b-', label='percent90')\n",
    "        axs[0].fill_betweenx(obsred_dep, temp_model_percentile_10_depobs, x2=temp_model_percentile_90_depobs, alpha=0.2, facecolor='b')\n",
    "\n",
    "        axs[1].plot(salt_model_mean_depobs,obsred_dep,'b.-', label='salt model')\n",
    "        axs[1].plot(obsred_salt,obsred_dep,'k.-', label='salt en4')\n",
    "        axs[1].set_ylabel('Depth [m]', size=14)\n",
    "        axs[1].set_ylim(2000, 0)\n",
    "        axs[1].grid(True, which='both')\n",
    "        axs[1].xaxis.tick_top()\n",
    "        axs[1].xaxis.set_label_position('top') \n",
    "        axs[1].plot(salt_model_percentile_10_depobs,obsred_dep,'b-', label='percent10')\n",
    "        axs[1].plot(salt_model_percentile_90_depobs,obsred_dep,'b-', label='percent90')\n",
    "        axs[1].fill_betweenx(obsred_dep, salt_model_percentile_10_depobs, x2=salt_model_percentile_90_depobs, alpha=0.2, facecolor='b')\n",
    "        fig.tight_layout()\n",
    "        plt.savefig('figs/MEDWEST60-BLBT02_'+str(datemin)+'-'+str(datemax)+'_'+str(depthmin)+'m_'+str(radius_max)+'x'+str(period)+'d_'+str(number_of_model_profiles)+'_prof'+str(prof)+'.png')\n",
    "\n",
    "    # Write netcdf file\n",
    "    match=re.search(r'([\\w.-]+).nc([\\w.-]+)', reference)\n",
    "    debut_ref=match.group(1)\n",
    "    fin_ref=match.group(2)\n",
    "    dirname=diren4+'profiles_files/MEDWEST60-BLBT02/'\n",
    "    if not os.path.exists(dirname):\n",
    "        os.makedirs(dirname)    \n",
    "  \n",
    "    outname=dirname+str(debut_ref)+str(fin_ref)+'_MEDWEST60-BLBT02_TS.nc'\n",
    "    print('output file is '+outname)\n",
    "    dsout=Dataset(outname,'w')\n",
    "\n",
    "    today=date.today()\n",
    "    dsout.description = \"This file contains one profile of temperature and salinity from EN4 dataset and the mean and 10 and 90 percentile of NATL60-CJM165 data within a 0.25deg circle around the location of the profile and 15 days before and after it has been sampled. This file has been created \"+str(today.day)+\"/\"+str(today.month)+\"/\"+str(today.year)\n",
    "\n",
    "    depth=dsout.createDimension('depth',len(obsred_dep))\n",
    "    x=dsout.createDimension('x',1)\n",
    "    y=dsout.createDimension('y',1)\n",
    "    \n",
    "    lat = dsout.createVariable('latitude_profileEN4', 'f8', ('y','x'))\n",
    "    lat.standart_name=\"latitude_profileEN4\"\n",
    "    lat.long_name = \"Latitude of selected EN4 profile\" \n",
    "    lat.units = \"degrees_north\"\n",
    "\n",
    "    lon = dsout.createVariable('longitude_profileEN4', 'f8', ('y','x'))\n",
    "    lon.standart_name=\"longitude_profileEN4\"\n",
    "    lon.long_name = \"Longitude of selected EN4 profile\" \n",
    "    lon.units = \"degrees_east\"\n",
    "\n",
    "    time = dsout.createVariable('time_profileEN4', 'f8', ('y','x'))\n",
    "    time.standart_name=\"time_profileEN4\"\n",
    "    time.timeg_name = \"Time in seconds from 1-1-1958 of selected EN4 profile\" \n",
    "    time.units = \"s\"\n",
    "\n",
    "    depth_en4 = dsout.createVariable('depth_en4', 'f8', ('depth'),fill_value=0.)\n",
    "    depth_en4.units = \"m\" \n",
    "    depth_en4.valid_min = 0.\n",
    "    depth_en4.valid_max = 8000.\n",
    "    depth_en4.long_name = \"Depth\" \n",
    "\n",
    "    temp_en4 = dsout.createVariable('temp_profileEN4', 'f8', ('depth'),fill_value=0.)\n",
    "    temp_en4.units = \"degC\" \n",
    "    temp_en4.valid_min = -10.\n",
    "    temp_en4.valid_max = 40.\n",
    "    temp_en4.long_name = \"Temperature profile of the selected EN4 profile\" \n",
    "\n",
    "    salt_en4 = dsout.createVariable('salt_profileEN4', 'f8', ('depth'),fill_value=0.)\n",
    "    salt_en4.units = \"PSU\" \n",
    "    salt_en4.valid_min = 20.\n",
    "    salt_en4.valid_max = 40.\n",
    "    salt_en4.long_name = \"Salinity profile of the selected EN4 profile\" \n",
    "\n",
    "    mean_temp_model = dsout.createVariable('mean_temp_model', 'f8', ('depth'),fill_value=0.)\n",
    "    mean_temp_model.units = \"degC\" \n",
    "    mean_temp_model.valid_min = -10.\n",
    "    mean_temp_model.valid_max = 40.\n",
    "    mean_temp_model.long_name = \"Mean Temperature profile of the model\" \n",
    "\n",
    "    mean_salt_model = dsout.createVariable('mean_salt_model', 'f8', ('depth'),fill_value=0.)\n",
    "    mean_salt_model.units = \"PSU\" \n",
    "    mean_salt_model.valid_min = 20.\n",
    "    mean_salt_model.valid_max = 40.\n",
    "    mean_salt_model.long_name = \"Mean Salinity profile of the model\" \n",
    "\n",
    "    percent10_temp_model = dsout.createVariable('percent10_temp_model', 'f8', ('depth'),fill_value=0.)\n",
    "    percent10_temp_model.units = \"degC\" \n",
    "    percent10_temp_model.valid_min = -10.\n",
    "    percent10_temp_model.valid_max = 40.\n",
    "    percent10_temp_model.long_name = \"Percent 10 Temperature profile of the model\" \n",
    "\n",
    "    percent10_salt_model = dsout.createVariable('percent10_salt_model', 'f8', ('depth'),fill_value=0.)\n",
    "    percent10_salt_model.units = \"PSU\" \n",
    "    percent10_salt_model.valid_min = 20.\n",
    "    percent10_salt_model.valid_max = 40.\n",
    "    percent10_salt_model.long_name = \"Percent 10 Salinity profile of the model\" \n",
    "\n",
    "    percent90_temp_model = dsout.createVariable('percent90_temp_model', 'f8', ('depth'),fill_value=0.)\n",
    "    percent90_temp_model.units = \"degC\" \n",
    "    percent90_temp_model.valid_min = -90.\n",
    "    percent90_temp_model.valid_max = 40.\n",
    "    percent90_temp_model.long_name = \"Percent 90 Temperature profile of the model\" \n",
    "\n",
    "    percent90_salt_model = dsout.createVariable('percent90_salt_model', 'f8', ('depth'),fill_value=0.)\n",
    "    percent90_salt_model.units = \"PSU\" \n",
    "    percent90_salt_model.valid_min = 20.\n",
    "    percent90_salt_model.valid_max = 40.\n",
    "    percent90_salt_model.long_name = \"Percent 90 Salinity profile of the model\" \n",
    "\n",
    "\n",
    "    lat[:]=lat_prof\n",
    "    lon[:]=lon_prof\n",
    "    time[:]=(datetime.datetime(int(date_prof[0:4]),int(date_prof[5:7]),int(date_prof[8:10]))-datetime.datetime(1958,1,1,0,0)).total_seconds()\n",
    "    depth_en4[:]=obsred_dep\n",
    "    temp_en4[:]=obsred_temp\n",
    "    salt_en4[:]=obsred_salt\n",
    "    mean_temp_model[:]=temp_model_mean_depobs\n",
    "    mean_salt_model[:]=salt_model_mean_depobs\n",
    "    percent10_temp_model[:]=temp_model_percentile_10_depobs\n",
    "    percent10_salt_model[:]=salt_model_percentile_10_depobs\n",
    "    percent90_temp_model[:]=temp_model_percentile_90_depobs\n",
    "    percent90_salt_model[:]=salt_model_percentile_90_depobs\n",
    "    dsout.close()  # close the new file\n",
    "    "
   ]
  },
  {
   "cell_type": "code",
   "execution_count": 7,
   "metadata": {
    "execution": {
     "iopub.execute_input": "2020-08-12T08:17:12.758918Z",
     "iopub.status.busy": "2020-08-12T08:17:12.758375Z",
     "iopub.status.idle": "2020-08-12T12:01:33.366851Z",
     "shell.execute_reply": "2020-08-12T12:01:33.367432Z"
    },
    "papermill": {
     "duration": 13460.622366,
     "end_time": "2020-08-12T12:01:33.367602",
     "exception": false,
     "start_time": "2020-08-12T08:17:12.745236",
     "status": "completed"
    },
    "tags": []
   },
   "outputs": [
    {
     "name": "stdout",
     "output_type": "stream",
     "text": [
      "Nb de profiles : 145\n",
      "12/08/20 10:17\n"
     ]
    },
    {
     "name": "stdout",
     "output_type": "stream",
     "text": [
      "Processing profile  Profile_20100315_prof.nc_0\n",
      "['/gpfsstore/rech/egi/commun/MEDWEST60/extracted_eNATL60/allv/MEDWEST60-BLBT02_y2010m03d10.1h_gridT.nc', '/gpfsstore/rech/egi/commun/MEDWEST60/extracted_eNATL60/allv/MEDWEST60-BLBT02_y2010m03d11.1h_gridT.nc', '/gpfsstore/rech/egi/commun/MEDWEST60/extracted_eNATL60/allv/MEDWEST60-BLBT02_y2010m03d12.1h_gridT.nc', '/gpfsstore/rech/egi/commun/MEDWEST60/extracted_eNATL60/allv/MEDWEST60-BLBT02_y2010m03d13.1h_gridT.nc', '/gpfsstore/rech/egi/commun/MEDWEST60/extracted_eNATL60/allv/MEDWEST60-BLBT02_y2010m03d14.1h_gridT.nc', '/gpfsstore/rech/egi/commun/MEDWEST60/extracted_eNATL60/allv/MEDWEST60-BLBT02_y2010m03d15.1h_gridT.nc', '/gpfsstore/rech/egi/commun/MEDWEST60/extracted_eNATL60/allv/MEDWEST60-BLBT02_y2010m03d16.1h_gridT.nc', '/gpfsstore/rech/egi/commun/MEDWEST60/extracted_eNATL60/allv/MEDWEST60-BLBT02_y2010m03d17.1h_gridT.nc', '/gpfsstore/rech/egi/commun/MEDWEST60/extracted_eNATL60/allv/MEDWEST60-BLBT02_y2010m03d18.1h_gridT.nc', '/gpfsstore/rech/egi/commun/MEDWEST60/extracted_eNATL60/allv/MEDWEST60-BLBT02_y2010m03d19.1h_gridT.nc', '/gpfsstore/rech/egi/commun/MEDWEST60/extracted_eNATL60/allv/MEDWEST60-BLBT02_y2010m03d20.1h_gridT.nc']\n"
     ]
    },
    {
     "name": "stdout",
     "output_type": "stream",
     "text": [
      "output file is /gpfswork/rech/egi/rote001/EN4/profiles_files/MEDWEST60-BLBT02/Profile_20100315_prof_0_MEDWEST60-BLBT02_TS.nc\n",
      "Processing profile  Profile_20100316_prof.nc_0\n",
      "['/gpfsstore/rech/egi/commun/MEDWEST60/extracted_eNATL60/allv/MEDWEST60-BLBT02_y2010m03d11.1h_gridT.nc', '/gpfsstore/rech/egi/commun/MEDWEST60/extracted_eNATL60/allv/MEDWEST60-BLBT02_y2010m03d12.1h_gridT.nc', '/gpfsstore/rech/egi/commun/MEDWEST60/extracted_eNATL60/allv/MEDWEST60-BLBT02_y2010m03d13.1h_gridT.nc', '/gpfsstore/rech/egi/commun/MEDWEST60/extracted_eNATL60/allv/MEDWEST60-BLBT02_y2010m03d14.1h_gridT.nc', '/gpfsstore/rech/egi/commun/MEDWEST60/extracted_eNATL60/allv/MEDWEST60-BLBT02_y2010m03d15.1h_gridT.nc', '/gpfsstore/rech/egi/commun/MEDWEST60/extracted_eNATL60/allv/MEDWEST60-BLBT02_y2010m03d16.1h_gridT.nc', '/gpfsstore/rech/egi/commun/MEDWEST60/extracted_eNATL60/allv/MEDWEST60-BLBT02_y2010m03d17.1h_gridT.nc', '/gpfsstore/rech/egi/commun/MEDWEST60/extracted_eNATL60/allv/MEDWEST60-BLBT02_y2010m03d18.1h_gridT.nc', '/gpfsstore/rech/egi/commun/MEDWEST60/extracted_eNATL60/allv/MEDWEST60-BLBT02_y2010m03d19.1h_gridT.nc', '/gpfsstore/rech/egi/commun/MEDWEST60/extracted_eNATL60/allv/MEDWEST60-BLBT02_y2010m03d20.1h_gridT.nc', '/gpfsstore/rech/egi/commun/MEDWEST60/extracted_eNATL60/allv/MEDWEST60-BLBT02_y2010m03d21.1h_gridT.nc']\n"
     ]
    },
    {
     "name": "stdout",
     "output_type": "stream",
     "text": [
      "output file is /gpfswork/rech/egi/rote001/EN4/profiles_files/MEDWEST60-BLBT02/Profile_20100316_prof_0_MEDWEST60-BLBT02_TS.nc\n",
      "Processing profile  Profile_20100316_prof.nc_18\n",
      "['/gpfsstore/rech/egi/commun/MEDWEST60/extracted_eNATL60/allv/MEDWEST60-BLBT02_y2010m03d11.1h_gridT.nc', '/gpfsstore/rech/egi/commun/MEDWEST60/extracted_eNATL60/allv/MEDWEST60-BLBT02_y2010m03d12.1h_gridT.nc', '/gpfsstore/rech/egi/commun/MEDWEST60/extracted_eNATL60/allv/MEDWEST60-BLBT02_y2010m03d13.1h_gridT.nc', '/gpfsstore/rech/egi/commun/MEDWEST60/extracted_eNATL60/allv/MEDWEST60-BLBT02_y2010m03d14.1h_gridT.nc', '/gpfsstore/rech/egi/commun/MEDWEST60/extracted_eNATL60/allv/MEDWEST60-BLBT02_y2010m03d15.1h_gridT.nc', '/gpfsstore/rech/egi/commun/MEDWEST60/extracted_eNATL60/allv/MEDWEST60-BLBT02_y2010m03d16.1h_gridT.nc', '/gpfsstore/rech/egi/commun/MEDWEST60/extracted_eNATL60/allv/MEDWEST60-BLBT02_y2010m03d17.1h_gridT.nc', '/gpfsstore/rech/egi/commun/MEDWEST60/extracted_eNATL60/allv/MEDWEST60-BLBT02_y2010m03d18.1h_gridT.nc', '/gpfsstore/rech/egi/commun/MEDWEST60/extracted_eNATL60/allv/MEDWEST60-BLBT02_y2010m03d19.1h_gridT.nc', '/gpfsstore/rech/egi/commun/MEDWEST60/extracted_eNATL60/allv/MEDWEST60-BLBT02_y2010m03d20.1h_gridT.nc', '/gpfsstore/rech/egi/commun/MEDWEST60/extracted_eNATL60/allv/MEDWEST60-BLBT02_y2010m03d21.1h_gridT.nc']\n"
     ]
    },
    {
     "name": "stdout",
     "output_type": "stream",
     "text": [
      "output file is /gpfswork/rech/egi/rote001/EN4/profiles_files/MEDWEST60-BLBT02/Profile_20100316_prof_18_MEDWEST60-BLBT02_TS.nc\n",
      "Processing profile  Profile_20100316_prof.nc_61\n",
      "['/gpfsstore/rech/egi/commun/MEDWEST60/extracted_eNATL60/allv/MEDWEST60-BLBT02_y2010m03d11.1h_gridT.nc', '/gpfsstore/rech/egi/commun/MEDWEST60/extracted_eNATL60/allv/MEDWEST60-BLBT02_y2010m03d12.1h_gridT.nc', '/gpfsstore/rech/egi/commun/MEDWEST60/extracted_eNATL60/allv/MEDWEST60-BLBT02_y2010m03d13.1h_gridT.nc', '/gpfsstore/rech/egi/commun/MEDWEST60/extracted_eNATL60/allv/MEDWEST60-BLBT02_y2010m03d14.1h_gridT.nc', '/gpfsstore/rech/egi/commun/MEDWEST60/extracted_eNATL60/allv/MEDWEST60-BLBT02_y2010m03d15.1h_gridT.nc', '/gpfsstore/rech/egi/commun/MEDWEST60/extracted_eNATL60/allv/MEDWEST60-BLBT02_y2010m03d16.1h_gridT.nc', '/gpfsstore/rech/egi/commun/MEDWEST60/extracted_eNATL60/allv/MEDWEST60-BLBT02_y2010m03d17.1h_gridT.nc', '/gpfsstore/rech/egi/commun/MEDWEST60/extracted_eNATL60/allv/MEDWEST60-BLBT02_y2010m03d18.1h_gridT.nc', '/gpfsstore/rech/egi/commun/MEDWEST60/extracted_eNATL60/allv/MEDWEST60-BLBT02_y2010m03d19.1h_gridT.nc', '/gpfsstore/rech/egi/commun/MEDWEST60/extracted_eNATL60/allv/MEDWEST60-BLBT02_y2010m03d20.1h_gridT.nc', '/gpfsstore/rech/egi/commun/MEDWEST60/extracted_eNATL60/allv/MEDWEST60-BLBT02_y2010m03d21.1h_gridT.nc']\n"
     ]
    },
    {
     "name": "stdout",
     "output_type": "stream",
     "text": [
      "output file is /gpfswork/rech/egi/rote001/EN4/profiles_files/MEDWEST60-BLBT02/Profile_20100316_prof_61_MEDWEST60-BLBT02_TS.nc\n",
      "Processing profile  Profile_20100317_prof.nc_81\n",
      "['/gpfsstore/rech/egi/commun/MEDWEST60/extracted_eNATL60/allv/MEDWEST60-BLBT02_y2010m03d12.1h_gridT.nc', '/gpfsstore/rech/egi/commun/MEDWEST60/extracted_eNATL60/allv/MEDWEST60-BLBT02_y2010m03d13.1h_gridT.nc', '/gpfsstore/rech/egi/commun/MEDWEST60/extracted_eNATL60/allv/MEDWEST60-BLBT02_y2010m03d14.1h_gridT.nc', '/gpfsstore/rech/egi/commun/MEDWEST60/extracted_eNATL60/allv/MEDWEST60-BLBT02_y2010m03d15.1h_gridT.nc', '/gpfsstore/rech/egi/commun/MEDWEST60/extracted_eNATL60/allv/MEDWEST60-BLBT02_y2010m03d16.1h_gridT.nc', '/gpfsstore/rech/egi/commun/MEDWEST60/extracted_eNATL60/allv/MEDWEST60-BLBT02_y2010m03d17.1h_gridT.nc', '/gpfsstore/rech/egi/commun/MEDWEST60/extracted_eNATL60/allv/MEDWEST60-BLBT02_y2010m03d18.1h_gridT.nc', '/gpfsstore/rech/egi/commun/MEDWEST60/extracted_eNATL60/allv/MEDWEST60-BLBT02_y2010m03d19.1h_gridT.nc', '/gpfsstore/rech/egi/commun/MEDWEST60/extracted_eNATL60/allv/MEDWEST60-BLBT02_y2010m03d20.1h_gridT.nc', '/gpfsstore/rech/egi/commun/MEDWEST60/extracted_eNATL60/allv/MEDWEST60-BLBT02_y2010m03d21.1h_gridT.nc', '/gpfsstore/rech/egi/commun/MEDWEST60/extracted_eNATL60/allv/MEDWEST60-BLBT02_y2010m03d22.1h_gridT.nc']\n"
     ]
    },
    {
     "name": "stdout",
     "output_type": "stream",
     "text": [
      "output file is /gpfswork/rech/egi/rote001/EN4/profiles_files/MEDWEST60-BLBT02/Profile_20100317_prof_81_MEDWEST60-BLBT02_TS.nc\n",
      "Processing profile  Profile_20100319_prof.nc_97\n",
      "['/gpfsstore/rech/egi/commun/MEDWEST60/extracted_eNATL60/allv/MEDWEST60-BLBT02_y2010m03d14.1h_gridT.nc', '/gpfsstore/rech/egi/commun/MEDWEST60/extracted_eNATL60/allv/MEDWEST60-BLBT02_y2010m03d15.1h_gridT.nc', '/gpfsstore/rech/egi/commun/MEDWEST60/extracted_eNATL60/allv/MEDWEST60-BLBT02_y2010m03d16.1h_gridT.nc', '/gpfsstore/rech/egi/commun/MEDWEST60/extracted_eNATL60/allv/MEDWEST60-BLBT02_y2010m03d17.1h_gridT.nc', '/gpfsstore/rech/egi/commun/MEDWEST60/extracted_eNATL60/allv/MEDWEST60-BLBT02_y2010m03d18.1h_gridT.nc', '/gpfsstore/rech/egi/commun/MEDWEST60/extracted_eNATL60/allv/MEDWEST60-BLBT02_y2010m03d19.1h_gridT.nc', '/gpfsstore/rech/egi/commun/MEDWEST60/extracted_eNATL60/allv/MEDWEST60-BLBT02_y2010m03d20.1h_gridT.nc', '/gpfsstore/rech/egi/commun/MEDWEST60/extracted_eNATL60/allv/MEDWEST60-BLBT02_y2010m03d21.1h_gridT.nc', '/gpfsstore/rech/egi/commun/MEDWEST60/extracted_eNATL60/allv/MEDWEST60-BLBT02_y2010m03d22.1h_gridT.nc', '/gpfsstore/rech/egi/commun/MEDWEST60/extracted_eNATL60/allv/MEDWEST60-BLBT02_y2010m03d23.1h_gridT.nc', '/gpfsstore/rech/egi/commun/MEDWEST60/extracted_eNATL60/allv/MEDWEST60-BLBT02_y2010m03d24.1h_gridT.nc']\n"
     ]
    },
    {
     "name": "stdout",
     "output_type": "stream",
     "text": [
      "output file is /gpfswork/rech/egi/rote001/EN4/profiles_files/MEDWEST60-BLBT02/Profile_20100319_prof_97_MEDWEST60-BLBT02_TS.nc\n",
      "Processing profile  Profile_20100319_prof.nc_99\n",
      "['/gpfsstore/rech/egi/commun/MEDWEST60/extracted_eNATL60/allv/MEDWEST60-BLBT02_y2010m03d14.1h_gridT.nc', '/gpfsstore/rech/egi/commun/MEDWEST60/extracted_eNATL60/allv/MEDWEST60-BLBT02_y2010m03d15.1h_gridT.nc', '/gpfsstore/rech/egi/commun/MEDWEST60/extracted_eNATL60/allv/MEDWEST60-BLBT02_y2010m03d16.1h_gridT.nc', '/gpfsstore/rech/egi/commun/MEDWEST60/extracted_eNATL60/allv/MEDWEST60-BLBT02_y2010m03d17.1h_gridT.nc', '/gpfsstore/rech/egi/commun/MEDWEST60/extracted_eNATL60/allv/MEDWEST60-BLBT02_y2010m03d18.1h_gridT.nc', '/gpfsstore/rech/egi/commun/MEDWEST60/extracted_eNATL60/allv/MEDWEST60-BLBT02_y2010m03d19.1h_gridT.nc', '/gpfsstore/rech/egi/commun/MEDWEST60/extracted_eNATL60/allv/MEDWEST60-BLBT02_y2010m03d20.1h_gridT.nc', '/gpfsstore/rech/egi/commun/MEDWEST60/extracted_eNATL60/allv/MEDWEST60-BLBT02_y2010m03d21.1h_gridT.nc', '/gpfsstore/rech/egi/commun/MEDWEST60/extracted_eNATL60/allv/MEDWEST60-BLBT02_y2010m03d22.1h_gridT.nc', '/gpfsstore/rech/egi/commun/MEDWEST60/extracted_eNATL60/allv/MEDWEST60-BLBT02_y2010m03d23.1h_gridT.nc', '/gpfsstore/rech/egi/commun/MEDWEST60/extracted_eNATL60/allv/MEDWEST60-BLBT02_y2010m03d24.1h_gridT.nc']\n"
     ]
    },
    {
     "name": "stdout",
     "output_type": "stream",
     "text": [
      "output file is /gpfswork/rech/egi/rote001/EN4/profiles_files/MEDWEST60-BLBT02/Profile_20100319_prof_99_MEDWEST60-BLBT02_TS.nc\n",
      "Processing profile  Profile_20100320_prof.nc_0\n",
      "['/gpfsstore/rech/egi/commun/MEDWEST60/extracted_eNATL60/allv/MEDWEST60-BLBT02_y2010m03d15.1h_gridT.nc', '/gpfsstore/rech/egi/commun/MEDWEST60/extracted_eNATL60/allv/MEDWEST60-BLBT02_y2010m03d16.1h_gridT.nc', '/gpfsstore/rech/egi/commun/MEDWEST60/extracted_eNATL60/allv/MEDWEST60-BLBT02_y2010m03d17.1h_gridT.nc', '/gpfsstore/rech/egi/commun/MEDWEST60/extracted_eNATL60/allv/MEDWEST60-BLBT02_y2010m03d18.1h_gridT.nc', '/gpfsstore/rech/egi/commun/MEDWEST60/extracted_eNATL60/allv/MEDWEST60-BLBT02_y2010m03d19.1h_gridT.nc', '/gpfsstore/rech/egi/commun/MEDWEST60/extracted_eNATL60/allv/MEDWEST60-BLBT02_y2010m03d20.1h_gridT.nc', '/gpfsstore/rech/egi/commun/MEDWEST60/extracted_eNATL60/allv/MEDWEST60-BLBT02_y2010m03d21.1h_gridT.nc', '/gpfsstore/rech/egi/commun/MEDWEST60/extracted_eNATL60/allv/MEDWEST60-BLBT02_y2010m03d22.1h_gridT.nc', '/gpfsstore/rech/egi/commun/MEDWEST60/extracted_eNATL60/allv/MEDWEST60-BLBT02_y2010m03d23.1h_gridT.nc', '/gpfsstore/rech/egi/commun/MEDWEST60/extracted_eNATL60/allv/MEDWEST60-BLBT02_y2010m03d24.1h_gridT.nc', '/gpfsstore/rech/egi/commun/MEDWEST60/extracted_eNATL60/allv/MEDWEST60-BLBT02_y2010m03d25.1h_gridT.nc']\n"
     ]
    },
    {
     "name": "stdout",
     "output_type": "stream",
     "text": [
      "output file is /gpfswork/rech/egi/rote001/EN4/profiles_files/MEDWEST60-BLBT02/Profile_20100320_prof_0_MEDWEST60-BLBT02_TS.nc\n",
      "Processing profile  Profile_20100321_prof.nc_92\n",
      "['/gpfsstore/rech/egi/commun/MEDWEST60/extracted_eNATL60/allv/MEDWEST60-BLBT02_y2010m03d16.1h_gridT.nc', '/gpfsstore/rech/egi/commun/MEDWEST60/extracted_eNATL60/allv/MEDWEST60-BLBT02_y2010m03d17.1h_gridT.nc', '/gpfsstore/rech/egi/commun/MEDWEST60/extracted_eNATL60/allv/MEDWEST60-BLBT02_y2010m03d18.1h_gridT.nc', '/gpfsstore/rech/egi/commun/MEDWEST60/extracted_eNATL60/allv/MEDWEST60-BLBT02_y2010m03d19.1h_gridT.nc', '/gpfsstore/rech/egi/commun/MEDWEST60/extracted_eNATL60/allv/MEDWEST60-BLBT02_y2010m03d20.1h_gridT.nc', '/gpfsstore/rech/egi/commun/MEDWEST60/extracted_eNATL60/allv/MEDWEST60-BLBT02_y2010m03d21.1h_gridT.nc', '/gpfsstore/rech/egi/commun/MEDWEST60/extracted_eNATL60/allv/MEDWEST60-BLBT02_y2010m03d22.1h_gridT.nc', '/gpfsstore/rech/egi/commun/MEDWEST60/extracted_eNATL60/allv/MEDWEST60-BLBT02_y2010m03d23.1h_gridT.nc', '/gpfsstore/rech/egi/commun/MEDWEST60/extracted_eNATL60/allv/MEDWEST60-BLBT02_y2010m03d24.1h_gridT.nc', '/gpfsstore/rech/egi/commun/MEDWEST60/extracted_eNATL60/allv/MEDWEST60-BLBT02_y2010m03d25.1h_gridT.nc', '/gpfsstore/rech/egi/commun/MEDWEST60/extracted_eNATL60/allv/MEDWEST60-BLBT02_y2010m03d26.1h_gridT.nc']\n"
     ]
    },
    {
     "name": "stdout",
     "output_type": "stream",
     "text": [
      "output file is /gpfswork/rech/egi/rote001/EN4/profiles_files/MEDWEST60-BLBT02/Profile_20100321_prof_92_MEDWEST60-BLBT02_TS.nc\n",
      "Processing profile  Profile_20100322_prof.nc_60\n",
      "['/gpfsstore/rech/egi/commun/MEDWEST60/extracted_eNATL60/allv/MEDWEST60-BLBT02_y2010m03d17.1h_gridT.nc', '/gpfsstore/rech/egi/commun/MEDWEST60/extracted_eNATL60/allv/MEDWEST60-BLBT02_y2010m03d18.1h_gridT.nc', '/gpfsstore/rech/egi/commun/MEDWEST60/extracted_eNATL60/allv/MEDWEST60-BLBT02_y2010m03d19.1h_gridT.nc', '/gpfsstore/rech/egi/commun/MEDWEST60/extracted_eNATL60/allv/MEDWEST60-BLBT02_y2010m03d20.1h_gridT.nc', '/gpfsstore/rech/egi/commun/MEDWEST60/extracted_eNATL60/allv/MEDWEST60-BLBT02_y2010m03d21.1h_gridT.nc', '/gpfsstore/rech/egi/commun/MEDWEST60/extracted_eNATL60/allv/MEDWEST60-BLBT02_y2010m03d22.1h_gridT.nc', '/gpfsstore/rech/egi/commun/MEDWEST60/extracted_eNATL60/allv/MEDWEST60-BLBT02_y2010m03d23.1h_gridT.nc', '/gpfsstore/rech/egi/commun/MEDWEST60/extracted_eNATL60/allv/MEDWEST60-BLBT02_y2010m03d24.1h_gridT.nc', '/gpfsstore/rech/egi/commun/MEDWEST60/extracted_eNATL60/allv/MEDWEST60-BLBT02_y2010m03d25.1h_gridT.nc', '/gpfsstore/rech/egi/commun/MEDWEST60/extracted_eNATL60/allv/MEDWEST60-BLBT02_y2010m03d26.1h_gridT.nc', '/gpfsstore/rech/egi/commun/MEDWEST60/extracted_eNATL60/allv/MEDWEST60-BLBT02_y2010m03d27.1h_gridT.nc']\n"
     ]
    },
    {
     "name": "stdout",
     "output_type": "stream",
     "text": [
      "output file is /gpfswork/rech/egi/rote001/EN4/profiles_files/MEDWEST60-BLBT02/Profile_20100322_prof_60_MEDWEST60-BLBT02_TS.nc\n",
      "Processing profile  Profile_20100324_prof.nc_78\n",
      "['/gpfsstore/rech/egi/commun/MEDWEST60/extracted_eNATL60/allv/MEDWEST60-BLBT02_y2010m03d19.1h_gridT.nc', '/gpfsstore/rech/egi/commun/MEDWEST60/extracted_eNATL60/allv/MEDWEST60-BLBT02_y2010m03d20.1h_gridT.nc', '/gpfsstore/rech/egi/commun/MEDWEST60/extracted_eNATL60/allv/MEDWEST60-BLBT02_y2010m03d21.1h_gridT.nc', '/gpfsstore/rech/egi/commun/MEDWEST60/extracted_eNATL60/allv/MEDWEST60-BLBT02_y2010m03d22.1h_gridT.nc', '/gpfsstore/rech/egi/commun/MEDWEST60/extracted_eNATL60/allv/MEDWEST60-BLBT02_y2010m03d23.1h_gridT.nc', '/gpfsstore/rech/egi/commun/MEDWEST60/extracted_eNATL60/allv/MEDWEST60-BLBT02_y2010m03d24.1h_gridT.nc', '/gpfsstore/rech/egi/commun/MEDWEST60/extracted_eNATL60/allv/MEDWEST60-BLBT02_y2010m03d25.1h_gridT.nc', '/gpfsstore/rech/egi/commun/MEDWEST60/extracted_eNATL60/allv/MEDWEST60-BLBT02_y2010m03d26.1h_gridT.nc', '/gpfsstore/rech/egi/commun/MEDWEST60/extracted_eNATL60/allv/MEDWEST60-BLBT02_y2010m03d27.1h_gridT.nc', '/gpfsstore/rech/egi/commun/MEDWEST60/extracted_eNATL60/allv/MEDWEST60-BLBT02_y2010m03d28.1h_gridT.nc', '/gpfsstore/rech/egi/commun/MEDWEST60/extracted_eNATL60/allv/MEDWEST60-BLBT02_y2010m03d29.1h_gridT.nc']\n"
     ]
    },
    {
     "name": "stdout",
     "output_type": "stream",
     "text": [
      "output file is /gpfswork/rech/egi/rote001/EN4/profiles_files/MEDWEST60-BLBT02/Profile_20100324_prof_78_MEDWEST60-BLBT02_TS.nc\n",
      "Processing profile  Profile_20100325_prof.nc_1\n",
      "['/gpfsstore/rech/egi/commun/MEDWEST60/extracted_eNATL60/allv/MEDWEST60-BLBT02_y2010m03d20.1h_gridT.nc', '/gpfsstore/rech/egi/commun/MEDWEST60/extracted_eNATL60/allv/MEDWEST60-BLBT02_y2010m03d21.1h_gridT.nc', '/gpfsstore/rech/egi/commun/MEDWEST60/extracted_eNATL60/allv/MEDWEST60-BLBT02_y2010m03d22.1h_gridT.nc', '/gpfsstore/rech/egi/commun/MEDWEST60/extracted_eNATL60/allv/MEDWEST60-BLBT02_y2010m03d23.1h_gridT.nc', '/gpfsstore/rech/egi/commun/MEDWEST60/extracted_eNATL60/allv/MEDWEST60-BLBT02_y2010m03d24.1h_gridT.nc', '/gpfsstore/rech/egi/commun/MEDWEST60/extracted_eNATL60/allv/MEDWEST60-BLBT02_y2010m03d25.1h_gridT.nc', '/gpfsstore/rech/egi/commun/MEDWEST60/extracted_eNATL60/allv/MEDWEST60-BLBT02_y2010m03d26.1h_gridT.nc', '/gpfsstore/rech/egi/commun/MEDWEST60/extracted_eNATL60/allv/MEDWEST60-BLBT02_y2010m03d27.1h_gridT.nc', '/gpfsstore/rech/egi/commun/MEDWEST60/extracted_eNATL60/allv/MEDWEST60-BLBT02_y2010m03d28.1h_gridT.nc', '/gpfsstore/rech/egi/commun/MEDWEST60/extracted_eNATL60/allv/MEDWEST60-BLBT02_y2010m03d29.1h_gridT.nc', '/gpfsstore/rech/egi/commun/MEDWEST60/extracted_eNATL60/allv/MEDWEST60-BLBT02_y2010m03d30.1h_gridT.nc']\n"
     ]
    },
    {
     "name": "stdout",
     "output_type": "stream",
     "text": [
      "output file is /gpfswork/rech/egi/rote001/EN4/profiles_files/MEDWEST60-BLBT02/Profile_20100325_prof_1_MEDWEST60-BLBT02_TS.nc\n",
      "Processing profile  Profile_20100326_prof.nc_0\n",
      "['/gpfsstore/rech/egi/commun/MEDWEST60/extracted_eNATL60/allv/MEDWEST60-BLBT02_y2010m03d21.1h_gridT.nc', '/gpfsstore/rech/egi/commun/MEDWEST60/extracted_eNATL60/allv/MEDWEST60-BLBT02_y2010m03d22.1h_gridT.nc', '/gpfsstore/rech/egi/commun/MEDWEST60/extracted_eNATL60/allv/MEDWEST60-BLBT02_y2010m03d23.1h_gridT.nc', '/gpfsstore/rech/egi/commun/MEDWEST60/extracted_eNATL60/allv/MEDWEST60-BLBT02_y2010m03d24.1h_gridT.nc', '/gpfsstore/rech/egi/commun/MEDWEST60/extracted_eNATL60/allv/MEDWEST60-BLBT02_y2010m03d25.1h_gridT.nc', '/gpfsstore/rech/egi/commun/MEDWEST60/extracted_eNATL60/allv/MEDWEST60-BLBT02_y2010m03d26.1h_gridT.nc', '/gpfsstore/rech/egi/commun/MEDWEST60/extracted_eNATL60/allv/MEDWEST60-BLBT02_y2010m03d27.1h_gridT.nc', '/gpfsstore/rech/egi/commun/MEDWEST60/extracted_eNATL60/allv/MEDWEST60-BLBT02_y2010m03d28.1h_gridT.nc', '/gpfsstore/rech/egi/commun/MEDWEST60/extracted_eNATL60/allv/MEDWEST60-BLBT02_y2010m03d29.1h_gridT.nc', '/gpfsstore/rech/egi/commun/MEDWEST60/extracted_eNATL60/allv/MEDWEST60-BLBT02_y2010m03d30.1h_gridT.nc', '/gpfsstore/rech/egi/commun/MEDWEST60/extracted_eNATL60/allv/MEDWEST60-BLBT02_y2010m03d31.1h_gridT.nc']\n"
     ]
    },
    {
     "name": "stdout",
     "output_type": "stream",
     "text": [
      "output file is /gpfswork/rech/egi/rote001/EN4/profiles_files/MEDWEST60-BLBT02/Profile_20100326_prof_0_MEDWEST60-BLBT02_TS.nc\n",
      "Processing profile  Profile_20100326_prof.nc_55\n",
      "['/gpfsstore/rech/egi/commun/MEDWEST60/extracted_eNATL60/allv/MEDWEST60-BLBT02_y2010m03d21.1h_gridT.nc', '/gpfsstore/rech/egi/commun/MEDWEST60/extracted_eNATL60/allv/MEDWEST60-BLBT02_y2010m03d22.1h_gridT.nc', '/gpfsstore/rech/egi/commun/MEDWEST60/extracted_eNATL60/allv/MEDWEST60-BLBT02_y2010m03d23.1h_gridT.nc', '/gpfsstore/rech/egi/commun/MEDWEST60/extracted_eNATL60/allv/MEDWEST60-BLBT02_y2010m03d24.1h_gridT.nc', '/gpfsstore/rech/egi/commun/MEDWEST60/extracted_eNATL60/allv/MEDWEST60-BLBT02_y2010m03d25.1h_gridT.nc', '/gpfsstore/rech/egi/commun/MEDWEST60/extracted_eNATL60/allv/MEDWEST60-BLBT02_y2010m03d26.1h_gridT.nc', '/gpfsstore/rech/egi/commun/MEDWEST60/extracted_eNATL60/allv/MEDWEST60-BLBT02_y2010m03d27.1h_gridT.nc', '/gpfsstore/rech/egi/commun/MEDWEST60/extracted_eNATL60/allv/MEDWEST60-BLBT02_y2010m03d28.1h_gridT.nc', '/gpfsstore/rech/egi/commun/MEDWEST60/extracted_eNATL60/allv/MEDWEST60-BLBT02_y2010m03d29.1h_gridT.nc', '/gpfsstore/rech/egi/commun/MEDWEST60/extracted_eNATL60/allv/MEDWEST60-BLBT02_y2010m03d30.1h_gridT.nc', '/gpfsstore/rech/egi/commun/MEDWEST60/extracted_eNATL60/allv/MEDWEST60-BLBT02_y2010m03d31.1h_gridT.nc']\n"
     ]
    },
    {
     "name": "stdout",
     "output_type": "stream",
     "text": [
      "output file is /gpfswork/rech/egi/rote001/EN4/profiles_files/MEDWEST60-BLBT02/Profile_20100326_prof_55_MEDWEST60-BLBT02_TS.nc\n",
      "Processing profile  Profile_20100327_prof.nc_69\n",
      "['/gpfsstore/rech/egi/commun/MEDWEST60/extracted_eNATL60/allv/MEDWEST60-BLBT02_y2010m03d22.1h_gridT.nc', '/gpfsstore/rech/egi/commun/MEDWEST60/extracted_eNATL60/allv/MEDWEST60-BLBT02_y2010m03d23.1h_gridT.nc', '/gpfsstore/rech/egi/commun/MEDWEST60/extracted_eNATL60/allv/MEDWEST60-BLBT02_y2010m03d24.1h_gridT.nc', '/gpfsstore/rech/egi/commun/MEDWEST60/extracted_eNATL60/allv/MEDWEST60-BLBT02_y2010m03d25.1h_gridT.nc', '/gpfsstore/rech/egi/commun/MEDWEST60/extracted_eNATL60/allv/MEDWEST60-BLBT02_y2010m03d26.1h_gridT.nc', '/gpfsstore/rech/egi/commun/MEDWEST60/extracted_eNATL60/allv/MEDWEST60-BLBT02_y2010m03d27.1h_gridT.nc', '/gpfsstore/rech/egi/commun/MEDWEST60/extracted_eNATL60/allv/MEDWEST60-BLBT02_y2010m03d28.1h_gridT.nc', '/gpfsstore/rech/egi/commun/MEDWEST60/extracted_eNATL60/allv/MEDWEST60-BLBT02_y2010m03d29.1h_gridT.nc', '/gpfsstore/rech/egi/commun/MEDWEST60/extracted_eNATL60/allv/MEDWEST60-BLBT02_y2010m03d30.1h_gridT.nc', '/gpfsstore/rech/egi/commun/MEDWEST60/extracted_eNATL60/allv/MEDWEST60-BLBT02_y2010m03d31.1h_gridT.nc', '/gpfsstore/rech/egi/commun/MEDWEST60/extracted_eNATL60/allv/MEDWEST60-BLBT02_y2010m04d01.1h_gridT.nc']\n"
     ]
    },
    {
     "name": "stdout",
     "output_type": "stream",
     "text": [
      "output file is /gpfswork/rech/egi/rote001/EN4/profiles_files/MEDWEST60-BLBT02/Profile_20100327_prof_69_MEDWEST60-BLBT02_TS.nc\n",
      "Processing profile  Profile_20100329_prof.nc_91\n",
      "['/gpfsstore/rech/egi/commun/MEDWEST60/extracted_eNATL60/allv/MEDWEST60-BLBT02_y2010m03d24.1h_gridT.nc', '/gpfsstore/rech/egi/commun/MEDWEST60/extracted_eNATL60/allv/MEDWEST60-BLBT02_y2010m03d25.1h_gridT.nc', '/gpfsstore/rech/egi/commun/MEDWEST60/extracted_eNATL60/allv/MEDWEST60-BLBT02_y2010m03d26.1h_gridT.nc', '/gpfsstore/rech/egi/commun/MEDWEST60/extracted_eNATL60/allv/MEDWEST60-BLBT02_y2010m03d27.1h_gridT.nc', '/gpfsstore/rech/egi/commun/MEDWEST60/extracted_eNATL60/allv/MEDWEST60-BLBT02_y2010m03d28.1h_gridT.nc', '/gpfsstore/rech/egi/commun/MEDWEST60/extracted_eNATL60/allv/MEDWEST60-BLBT02_y2010m03d29.1h_gridT.nc', '/gpfsstore/rech/egi/commun/MEDWEST60/extracted_eNATL60/allv/MEDWEST60-BLBT02_y2010m03d30.1h_gridT.nc', '/gpfsstore/rech/egi/commun/MEDWEST60/extracted_eNATL60/allv/MEDWEST60-BLBT02_y2010m03d31.1h_gridT.nc', '/gpfsstore/rech/egi/commun/MEDWEST60/extracted_eNATL60/allv/MEDWEST60-BLBT02_y2010m04d01.1h_gridT.nc', '/gpfsstore/rech/egi/commun/MEDWEST60/extracted_eNATL60/allv/MEDWEST60-BLBT02_y2010m04d02.1h_gridT.nc', '/gpfsstore/rech/egi/commun/MEDWEST60/extracted_eNATL60/allv/MEDWEST60-BLBT02_y2010m04d03.1h_gridT.nc']\n"
     ]
    },
    {
     "name": "stdout",
     "output_type": "stream",
     "text": [
      "output file is /gpfswork/rech/egi/rote001/EN4/profiles_files/MEDWEST60-BLBT02/Profile_20100329_prof_91_MEDWEST60-BLBT02_TS.nc\n",
      "Processing profile  Profile_20100329_prof.nc_95\n",
      "['/gpfsstore/rech/egi/commun/MEDWEST60/extracted_eNATL60/allv/MEDWEST60-BLBT02_y2010m03d24.1h_gridT.nc', '/gpfsstore/rech/egi/commun/MEDWEST60/extracted_eNATL60/allv/MEDWEST60-BLBT02_y2010m03d25.1h_gridT.nc', '/gpfsstore/rech/egi/commun/MEDWEST60/extracted_eNATL60/allv/MEDWEST60-BLBT02_y2010m03d26.1h_gridT.nc', '/gpfsstore/rech/egi/commun/MEDWEST60/extracted_eNATL60/allv/MEDWEST60-BLBT02_y2010m03d27.1h_gridT.nc', '/gpfsstore/rech/egi/commun/MEDWEST60/extracted_eNATL60/allv/MEDWEST60-BLBT02_y2010m03d28.1h_gridT.nc', '/gpfsstore/rech/egi/commun/MEDWEST60/extracted_eNATL60/allv/MEDWEST60-BLBT02_y2010m03d29.1h_gridT.nc', '/gpfsstore/rech/egi/commun/MEDWEST60/extracted_eNATL60/allv/MEDWEST60-BLBT02_y2010m03d30.1h_gridT.nc', '/gpfsstore/rech/egi/commun/MEDWEST60/extracted_eNATL60/allv/MEDWEST60-BLBT02_y2010m03d31.1h_gridT.nc', '/gpfsstore/rech/egi/commun/MEDWEST60/extracted_eNATL60/allv/MEDWEST60-BLBT02_y2010m04d01.1h_gridT.nc', '/gpfsstore/rech/egi/commun/MEDWEST60/extracted_eNATL60/allv/MEDWEST60-BLBT02_y2010m04d02.1h_gridT.nc', '/gpfsstore/rech/egi/commun/MEDWEST60/extracted_eNATL60/allv/MEDWEST60-BLBT02_y2010m04d03.1h_gridT.nc']\n"
     ]
    },
    {
     "name": "stdout",
     "output_type": "stream",
     "text": [
      "output file is /gpfswork/rech/egi/rote001/EN4/profiles_files/MEDWEST60-BLBT02/Profile_20100329_prof_95_MEDWEST60-BLBT02_TS.nc\n",
      "Processing profile  Profile_20100330_prof.nc_0\n",
      "['/gpfsstore/rech/egi/commun/MEDWEST60/extracted_eNATL60/allv/MEDWEST60-BLBT02_y2010m03d25.1h_gridT.nc', '/gpfsstore/rech/egi/commun/MEDWEST60/extracted_eNATL60/allv/MEDWEST60-BLBT02_y2010m03d26.1h_gridT.nc', '/gpfsstore/rech/egi/commun/MEDWEST60/extracted_eNATL60/allv/MEDWEST60-BLBT02_y2010m03d27.1h_gridT.nc', '/gpfsstore/rech/egi/commun/MEDWEST60/extracted_eNATL60/allv/MEDWEST60-BLBT02_y2010m03d28.1h_gridT.nc', '/gpfsstore/rech/egi/commun/MEDWEST60/extracted_eNATL60/allv/MEDWEST60-BLBT02_y2010m03d29.1h_gridT.nc', '/gpfsstore/rech/egi/commun/MEDWEST60/extracted_eNATL60/allv/MEDWEST60-BLBT02_y2010m03d30.1h_gridT.nc', '/gpfsstore/rech/egi/commun/MEDWEST60/extracted_eNATL60/allv/MEDWEST60-BLBT02_y2010m03d31.1h_gridT.nc', '/gpfsstore/rech/egi/commun/MEDWEST60/extracted_eNATL60/allv/MEDWEST60-BLBT02_y2010m04d01.1h_gridT.nc', '/gpfsstore/rech/egi/commun/MEDWEST60/extracted_eNATL60/allv/MEDWEST60-BLBT02_y2010m04d02.1h_gridT.nc', '/gpfsstore/rech/egi/commun/MEDWEST60/extracted_eNATL60/allv/MEDWEST60-BLBT02_y2010m04d03.1h_gridT.nc', '/gpfsstore/rech/egi/commun/MEDWEST60/extracted_eNATL60/allv/MEDWEST60-BLBT02_y2010m04d04.1h_gridT.nc']\n"
     ]
    },
    {
     "name": "stdout",
     "output_type": "stream",
     "text": [
      "output file is /gpfswork/rech/egi/rote001/EN4/profiles_files/MEDWEST60-BLBT02/Profile_20100330_prof_0_MEDWEST60-BLBT02_TS.nc\n",
      "Processing profile  Profile_20100331_prof.nc_0\n",
      "['/gpfsstore/rech/egi/commun/MEDWEST60/extracted_eNATL60/allv/MEDWEST60-BLBT02_y2010m03d26.1h_gridT.nc', '/gpfsstore/rech/egi/commun/MEDWEST60/extracted_eNATL60/allv/MEDWEST60-BLBT02_y2010m03d27.1h_gridT.nc', '/gpfsstore/rech/egi/commun/MEDWEST60/extracted_eNATL60/allv/MEDWEST60-BLBT02_y2010m03d28.1h_gridT.nc', '/gpfsstore/rech/egi/commun/MEDWEST60/extracted_eNATL60/allv/MEDWEST60-BLBT02_y2010m03d29.1h_gridT.nc', '/gpfsstore/rech/egi/commun/MEDWEST60/extracted_eNATL60/allv/MEDWEST60-BLBT02_y2010m03d30.1h_gridT.nc', '/gpfsstore/rech/egi/commun/MEDWEST60/extracted_eNATL60/allv/MEDWEST60-BLBT02_y2010m03d31.1h_gridT.nc', '/gpfsstore/rech/egi/commun/MEDWEST60/extracted_eNATL60/allv/MEDWEST60-BLBT02_y2010m04d01.1h_gridT.nc', '/gpfsstore/rech/egi/commun/MEDWEST60/extracted_eNATL60/allv/MEDWEST60-BLBT02_y2010m04d02.1h_gridT.nc', '/gpfsstore/rech/egi/commun/MEDWEST60/extracted_eNATL60/allv/MEDWEST60-BLBT02_y2010m04d03.1h_gridT.nc', '/gpfsstore/rech/egi/commun/MEDWEST60/extracted_eNATL60/allv/MEDWEST60-BLBT02_y2010m04d04.1h_gridT.nc', '/gpfsstore/rech/egi/commun/MEDWEST60/extracted_eNATL60/allv/MEDWEST60-BLBT02_y2010m04d05.1h_gridT.nc']\n"
     ]
    },
    {
     "name": "stdout",
     "output_type": "stream",
     "text": [
      "output file is /gpfswork/rech/egi/rote001/EN4/profiles_files/MEDWEST60-BLBT02/Profile_20100331_prof_0_MEDWEST60-BLBT02_TS.nc\n",
      "Processing profile  Profile_20100331_prof.nc_83\n",
      "['/gpfsstore/rech/egi/commun/MEDWEST60/extracted_eNATL60/allv/MEDWEST60-BLBT02_y2010m03d26.1h_gridT.nc', '/gpfsstore/rech/egi/commun/MEDWEST60/extracted_eNATL60/allv/MEDWEST60-BLBT02_y2010m03d27.1h_gridT.nc', '/gpfsstore/rech/egi/commun/MEDWEST60/extracted_eNATL60/allv/MEDWEST60-BLBT02_y2010m03d28.1h_gridT.nc', '/gpfsstore/rech/egi/commun/MEDWEST60/extracted_eNATL60/allv/MEDWEST60-BLBT02_y2010m03d29.1h_gridT.nc', '/gpfsstore/rech/egi/commun/MEDWEST60/extracted_eNATL60/allv/MEDWEST60-BLBT02_y2010m03d30.1h_gridT.nc', '/gpfsstore/rech/egi/commun/MEDWEST60/extracted_eNATL60/allv/MEDWEST60-BLBT02_y2010m03d31.1h_gridT.nc', '/gpfsstore/rech/egi/commun/MEDWEST60/extracted_eNATL60/allv/MEDWEST60-BLBT02_y2010m04d01.1h_gridT.nc', '/gpfsstore/rech/egi/commun/MEDWEST60/extracted_eNATL60/allv/MEDWEST60-BLBT02_y2010m04d02.1h_gridT.nc', '/gpfsstore/rech/egi/commun/MEDWEST60/extracted_eNATL60/allv/MEDWEST60-BLBT02_y2010m04d03.1h_gridT.nc', '/gpfsstore/rech/egi/commun/MEDWEST60/extracted_eNATL60/allv/MEDWEST60-BLBT02_y2010m04d04.1h_gridT.nc', '/gpfsstore/rech/egi/commun/MEDWEST60/extracted_eNATL60/allv/MEDWEST60-BLBT02_y2010m04d05.1h_gridT.nc']\n"
     ]
    },
    {
     "name": "stdout",
     "output_type": "stream",
     "text": [
      "output file is /gpfswork/rech/egi/rote001/EN4/profiles_files/MEDWEST60-BLBT02/Profile_20100331_prof_83_MEDWEST60-BLBT02_TS.nc\n",
      "Processing profile  Profile_20100403_prof.nc_85\n",
      "['/gpfsstore/rech/egi/commun/MEDWEST60/extracted_eNATL60/allv/MEDWEST60-BLBT02_y2010m03d29.1h_gridT.nc', '/gpfsstore/rech/egi/commun/MEDWEST60/extracted_eNATL60/allv/MEDWEST60-BLBT02_y2010m03d30.1h_gridT.nc', '/gpfsstore/rech/egi/commun/MEDWEST60/extracted_eNATL60/allv/MEDWEST60-BLBT02_y2010m03d31.1h_gridT.nc', '/gpfsstore/rech/egi/commun/MEDWEST60/extracted_eNATL60/allv/MEDWEST60-BLBT02_y2010m04d01.1h_gridT.nc', '/gpfsstore/rech/egi/commun/MEDWEST60/extracted_eNATL60/allv/MEDWEST60-BLBT02_y2010m04d02.1h_gridT.nc', '/gpfsstore/rech/egi/commun/MEDWEST60/extracted_eNATL60/allv/MEDWEST60-BLBT02_y2010m04d03.1h_gridT.nc', '/gpfsstore/rech/egi/commun/MEDWEST60/extracted_eNATL60/allv/MEDWEST60-BLBT02_y2010m04d04.1h_gridT.nc', '/gpfsstore/rech/egi/commun/MEDWEST60/extracted_eNATL60/allv/MEDWEST60-BLBT02_y2010m04d05.1h_gridT.nc', '/gpfsstore/rech/egi/commun/MEDWEST60/extracted_eNATL60/allv/MEDWEST60-BLBT02_y2010m04d06.1h_gridT.nc', '/gpfsstore/rech/egi/commun/MEDWEST60/extracted_eNATL60/allv/MEDWEST60-BLBT02_y2010m04d07.1h_gridT.nc', '/gpfsstore/rech/egi/commun/MEDWEST60/extracted_eNATL60/allv/MEDWEST60-BLBT02_y2010m04d08.1h_gridT.nc']\n"
     ]
    },
    {
     "name": "stdout",
     "output_type": "stream",
     "text": [
      "output file is /gpfswork/rech/egi/rote001/EN4/profiles_files/MEDWEST60-BLBT02/Profile_20100403_prof_85_MEDWEST60-BLBT02_TS.nc\n",
      "Processing profile  Profile_20100405_prof.nc_0\n",
      "['/gpfsstore/rech/egi/commun/MEDWEST60/extracted_eNATL60/allv/MEDWEST60-BLBT02_y2010m03d31.1h_gridT.nc', '/gpfsstore/rech/egi/commun/MEDWEST60/extracted_eNATL60/allv/MEDWEST60-BLBT02_y2010m04d01.1h_gridT.nc', '/gpfsstore/rech/egi/commun/MEDWEST60/extracted_eNATL60/allv/MEDWEST60-BLBT02_y2010m04d02.1h_gridT.nc', '/gpfsstore/rech/egi/commun/MEDWEST60/extracted_eNATL60/allv/MEDWEST60-BLBT02_y2010m04d03.1h_gridT.nc', '/gpfsstore/rech/egi/commun/MEDWEST60/extracted_eNATL60/allv/MEDWEST60-BLBT02_y2010m04d04.1h_gridT.nc', '/gpfsstore/rech/egi/commun/MEDWEST60/extracted_eNATL60/allv/MEDWEST60-BLBT02_y2010m04d05.1h_gridT.nc', '/gpfsstore/rech/egi/commun/MEDWEST60/extracted_eNATL60/allv/MEDWEST60-BLBT02_y2010m04d06.1h_gridT.nc', '/gpfsstore/rech/egi/commun/MEDWEST60/extracted_eNATL60/allv/MEDWEST60-BLBT02_y2010m04d07.1h_gridT.nc', '/gpfsstore/rech/egi/commun/MEDWEST60/extracted_eNATL60/allv/MEDWEST60-BLBT02_y2010m04d08.1h_gridT.nc', '/gpfsstore/rech/egi/commun/MEDWEST60/extracted_eNATL60/allv/MEDWEST60-BLBT02_y2010m04d09.1h_gridT.nc', '/gpfsstore/rech/egi/commun/MEDWEST60/extracted_eNATL60/allv/MEDWEST60-BLBT02_y2010m04d10.1h_gridT.nc']\n"
     ]
    },
    {
     "name": "stdout",
     "output_type": "stream",
     "text": [
      "output file is /gpfswork/rech/egi/rote001/EN4/profiles_files/MEDWEST60-BLBT02/Profile_20100405_prof_0_MEDWEST60-BLBT02_TS.nc\n",
      "Processing profile  Profile_20100405_prof.nc_56\n",
      "['/gpfsstore/rech/egi/commun/MEDWEST60/extracted_eNATL60/allv/MEDWEST60-BLBT02_y2010m03d31.1h_gridT.nc', '/gpfsstore/rech/egi/commun/MEDWEST60/extracted_eNATL60/allv/MEDWEST60-BLBT02_y2010m04d01.1h_gridT.nc', '/gpfsstore/rech/egi/commun/MEDWEST60/extracted_eNATL60/allv/MEDWEST60-BLBT02_y2010m04d02.1h_gridT.nc', '/gpfsstore/rech/egi/commun/MEDWEST60/extracted_eNATL60/allv/MEDWEST60-BLBT02_y2010m04d03.1h_gridT.nc', '/gpfsstore/rech/egi/commun/MEDWEST60/extracted_eNATL60/allv/MEDWEST60-BLBT02_y2010m04d04.1h_gridT.nc', '/gpfsstore/rech/egi/commun/MEDWEST60/extracted_eNATL60/allv/MEDWEST60-BLBT02_y2010m04d05.1h_gridT.nc', '/gpfsstore/rech/egi/commun/MEDWEST60/extracted_eNATL60/allv/MEDWEST60-BLBT02_y2010m04d06.1h_gridT.nc', '/gpfsstore/rech/egi/commun/MEDWEST60/extracted_eNATL60/allv/MEDWEST60-BLBT02_y2010m04d07.1h_gridT.nc', '/gpfsstore/rech/egi/commun/MEDWEST60/extracted_eNATL60/allv/MEDWEST60-BLBT02_y2010m04d08.1h_gridT.nc', '/gpfsstore/rech/egi/commun/MEDWEST60/extracted_eNATL60/allv/MEDWEST60-BLBT02_y2010m04d09.1h_gridT.nc', '/gpfsstore/rech/egi/commun/MEDWEST60/extracted_eNATL60/allv/MEDWEST60-BLBT02_y2010m04d10.1h_gridT.nc']\n"
     ]
    },
    {
     "name": "stdout",
     "output_type": "stream",
     "text": [
      "output file is /gpfswork/rech/egi/rote001/EN4/profiles_files/MEDWEST60-BLBT02/Profile_20100405_prof_56_MEDWEST60-BLBT02_TS.nc\n",
      "Processing profile  Profile_20100405_prof.nc_75\n",
      "['/gpfsstore/rech/egi/commun/MEDWEST60/extracted_eNATL60/allv/MEDWEST60-BLBT02_y2010m03d31.1h_gridT.nc', '/gpfsstore/rech/egi/commun/MEDWEST60/extracted_eNATL60/allv/MEDWEST60-BLBT02_y2010m04d01.1h_gridT.nc', '/gpfsstore/rech/egi/commun/MEDWEST60/extracted_eNATL60/allv/MEDWEST60-BLBT02_y2010m04d02.1h_gridT.nc', '/gpfsstore/rech/egi/commun/MEDWEST60/extracted_eNATL60/allv/MEDWEST60-BLBT02_y2010m04d03.1h_gridT.nc', '/gpfsstore/rech/egi/commun/MEDWEST60/extracted_eNATL60/allv/MEDWEST60-BLBT02_y2010m04d04.1h_gridT.nc', '/gpfsstore/rech/egi/commun/MEDWEST60/extracted_eNATL60/allv/MEDWEST60-BLBT02_y2010m04d05.1h_gridT.nc', '/gpfsstore/rech/egi/commun/MEDWEST60/extracted_eNATL60/allv/MEDWEST60-BLBT02_y2010m04d06.1h_gridT.nc', '/gpfsstore/rech/egi/commun/MEDWEST60/extracted_eNATL60/allv/MEDWEST60-BLBT02_y2010m04d07.1h_gridT.nc', '/gpfsstore/rech/egi/commun/MEDWEST60/extracted_eNATL60/allv/MEDWEST60-BLBT02_y2010m04d08.1h_gridT.nc', '/gpfsstore/rech/egi/commun/MEDWEST60/extracted_eNATL60/allv/MEDWEST60-BLBT02_y2010m04d09.1h_gridT.nc', '/gpfsstore/rech/egi/commun/MEDWEST60/extracted_eNATL60/allv/MEDWEST60-BLBT02_y2010m04d10.1h_gridT.nc']\n"
     ]
    },
    {
     "name": "stdout",
     "output_type": "stream",
     "text": [
      "output file is /gpfswork/rech/egi/rote001/EN4/profiles_files/MEDWEST60-BLBT02/Profile_20100405_prof_75_MEDWEST60-BLBT02_TS.nc\n",
      "Processing profile  Profile_20100406_prof.nc_68\n",
      "['/gpfsstore/rech/egi/commun/MEDWEST60/extracted_eNATL60/allv/MEDWEST60-BLBT02_y2010m04d01.1h_gridT.nc', '/gpfsstore/rech/egi/commun/MEDWEST60/extracted_eNATL60/allv/MEDWEST60-BLBT02_y2010m04d02.1h_gridT.nc', '/gpfsstore/rech/egi/commun/MEDWEST60/extracted_eNATL60/allv/MEDWEST60-BLBT02_y2010m04d03.1h_gridT.nc', '/gpfsstore/rech/egi/commun/MEDWEST60/extracted_eNATL60/allv/MEDWEST60-BLBT02_y2010m04d04.1h_gridT.nc', '/gpfsstore/rech/egi/commun/MEDWEST60/extracted_eNATL60/allv/MEDWEST60-BLBT02_y2010m04d05.1h_gridT.nc', '/gpfsstore/rech/egi/commun/MEDWEST60/extracted_eNATL60/allv/MEDWEST60-BLBT02_y2010m04d06.1h_gridT.nc', '/gpfsstore/rech/egi/commun/MEDWEST60/extracted_eNATL60/allv/MEDWEST60-BLBT02_y2010m04d07.1h_gridT.nc', '/gpfsstore/rech/egi/commun/MEDWEST60/extracted_eNATL60/allv/MEDWEST60-BLBT02_y2010m04d08.1h_gridT.nc', '/gpfsstore/rech/egi/commun/MEDWEST60/extracted_eNATL60/allv/MEDWEST60-BLBT02_y2010m04d09.1h_gridT.nc', '/gpfsstore/rech/egi/commun/MEDWEST60/extracted_eNATL60/allv/MEDWEST60-BLBT02_y2010m04d10.1h_gridT.nc', '/gpfsstore/rech/egi/commun/MEDWEST60/extracted_eNATL60/allv/MEDWEST60-BLBT02_y2010m04d11.1h_gridT.nc']\n"
     ]
    },
    {
     "name": "stdout",
     "output_type": "stream",
     "text": [
      "output file is /gpfswork/rech/egi/rote001/EN4/profiles_files/MEDWEST60-BLBT02/Profile_20100406_prof_68_MEDWEST60-BLBT02_TS.nc\n",
      "Processing profile  Profile_20100408_prof.nc_95\n",
      "['/gpfsstore/rech/egi/commun/MEDWEST60/extracted_eNATL60/allv/MEDWEST60-BLBT02_y2010m04d03.1h_gridT.nc', '/gpfsstore/rech/egi/commun/MEDWEST60/extracted_eNATL60/allv/MEDWEST60-BLBT02_y2010m04d04.1h_gridT.nc', '/gpfsstore/rech/egi/commun/MEDWEST60/extracted_eNATL60/allv/MEDWEST60-BLBT02_y2010m04d05.1h_gridT.nc', '/gpfsstore/rech/egi/commun/MEDWEST60/extracted_eNATL60/allv/MEDWEST60-BLBT02_y2010m04d06.1h_gridT.nc', '/gpfsstore/rech/egi/commun/MEDWEST60/extracted_eNATL60/allv/MEDWEST60-BLBT02_y2010m04d07.1h_gridT.nc', '/gpfsstore/rech/egi/commun/MEDWEST60/extracted_eNATL60/allv/MEDWEST60-BLBT02_y2010m04d08.1h_gridT.nc', '/gpfsstore/rech/egi/commun/MEDWEST60/extracted_eNATL60/allv/MEDWEST60-BLBT02_y2010m04d09.1h_gridT.nc', '/gpfsstore/rech/egi/commun/MEDWEST60/extracted_eNATL60/allv/MEDWEST60-BLBT02_y2010m04d10.1h_gridT.nc', '/gpfsstore/rech/egi/commun/MEDWEST60/extracted_eNATL60/allv/MEDWEST60-BLBT02_y2010m04d11.1h_gridT.nc', '/gpfsstore/rech/egi/commun/MEDWEST60/extracted_eNATL60/allv/MEDWEST60-BLBT02_y2010m04d12.1h_gridT.nc', '/gpfsstore/rech/egi/commun/MEDWEST60/extracted_eNATL60/allv/MEDWEST60-BLBT02_y2010m04d13.1h_gridT.nc']\n"
     ]
    },
    {
     "name": "stdout",
     "output_type": "stream",
     "text": [
      "output file is /gpfswork/rech/egi/rote001/EN4/profiles_files/MEDWEST60-BLBT02/Profile_20100408_prof_95_MEDWEST60-BLBT02_TS.nc\n",
      "Processing profile  Profile_20100408_prof.nc_96\n",
      "['/gpfsstore/rech/egi/commun/MEDWEST60/extracted_eNATL60/allv/MEDWEST60-BLBT02_y2010m04d03.1h_gridT.nc', '/gpfsstore/rech/egi/commun/MEDWEST60/extracted_eNATL60/allv/MEDWEST60-BLBT02_y2010m04d04.1h_gridT.nc', '/gpfsstore/rech/egi/commun/MEDWEST60/extracted_eNATL60/allv/MEDWEST60-BLBT02_y2010m04d05.1h_gridT.nc', '/gpfsstore/rech/egi/commun/MEDWEST60/extracted_eNATL60/allv/MEDWEST60-BLBT02_y2010m04d06.1h_gridT.nc', '/gpfsstore/rech/egi/commun/MEDWEST60/extracted_eNATL60/allv/MEDWEST60-BLBT02_y2010m04d07.1h_gridT.nc', '/gpfsstore/rech/egi/commun/MEDWEST60/extracted_eNATL60/allv/MEDWEST60-BLBT02_y2010m04d08.1h_gridT.nc', '/gpfsstore/rech/egi/commun/MEDWEST60/extracted_eNATL60/allv/MEDWEST60-BLBT02_y2010m04d09.1h_gridT.nc', '/gpfsstore/rech/egi/commun/MEDWEST60/extracted_eNATL60/allv/MEDWEST60-BLBT02_y2010m04d10.1h_gridT.nc', '/gpfsstore/rech/egi/commun/MEDWEST60/extracted_eNATL60/allv/MEDWEST60-BLBT02_y2010m04d11.1h_gridT.nc', '/gpfsstore/rech/egi/commun/MEDWEST60/extracted_eNATL60/allv/MEDWEST60-BLBT02_y2010m04d12.1h_gridT.nc', '/gpfsstore/rech/egi/commun/MEDWEST60/extracted_eNATL60/allv/MEDWEST60-BLBT02_y2010m04d13.1h_gridT.nc']\n"
     ]
    },
    {
     "name": "stdout",
     "output_type": "stream",
     "text": [
      "output file is /gpfswork/rech/egi/rote001/EN4/profiles_files/MEDWEST60-BLBT02/Profile_20100408_prof_96_MEDWEST60-BLBT02_TS.nc\n",
      "Processing profile  Profile_20100410_prof.nc_0\n",
      "['/gpfsstore/rech/egi/commun/MEDWEST60/extracted_eNATL60/allv/MEDWEST60-BLBT02_y2010m04d05.1h_gridT.nc', '/gpfsstore/rech/egi/commun/MEDWEST60/extracted_eNATL60/allv/MEDWEST60-BLBT02_y2010m04d06.1h_gridT.nc', '/gpfsstore/rech/egi/commun/MEDWEST60/extracted_eNATL60/allv/MEDWEST60-BLBT02_y2010m04d07.1h_gridT.nc', '/gpfsstore/rech/egi/commun/MEDWEST60/extracted_eNATL60/allv/MEDWEST60-BLBT02_y2010m04d08.1h_gridT.nc', '/gpfsstore/rech/egi/commun/MEDWEST60/extracted_eNATL60/allv/MEDWEST60-BLBT02_y2010m04d09.1h_gridT.nc', '/gpfsstore/rech/egi/commun/MEDWEST60/extracted_eNATL60/allv/MEDWEST60-BLBT02_y2010m04d10.1h_gridT.nc', '/gpfsstore/rech/egi/commun/MEDWEST60/extracted_eNATL60/allv/MEDWEST60-BLBT02_y2010m04d11.1h_gridT.nc', '/gpfsstore/rech/egi/commun/MEDWEST60/extracted_eNATL60/allv/MEDWEST60-BLBT02_y2010m04d12.1h_gridT.nc', '/gpfsstore/rech/egi/commun/MEDWEST60/extracted_eNATL60/allv/MEDWEST60-BLBT02_y2010m04d13.1h_gridT.nc', '/gpfsstore/rech/egi/commun/MEDWEST60/extracted_eNATL60/allv/MEDWEST60-BLBT02_y2010m04d14.1h_gridT.nc', '/gpfsstore/rech/egi/commun/MEDWEST60/extracted_eNATL60/allv/MEDWEST60-BLBT02_y2010m04d15.1h_gridT.nc']\n"
     ]
    },
    {
     "name": "stdout",
     "output_type": "stream",
     "text": [
      "output file is /gpfswork/rech/egi/rote001/EN4/profiles_files/MEDWEST60-BLBT02/Profile_20100410_prof_0_MEDWEST60-BLBT02_TS.nc\n",
      "Processing profile  Profile_20100410_prof.nc_103\n",
      "['/gpfsstore/rech/egi/commun/MEDWEST60/extracted_eNATL60/allv/MEDWEST60-BLBT02_y2010m04d05.1h_gridT.nc', '/gpfsstore/rech/egi/commun/MEDWEST60/extracted_eNATL60/allv/MEDWEST60-BLBT02_y2010m04d06.1h_gridT.nc', '/gpfsstore/rech/egi/commun/MEDWEST60/extracted_eNATL60/allv/MEDWEST60-BLBT02_y2010m04d07.1h_gridT.nc', '/gpfsstore/rech/egi/commun/MEDWEST60/extracted_eNATL60/allv/MEDWEST60-BLBT02_y2010m04d08.1h_gridT.nc', '/gpfsstore/rech/egi/commun/MEDWEST60/extracted_eNATL60/allv/MEDWEST60-BLBT02_y2010m04d09.1h_gridT.nc', '/gpfsstore/rech/egi/commun/MEDWEST60/extracted_eNATL60/allv/MEDWEST60-BLBT02_y2010m04d10.1h_gridT.nc', '/gpfsstore/rech/egi/commun/MEDWEST60/extracted_eNATL60/allv/MEDWEST60-BLBT02_y2010m04d11.1h_gridT.nc', '/gpfsstore/rech/egi/commun/MEDWEST60/extracted_eNATL60/allv/MEDWEST60-BLBT02_y2010m04d12.1h_gridT.nc', '/gpfsstore/rech/egi/commun/MEDWEST60/extracted_eNATL60/allv/MEDWEST60-BLBT02_y2010m04d13.1h_gridT.nc', '/gpfsstore/rech/egi/commun/MEDWEST60/extracted_eNATL60/allv/MEDWEST60-BLBT02_y2010m04d14.1h_gridT.nc', '/gpfsstore/rech/egi/commun/MEDWEST60/extracted_eNATL60/allv/MEDWEST60-BLBT02_y2010m04d15.1h_gridT.nc']\n"
     ]
    },
    {
     "name": "stdout",
     "output_type": "stream",
     "text": [
      "output file is /gpfswork/rech/egi/rote001/EN4/profiles_files/MEDWEST60-BLBT02/Profile_20100410_prof_103_MEDWEST60-BLBT02_TS.nc\n",
      "Processing profile  Profile_20100410_prof.nc_78\n",
      "['/gpfsstore/rech/egi/commun/MEDWEST60/extracted_eNATL60/allv/MEDWEST60-BLBT02_y2010m04d05.1h_gridT.nc', '/gpfsstore/rech/egi/commun/MEDWEST60/extracted_eNATL60/allv/MEDWEST60-BLBT02_y2010m04d06.1h_gridT.nc', '/gpfsstore/rech/egi/commun/MEDWEST60/extracted_eNATL60/allv/MEDWEST60-BLBT02_y2010m04d07.1h_gridT.nc', '/gpfsstore/rech/egi/commun/MEDWEST60/extracted_eNATL60/allv/MEDWEST60-BLBT02_y2010m04d08.1h_gridT.nc', '/gpfsstore/rech/egi/commun/MEDWEST60/extracted_eNATL60/allv/MEDWEST60-BLBT02_y2010m04d09.1h_gridT.nc', '/gpfsstore/rech/egi/commun/MEDWEST60/extracted_eNATL60/allv/MEDWEST60-BLBT02_y2010m04d10.1h_gridT.nc', '/gpfsstore/rech/egi/commun/MEDWEST60/extracted_eNATL60/allv/MEDWEST60-BLBT02_y2010m04d11.1h_gridT.nc', '/gpfsstore/rech/egi/commun/MEDWEST60/extracted_eNATL60/allv/MEDWEST60-BLBT02_y2010m04d12.1h_gridT.nc', '/gpfsstore/rech/egi/commun/MEDWEST60/extracted_eNATL60/allv/MEDWEST60-BLBT02_y2010m04d13.1h_gridT.nc', '/gpfsstore/rech/egi/commun/MEDWEST60/extracted_eNATL60/allv/MEDWEST60-BLBT02_y2010m04d14.1h_gridT.nc', '/gpfsstore/rech/egi/commun/MEDWEST60/extracted_eNATL60/allv/MEDWEST60-BLBT02_y2010m04d15.1h_gridT.nc']\n"
     ]
    },
    {
     "name": "stdout",
     "output_type": "stream",
     "text": [
      "output file is /gpfswork/rech/egi/rote001/EN4/profiles_files/MEDWEST60-BLBT02/Profile_20100410_prof_78_MEDWEST60-BLBT02_TS.nc\n",
      "Processing profile  Profile_20100412_prof.nc_0\n",
      "['/gpfsstore/rech/egi/commun/MEDWEST60/extracted_eNATL60/allv/MEDWEST60-BLBT02_y2010m04d07.1h_gridT.nc', '/gpfsstore/rech/egi/commun/MEDWEST60/extracted_eNATL60/allv/MEDWEST60-BLBT02_y2010m04d08.1h_gridT.nc', '/gpfsstore/rech/egi/commun/MEDWEST60/extracted_eNATL60/allv/MEDWEST60-BLBT02_y2010m04d09.1h_gridT.nc', '/gpfsstore/rech/egi/commun/MEDWEST60/extracted_eNATL60/allv/MEDWEST60-BLBT02_y2010m04d10.1h_gridT.nc', '/gpfsstore/rech/egi/commun/MEDWEST60/extracted_eNATL60/allv/MEDWEST60-BLBT02_y2010m04d11.1h_gridT.nc', '/gpfsstore/rech/egi/commun/MEDWEST60/extracted_eNATL60/allv/MEDWEST60-BLBT02_y2010m04d12.1h_gridT.nc', '/gpfsstore/rech/egi/commun/MEDWEST60/extracted_eNATL60/allv/MEDWEST60-BLBT02_y2010m04d13.1h_gridT.nc', '/gpfsstore/rech/egi/commun/MEDWEST60/extracted_eNATL60/allv/MEDWEST60-BLBT02_y2010m04d14.1h_gridT.nc', '/gpfsstore/rech/egi/commun/MEDWEST60/extracted_eNATL60/allv/MEDWEST60-BLBT02_y2010m04d15.1h_gridT.nc', '/gpfsstore/rech/egi/commun/MEDWEST60/extracted_eNATL60/allv/MEDWEST60-BLBT02_y2010m04d16.1h_gridT.nc', '/gpfsstore/rech/egi/commun/MEDWEST60/extracted_eNATL60/allv/MEDWEST60-BLBT02_y2010m04d17.1h_gridT.nc']\n"
     ]
    },
    {
     "name": "stdout",
     "output_type": "stream",
     "text": [
      "output file is /gpfswork/rech/egi/rote001/EN4/profiles_files/MEDWEST60-BLBT02/Profile_20100412_prof_0_MEDWEST60-BLBT02_TS.nc\n",
      "Processing profile  Profile_20100414_prof.nc_2\n",
      "['/gpfsstore/rech/egi/commun/MEDWEST60/extracted_eNATL60/allv/MEDWEST60-BLBT02_y2010m04d09.1h_gridT.nc', '/gpfsstore/rech/egi/commun/MEDWEST60/extracted_eNATL60/allv/MEDWEST60-BLBT02_y2010m04d10.1h_gridT.nc', '/gpfsstore/rech/egi/commun/MEDWEST60/extracted_eNATL60/allv/MEDWEST60-BLBT02_y2010m04d11.1h_gridT.nc', '/gpfsstore/rech/egi/commun/MEDWEST60/extracted_eNATL60/allv/MEDWEST60-BLBT02_y2010m04d12.1h_gridT.nc', '/gpfsstore/rech/egi/commun/MEDWEST60/extracted_eNATL60/allv/MEDWEST60-BLBT02_y2010m04d13.1h_gridT.nc', '/gpfsstore/rech/egi/commun/MEDWEST60/extracted_eNATL60/allv/MEDWEST60-BLBT02_y2010m04d14.1h_gridT.nc', '/gpfsstore/rech/egi/commun/MEDWEST60/extracted_eNATL60/allv/MEDWEST60-BLBT02_y2010m04d15.1h_gridT.nc', '/gpfsstore/rech/egi/commun/MEDWEST60/extracted_eNATL60/allv/MEDWEST60-BLBT02_y2010m04d16.1h_gridT.nc', '/gpfsstore/rech/egi/commun/MEDWEST60/extracted_eNATL60/allv/MEDWEST60-BLBT02_y2010m04d17.1h_gridT.nc', '/gpfsstore/rech/egi/commun/MEDWEST60/extracted_eNATL60/allv/MEDWEST60-BLBT02_y2010m04d18.1h_gridT.nc', '/gpfsstore/rech/egi/commun/MEDWEST60/extracted_eNATL60/allv/MEDWEST60-BLBT02_y2010m04d19.1h_gridT.nc']\n"
     ]
    },
    {
     "name": "stdout",
     "output_type": "stream",
     "text": [
      "output file is /gpfswork/rech/egi/rote001/EN4/profiles_files/MEDWEST60-BLBT02/Profile_20100414_prof_2_MEDWEST60-BLBT02_TS.nc\n",
      "Processing profile  Profile_20100415_prof.nc_0\n",
      "['/gpfsstore/rech/egi/commun/MEDWEST60/extracted_eNATL60/allv/MEDWEST60-BLBT02_y2010m04d10.1h_gridT.nc', '/gpfsstore/rech/egi/commun/MEDWEST60/extracted_eNATL60/allv/MEDWEST60-BLBT02_y2010m04d11.1h_gridT.nc', '/gpfsstore/rech/egi/commun/MEDWEST60/extracted_eNATL60/allv/MEDWEST60-BLBT02_y2010m04d12.1h_gridT.nc', '/gpfsstore/rech/egi/commun/MEDWEST60/extracted_eNATL60/allv/MEDWEST60-BLBT02_y2010m04d13.1h_gridT.nc', '/gpfsstore/rech/egi/commun/MEDWEST60/extracted_eNATL60/allv/MEDWEST60-BLBT02_y2010m04d14.1h_gridT.nc', '/gpfsstore/rech/egi/commun/MEDWEST60/extracted_eNATL60/allv/MEDWEST60-BLBT02_y2010m04d15.1h_gridT.nc', '/gpfsstore/rech/egi/commun/MEDWEST60/extracted_eNATL60/allv/MEDWEST60-BLBT02_y2010m04d16.1h_gridT.nc', '/gpfsstore/rech/egi/commun/MEDWEST60/extracted_eNATL60/allv/MEDWEST60-BLBT02_y2010m04d17.1h_gridT.nc', '/gpfsstore/rech/egi/commun/MEDWEST60/extracted_eNATL60/allv/MEDWEST60-BLBT02_y2010m04d18.1h_gridT.nc', '/gpfsstore/rech/egi/commun/MEDWEST60/extracted_eNATL60/allv/MEDWEST60-BLBT02_y2010m04d19.1h_gridT.nc', '/gpfsstore/rech/egi/commun/MEDWEST60/extracted_eNATL60/allv/MEDWEST60-BLBT02_y2010m04d20.1h_gridT.nc']\n"
     ]
    },
    {
     "name": "stdout",
     "output_type": "stream",
     "text": [
      "output file is /gpfswork/rech/egi/rote001/EN4/profiles_files/MEDWEST60-BLBT02/Profile_20100415_prof_0_MEDWEST60-BLBT02_TS.nc\n",
      "Processing profile  Profile_20100415_prof.nc_65\n",
      "['/gpfsstore/rech/egi/commun/MEDWEST60/extracted_eNATL60/allv/MEDWEST60-BLBT02_y2010m04d10.1h_gridT.nc', '/gpfsstore/rech/egi/commun/MEDWEST60/extracted_eNATL60/allv/MEDWEST60-BLBT02_y2010m04d11.1h_gridT.nc', '/gpfsstore/rech/egi/commun/MEDWEST60/extracted_eNATL60/allv/MEDWEST60-BLBT02_y2010m04d12.1h_gridT.nc', '/gpfsstore/rech/egi/commun/MEDWEST60/extracted_eNATL60/allv/MEDWEST60-BLBT02_y2010m04d13.1h_gridT.nc', '/gpfsstore/rech/egi/commun/MEDWEST60/extracted_eNATL60/allv/MEDWEST60-BLBT02_y2010m04d14.1h_gridT.nc', '/gpfsstore/rech/egi/commun/MEDWEST60/extracted_eNATL60/allv/MEDWEST60-BLBT02_y2010m04d15.1h_gridT.nc', '/gpfsstore/rech/egi/commun/MEDWEST60/extracted_eNATL60/allv/MEDWEST60-BLBT02_y2010m04d16.1h_gridT.nc', '/gpfsstore/rech/egi/commun/MEDWEST60/extracted_eNATL60/allv/MEDWEST60-BLBT02_y2010m04d17.1h_gridT.nc', '/gpfsstore/rech/egi/commun/MEDWEST60/extracted_eNATL60/allv/MEDWEST60-BLBT02_y2010m04d18.1h_gridT.nc', '/gpfsstore/rech/egi/commun/MEDWEST60/extracted_eNATL60/allv/MEDWEST60-BLBT02_y2010m04d19.1h_gridT.nc', '/gpfsstore/rech/egi/commun/MEDWEST60/extracted_eNATL60/allv/MEDWEST60-BLBT02_y2010m04d20.1h_gridT.nc']\n"
     ]
    },
    {
     "name": "stdout",
     "output_type": "stream",
     "text": [
      "output file is /gpfswork/rech/egi/rote001/EN4/profiles_files/MEDWEST60-BLBT02/Profile_20100415_prof_65_MEDWEST60-BLBT02_TS.nc\n",
      "Processing profile  Profile_20100416_prof.nc_74\n",
      "['/gpfsstore/rech/egi/commun/MEDWEST60/extracted_eNATL60/allv/MEDWEST60-BLBT02_y2010m04d11.1h_gridT.nc', '/gpfsstore/rech/egi/commun/MEDWEST60/extracted_eNATL60/allv/MEDWEST60-BLBT02_y2010m04d12.1h_gridT.nc', '/gpfsstore/rech/egi/commun/MEDWEST60/extracted_eNATL60/allv/MEDWEST60-BLBT02_y2010m04d13.1h_gridT.nc', '/gpfsstore/rech/egi/commun/MEDWEST60/extracted_eNATL60/allv/MEDWEST60-BLBT02_y2010m04d14.1h_gridT.nc', '/gpfsstore/rech/egi/commun/MEDWEST60/extracted_eNATL60/allv/MEDWEST60-BLBT02_y2010m04d15.1h_gridT.nc', '/gpfsstore/rech/egi/commun/MEDWEST60/extracted_eNATL60/allv/MEDWEST60-BLBT02_y2010m04d16.1h_gridT.nc', '/gpfsstore/rech/egi/commun/MEDWEST60/extracted_eNATL60/allv/MEDWEST60-BLBT02_y2010m04d17.1h_gridT.nc', '/gpfsstore/rech/egi/commun/MEDWEST60/extracted_eNATL60/allv/MEDWEST60-BLBT02_y2010m04d18.1h_gridT.nc', '/gpfsstore/rech/egi/commun/MEDWEST60/extracted_eNATL60/allv/MEDWEST60-BLBT02_y2010m04d19.1h_gridT.nc', '/gpfsstore/rech/egi/commun/MEDWEST60/extracted_eNATL60/allv/MEDWEST60-BLBT02_y2010m04d20.1h_gridT.nc', '/gpfsstore/rech/egi/commun/MEDWEST60/extracted_eNATL60/allv/MEDWEST60-BLBT02_y2010m04d21.1h_gridT.nc']\n"
     ]
    },
    {
     "name": "stdout",
     "output_type": "stream",
     "text": [
      "output file is /gpfswork/rech/egi/rote001/EN4/profiles_files/MEDWEST60-BLBT02/Profile_20100416_prof_74_MEDWEST60-BLBT02_TS.nc\n",
      "Processing profile  Profile_20100418_prof.nc_93\n",
      "['/gpfsstore/rech/egi/commun/MEDWEST60/extracted_eNATL60/allv/MEDWEST60-BLBT02_y2010m04d13.1h_gridT.nc', '/gpfsstore/rech/egi/commun/MEDWEST60/extracted_eNATL60/allv/MEDWEST60-BLBT02_y2010m04d14.1h_gridT.nc', '/gpfsstore/rech/egi/commun/MEDWEST60/extracted_eNATL60/allv/MEDWEST60-BLBT02_y2010m04d15.1h_gridT.nc', '/gpfsstore/rech/egi/commun/MEDWEST60/extracted_eNATL60/allv/MEDWEST60-BLBT02_y2010m04d16.1h_gridT.nc', '/gpfsstore/rech/egi/commun/MEDWEST60/extracted_eNATL60/allv/MEDWEST60-BLBT02_y2010m04d17.1h_gridT.nc', '/gpfsstore/rech/egi/commun/MEDWEST60/extracted_eNATL60/allv/MEDWEST60-BLBT02_y2010m04d18.1h_gridT.nc', '/gpfsstore/rech/egi/commun/MEDWEST60/extracted_eNATL60/allv/MEDWEST60-BLBT02_y2010m04d19.1h_gridT.nc', '/gpfsstore/rech/egi/commun/MEDWEST60/extracted_eNATL60/allv/MEDWEST60-BLBT02_y2010m04d20.1h_gridT.nc', '/gpfsstore/rech/egi/commun/MEDWEST60/extracted_eNATL60/allv/MEDWEST60-BLBT02_y2010m04d21.1h_gridT.nc', '/gpfsstore/rech/egi/commun/MEDWEST60/extracted_eNATL60/allv/MEDWEST60-BLBT02_y2010m04d22.1h_gridT.nc', '/gpfsstore/rech/egi/commun/MEDWEST60/extracted_eNATL60/allv/MEDWEST60-BLBT02_y2010m04d23.1h_gridT.nc']\n"
     ]
    },
    {
     "name": "stdout",
     "output_type": "stream",
     "text": [
      "output file is /gpfswork/rech/egi/rote001/EN4/profiles_files/MEDWEST60-BLBT02/Profile_20100418_prof_93_MEDWEST60-BLBT02_TS.nc\n",
      "Processing profile  Profile_20100418_prof.nc_96\n",
      "['/gpfsstore/rech/egi/commun/MEDWEST60/extracted_eNATL60/allv/MEDWEST60-BLBT02_y2010m04d13.1h_gridT.nc', '/gpfsstore/rech/egi/commun/MEDWEST60/extracted_eNATL60/allv/MEDWEST60-BLBT02_y2010m04d14.1h_gridT.nc', '/gpfsstore/rech/egi/commun/MEDWEST60/extracted_eNATL60/allv/MEDWEST60-BLBT02_y2010m04d15.1h_gridT.nc', '/gpfsstore/rech/egi/commun/MEDWEST60/extracted_eNATL60/allv/MEDWEST60-BLBT02_y2010m04d16.1h_gridT.nc', '/gpfsstore/rech/egi/commun/MEDWEST60/extracted_eNATL60/allv/MEDWEST60-BLBT02_y2010m04d17.1h_gridT.nc', '/gpfsstore/rech/egi/commun/MEDWEST60/extracted_eNATL60/allv/MEDWEST60-BLBT02_y2010m04d18.1h_gridT.nc', '/gpfsstore/rech/egi/commun/MEDWEST60/extracted_eNATL60/allv/MEDWEST60-BLBT02_y2010m04d19.1h_gridT.nc', '/gpfsstore/rech/egi/commun/MEDWEST60/extracted_eNATL60/allv/MEDWEST60-BLBT02_y2010m04d20.1h_gridT.nc', '/gpfsstore/rech/egi/commun/MEDWEST60/extracted_eNATL60/allv/MEDWEST60-BLBT02_y2010m04d21.1h_gridT.nc', '/gpfsstore/rech/egi/commun/MEDWEST60/extracted_eNATL60/allv/MEDWEST60-BLBT02_y2010m04d22.1h_gridT.nc', '/gpfsstore/rech/egi/commun/MEDWEST60/extracted_eNATL60/allv/MEDWEST60-BLBT02_y2010m04d23.1h_gridT.nc']\n"
     ]
    },
    {
     "name": "stdout",
     "output_type": "stream",
     "text": [
      "output file is /gpfswork/rech/egi/rote001/EN4/profiles_files/MEDWEST60-BLBT02/Profile_20100418_prof_96_MEDWEST60-BLBT02_TS.nc\n",
      "Processing profile  Profile_20100419_prof.nc_0\n",
      "['/gpfsstore/rech/egi/commun/MEDWEST60/extracted_eNATL60/allv/MEDWEST60-BLBT02_y2010m04d14.1h_gridT.nc', '/gpfsstore/rech/egi/commun/MEDWEST60/extracted_eNATL60/allv/MEDWEST60-BLBT02_y2010m04d15.1h_gridT.nc', '/gpfsstore/rech/egi/commun/MEDWEST60/extracted_eNATL60/allv/MEDWEST60-BLBT02_y2010m04d16.1h_gridT.nc', '/gpfsstore/rech/egi/commun/MEDWEST60/extracted_eNATL60/allv/MEDWEST60-BLBT02_y2010m04d17.1h_gridT.nc', '/gpfsstore/rech/egi/commun/MEDWEST60/extracted_eNATL60/allv/MEDWEST60-BLBT02_y2010m04d18.1h_gridT.nc', '/gpfsstore/rech/egi/commun/MEDWEST60/extracted_eNATL60/allv/MEDWEST60-BLBT02_y2010m04d19.1h_gridT.nc', '/gpfsstore/rech/egi/commun/MEDWEST60/extracted_eNATL60/allv/MEDWEST60-BLBT02_y2010m04d20.1h_gridT.nc', '/gpfsstore/rech/egi/commun/MEDWEST60/extracted_eNATL60/allv/MEDWEST60-BLBT02_y2010m04d21.1h_gridT.nc', '/gpfsstore/rech/egi/commun/MEDWEST60/extracted_eNATL60/allv/MEDWEST60-BLBT02_y2010m04d22.1h_gridT.nc', '/gpfsstore/rech/egi/commun/MEDWEST60/extracted_eNATL60/allv/MEDWEST60-BLBT02_y2010m04d23.1h_gridT.nc', '/gpfsstore/rech/egi/commun/MEDWEST60/extracted_eNATL60/allv/MEDWEST60-BLBT02_y2010m04d24.1h_gridT.nc']\n"
     ]
    },
    {
     "name": "stdout",
     "output_type": "stream",
     "text": [
      "output file is /gpfswork/rech/egi/rote001/EN4/profiles_files/MEDWEST60-BLBT02/Profile_20100419_prof_0_MEDWEST60-BLBT02_TS.nc\n",
      "Processing profile  Profile_20100420_prof.nc_0\n",
      "['/gpfsstore/rech/egi/commun/MEDWEST60/extracted_eNATL60/allv/MEDWEST60-BLBT02_y2010m04d15.1h_gridT.nc', '/gpfsstore/rech/egi/commun/MEDWEST60/extracted_eNATL60/allv/MEDWEST60-BLBT02_y2010m04d16.1h_gridT.nc', '/gpfsstore/rech/egi/commun/MEDWEST60/extracted_eNATL60/allv/MEDWEST60-BLBT02_y2010m04d17.1h_gridT.nc', '/gpfsstore/rech/egi/commun/MEDWEST60/extracted_eNATL60/allv/MEDWEST60-BLBT02_y2010m04d18.1h_gridT.nc', '/gpfsstore/rech/egi/commun/MEDWEST60/extracted_eNATL60/allv/MEDWEST60-BLBT02_y2010m04d19.1h_gridT.nc', '/gpfsstore/rech/egi/commun/MEDWEST60/extracted_eNATL60/allv/MEDWEST60-BLBT02_y2010m04d20.1h_gridT.nc', '/gpfsstore/rech/egi/commun/MEDWEST60/extracted_eNATL60/allv/MEDWEST60-BLBT02_y2010m04d21.1h_gridT.nc', '/gpfsstore/rech/egi/commun/MEDWEST60/extracted_eNATL60/allv/MEDWEST60-BLBT02_y2010m04d22.1h_gridT.nc', '/gpfsstore/rech/egi/commun/MEDWEST60/extracted_eNATL60/allv/MEDWEST60-BLBT02_y2010m04d23.1h_gridT.nc', '/gpfsstore/rech/egi/commun/MEDWEST60/extracted_eNATL60/allv/MEDWEST60-BLBT02_y2010m04d24.1h_gridT.nc', '/gpfsstore/rech/egi/commun/MEDWEST60/extracted_eNATL60/allv/MEDWEST60-BLBT02_y2010m04d25.1h_gridT.nc']\n"
     ]
    },
    {
     "name": "stdout",
     "output_type": "stream",
     "text": [
      "output file is /gpfswork/rech/egi/rote001/EN4/profiles_files/MEDWEST60-BLBT02/Profile_20100420_prof_0_MEDWEST60-BLBT02_TS.nc\n",
      "Processing profile  Profile_20100420_prof.nc_74\n",
      "['/gpfsstore/rech/egi/commun/MEDWEST60/extracted_eNATL60/allv/MEDWEST60-BLBT02_y2010m04d15.1h_gridT.nc', '/gpfsstore/rech/egi/commun/MEDWEST60/extracted_eNATL60/allv/MEDWEST60-BLBT02_y2010m04d16.1h_gridT.nc', '/gpfsstore/rech/egi/commun/MEDWEST60/extracted_eNATL60/allv/MEDWEST60-BLBT02_y2010m04d17.1h_gridT.nc', '/gpfsstore/rech/egi/commun/MEDWEST60/extracted_eNATL60/allv/MEDWEST60-BLBT02_y2010m04d18.1h_gridT.nc', '/gpfsstore/rech/egi/commun/MEDWEST60/extracted_eNATL60/allv/MEDWEST60-BLBT02_y2010m04d19.1h_gridT.nc', '/gpfsstore/rech/egi/commun/MEDWEST60/extracted_eNATL60/allv/MEDWEST60-BLBT02_y2010m04d20.1h_gridT.nc', '/gpfsstore/rech/egi/commun/MEDWEST60/extracted_eNATL60/allv/MEDWEST60-BLBT02_y2010m04d21.1h_gridT.nc', '/gpfsstore/rech/egi/commun/MEDWEST60/extracted_eNATL60/allv/MEDWEST60-BLBT02_y2010m04d22.1h_gridT.nc', '/gpfsstore/rech/egi/commun/MEDWEST60/extracted_eNATL60/allv/MEDWEST60-BLBT02_y2010m04d23.1h_gridT.nc', '/gpfsstore/rech/egi/commun/MEDWEST60/extracted_eNATL60/allv/MEDWEST60-BLBT02_y2010m04d24.1h_gridT.nc', '/gpfsstore/rech/egi/commun/MEDWEST60/extracted_eNATL60/allv/MEDWEST60-BLBT02_y2010m04d25.1h_gridT.nc']\n"
     ]
    },
    {
     "name": "stdout",
     "output_type": "stream",
     "text": [
      "output file is /gpfswork/rech/egi/rote001/EN4/profiles_files/MEDWEST60-BLBT02/Profile_20100420_prof_74_MEDWEST60-BLBT02_TS.nc\n",
      "Processing profile  Profile_20100422_prof.nc_0\n",
      "['/gpfsstore/rech/egi/commun/MEDWEST60/extracted_eNATL60/allv/MEDWEST60-BLBT02_y2010m04d17.1h_gridT.nc', '/gpfsstore/rech/egi/commun/MEDWEST60/extracted_eNATL60/allv/MEDWEST60-BLBT02_y2010m04d18.1h_gridT.nc', '/gpfsstore/rech/egi/commun/MEDWEST60/extracted_eNATL60/allv/MEDWEST60-BLBT02_y2010m04d19.1h_gridT.nc', '/gpfsstore/rech/egi/commun/MEDWEST60/extracted_eNATL60/allv/MEDWEST60-BLBT02_y2010m04d20.1h_gridT.nc', '/gpfsstore/rech/egi/commun/MEDWEST60/extracted_eNATL60/allv/MEDWEST60-BLBT02_y2010m04d21.1h_gridT.nc', '/gpfsstore/rech/egi/commun/MEDWEST60/extracted_eNATL60/allv/MEDWEST60-BLBT02_y2010m04d22.1h_gridT.nc', '/gpfsstore/rech/egi/commun/MEDWEST60/extracted_eNATL60/allv/MEDWEST60-BLBT02_y2010m04d23.1h_gridT.nc', '/gpfsstore/rech/egi/commun/MEDWEST60/extracted_eNATL60/allv/MEDWEST60-BLBT02_y2010m04d24.1h_gridT.nc', '/gpfsstore/rech/egi/commun/MEDWEST60/extracted_eNATL60/allv/MEDWEST60-BLBT02_y2010m04d25.1h_gridT.nc', '/gpfsstore/rech/egi/commun/MEDWEST60/extracted_eNATL60/allv/MEDWEST60-BLBT02_y2010m04d26.1h_gridT.nc', '/gpfsstore/rech/egi/commun/MEDWEST60/extracted_eNATL60/allv/MEDWEST60-BLBT02_y2010m04d27.1h_gridT.nc']\n"
     ]
    },
    {
     "name": "stdout",
     "output_type": "stream",
     "text": [
      "output file is /gpfswork/rech/egi/rote001/EN4/profiles_files/MEDWEST60-BLBT02/Profile_20100422_prof_0_MEDWEST60-BLBT02_TS.nc\n",
      "Processing profile  Profile_20100424_prof.nc_0\n",
      "['/gpfsstore/rech/egi/commun/MEDWEST60/extracted_eNATL60/allv/MEDWEST60-BLBT02_y2010m04d19.1h_gridT.nc', '/gpfsstore/rech/egi/commun/MEDWEST60/extracted_eNATL60/allv/MEDWEST60-BLBT02_y2010m04d20.1h_gridT.nc', '/gpfsstore/rech/egi/commun/MEDWEST60/extracted_eNATL60/allv/MEDWEST60-BLBT02_y2010m04d21.1h_gridT.nc', '/gpfsstore/rech/egi/commun/MEDWEST60/extracted_eNATL60/allv/MEDWEST60-BLBT02_y2010m04d22.1h_gridT.nc', '/gpfsstore/rech/egi/commun/MEDWEST60/extracted_eNATL60/allv/MEDWEST60-BLBT02_y2010m04d23.1h_gridT.nc', '/gpfsstore/rech/egi/commun/MEDWEST60/extracted_eNATL60/allv/MEDWEST60-BLBT02_y2010m04d24.1h_gridT.nc', '/gpfsstore/rech/egi/commun/MEDWEST60/extracted_eNATL60/allv/MEDWEST60-BLBT02_y2010m04d25.1h_gridT.nc', '/gpfsstore/rech/egi/commun/MEDWEST60/extracted_eNATL60/allv/MEDWEST60-BLBT02_y2010m04d26.1h_gridT.nc', '/gpfsstore/rech/egi/commun/MEDWEST60/extracted_eNATL60/allv/MEDWEST60-BLBT02_y2010m04d27.1h_gridT.nc', '/gpfsstore/rech/egi/commun/MEDWEST60/extracted_eNATL60/allv/MEDWEST60-BLBT02_y2010m04d28.1h_gridT.nc', '/gpfsstore/rech/egi/commun/MEDWEST60/extracted_eNATL60/allv/MEDWEST60-BLBT02_y2010m04d29.1h_gridT.nc']\n"
     ]
    },
    {
     "name": "stdout",
     "output_type": "stream",
     "text": [
      "output file is /gpfswork/rech/egi/rote001/EN4/profiles_files/MEDWEST60-BLBT02/Profile_20100424_prof_0_MEDWEST60-BLBT02_TS.nc\n",
      "Processing profile  Profile_20100425_prof.nc_0\n",
      "['/gpfsstore/rech/egi/commun/MEDWEST60/extracted_eNATL60/allv/MEDWEST60-BLBT02_y2010m04d20.1h_gridT.nc', '/gpfsstore/rech/egi/commun/MEDWEST60/extracted_eNATL60/allv/MEDWEST60-BLBT02_y2010m04d21.1h_gridT.nc', '/gpfsstore/rech/egi/commun/MEDWEST60/extracted_eNATL60/allv/MEDWEST60-BLBT02_y2010m04d22.1h_gridT.nc', '/gpfsstore/rech/egi/commun/MEDWEST60/extracted_eNATL60/allv/MEDWEST60-BLBT02_y2010m04d23.1h_gridT.nc', '/gpfsstore/rech/egi/commun/MEDWEST60/extracted_eNATL60/allv/MEDWEST60-BLBT02_y2010m04d24.1h_gridT.nc', '/gpfsstore/rech/egi/commun/MEDWEST60/extracted_eNATL60/allv/MEDWEST60-BLBT02_y2010m04d25.1h_gridT.nc', '/gpfsstore/rech/egi/commun/MEDWEST60/extracted_eNATL60/allv/MEDWEST60-BLBT02_y2010m04d26.1h_gridT.nc', '/gpfsstore/rech/egi/commun/MEDWEST60/extracted_eNATL60/allv/MEDWEST60-BLBT02_y2010m04d27.1h_gridT.nc', '/gpfsstore/rech/egi/commun/MEDWEST60/extracted_eNATL60/allv/MEDWEST60-BLBT02_y2010m04d28.1h_gridT.nc', '/gpfsstore/rech/egi/commun/MEDWEST60/extracted_eNATL60/allv/MEDWEST60-BLBT02_y2010m04d29.1h_gridT.nc', '/gpfsstore/rech/egi/commun/MEDWEST60/extracted_eNATL60/allv/MEDWEST60-BLBT02_y2010m04d30.1h_gridT.nc']\n"
     ]
    },
    {
     "name": "stdout",
     "output_type": "stream",
     "text": [
      "output file is /gpfswork/rech/egi/rote001/EN4/profiles_files/MEDWEST60-BLBT02/Profile_20100425_prof_0_MEDWEST60-BLBT02_TS.nc\n",
      "Processing profile  Profile_20100425_prof.nc_66\n",
      "['/gpfsstore/rech/egi/commun/MEDWEST60/extracted_eNATL60/allv/MEDWEST60-BLBT02_y2010m04d20.1h_gridT.nc', '/gpfsstore/rech/egi/commun/MEDWEST60/extracted_eNATL60/allv/MEDWEST60-BLBT02_y2010m04d21.1h_gridT.nc', '/gpfsstore/rech/egi/commun/MEDWEST60/extracted_eNATL60/allv/MEDWEST60-BLBT02_y2010m04d22.1h_gridT.nc', '/gpfsstore/rech/egi/commun/MEDWEST60/extracted_eNATL60/allv/MEDWEST60-BLBT02_y2010m04d23.1h_gridT.nc', '/gpfsstore/rech/egi/commun/MEDWEST60/extracted_eNATL60/allv/MEDWEST60-BLBT02_y2010m04d24.1h_gridT.nc', '/gpfsstore/rech/egi/commun/MEDWEST60/extracted_eNATL60/allv/MEDWEST60-BLBT02_y2010m04d25.1h_gridT.nc', '/gpfsstore/rech/egi/commun/MEDWEST60/extracted_eNATL60/allv/MEDWEST60-BLBT02_y2010m04d26.1h_gridT.nc', '/gpfsstore/rech/egi/commun/MEDWEST60/extracted_eNATL60/allv/MEDWEST60-BLBT02_y2010m04d27.1h_gridT.nc', '/gpfsstore/rech/egi/commun/MEDWEST60/extracted_eNATL60/allv/MEDWEST60-BLBT02_y2010m04d28.1h_gridT.nc', '/gpfsstore/rech/egi/commun/MEDWEST60/extracted_eNATL60/allv/MEDWEST60-BLBT02_y2010m04d29.1h_gridT.nc', '/gpfsstore/rech/egi/commun/MEDWEST60/extracted_eNATL60/allv/MEDWEST60-BLBT02_y2010m04d30.1h_gridT.nc']\n"
     ]
    },
    {
     "name": "stdout",
     "output_type": "stream",
     "text": [
      "output file is /gpfswork/rech/egi/rote001/EN4/profiles_files/MEDWEST60-BLBT02/Profile_20100425_prof_66_MEDWEST60-BLBT02_TS.nc\n",
      "Processing profile  Profile_20100425_prof.nc_9\n",
      "['/gpfsstore/rech/egi/commun/MEDWEST60/extracted_eNATL60/allv/MEDWEST60-BLBT02_y2010m04d20.1h_gridT.nc', '/gpfsstore/rech/egi/commun/MEDWEST60/extracted_eNATL60/allv/MEDWEST60-BLBT02_y2010m04d21.1h_gridT.nc', '/gpfsstore/rech/egi/commun/MEDWEST60/extracted_eNATL60/allv/MEDWEST60-BLBT02_y2010m04d22.1h_gridT.nc', '/gpfsstore/rech/egi/commun/MEDWEST60/extracted_eNATL60/allv/MEDWEST60-BLBT02_y2010m04d23.1h_gridT.nc', '/gpfsstore/rech/egi/commun/MEDWEST60/extracted_eNATL60/allv/MEDWEST60-BLBT02_y2010m04d24.1h_gridT.nc', '/gpfsstore/rech/egi/commun/MEDWEST60/extracted_eNATL60/allv/MEDWEST60-BLBT02_y2010m04d25.1h_gridT.nc', '/gpfsstore/rech/egi/commun/MEDWEST60/extracted_eNATL60/allv/MEDWEST60-BLBT02_y2010m04d26.1h_gridT.nc', '/gpfsstore/rech/egi/commun/MEDWEST60/extracted_eNATL60/allv/MEDWEST60-BLBT02_y2010m04d27.1h_gridT.nc', '/gpfsstore/rech/egi/commun/MEDWEST60/extracted_eNATL60/allv/MEDWEST60-BLBT02_y2010m04d28.1h_gridT.nc', '/gpfsstore/rech/egi/commun/MEDWEST60/extracted_eNATL60/allv/MEDWEST60-BLBT02_y2010m04d29.1h_gridT.nc', '/gpfsstore/rech/egi/commun/MEDWEST60/extracted_eNATL60/allv/MEDWEST60-BLBT02_y2010m04d30.1h_gridT.nc']\n"
     ]
    },
    {
     "name": "stdout",
     "output_type": "stream",
     "text": [
      "output file is /gpfswork/rech/egi/rote001/EN4/profiles_files/MEDWEST60-BLBT02/Profile_20100425_prof_9_MEDWEST60-BLBT02_TS.nc\n",
      "12/08/20 14:01\n"
     ]
    }
   ],
   "source": [
    "print(\"Nb de profiles : \"+str(nb_profilesEN4))\n",
    "print(time.strftime('%d/%m/%y %H:%M',time.localtime()))\n",
    "\n",
    "for prof in range(nb_profilesEN4):\n",
    "    list_profiles = infos.keys()\n",
    "    reference =  str(list(list_profiles)[prof])\n",
    "    match=re.search(r'([\\w.-]+).nc([\\w.-]+)', reference)\n",
    "    debut_ref=match.group(1)\n",
    "    fin_ref=match.group(2)\n",
    "    diren4=\"/gpfswork/rech/egi/rote001/EN4/\"\n",
    "    dirname=diren4+'profiles_files/MEDWEST60-BLBT02/'\n",
    "    outname=dirname+str(debut_ref)+str(fin_ref)+'_MEDWEST60-BLBT02_TS.nc'\n",
    "    if not os.path.exists(outname):\n",
    "        process_one_profile(prof)\n",
    "\n",
    "print(time.strftime('%d/%m/%y %H:%M',time.localtime()))\n"
   ]
  },
  {
   "cell_type": "code",
   "execution_count": null,
   "metadata": {
    "papermill": {
     "duration": 0.020436,
     "end_time": "2020-08-12T12:01:33.409172",
     "exception": false,
     "start_time": "2020-08-12T12:01:33.388736",
     "status": "completed"
    },
    "tags": []
   },
   "outputs": [],
   "source": []
  }
 ],
 "metadata": {
  "celltoolbar": "Tags",
  "kernelspec": {
   "display_name": "new-seawater",
   "language": "python",
   "name": "seawater"
  },
  "language_info": {
   "codemirror_mode": {
    "name": "ipython",
    "version": 3
   },
   "file_extension": ".py",
   "mimetype": "text/x-python",
   "name": "python",
   "nbconvert_exporter": "python",
   "pygments_lexer": "ipython3",
   "version": "3.8.3"
  },
  "papermill": {
   "duration": 13463.316117,
   "end_time": "2020-08-12T12:01:33.938821",
   "environment_variables": {},
   "exception": null,
   "input_path": "2020-08-07-AA-process-profiles.ipynb",
   "output_path": "out/2020-08-12-AA-process-profiles-MEDWEST60_2010-01-01-2010-04-30_100m_0.25x5d_100000.ipynb",
   "parameters": {
    "depthmin": 100,
    "dmax": 30,
    "dmin": 1,
    "mmax": 4,
    "mmin": 1,
    "number_of_model_profiles": 100000,
    "period": 5,
    "radius_max": 0.25,
    "ymax": 2010,
    "ymin": 2010
   },
   "start_time": "2020-08-12T08:17:10.622704",
   "version": "2.1.2"
  }
 },
 "nbformat": 4,
 "nbformat_minor": 4
}