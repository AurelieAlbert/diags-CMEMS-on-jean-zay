{
 "cells": [
  {
   "cell_type": "markdown",
   "metadata": {
    "papermill": {
     "duration": 0.006929,
     "end_time": "2020-08-07T12:54:29.630124",
     "exception": false,
     "start_time": "2020-08-07T12:54:29.623195",
     "status": "completed"
    },
    "tags": []
   },
   "source": [
    "## Import all the libraries"
   ]
  },
  {
   "cell_type": "code",
   "execution_count": 1,
   "metadata": {
    "execution": {
     "iopub.execute_input": "2020-08-07T12:54:29.644006Z",
     "iopub.status.busy": "2020-08-07T12:54:29.643655Z",
     "iopub.status.idle": "2020-08-07T12:54:30.575674Z",
     "shell.execute_reply": "2020-08-07T12:54:30.576024Z"
    },
    "papermill": {
     "duration": 0.940489,
     "end_time": "2020-08-07T12:54:30.576170",
     "exception": false,
     "start_time": "2020-08-07T12:54:29.635681",
     "status": "completed"
    },
    "tags": []
   },
   "outputs": [],
   "source": [
    "import numpy as np\n",
    "import dask\n",
    "import xarray as xr\n",
    "from netCDF4 import Dataset\n",
    "import matplotlib.pyplot as plt\n",
    "import pandas as pd\n",
    "import datetime\n",
    "import glob as glob\n",
    "import time\n",
    "from dask.diagnostics import ProgressBar\n",
    "from datetime import date\n",
    "import json\n",
    "import os\n",
    "import warnings\n",
    "import seawater\n",
    "import re\n",
    "\n",
    "warnings.filterwarnings('ignore')\n"
   ]
  },
  {
   "cell_type": "markdown",
   "metadata": {
    "papermill": {
     "duration": 0.004455,
     "end_time": "2020-08-07T12:54:30.585931",
     "exception": false,
     "start_time": "2020-08-07T12:54:30.581476",
     "status": "completed"
    },
    "tags": []
   },
   "source": [
    "## Parameters"
   ]
  },
  {
   "cell_type": "code",
   "execution_count": 2,
   "metadata": {
    "execution": {
     "iopub.execute_input": "2020-08-07T12:54:30.598609Z",
     "iopub.status.busy": "2020-08-07T12:54:30.598035Z",
     "iopub.status.idle": "2020-08-07T12:54:30.599557Z",
     "shell.execute_reply": "2020-08-07T12:54:30.599871Z"
    },
    "papermill": {
     "duration": 0.00859,
     "end_time": "2020-08-07T12:54:30.599970",
     "exception": false,
     "start_time": "2020-08-07T12:54:30.591380",
     "status": "completed"
    },
    "tags": [
     "parameters"
    ]
   },
   "outputs": [],
   "source": [
    "ymin=2010;mmin=1;dmin=1\n",
    "ymax=2010;mmax=9;dmax=30\n",
    "# depth of the desired comparison profile in m\n",
    "depthmin=1000\n",
    "# radius of the circle around the profile location in which we take the modeled profiles, in °  \n",
    "radius_max=0.25\n",
    "# period of time around the profile sampling date in which we take the modeled profiles, in days\n",
    "period=5\n",
    "# minimum amount of model profiles to be considered to make a significant statistical comparison, for instance in a 1° square and 30-days window we have 2.6 millions modeled profiles, in a 0.5°x10 days 216 000\n",
    "number_of_model_profiles=100000\n"
   ]
  },
  {
   "cell_type": "code",
   "execution_count": 3,
   "metadata": {
    "execution": {
     "iopub.execute_input": "2020-08-07T12:54:30.611005Z",
     "iopub.status.busy": "2020-08-07T12:54:30.610690Z",
     "iopub.status.idle": "2020-08-07T12:54:30.612025Z",
     "shell.execute_reply": "2020-08-07T12:54:30.612327Z"
    },
    "papermill": {
     "duration": 0.008285,
     "end_time": "2020-08-07T12:54:30.612427",
     "exception": false,
     "start_time": "2020-08-07T12:54:30.604142",
     "status": "completed"
    },
    "tags": [
     "injected-parameters"
    ]
   },
   "outputs": [],
   "source": [
    "# Parameters\n",
    "ymin = 2010\n",
    "mmin = 1\n",
    "dmin = 1\n",
    "ymax = 2010\n",
    "mmax = 9\n",
    "dmax = 30\n",
    "depthmin = 2000\n",
    "radius_max = 0.25\n",
    "period = 5\n",
    "number_of_model_profiles = 100000\n"
   ]
  },
  {
   "cell_type": "code",
   "execution_count": 4,
   "metadata": {
    "execution": {
     "iopub.execute_input": "2020-08-07T12:54:30.624147Z",
     "iopub.status.busy": "2020-08-07T12:54:30.623640Z",
     "iopub.status.idle": "2020-08-07T12:54:30.625094Z",
     "shell.execute_reply": "2020-08-07T12:54:30.625398Z"
    },
    "papermill": {
     "duration": 0.008861,
     "end_time": "2020-08-07T12:54:30.625513",
     "exception": false,
     "start_time": "2020-08-07T12:54:30.616652",
     "status": "completed"
    },
    "tags": []
   },
   "outputs": [],
   "source": [
    "datemin=datetime.date(ymin,mmin,dmin)\n",
    "datemax=datetime.date(ymax,mmax,dmax)\n",
    "jsonfile='txt/MEDWEST60-BLBT02_'+str(datemin)+'-'+str(datemax)+'_'+str(depthmin)+'m_'+str(radius_max)+'x'+str(period)+'d_'+str(number_of_model_profiles)+'.json'"
   ]
  },
  {
   "cell_type": "markdown",
   "metadata": {
    "papermill": {
     "duration": 0.004444,
     "end_time": "2020-08-07T12:54:30.634387",
     "exception": false,
     "start_time": "2020-08-07T12:54:30.629943",
     "status": "completed"
    },
    "tags": []
   },
   "source": [
    "## Read the jsonfile"
   ]
  },
  {
   "cell_type": "code",
   "execution_count": 5,
   "metadata": {
    "execution": {
     "iopub.execute_input": "2020-08-07T12:54:30.645983Z",
     "iopub.status.busy": "2020-08-07T12:54:30.645612Z",
     "iopub.status.idle": "2020-08-07T12:54:30.647209Z",
     "shell.execute_reply": "2020-08-07T12:54:30.647530Z"
    },
    "papermill": {
     "duration": 0.00887,
     "end_time": "2020-08-07T12:54:30.647619",
     "exception": false,
     "start_time": "2020-08-07T12:54:30.638749",
     "status": "completed"
    },
    "tags": []
   },
   "outputs": [],
   "source": [
    "sourcefile=open(jsonfile,'rU')\n",
    "infos=json.load(sourcefile)\n",
    "nb_profilesEN4=len(infos)\n"
   ]
  },
  {
   "cell_type": "code",
   "execution_count": 6,
   "metadata": {
    "execution": {
     "iopub.execute_input": "2020-08-07T12:54:30.662015Z",
     "iopub.status.busy": "2020-08-07T12:54:30.661126Z",
     "iopub.status.idle": "2020-08-07T12:54:30.663482Z",
     "shell.execute_reply": "2020-08-07T12:54:30.663782Z"
    },
    "papermill": {
     "duration": 0.011924,
     "end_time": "2020-08-07T12:54:30.663867",
     "exception": false,
     "start_time": "2020-08-07T12:54:30.651943",
     "status": "completed"
    },
    "tags": []
   },
   "outputs": [],
   "source": [
    "vert_standart=[0,2,4,6,8,10,12,14,16,18,20,25,30,35,40,45,50,55,60,65,70,75,80,85,90,95,100,\n",
    "                   110,120,130,140,150,160,170,180,190,200,220,240,260,280,300,320,340,360,380,400,\n",
    "                   420,440,460,480,500,520,540,560,580,600,620,640,660,680,700,720,740,760,780,800,\n",
    "                   820,840,860,880,900,920,940,960,980,1000,1050,1100,1150,1200,1250,1300,1350,1400,\n",
    "                   1450,1500,1550,1600,1650,1700,1750,1800,1850,1900,1950,2000]\n",
    "all_temp_mean_model=np.zeros((nb_profilesEN4,len(vert_standart)))\n",
    "all_salt_mean_model=np.zeros((nb_profilesEN4,len(vert_standart)))\n",
    "all_temp_en4=np.zeros((nb_profilesEN4,len(vert_standart)))\n",
    "all_salt_en4=np.zeros((nb_profilesEN4,len(vert_standart)))\n",
    "all_temp_percent10_model=np.zeros((nb_profilesEN4,len(vert_standart)))\n",
    "all_salt_percent10_model=np.zeros((nb_profilesEN4,len(vert_standart)))\n",
    "all_temp_percent90_model=np.zeros((nb_profilesEN4,len(vert_standart)))\n",
    "all_salt_percent90_model=np.zeros((nb_profilesEN4,len(vert_standart)))\n"
   ]
  },
  {
   "cell_type": "code",
   "execution_count": 7,
   "metadata": {
    "execution": {
     "iopub.execute_input": "2020-08-07T12:54:30.678596Z",
     "iopub.status.busy": "2020-08-07T12:54:30.677981Z",
     "iopub.status.idle": "2020-08-07T12:54:30.706756Z",
     "shell.execute_reply": "2020-08-07T12:54:30.706996Z"
    },
    "papermill": {
     "duration": 0.038937,
     "end_time": "2020-08-07T12:54:30.707093",
     "exception": false,
     "start_time": "2020-08-07T12:54:30.668156",
     "status": "completed"
    },
    "tags": []
   },
   "outputs": [
    {
     "name": "stdout",
     "output_type": "stream",
     "text": [
      "Processing profile  Profile_20100902_prof.nc_85\n"
     ]
    }
   ],
   "source": [
    "for prof in np.arange(nb_profilesEN4):\n",
    "    list_profiles = infos.keys()\n",
    "    reference =  str(list(list_profiles)[prof])\n",
    "    print('Processing profile ', reference)\n",
    "    # Open the netcdf file\n",
    "    match=re.search(r'([\\w.-]+).nc([\\w.-]+)', reference)\n",
    "    debut_ref=match.group(1)\n",
    "    fin_ref=match.group(2)\n",
    "    diren4=\"/gpfswork/rech/egi/rote001/EN4/\"\n",
    "    dirname=diren4+'profiles_files/MEDWEST60-BLBT02/'\n",
    "    outname=dirname+str(debut_ref)+str(fin_ref)+'_MEDWEST60-BLBT02_TS.nc'\n",
    "    dsprof=xr.open_dataset(outname)\n",
    "\n",
    "    depth_en4=dsprof['depth_en4']\n",
    "    temp_en4=dsprof['temp_profileEN4']\n",
    "    salt_en4=dsprof['salt_profileEN4']\n",
    "    mean_temp_model=dsprof['mean_temp_model']\n",
    "    mean_salt_model=dsprof['mean_salt_model']\n",
    "    percent10_temp_model=dsprof['percent10_temp_model']\n",
    "    percent10_salt_model=dsprof['percent10_salt_model']\n",
    "    percent90_temp_model=dsprof['percent90_temp_model']\n",
    "    percent90_salt_model=dsprof['percent90_salt_model']\n",
    "    obs_lat=dsprof['latitude_profileEN4']\n",
    "    obs_lon=dsprof['longitude_profileEN4']\n",
    "    obs_time=dsprof['time_profileEN4']\n",
    "    \n",
    "    # Project the profile to standart vertical levels\n",
    "    temp_en4_standart=np.interp(vert_standart,depth_en4,temp_en4)\n",
    "    salt_en4_standart=np.interp(vert_standart,depth_en4,salt_en4)\n",
    "    mean_temp_model_standart=np.interp(vert_standart,depth_en4,mean_temp_model)\n",
    "    mean_salt_model_standart=np.interp(vert_standart,depth_en4,mean_salt_model)\n",
    "    percent10_temp_model_standart=np.interp(vert_standart,depth_en4,percent10_temp_model)\n",
    "    percent10_salt_model_standart=np.interp(vert_standart,depth_en4,percent10_salt_model)\n",
    "    percent90_temp_model_standart=np.interp(vert_standart,depth_en4,percent90_temp_model)\n",
    "    percent90_salt_model_standart=np.interp(vert_standart,depth_en4,percent90_salt_model)\n",
    "\n",
    "    #Fill the all profiles\n",
    "    all_temp_mean_model[prof,:]=mean_temp_model_standart[:]\n",
    "    all_salt_mean_model[prof,:]=mean_salt_model_standart[:]\n",
    "    all_temp_en4[prof,:]=temp_en4_standart[:]\n",
    "    all_salt_en4[prof,:]=salt_en4_standart[:]\n",
    "    all_temp_percent10_model[prof,:]=percent10_temp_model_standart[:]\n",
    "    all_salt_percent10_model[prof,:]=percent10_salt_model_standart[:]\n",
    "    all_temp_percent90_model[prof,:]=percent90_temp_model_standart[:]\n",
    "    all_salt_percent90_model[prof,:]=percent90_salt_model_standart[:]\n"
   ]
  },
  {
   "cell_type": "code",
   "execution_count": 8,
   "metadata": {
    "execution": {
     "iopub.execute_input": "2020-08-07T12:54:30.726463Z",
     "iopub.status.busy": "2020-08-07T12:54:30.726128Z",
     "iopub.status.idle": "2020-08-07T12:54:31.411864Z",
     "shell.execute_reply": "2020-08-07T12:54:31.411495Z"
    },
    "papermill": {
     "duration": 0.699177,
     "end_time": "2020-08-07T12:54:31.411962",
     "exception": false,
     "start_time": "2020-08-07T12:54:30.712785",
     "status": "completed"
    },
    "tags": []
   },
   "outputs": [
    {
     "data": {
      "image/png": "[encoded data removed]",
      "text/plain": [
       "<Figure size 720x432 with 2 Axes>"
      ]
     },
     "metadata": {
      "needs_background": "light"
     },
     "output_type": "display_data"
    }
   ],
   "source": [
    "        fig, axs = plt.subplots(1,2, figsize=(10, 6))\n",
    "        axs = axs.ravel()\n",
    "        title = 'Temperature and Salinity Profiles for MEDWEST60-BLBT02'+str(datemin)+'-'+str(datemax)+' in '+str(radius_max)+'°x'+str(period)+'d min '+str(number_of_model_profiles)+'model profiles'\n",
    "        plt.suptitle(title,size = 25,y=1.05)\n",
    "        axs[0].plot(mean_temp_model_standart,vert_standart,'b.-', label='temp model')\n",
    "        axs[0].plot(temp_en4_standart,vert_standart,'k.-', label='temp en4')\n",
    "        axs[0].set_ylabel('Depth [m]', size=14)\n",
    "        axs[0].set_ylim(depthmin, 0)\n",
    "        axs[0].grid(True, which='both')\n",
    "        axs[0].xaxis.tick_top()\n",
    "        axs[0].xaxis.set_label_position('top') \n",
    "        axs[0].plot(percent10_temp_model_standart,vert_standart,'b-', label='percent10')\n",
    "        axs[0].plot(percent90_temp_model_standart,vert_standart,'b-', label='percent90')\n",
    "        axs[0].fill_betweenx(vert_standart, percent10_temp_model_standart, x2=percent90_temp_model_standart, alpha=0.2, facecolor='b')\n",
    "\n",
    "        axs[1].plot(mean_salt_model_standart,vert_standart,'b.-', label='salt model')\n",
    "        axs[1].plot(salt_en4_standart,vert_standart,'k.-', label='salt en4')\n",
    "        axs[1].set_ylabel('Depth [m]', size=14)\n",
    "        axs[1].set_ylim(depthmin, 0)\n",
    "        axs[1].grid(True, which='both')\n",
    "        axs[1].xaxis.tick_top()\n",
    "        axs[1].xaxis.set_label_position('top') \n",
    "        axs[1].plot(percent10_salt_model_standart,vert_standart,'b-', label='percent10')\n",
    "        axs[1].plot(percent90_salt_model_standart,vert_standart,'b-', label='percent90')\n",
    "        axs[1].fill_betweenx(vert_standart, percent10_salt_model_standart, x2=percent90_salt_model_standart, alpha=0.2, facecolor='b')\n",
    "        fig.tight_layout()\n",
    "        plt.savefig('plots/MEDWEST60-BLBT02_'+str(datemin)+'-'+str(datemax)+'_'+str(depthmin)+'m_'+str(radius_max)+'x'+str(period)+'d_'+str(number_of_model_profiles)+'.png')\n"
   ]
  },
  {
   "cell_type": "code",
   "execution_count": null,
   "metadata": {
    "papermill": {
     "duration": 0.006017,
     "end_time": "2020-08-07T12:54:31.424222",
     "exception": false,
     "start_time": "2020-08-07T12:54:31.418205",
     "status": "completed"
    },
    "tags": []
   },
   "outputs": [],
   "source": []
  }
 ],
 "metadata": {
  "celltoolbar": "Tags",
  "kernelspec": {
   "display_name": "new-seawater",
   "language": "python",
   "name": "seawater"
  },
  "language_info": {
   "codemirror_mode": {
    "name": "ipython",
    "version": 3
   },
   "file_extension": ".py",
   "mimetype": "text/x-python",
   "name": "python",
   "nbconvert_exporter": "python",
   "pygments_lexer": "ipython3",
   "version": "3.8.3"
  },
  "papermill": {
   "duration": 2.934025,
   "end_time": "2020-08-07T12:54:31.837708",
   "environment_variables": {},
   "exception": null,
   "input_path": "2020-08-07-AA-final-plot.ipynb",
   "output_path": "out/2020-08-07-AA-final-plot-MEDWEST60_2010-01-01-2010-09-30_2000m_0.25x5d_100000.ipynb",
   "parameters": {
    "depthmin": 2000,
    "dmax": 30,
    "dmin": 1,
    "mmax": 9,
    "mmin": 1,
    "number_of_model_profiles": 100000,
    "period": 5,
    "radius_max": 0.25,
    "ymax": 2010,
    "ymin": 2010
   },
   "start_time": "2020-08-07T12:54:28.903683",
   "version": "2.1.2"
  }
 },
 "nbformat": 4,
 "nbformat_minor": 4
}