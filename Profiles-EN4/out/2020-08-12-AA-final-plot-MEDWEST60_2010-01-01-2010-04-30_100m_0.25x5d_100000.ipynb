{
 "cells": [
  {
   "cell_type": "markdown",
   "metadata": {
    "tags": [
     "papermill-error-cell-tag"
    ]
   },
   "source": [
    "<span style=\"color:red; font-family:Helvetica Neue, Helvetica, Arial, sans-serif; font-size:2em;\">An Exception was encountered at '<a href=\"#papermill-error-cell\">In [8]</a>'.</span>"
   ]
  },
  {
   "cell_type": "markdown",
   "metadata": {
    "papermill": {
     "duration": 0.006542,
     "end_time": "2020-08-12T12:04:46.845646",
     "exception": false,
     "start_time": "2020-08-12T12:04:46.839104",
     "status": "completed"
    },
    "tags": []
   },
   "source": [
    "## Import all the libraries"
   ]
  },
  {
   "cell_type": "code",
   "execution_count": 1,
   "metadata": {
    "execution": {
     "iopub.execute_input": "2020-08-12T12:04:46.865470Z",
     "iopub.status.busy": "2020-08-12T12:04:46.864691Z",
     "iopub.status.idle": "2020-08-12T12:04:48.094364Z",
     "shell.execute_reply": "2020-08-12T12:04:48.094873Z"
    },
    "papermill": {
     "duration": 1.241878,
     "end_time": "2020-08-12T12:04:48.095057",
     "exception": false,
     "start_time": "2020-08-12T12:04:46.853179",
     "status": "completed"
    },
    "tags": []
   },
   "outputs": [],
   "source": [
    "import numpy as np\n",
    "import dask\n",
    "import xarray as xr\n",
    "from netCDF4 import Dataset\n",
    "import matplotlib.pyplot as plt\n",
    "import pandas as pd\n",
    "import datetime\n",
    "import glob as glob\n",
    "import time\n",
    "from dask.diagnostics import ProgressBar\n",
    "from datetime import date\n",
    "import json\n",
    "import os\n",
    "import warnings\n",
    "import seawater\n",
    "import re\n",
    "\n",
    "warnings.filterwarnings('ignore')\n"
   ]
  },
  {
   "cell_type": "markdown",
   "metadata": {
    "papermill": {
     "duration": 0.006693,
     "end_time": "2020-08-12T12:04:48.109555",
     "exception": false,
     "start_time": "2020-08-12T12:04:48.102862",
     "status": "completed"
    },
    "tags": []
   },
   "source": [
    "## Parameters"
   ]
  },
  {
   "cell_type": "code",
   "execution_count": 2,
   "metadata": {
    "execution": {
     "iopub.execute_input": "2020-08-12T12:04:48.128222Z",
     "iopub.status.busy": "2020-08-12T12:04:48.127674Z",
     "iopub.status.idle": "2020-08-12T12:04:48.129558Z",
     "shell.execute_reply": "2020-08-12T12:04:48.130083Z"
    },
    "papermill": {
     "duration": 0.012476,
     "end_time": "2020-08-12T12:04:48.130240",
     "exception": false,
     "start_time": "2020-08-12T12:04:48.117764",
     "status": "completed"
    },
    "tags": [
     "parameters"
    ]
   },
   "outputs": [],
   "source": [
    "ymin=2010;mmin=1;dmin=1\n",
    "ymax=2010;mmax=4;dmax=30\n",
    "# depth of the desired comparison profile in m\n",
    "depthmin=1500\n",
    "# radius of the circle around the profile location in which we take the modeled profiles, in °  \n",
    "radius_max=0.25\n",
    "# period of time around the profile sampling date in which we take the modeled profiles, in days\n",
    "period=5\n",
    "# minimum amount of model profiles to be considered to make a significant statistical comparison, for instance in a 1° square and 30-days window we have 2.6 millions modeled profiles, in a 0.5°x10 days 216 000\n",
    "number_of_model_profiles=100000\n"
   ]
  },
  {
   "cell_type": "code",
   "execution_count": 3,
   "metadata": {
    "execution": {
     "iopub.execute_input": "2020-08-12T12:04:48.147189Z",
     "iopub.status.busy": "2020-08-12T12:04:48.146559Z",
     "iopub.status.idle": "2020-08-12T12:04:48.148520Z",
     "shell.execute_reply": "2020-08-12T12:04:48.149016Z"
    },
    "papermill": {
     "duration": 0.012764,
     "end_time": "2020-08-12T12:04:48.149168",
     "exception": false,
     "start_time": "2020-08-12T12:04:48.136404",
     "status": "completed"
    },
    "tags": [
     "injected-parameters"
    ]
   },
   "outputs": [],
   "source": [
    "# Parameters\n",
    "ymin = 2010\n",
    "mmin = 1\n",
    "dmin = 1\n",
    "ymax = 2010\n",
    "mmax = 4\n",
    "dmax = 30\n",
    "depthmin = 100\n",
    "radius_max = 0.25\n",
    "period = 5\n",
    "number_of_model_profiles = 100000\n"
   ]
  },
  {
   "cell_type": "code",
   "execution_count": 4,
   "metadata": {
    "execution": {
     "iopub.execute_input": "2020-08-12T12:04:48.166531Z",
     "iopub.status.busy": "2020-08-12T12:04:48.165930Z",
     "iopub.status.idle": "2020-08-12T12:04:48.167807Z",
     "shell.execute_reply": "2020-08-12T12:04:48.168302Z"
    },
    "papermill": {
     "duration": 0.01297,
     "end_time": "2020-08-12T12:04:48.168455",
     "exception": false,
     "start_time": "2020-08-12T12:04:48.155485",
     "status": "completed"
    },
    "tags": []
   },
   "outputs": [],
   "source": [
    "datemin=datetime.date(ymin,mmin,dmin)\n",
    "datemax=datetime.date(ymax,mmax,dmax)\n",
    "jsonfile='txt/MEDWEST60-BLBT02_'+str(datemin)+'-'+str(datemax)+'_'+str(depthmin)+'m_'+str(radius_max)+'x'+str(period)+'d_'+str(number_of_model_profiles)+'.json'"
   ]
  },
  {
   "cell_type": "markdown",
   "metadata": {
    "papermill": {
     "duration": 0.006446,
     "end_time": "2020-08-12T12:04:48.181823",
     "exception": false,
     "start_time": "2020-08-12T12:04:48.175377",
     "status": "completed"
    },
    "tags": []
   },
   "source": [
    "## Read the jsonfile"
   ]
  },
  {
   "cell_type": "code",
   "execution_count": 5,
   "metadata": {
    "execution": {
     "iopub.execute_input": "2020-08-12T12:04:48.198798Z",
     "iopub.status.busy": "2020-08-12T12:04:48.197795Z",
     "iopub.status.idle": "2020-08-12T12:04:48.200564Z",
     "shell.execute_reply": "2020-08-12T12:04:48.201056Z"
    },
    "papermill": {
     "duration": 0.013074,
     "end_time": "2020-08-12T12:04:48.201208",
     "exception": false,
     "start_time": "2020-08-12T12:04:48.188134",
     "status": "completed"
    },
    "tags": []
   },
   "outputs": [],
   "source": [
    "sourcefile=open(jsonfile,'rU')\n",
    "infos=json.load(sourcefile)\n",
    "nb_profilesEN4=len(infos)\n"
   ]
  },
  {
   "cell_type": "code",
   "execution_count": 6,
   "metadata": {
    "execution": {
     "iopub.execute_input": "2020-08-12T12:04:48.225198Z",
     "iopub.status.busy": "2020-08-12T12:04:48.224663Z",
     "iopub.status.idle": "2020-08-12T12:04:48.227951Z",
     "shell.execute_reply": "2020-08-12T12:04:48.227431Z"
    },
    "papermill": {
     "duration": 0.018846,
     "end_time": "2020-08-12T12:04:48.228082",
     "exception": false,
     "start_time": "2020-08-12T12:04:48.209236",
     "status": "completed"
    },
    "tags": []
   },
   "outputs": [],
   "source": [
    "vert_standart=[0,2,4,6,8,10,12,14,16,18,20,25,30,35,40,45,50,55,60,65,70,75,80,85,90,95,100,\n",
    "                   110,120,130,140,150,160,170,180,190,200,220,240,260,280,300,320,340,360,380,400,\n",
    "                   420,440,460,480,500,520,540,560,580,600,620,640,660,680,700,720,740,760,780,800,\n",
    "                   820,840,860,880,900,920,940,960,980,1000,1050,1100,1150,1200,1250,1300,1350,1400,\n",
    "                   1450,1500,1550,1600,1650,1700,1750,1800,1850,1900,1950,2000]\n",
    "all_temp_mean_model=np.zeros((nb_profilesEN4,len(vert_standart)))\n",
    "all_salt_mean_model=np.zeros((nb_profilesEN4,len(vert_standart)))\n",
    "all_temp_en4=np.zeros((nb_profilesEN4,len(vert_standart)))\n",
    "all_salt_en4=np.zeros((nb_profilesEN4,len(vert_standart)))\n",
    "all_temp_percent10_model=np.zeros((nb_profilesEN4,len(vert_standart)))\n",
    "all_salt_percent10_model=np.zeros((nb_profilesEN4,len(vert_standart)))\n",
    "all_temp_percent90_model=np.zeros((nb_profilesEN4,len(vert_standart)))\n",
    "all_salt_percent90_model=np.zeros((nb_profilesEN4,len(vert_standart)))\n"
   ]
  },
  {
   "cell_type": "code",
   "execution_count": 7,
   "metadata": {
    "execution": {
     "iopub.execute_input": "2020-08-12T12:04:48.255435Z",
     "iopub.status.busy": "2020-08-12T12:04:48.251621Z",
     "iopub.status.idle": "2020-08-12T12:04:50.098697Z",
     "shell.execute_reply": "2020-08-12T12:04:50.098162Z"
    },
    "papermill": {
     "duration": 1.864077,
     "end_time": "2020-08-12T12:04:50.098830",
     "exception": false,
     "start_time": "2020-08-12T12:04:48.234753",
     "status": "completed"
    },
    "tags": []
   },
   "outputs": [
    {
     "name": "stdout",
     "output_type": "stream",
     "text": [
      "Processing profile  Profile_20100106_prof.nc_71\n",
      "Processing profile  Profile_20100106_prof.nc_76\n",
      "Processing profile  Profile_20100108_prof.nc_90\n",
      "Processing profile  Profile_20100108_prof.nc_92\n",
      "Processing profile  Profile_20100109_prof.nc_0\n",
      "Processing profile  Profile_20100109_prof.nc_52\n",
      "Processing profile  Profile_20100109_prof.nc_62\n",
      "Processing profile  Profile_20100110_prof.nc_0\n",
      "Processing profile  Profile_20100110_prof.nc_81\n",
      "Processing profile  Profile_20100113_prof.nc_69\n",
      "Processing profile  Profile_20100114_prof.nc_3\n",
      "Processing profile  Profile_20100114_prof.nc_39\n",
      "Processing profile  Profile_20100114_prof.nc_44\n",
      "Processing profile  Profile_20100115_prof.nc_0\n",
      "Processing profile  Profile_20100115_prof.nc_58\n",
      "Processing profile  Profile_20100116_prof.nc_79\n"
     ]
    },
    {
     "name": "stdout",
     "output_type": "stream",
     "text": [
      "Processing profile  Profile_20100118_prof.nc_85\n",
      "Processing profile  Profile_20100118_prof.nc_88\n",
      "Processing profile  Profile_20100119_prof.nc_1\n",
      "Processing profile  Profile_20100119_prof.nc_37\n",
      "Processing profile  Profile_20100119_prof.nc_58\n",
      "Processing profile  Profile_20100120_prof.nc_0\n",
      "Processing profile  Profile_20100120_prof.nc_91\n",
      "Processing profile  Profile_20100123_prof.nc_72\n",
      "Processing profile  Profile_20100124_prof.nc_35\n",
      "Processing profile  Profile_20100124_prof.nc_42\n",
      "Processing profile  Profile_20100124_prof.nc_5\n",
      "Processing profile  Profile_20100125_prof.nc_1\n",
      "Processing profile  Profile_20100125_prof.nc_57\n",
      "Processing profile  Profile_20100126_prof.nc_69\n",
      "Processing profile  Profile_20100128_prof.nc_92\n",
      "Processing profile  Profile_20100128_prof.nc_94\n",
      "Processing profile  Profile_20100129_prof.nc_0\n"
     ]
    },
    {
     "name": "stdout",
     "output_type": "stream",
     "text": [
      "Processing profile  Profile_20100129_prof.nc_50\n",
      "Processing profile  Profile_20100129_prof.nc_63\n",
      "Processing profile  Profile_20100130_prof.nc_112\n",
      "Processing profile  Profile_20100131_prof.nc_83\n",
      "Processing profile  Profile_20100202_prof.nc_70\n",
      "Processing profile  Profile_20100203_prof.nc_42\n",
      "Processing profile  Profile_20100203_prof.nc_52\n",
      "Processing profile  Profile_20100203_prof.nc_7\n",
      "Processing profile  Profile_20100204_prof.nc_0\n",
      "Processing profile  Profile_20100204_prof.nc_61\n",
      "Processing profile  Profile_20100205_prof.nc_79\n",
      "Processing profile  Profile_20100207_prof.nc_87\n",
      "Processing profile  Profile_20100207_prof.nc_92\n",
      "Processing profile  Profile_20100208_prof.nc_0\n",
      "Processing profile  Profile_20100208_prof.nc_46\n",
      "Processing profile  Profile_20100208_prof.nc_61\n"
     ]
    },
    {
     "name": "stdout",
     "output_type": "stream",
     "text": [
      "Processing profile  Profile_20100209_prof.nc_0\n",
      "Processing profile  Profile_20100209_prof.nc_79\n",
      "Processing profile  Profile_20100212_prof.nc_77\n",
      "Processing profile  Profile_20100213_prof.nc_3\n",
      "Processing profile  Profile_20100213_prof.nc_44\n",
      "Processing profile  Profile_20100213_prof.nc_46\n",
      "Processing profile  Profile_20100214_prof.nc_57\n",
      "Processing profile  Profile_20100215_prof.nc_74\n",
      "Processing profile  Profile_20100215_prof.nc_81\n",
      "Processing profile  Profile_20100217_prof.nc_101\n",
      "Processing profile  Profile_20100217_prof.nc_96\n",
      "Processing profile  Profile_20100218_prof.nc_24\n",
      "Processing profile  Profile_20100218_prof.nc_27\n",
      "Processing profile  Profile_20100219_prof.nc_0\n",
      "Processing profile  Profile_20100219_prof.nc_72\n",
      "Processing profile  Profile_20100219_prof.nc_96\n",
      "Processing profile  Profile_20100222_prof.nc_71\n"
     ]
    },
    {
     "name": "stdout",
     "output_type": "stream",
     "text": [
      "Processing profile  Profile_20100223_prof.nc_18\n",
      "Processing profile  Profile_20100223_prof.nc_25\n",
      "Processing profile  Profile_20100223_prof.nc_3\n",
      "Processing profile  Profile_20100224_prof.nc_58\n",
      "Processing profile  Profile_20100225_prof.nc_65\n",
      "Processing profile  Profile_20100225_prof.nc_73\n",
      "Processing profile  Profile_20100227_prof.nc_100\n",
      "Processing profile  Profile_20100227_prof.nc_99\n",
      "Processing profile  Profile_20100228_prof.nc_0\n",
      "Processing profile  Profile_20100228_prof.nc_42\n",
      "Processing profile  Profile_20100228_prof.nc_59\n",
      "Processing profile  Profile_20100301_prof.nc_0\n",
      "Processing profile  Profile_20100301_prof.nc_82\n",
      "Processing profile  Profile_20100303_prof.nc_38\n",
      "Processing profile  Profile_20100303_prof.nc_41\n",
      "Processing profile  Profile_20100304_prof.nc_75\n"
     ]
    },
    {
     "name": "stdout",
     "output_type": "stream",
     "text": [
      "Processing profile  Profile_20100305_prof.nc_2\n",
      "Processing profile  Profile_20100306_prof.nc_0\n",
      "Processing profile  Profile_20100306_prof.nc_61\n",
      "Processing profile  Profile_20100307_prof.nc_69\n",
      "Processing profile  Profile_20100308_prof.nc_1\n",
      "Processing profile  Profile_20100308_prof.nc_52\n",
      "Processing profile  Profile_20100308_prof.nc_63\n",
      "Processing profile  Profile_20100309_prof.nc_97\n",
      "Processing profile  Profile_20100310_prof.nc_0\n",
      "Processing profile  Profile_20100310_prof.nc_49\n",
      "Processing profile  Profile_20100310_prof.nc_58\n",
      "Processing profile  Profile_20100311_prof.nc_0\n",
      "Processing profile  Profile_20100311_prof.nc_80\n",
      "Processing profile  Profile_20100312_prof.nc_42\n",
      "Processing profile  Profile_20100312_prof.nc_48\n",
      "Processing profile  Profile_20100313_prof.nc_0\n",
      "Processing profile  Profile_20100314_prof.nc_36\n"
     ]
    },
    {
     "name": "stdout",
     "output_type": "stream",
     "text": [
      "Processing profile  Profile_20100314_prof.nc_48\n",
      "Processing profile  Profile_20100315_prof.nc_0\n",
      "Processing profile  Profile_20100316_prof.nc_0\n",
      "Processing profile  Profile_20100316_prof.nc_18\n",
      "Processing profile  Profile_20100316_prof.nc_61\n",
      "Processing profile  Profile_20100317_prof.nc_81\n",
      "Processing profile  Profile_20100319_prof.nc_97\n",
      "Processing profile  Profile_20100319_prof.nc_99\n",
      "Processing profile  Profile_20100320_prof.nc_0\n",
      "Processing profile  Profile_20100321_prof.nc_92\n",
      "Processing profile  Profile_20100322_prof.nc_60\n",
      "Processing profile  Profile_20100324_prof.nc_78\n",
      "Processing profile  Profile_20100325_prof.nc_1\n",
      "Processing profile  Profile_20100326_prof.nc_0\n",
      "Processing profile  Profile_20100326_prof.nc_55\n",
      "Processing profile  Profile_20100327_prof.nc_69\n",
      "Processing profile  Profile_20100329_prof.nc_91\n"
     ]
    },
    {
     "name": "stdout",
     "output_type": "stream",
     "text": [
      "Processing profile  Profile_20100329_prof.nc_95\n",
      "Processing profile  Profile_20100330_prof.nc_0\n",
      "Processing profile  Profile_20100331_prof.nc_0\n",
      "Processing profile  Profile_20100331_prof.nc_83\n",
      "Processing profile  Profile_20100403_prof.nc_85\n",
      "Processing profile  Profile_20100405_prof.nc_0\n",
      "Processing profile  Profile_20100405_prof.nc_56\n",
      "Processing profile  Profile_20100405_prof.nc_75\n",
      "Processing profile  Profile_20100406_prof.nc_68\n",
      "Processing profile  Profile_20100408_prof.nc_95\n",
      "Processing profile  Profile_20100408_prof.nc_96\n",
      "Processing profile  Profile_20100410_prof.nc_0\n",
      "Processing profile  Profile_20100410_prof.nc_103\n",
      "Processing profile  Profile_20100410_prof.nc_78\n",
      "Processing profile  Profile_20100412_prof.nc_0\n",
      "Processing profile  Profile_20100414_prof.nc_2\n"
     ]
    },
    {
     "name": "stdout",
     "output_type": "stream",
     "text": [
      "Processing profile  Profile_20100415_prof.nc_0\n",
      "Processing profile  Profile_20100415_prof.nc_65\n",
      "Processing profile  Profile_20100416_prof.nc_74\n",
      "Processing profile  Profile_20100418_prof.nc_93\n",
      "Processing profile  Profile_20100418_prof.nc_96\n",
      "Processing profile  Profile_20100419_prof.nc_0\n",
      "Processing profile  Profile_20100420_prof.nc_0\n",
      "Processing profile  Profile_20100420_prof.nc_74\n",
      "Processing profile  Profile_20100422_prof.nc_0\n",
      "Processing profile  Profile_20100424_prof.nc_0\n",
      "Processing profile  Profile_20100425_prof.nc_0\n",
      "Processing profile  Profile_20100425_prof.nc_66\n",
      "Processing profile  Profile_20100425_prof.nc_9\n"
     ]
    }
   ],
   "source": [
    "for prof in np.arange(nb_profilesEN4):\n",
    "    list_profiles = infos.keys()\n",
    "    reference =  str(list(list_profiles)[prof])\n",
    "    print('Processing profile ', reference)\n",
    "    # Open the netcdf file\n",
    "    match=re.search(r'([\\w.-]+).nc([\\w.-]+)', reference)\n",
    "    debut_ref=match.group(1)\n",
    "    fin_ref=match.group(2)\n",
    "    diren4=\"/gpfswork/rech/egi/rote001/EN4/\"\n",
    "    dirname=diren4+'profiles_files/MEDWEST60-BLBT02/'\n",
    "    outname=dirname+str(debut_ref)+str(fin_ref)+'_MEDWEST60-BLBT02_TS.nc'\n",
    "    dsprof=xr.open_dataset(outname)\n",
    "\n",
    "    depth_en4=dsprof['depth_en4']\n",
    "    temp_en4=dsprof['temp_profileEN4']\n",
    "    salt_en4=dsprof['salt_profileEN4']\n",
    "    mean_temp_model=dsprof['mean_temp_model']\n",
    "    mean_salt_model=dsprof['mean_salt_model']\n",
    "    percent10_temp_model=dsprof['percent10_temp_model']\n",
    "    percent10_salt_model=dsprof['percent10_salt_model']\n",
    "    percent90_temp_model=dsprof['percent90_temp_model']\n",
    "    percent90_salt_model=dsprof['percent90_salt_model']\n",
    "    obs_lat=dsprof['latitude_profileEN4']\n",
    "    obs_lon=dsprof['longitude_profileEN4']\n",
    "    obs_time=dsprof['time_profileEN4']\n",
    "    \n",
    "    # Project the profile to standart vertical levels\n",
    "    temp_en4_standart=np.interp(vert_standart,depth_en4,temp_en4)\n",
    "    salt_en4_standart=np.interp(vert_standart,depth_en4,salt_en4)\n",
    "    mean_temp_model_standart=np.interp(vert_standart,depth_en4,mean_temp_model)\n",
    "    mean_salt_model_standart=np.interp(vert_standart,depth_en4,mean_salt_model)\n",
    "    percent10_temp_model_standart=np.interp(vert_standart,depth_en4,percent10_temp_model)\n",
    "    percent10_salt_model_standart=np.interp(vert_standart,depth_en4,percent10_salt_model)\n",
    "    percent90_temp_model_standart=np.interp(vert_standart,depth_en4,percent90_temp_model)\n",
    "    percent90_salt_model_standart=np.interp(vert_standart,depth_en4,percent90_salt_model)\n",
    "\n",
    "    #Fill the all profiles\n",
    "    all_temp_mean_model[prof,:]=mean_temp_model_standart[:]\n",
    "    all_salt_mean_model[prof,:]=mean_salt_model_standart[:]\n",
    "    all_temp_en4[prof,:]=temp_en4_standart[:]\n",
    "    all_salt_en4[prof,:]=salt_en4_standart[:]\n",
    "    all_temp_percent10_model[prof,:]=percent10_temp_model_standart[:]\n",
    "    all_salt_percent10_model[prof,:]=percent10_salt_model_standart[:]\n",
    "    all_temp_percent90_model[prof,:]=percent90_temp_model_standart[:]\n",
    "    all_salt_percent90_model[prof,:]=percent90_salt_model_standart[:]\n"
   ]
  },
  {
   "cell_type": "markdown",
   "metadata": {
    "tags": [
     "papermill-error-cell-tag"
    ]
   },
   "source": [
    "<span id=\"papermill-error-cell\" style=\"color:red; font-family:Helvetica Neue, Helvetica, Arial, sans-serif; font-size:2em;\">Execution using papermill encountered an exception here and stopped:</span>"
   ]
  },
  {
   "cell_type": "code",
   "execution_count": 8,
   "metadata": {
    "execution": {
     "iopub.execute_input": "2020-08-12T12:04:50.132057Z",
     "iopub.status.busy": "2020-08-12T12:04:50.127118Z",
     "iopub.status.idle": "2020-08-12T12:04:50.923290Z",
     "shell.execute_reply": "2020-08-12T12:04:50.922410Z"
    },
    "papermill": {
     "duration": 0.813702,
     "end_time": "2020-08-12T12:04:50.923495",
     "exception": true,
     "start_time": "2020-08-12T12:04:50.109793",
     "status": "failed"
    },
    "tags": []
   },
   "outputs": [
    {
     "ename": "ValueError",
     "evalue": "Axis limits cannot be NaN or Inf",
     "output_type": "error",
     "traceback": [
      "\u001b[0;31m---------------------------------------------------------------------------\u001b[0m",
      "\u001b[0;31mValueError\u001b[0m                                Traceback (most recent call last)",
      "\u001b[0;32m<ipython-input-8-1feb4a7d6ecd>\u001b[0m in \u001b[0;36m<module>\u001b[0;34m\u001b[0m\n\u001b[1;32m     33\u001b[0m \u001b[0maxs\u001b[0m\u001b[0;34m[\u001b[0m\u001b[0;36m0\u001b[0m\u001b[0;34m]\u001b[0m\u001b[0;34m.\u001b[0m\u001b[0mplot\u001b[0m\u001b[0;34m(\u001b[0m\u001b[0mmean_temp_model_standart\u001b[0m\u001b[0;34m,\u001b[0m\u001b[0mvert_standart\u001b[0m\u001b[0;34m,\u001b[0m\u001b[0;34m'b.-'\u001b[0m\u001b[0;34m,\u001b[0m \u001b[0mlabel\u001b[0m\u001b[0;34m=\u001b[0m\u001b[0;34m'temp model-mean'\u001b[0m\u001b[0;34m)\u001b[0m\u001b[0;34m\u001b[0m\u001b[0;34m\u001b[0m\u001b[0m\n\u001b[1;32m     34\u001b[0m \u001b[0maxs\u001b[0m\u001b[0;34m[\u001b[0m\u001b[0;36m0\u001b[0m\u001b[0;34m]\u001b[0m\u001b[0;34m.\u001b[0m\u001b[0mset_ylabel\u001b[0m\u001b[0;34m(\u001b[0m\u001b[0;34m'Depth [m]'\u001b[0m\u001b[0;34m,\u001b[0m \u001b[0msize\u001b[0m\u001b[0;34m=\u001b[0m\u001b[0;36m14\u001b[0m\u001b[0;34m)\u001b[0m\u001b[0;34m\u001b[0m\u001b[0;34m\u001b[0m\u001b[0m\n\u001b[0;32m---> 35\u001b[0;31m \u001b[0maxs\u001b[0m\u001b[0;34m[\u001b[0m\u001b[0;36m0\u001b[0m\u001b[0;34m]\u001b[0m\u001b[0;34m.\u001b[0m\u001b[0mset_xlim\u001b[0m\u001b[0;34m(\u001b[0m\u001b[0mmin_temp\u001b[0m\u001b[0;34m,\u001b[0m\u001b[0mmax_temp\u001b[0m\u001b[0;34m)\u001b[0m\u001b[0;34m\u001b[0m\u001b[0;34m\u001b[0m\u001b[0m\n\u001b[0m\u001b[1;32m     36\u001b[0m \u001b[0maxs\u001b[0m\u001b[0;34m[\u001b[0m\u001b[0;36m0\u001b[0m\u001b[0;34m]\u001b[0m\u001b[0;34m.\u001b[0m\u001b[0mset_ylim\u001b[0m\u001b[0;34m(\u001b[0m\u001b[0mdepthmin\u001b[0m\u001b[0;34m,\u001b[0m \u001b[0;36m0\u001b[0m\u001b[0;34m)\u001b[0m\u001b[0;34m\u001b[0m\u001b[0;34m\u001b[0m\u001b[0m\n\u001b[1;32m     37\u001b[0m \u001b[0maxs\u001b[0m\u001b[0;34m[\u001b[0m\u001b[0;36m0\u001b[0m\u001b[0;34m]\u001b[0m\u001b[0;34m.\u001b[0m\u001b[0mgrid\u001b[0m\u001b[0;34m(\u001b[0m\u001b[0;32mTrue\u001b[0m\u001b[0;34m,\u001b[0m \u001b[0mwhich\u001b[0m\u001b[0;34m=\u001b[0m\u001b[0;34m'both'\u001b[0m\u001b[0;34m)\u001b[0m\u001b[0;34m\u001b[0m\u001b[0;34m\u001b[0m\u001b[0m\n",
      "\u001b[0;32m/gpfswork/rech/yrf/rote001/miniconda2/envs/seawater/lib/python3.8/site-packages/matplotlib/axes/_base.py\u001b[0m in \u001b[0;36mset_xlim\u001b[0;34m(self, left, right, emit, auto, xmin, xmax)\u001b[0m\n\u001b[1;32m   3182\u001b[0m \u001b[0;34m\u001b[0m\u001b[0m\n\u001b[1;32m   3183\u001b[0m         \u001b[0mself\u001b[0m\u001b[0;34m.\u001b[0m\u001b[0m_process_unit_info\u001b[0m\u001b[0;34m(\u001b[0m\u001b[0mxdata\u001b[0m\u001b[0;34m=\u001b[0m\u001b[0;34m(\u001b[0m\u001b[0mleft\u001b[0m\u001b[0;34m,\u001b[0m \u001b[0mright\u001b[0m\u001b[0;34m)\u001b[0m\u001b[0;34m)\u001b[0m\u001b[0;34m\u001b[0m\u001b[0;34m\u001b[0m\u001b[0m\n\u001b[0;32m-> 3184\u001b[0;31m         \u001b[0mleft\u001b[0m \u001b[0;34m=\u001b[0m \u001b[0mself\u001b[0m\u001b[0;34m.\u001b[0m\u001b[0m_validate_converted_limits\u001b[0m\u001b[0;34m(\u001b[0m\u001b[0mleft\u001b[0m\u001b[0;34m,\u001b[0m \u001b[0mself\u001b[0m\u001b[0;34m.\u001b[0m\u001b[0mconvert_xunits\u001b[0m\u001b[0;34m)\u001b[0m\u001b[0;34m\u001b[0m\u001b[0;34m\u001b[0m\u001b[0m\n\u001b[0m\u001b[1;32m   3185\u001b[0m         \u001b[0mright\u001b[0m \u001b[0;34m=\u001b[0m \u001b[0mself\u001b[0m\u001b[0;34m.\u001b[0m\u001b[0m_validate_converted_limits\u001b[0m\u001b[0;34m(\u001b[0m\u001b[0mright\u001b[0m\u001b[0;34m,\u001b[0m \u001b[0mself\u001b[0m\u001b[0;34m.\u001b[0m\u001b[0mconvert_xunits\u001b[0m\u001b[0;34m)\u001b[0m\u001b[0;34m\u001b[0m\u001b[0;34m\u001b[0m\u001b[0m\n\u001b[1;32m   3186\u001b[0m \u001b[0;34m\u001b[0m\u001b[0m\n",
      "\u001b[0;32m/gpfswork/rech/yrf/rote001/miniconda2/envs/seawater/lib/python3.8/site-packages/matplotlib/axes/_base.py\u001b[0m in \u001b[0;36m_validate_converted_limits\u001b[0;34m(self, limit, convert)\u001b[0m\n\u001b[1;32m   3099\u001b[0m             if (isinstance(converted_limit, Real)\n\u001b[1;32m   3100\u001b[0m                     and not np.isfinite(converted_limit)):\n\u001b[0;32m-> 3101\u001b[0;31m                 \u001b[0;32mraise\u001b[0m \u001b[0mValueError\u001b[0m\u001b[0;34m(\u001b[0m\u001b[0;34m\"Axis limits cannot be NaN or Inf\"\u001b[0m\u001b[0;34m)\u001b[0m\u001b[0;34m\u001b[0m\u001b[0;34m\u001b[0m\u001b[0m\n\u001b[0m\u001b[1;32m   3102\u001b[0m             \u001b[0;32mreturn\u001b[0m \u001b[0mconverted_limit\u001b[0m\u001b[0;34m\u001b[0m\u001b[0;34m\u001b[0m\u001b[0m\n\u001b[1;32m   3103\u001b[0m \u001b[0;34m\u001b[0m\u001b[0m\n",
      "\u001b[0;31mValueError\u001b[0m: Axis limits cannot be NaN or Inf"
     ]
    },
    {
     "data": {
      "image/png": "[encoded data removed]",
      "text/plain": [
       "<Figure size 1080x432 with 3 Axes>"
      ]
     },
     "metadata": {
      "needs_background": "light"
     },
     "output_type": "display_data"
    }
   ],
   "source": [
    "mean_all_temp_mean_model=np.mean(all_temp_mean_model,axis=0)\n",
    "mean_all_salt_mean_model=np.mean(all_salt_mean_model,axis=0)\n",
    "mean_all_temp_en4=np.mean(all_temp_en4,axis=0)\n",
    "mean_all_salt_en4=np.mean(all_salt_en4,axis=0)\n",
    "mean_all_temp_percent10_model=np.mean(all_temp_percent10_model,axis=0)\n",
    "mean_all_salt_percent10_model=np.mean(all_salt_percent10_model,axis=0)\n",
    "mean_all_temp_percent90_model=np.mean(all_temp_percent90_model,axis=0)\n",
    "mean_all_salt_percent90_model=np.mean(all_salt_percent90_model,axis=0)\n",
    "\n",
    "min_temp=np.min([np.min(mean_all_temp_mean_model),\n",
    "                 np.min(mean_all_temp_en4),\n",
    "                 np.min(mean_all_temp_percent10_model),\n",
    "                 np.min(mean_all_temp_percent90_model)])\n",
    "max_temp=np.max([np.max(mean_all_temp_mean_model),\n",
    "                 np.max(mean_all_temp_en4),\n",
    "                 np.max(mean_all_temp_percent10_model),\n",
    "                 np.max(mean_all_temp_percent90_model)])\n",
    "min_salt=np.min([np.min(mean_all_salt_mean_model),\n",
    "                 np.min(mean_all_salt_en4),\n",
    "                 np.min(mean_all_salt_percent10_model),\n",
    "                 np.min(mean_all_salt_percent90_model)])\n",
    "max_salt=np.max([np.max(mean_all_salt_mean_model),\n",
    "                 np.max(mean_all_salt_en4),\n",
    "                 np.max(mean_all_salt_percent10_model),\n",
    "                 np.max(mean_all_salt_percent90_model)])\n",
    "\n",
    "\n",
    "fig, axs = plt.subplots(1,3, figsize=(15, 6))\n",
    "axs = axs.ravel()\n",
    "title = 'Comparison of Temperature and Salinity Profiles with '+str(nb_profilesEN4)+' profiles of EN4 database'\n",
    "plt.suptitle(title,size = 15,y=1.05)\n",
    "axs[0].plot(temp_en4_standart,vert_standart,'k.-', label='temp en4')\n",
    "axs[0].plot(mean_temp_model_standart,vert_standart,'b.-', label='temp model-mean')\n",
    "axs[0].set_ylabel('Depth [m]', size=14)\n",
    "axs[0].set_xlim(min_temp,max_temp)\n",
    "axs[0].set_ylim(depthmin, 0)\n",
    "axs[0].grid(True, which='both')\n",
    "axs[0].xaxis.tick_top()\n",
    "axs[0].xaxis.set_label_position('top') \n",
    "axs[0].plot(percent10_temp_model_standart,vert_standart,'b-', label='temp model-percent10')\n",
    "axs[0].plot(percent90_temp_model_standart,vert_standart,'b-', label='temp model-percent90')\n",
    "axs[0].fill_betweenx(vert_standart, percent10_temp_model_standart, x2=percent90_temp_model_standart, alpha=0.2, facecolor='b')\n",
    "#        axs[0].set_title('Temperature profiles')\n",
    "axs[0].legend()\n",
    "        \n",
    "axs[1].plot(salt_en4_standart,vert_standart,'k.-', label='salt en4')\n",
    "axs[1].plot(mean_salt_model_standart,vert_standart,'b.-', label='salt model-mean')\n",
    "axs[1].set_ylabel('Depth [m]', size=14)\n",
    "axs[0].set_xlim(min_salt,max_salt)\n",
    "axs[1].set_ylim(depthmin, 0)\n",
    "axs[1].grid(True, which='both')\n",
    "axs[1].xaxis.tick_top()\n",
    "axs[1].xaxis.set_label_position('top') \n",
    "axs[1].plot(percent10_salt_model_standart,vert_standart,'b-', label='salt model-percent10')\n",
    "axs[1].plot(percent90_salt_model_standart,vert_standart,'b-', label='salt model-percent90')\n",
    "axs[1].fill_betweenx(vert_standart, percent10_salt_model_standart, x2=percent90_salt_model_standart, alpha=0.2, facecolor='b')\n",
    "#        axs[1].set_title('Salinity profiles')\n",
    "axs[1].legend()\n",
    "\n",
    "textstr = '\\n'.join((\n",
    "            ' simulation = MEDWEST60-BLBT02',\n",
    "            ' dates = '+str(datemin)+' '+str(datemax),\n",
    "            ' radius max = '+str(radius_max)+'°',\n",
    "            ' period = '+str(period)+'d',\n",
    "            ' depth min = '+str(depthmin)+'m',\n",
    "            ' nb_profiles = '+str(number_of_model_profiles)))        \n",
    "props = dict(boxstyle='round', facecolor='wheat', alpha=0.5)\n",
    "axs[2].text(0.05, 0.95, textstr, transform=axs[2].transAxes, fontsize=14,verticalalignment='top', bbox=props)\n",
    "axs[2].axis('off')\n",
    "fig.tight_layout()\n",
    "plt.savefig('plots/profiles-TS-MEDWEST60-BLBT02_'+str(datemin)+'-'+str(datemax)+'_'+str(depthmin)+'m_'+str(radius_max)+'x'+str(period)+'d_'+str(number_of_model_profiles)+'.png',bbox_inches='tight')\n"
   ]
  },
  {
   "cell_type": "code",
   "execution_count": null,
   "metadata": {
    "papermill": {
     "duration": null,
     "end_time": null,
     "exception": null,
     "start_time": null,
     "status": "pending"
    },
    "tags": []
   },
   "outputs": [],
   "source": []
  }
 ],
 "metadata": {
  "celltoolbar": "Tags",
  "kernelspec": {
   "display_name": "new-seawater",
   "language": "python",
   "name": "seawater"
  },
  "language_info": {
   "codemirror_mode": {
    "name": "ipython",
    "version": 3
   },
   "file_extension": ".py",
   "mimetype": "text/x-python",
   "name": "python",
   "nbconvert_exporter": "python",
   "pygments_lexer": "ipython3",
   "version": "3.8.3"
  },
  "papermill": {
   "duration": 5.470377,
   "end_time": "2020-08-12T12:04:51.531274",
   "environment_variables": {},
   "exception": true,
   "input_path": "2020-08-07-AA-final-plot.ipynb",
   "output_path": "out/2020-08-12-AA-final-plot-MEDWEST60_2010-01-01-2010-04-30_100m_0.25x5d_100000.ipynb",
   "parameters": {
    "depthmin": 100,
    "dmax": 30,
    "dmin": 1,
    "mmax": 4,
    "mmin": 1,
    "number_of_model_profiles": 100000,
    "period": 5,
    "radius_max": 0.25,
    "ymax": 2010,
    "ymin": 2010
   },
   "start_time": "2020-08-12T12:04:46.060897",
   "version": "2.1.2"
  }
 },
 "nbformat": 4,
 "nbformat_minor": 4
}