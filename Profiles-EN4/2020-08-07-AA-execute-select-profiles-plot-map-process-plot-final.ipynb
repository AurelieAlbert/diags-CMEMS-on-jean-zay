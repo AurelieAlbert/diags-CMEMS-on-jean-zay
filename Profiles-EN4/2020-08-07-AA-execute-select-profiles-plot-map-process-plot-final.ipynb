{
 "cells": [
  {
   "cell_type": "code",
   "execution_count": 1,
   "metadata": {},
   "outputs": [],
   "source": [
    "import papermill as pm\n",
    "import datetime\n",
    "import time"
   ]
  },
  {
   "cell_type": "code",
   "execution_count": 2,
   "metadata": {},
   "outputs": [],
   "source": [
    "datenow=time.strftime('%Y-%m-%d',time.localtime())\n"
   ]
  },
  {
   "cell_type": "code",
   "execution_count": 17,
   "metadata": {},
   "outputs": [
    {
     "name": "stdout",
     "output_type": "stream",
     "text": [
      "07/08/20 16:56\n"
     ]
    },
    {
     "data": {
      "application/vnd.jupyter.widget-view+json": {
       "model_id": "0c87b63a139240d493559d6c816575dd",
       "version_major": 2,
       "version_minor": 0
      },
      "text/plain": [
       "HBox(children=(FloatProgress(value=0.0, description='Executing', max=24.0, style=ProgressStyle(description_wid…"
      ]
     },
     "metadata": {},
     "output_type": "display_data"
    },
    {
     "name": "stdout",
     "output_type": "stream",
     "text": [
      "\n",
      "07/08/20 17:03\n"
     ]
    },
    {
     "data": {
      "application/vnd.jupyter.widget-view+json": {
       "model_id": "391866aef14046c0b67f8b2cd298da42",
       "version_major": 2,
       "version_minor": 0
      },
      "text/plain": [
       "HBox(children=(FloatProgress(value=0.0, description='Executing', max=9.0, style=ProgressStyle(description_widt…"
      ]
     },
     "metadata": {},
     "output_type": "display_data"
    },
    {
     "name": "stdout",
     "output_type": "stream",
     "text": [
      "\n",
      "07/08/20 17:03\n"
     ]
    },
    {
     "data": {
      "application/vnd.jupyter.widget-view+json": {
       "model_id": "8c598a50c004401ea6eec5a6891920af",
       "version_major": 2,
       "version_minor": 0
      },
      "text/plain": [
       "HBox(children=(FloatProgress(value=0.0, description='Executing', max=12.0, style=ProgressStyle(description_wid…"
      ]
     },
     "metadata": {},
     "output_type": "display_data"
    },
    {
     "name": "stdout",
     "output_type": "stream",
     "text": [
      "\n",
      "07/08/20 17:03\n"
     ]
    },
    {
     "data": {
      "application/vnd.jupyter.widget-view+json": {
       "model_id": "3201bd1b209e4c82857588fbdafb7b74",
       "version_major": 2,
       "version_minor": 0
      },
      "text/plain": [
       "HBox(children=(FloatProgress(value=0.0, description='Executing', max=12.0, style=ProgressStyle(description_wid…"
      ]
     },
     "metadata": {},
     "output_type": "display_data"
    },
    {
     "name": "stdout",
     "output_type": "stream",
     "text": [
      "\n",
      "07/08/20 17:03\n"
     ]
    }
   ],
   "source": [
    "ymin=2010;mmin=1;dmin=1\n",
    "ymax=2010;mmax=4;dmax=30\n",
    "# depth of the desired comparison profile in m\n",
    "depthmin=1000\n",
    "# radius of the circle around the profile location in which we take the modeled profiles, in °  \n",
    "radius_max=0.25\n",
    "# period of time around the profile sampling date in which we take the modeled profiles, in days\n",
    "period=5\n",
    "# minimum amount of model profiles to be considered to make a significant statistical comparison, for instance in a 1° square and 30-days window we have 2.6 millions modeled profiles, in a 0.5°x10 days 216 000\n",
    "number_of_model_profiles=100000\n",
    "datemin=datetime.date(ymin,mmin,dmin)\n",
    "datemax=datetime.date(ymax,mmax,dmax)\n",
    "print(time.strftime('%d/%m/%y %H:%M',time.localtime()))\n",
    "pm.execute_notebook('2020-08-03-AA-selection-script-with-options.ipynb','out/'+str(datenow)+'-AA-selection-script-with-options-MEDWEST60_'+str(datemin)+'-'+str(datemax)+'_'+str(depthmin)+'m_'+str(radius_max)+'x'+str(period)+'d_'+str(number_of_model_profiles)+'.ipynb',parameters=dict(ymin=ymin,mmin=mmin,dmin=dmin,ymax=ymax,mmax=mmax,dmax=dmax,depthmin=depthmin,radius_max=radius_max,period=period,number_of_model_profiles=number_of_model_profiles))\n",
    "print(time.strftime('%d/%m/%y %H:%M',time.localtime()))\n",
    "pm.execute_notebook('2020-08-05-AA-map-selected-profiles.ipynb','out/'+str(datenow)+'-AA-map-selected-profiles-MEDWEST60_'+str(datemin)+'-'+str(datemax)+'_'+str(depthmin)+'m_'+str(radius_max)+'x'+str(period)+'d_'+str(number_of_model_profiles)+'.ipynb',parameters=dict(ymin=ymin,mmin=mmin,dmin=dmin,ymax=ymax,mmax=mmax,dmax=dmax,depthmin=depthmin,radius_max=radius_max,period=period,number_of_model_profiles=number_of_model_profiles))\n",
    "print(time.strftime('%d/%m/%y %H:%M',time.localtime()))\n",
    "pm.execute_notebook('2020-08-07-AA-process-profiles.ipynb','out/'+str(datenow)+'-AA-process-profiles-MEDWEST60_'+str(datemin)+'-'+str(datemax)+'_'+str(depthmin)+'m_'+str(radius_max)+'x'+str(period)+'d_'+str(number_of_model_profiles)+'.ipynb',parameters=dict(ymin=ymin,mmin=mmin,dmin=dmin,ymax=ymax,mmax=mmax,dmax=dmax,depthmin=depthmin,radius_max=radius_max,period=period,number_of_model_profiles=number_of_model_profiles))\n",
    "print(time.strftime('%d/%m/%y %H:%M',time.localtime()))\n",
    "pm.execute_notebook('2020-08-07-AA-final-plot.ipynb','out/'+str(datenow)+'-AA-final-plot-MEDWEST60_'+str(datemin)+'-'+str(datemax)+'_'+str(depthmin)+'m_'+str(radius_max)+'x'+str(period)+'d_'+str(number_of_model_profiles)+'.ipynb',parameters=dict(ymin=ymin,mmin=mmin,dmin=dmin,ymax=ymax,mmax=mmax,dmax=dmax,depthmin=depthmin,radius_max=radius_max,period=period,number_of_model_profiles=number_of_model_profiles))\n",
    "print(time.strftime('%d/%m/%y %H:%M',time.localtime()))\n",
    "\n"
   ]
  },
  {
   "cell_type": "code",
   "execution_count": 18,
   "metadata": {},
   "outputs": [
    {
     "name": "stdout",
     "output_type": "stream",
     "text": [
      "07/08/20 18:43\n"
     ]
    },
    {
     "data": {
      "application/vnd.jupyter.widget-view+json": {
       "model_id": "3eec564cf3804ca58814e0d8b750aeb0",
       "version_major": 2,
       "version_minor": 0
      },
      "text/plain": [
       "HBox(children=(FloatProgress(value=0.0, description='Executing', max=24.0, style=ProgressStyle(description_wid…"
      ]
     },
     "metadata": {},
     "output_type": "display_data"
    },
    {
     "name": "stdout",
     "output_type": "stream",
     "text": [
      "\n",
      "07/08/20 18:49\n"
     ]
    },
    {
     "data": {
      "application/vnd.jupyter.widget-view+json": {
       "model_id": "96cdb7ced5924171bd79ce3e097c3e40",
       "version_major": 2,
       "version_minor": 0
      },
      "text/plain": [
       "HBox(children=(FloatProgress(value=0.0, description='Executing', max=9.0, style=ProgressStyle(description_widt…"
      ]
     },
     "metadata": {},
     "output_type": "display_data"
    },
    {
     "name": "stdout",
     "output_type": "stream",
     "text": [
      "\n",
      "07/08/20 18:49\n"
     ]
    },
    {
     "data": {
      "application/vnd.jupyter.widget-view+json": {
       "model_id": "0d46122560814b88a5000d94cbc1a6f7",
       "version_major": 2,
       "version_minor": 0
      },
      "text/plain": [
       "HBox(children=(FloatProgress(value=0.0, description='Executing', max=12.0, style=ProgressStyle(description_wid…"
      ]
     },
     "metadata": {},
     "output_type": "display_data"
    },
    {
     "name": "stdout",
     "output_type": "stream",
     "text": [
      "\n",
      "07/08/20 21:08\n"
     ]
    },
    {
     "data": {
      "application/vnd.jupyter.widget-view+json": {
       "model_id": "d9b7f66f62764f6d8ecbc8902eba185a",
       "version_major": 2,
       "version_minor": 0
      },
      "text/plain": [
       "HBox(children=(FloatProgress(value=0.0, description='Executing', max=12.0, style=ProgressStyle(description_wid…"
      ]
     },
     "metadata": {},
     "output_type": "display_data"
    },
    {
     "name": "stdout",
     "output_type": "stream",
     "text": [
      "\n",
      "07/08/20 21:08\n"
     ]
    }
   ],
   "source": [
    "ymin=2010;mmin=1;dmin=1\n",
    "ymax=2010;mmax=4;dmax=30\n",
    "# depth of the desired comparison profile in m\n",
    "depthmin=500\n",
    "# radius of the circle around the profile location in which we take the modeled profiles, in °  \n",
    "radius_max=0.25\n",
    "# period of time around the profile sampling date in which we take the modeled profiles, in days\n",
    "period=5\n",
    "# minimum amount of model profiles to be considered to make a significant statistical comparison, for instance in a 1° square and 30-days window we have 2.6 millions modeled profiles, in a 0.5°x10 days 216 000\n",
    "number_of_model_profiles=100000\n",
    "datemin=datetime.date(ymin,mmin,dmin)\n",
    "datemax=datetime.date(ymax,mmax,dmax)\n",
    "print(time.strftime('%d/%m/%y %H:%M',time.localtime()))\n",
    "pm.execute_notebook('2020-08-03-AA-selection-script-with-options.ipynb','out/'+str(datenow)+'-AA-selection-script-with-options-MEDWEST60_'+str(datemin)+'-'+str(datemax)+'_'+str(depthmin)+'m_'+str(radius_max)+'x'+str(period)+'d_'+str(number_of_model_profiles)+'.ipynb',parameters=dict(ymin=ymin,mmin=mmin,dmin=dmin,ymax=ymax,mmax=mmax,dmax=dmax,depthmin=depthmin,radius_max=radius_max,period=period,number_of_model_profiles=number_of_model_profiles))\n",
    "print(time.strftime('%d/%m/%y %H:%M',time.localtime()))\n",
    "pm.execute_notebook('2020-08-05-AA-map-selected-profiles.ipynb','out/'+str(datenow)+'-AA-map-selected-profiles-MEDWEST60_'+str(datemin)+'-'+str(datemax)+'_'+str(depthmin)+'m_'+str(radius_max)+'x'+str(period)+'d_'+str(number_of_model_profiles)+'.ipynb',parameters=dict(ymin=ymin,mmin=mmin,dmin=dmin,ymax=ymax,mmax=mmax,dmax=dmax,depthmin=depthmin,radius_max=radius_max,period=period,number_of_model_profiles=number_of_model_profiles))\n",
    "print(time.strftime('%d/%m/%y %H:%M',time.localtime()))\n",
    "pm.execute_notebook('2020-08-07-AA-process-profiles.ipynb','out/'+str(datenow)+'-AA-process-profiles-MEDWEST60_'+str(datemin)+'-'+str(datemax)+'_'+str(depthmin)+'m_'+str(radius_max)+'x'+str(period)+'d_'+str(number_of_model_profiles)+'.ipynb',parameters=dict(ymin=ymin,mmin=mmin,dmin=dmin,ymax=ymax,mmax=mmax,dmax=dmax,depthmin=depthmin,radius_max=radius_max,period=period,number_of_model_profiles=number_of_model_profiles))\n",
    "print(time.strftime('%d/%m/%y %H:%M',time.localtime()))\n",
    "pm.execute_notebook('2020-08-07-AA-final-plot.ipynb','out/'+str(datenow)+'-AA-final-plot-MEDWEST60_'+str(datemin)+'-'+str(datemax)+'_'+str(depthmin)+'m_'+str(radius_max)+'x'+str(period)+'d_'+str(number_of_model_profiles)+'.ipynb',parameters=dict(ymin=ymin,mmin=mmin,dmin=dmin,ymax=ymax,mmax=mmax,dmax=dmax,depthmin=depthmin,radius_max=radius_max,period=period,number_of_model_profiles=number_of_model_profiles))\n",
    "print(time.strftime('%d/%m/%y %H:%M',time.localtime()))\n",
    "\n"
   ]
  },
  {
   "cell_type": "code",
   "execution_count": 19,
   "metadata": {},
   "outputs": [
    {
     "name": "stdout",
     "output_type": "stream",
     "text": [
      "07/08/20 21:08\n"
     ]
    },
    {
     "data": {
      "application/vnd.jupyter.widget-view+json": {
       "model_id": "542d25bafd4949fa969e37fb85335689",
       "version_major": 2,
       "version_minor": 0
      },
      "text/plain": [
       "HBox(children=(FloatProgress(value=0.0, description='Executing', max=24.0, style=ProgressStyle(description_wid…"
      ]
     },
     "metadata": {},
     "output_type": "display_data"
    },
    {
     "name": "stdout",
     "output_type": "stream",
     "text": [
      "\n",
      "07/08/20 21:14\n"
     ]
    },
    {
     "data": {
      "application/vnd.jupyter.widget-view+json": {
       "model_id": "d4bc19e77f734f64b766d729c2e7b0da",
       "version_major": 2,
       "version_minor": 0
      },
      "text/plain": [
       "HBox(children=(FloatProgress(value=0.0, description='Executing', max=9.0, style=ProgressStyle(description_widt…"
      ]
     },
     "metadata": {},
     "output_type": "display_data"
    },
    {
     "name": "stdout",
     "output_type": "stream",
     "text": [
      "\n",
      "07/08/20 21:14\n"
     ]
    },
    {
     "data": {
      "application/vnd.jupyter.widget-view+json": {
       "model_id": "0baf5ce18ce547e1bb4fcf01b5f88a77",
       "version_major": 2,
       "version_minor": 0
      },
      "text/plain": [
       "HBox(children=(FloatProgress(value=0.0, description='Executing', max=12.0, style=ProgressStyle(description_wid…"
      ]
     },
     "metadata": {},
     "output_type": "display_data"
    },
    {
     "name": "stdout",
     "output_type": "stream",
     "text": [
      "\n",
      "07/08/20 21:55\n"
     ]
    },
    {
     "data": {
      "application/vnd.jupyter.widget-view+json": {
       "model_id": "b43a10d3371245dda2e5c2e9f0e62f3a",
       "version_major": 2,
       "version_minor": 0
      },
      "text/plain": [
       "HBox(children=(FloatProgress(value=0.0, description='Executing', max=12.0, style=ProgressStyle(description_wid…"
      ]
     },
     "metadata": {},
     "output_type": "display_data"
    },
    {
     "name": "stdout",
     "output_type": "stream",
     "text": [
      "\n",
      "07/08/20 21:55\n"
     ]
    }
   ],
   "source": [
    "ymin=2010;mmin=1;dmin=1\n",
    "ymax=2010;mmax=4;dmax=30\n",
    "# depth of the desired comparison profile in m\n",
    "depthmin=100\n",
    "# radius of the circle around the profile location in which we take the modeled profiles, in °  \n",
    "radius_max=0.25\n",
    "# period of time around the profile sampling date in which we take the modeled profiles, in days\n",
    "period=5\n",
    "# minimum amount of model profiles to be considered to make a significant statistical comparison, for instance in a 1° square and 30-days window we have 2.6 millions modeled profiles, in a 0.5°x10 days 216 000\n",
    "number_of_model_profiles=100000\n",
    "datemin=datetime.date(ymin,mmin,dmin)\n",
    "datemax=datetime.date(ymax,mmax,dmax)\n",
    "print(time.strftime('%d/%m/%y %H:%M',time.localtime()))\n",
    "pm.execute_notebook('2020-08-03-AA-selection-script-with-options.ipynb','out/'+str(datenow)+'-AA-selection-script-with-options-MEDWEST60_'+str(datemin)+'-'+str(datemax)+'_'+str(depthmin)+'m_'+str(radius_max)+'x'+str(period)+'d_'+str(number_of_model_profiles)+'.ipynb',parameters=dict(ymin=ymin,mmin=mmin,dmin=dmin,ymax=ymax,mmax=mmax,dmax=dmax,depthmin=depthmin,radius_max=radius_max,period=period,number_of_model_profiles=number_of_model_profiles))\n",
    "print(time.strftime('%d/%m/%y %H:%M',time.localtime()))\n",
    "pm.execute_notebook('2020-08-05-AA-map-selected-profiles.ipynb','out/'+str(datenow)+'-AA-map-selected-profiles-MEDWEST60_'+str(datemin)+'-'+str(datemax)+'_'+str(depthmin)+'m_'+str(radius_max)+'x'+str(period)+'d_'+str(number_of_model_profiles)+'.ipynb',parameters=dict(ymin=ymin,mmin=mmin,dmin=dmin,ymax=ymax,mmax=mmax,dmax=dmax,depthmin=depthmin,radius_max=radius_max,period=period,number_of_model_profiles=number_of_model_profiles))\n",
    "print(time.strftime('%d/%m/%y %H:%M',time.localtime()))\n",
    "pm.execute_notebook('2020-08-07-AA-process-profiles.ipynb','out/'+str(datenow)+'-AA-process-profiles-MEDWEST60_'+str(datemin)+'-'+str(datemax)+'_'+str(depthmin)+'m_'+str(radius_max)+'x'+str(period)+'d_'+str(number_of_model_profiles)+'.ipynb',parameters=dict(ymin=ymin,mmin=mmin,dmin=dmin,ymax=ymax,mmax=mmax,dmax=dmax,depthmin=depthmin,radius_max=radius_max,period=period,number_of_model_profiles=number_of_model_profiles))\n",
    "print(time.strftime('%d/%m/%y %H:%M',time.localtime()))\n",
    "pm.execute_notebook('2020-08-07-AA-final-plot.ipynb','out/'+str(datenow)+'-AA-final-plot-MEDWEST60_'+str(datemin)+'-'+str(datemax)+'_'+str(depthmin)+'m_'+str(radius_max)+'x'+str(period)+'d_'+str(number_of_model_profiles)+'.ipynb',parameters=dict(ymin=ymin,mmin=mmin,dmin=dmin,ymax=ymax,mmax=mmax,dmax=dmax,depthmin=depthmin,radius_max=radius_max,period=period,number_of_model_profiles=number_of_model_profiles))\n",
    "print(time.strftime('%d/%m/%y %H:%M',time.localtime()))\n",
    "\n"
   ]
  },
  {
   "cell_type": "code",
   "execution_count": null,
   "metadata": {},
   "outputs": [],
   "source": []
  }
 ],
 "metadata": {
  "kernelspec": {
   "display_name": "new-seawater",
   "language": "python",
   "name": "seawater"
  },
  "language_info": {
   "codemirror_mode": {
    "name": "ipython",
    "version": 3
   },
   "file_extension": ".py",
   "mimetype": "text/x-python",
   "name": "python",
   "nbconvert_exporter": "python",
   "pygments_lexer": "ipython3",
   "version": "3.8.3"
  }
 },
 "nbformat": 4,
 "nbformat_minor": 4
}
