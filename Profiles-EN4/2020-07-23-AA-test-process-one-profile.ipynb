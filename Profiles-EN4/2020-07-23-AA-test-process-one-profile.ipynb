{
 "cells": [
  {
   "cell_type": "code",
   "execution_count": 1,
   "metadata": {},
   "outputs": [],
   "source": [
    "import numpy as np\n",
    "import dask\n",
    "import xarray as xr\n",
    "import matplotlib.pyplot as plt\n",
    "import pandas as pd\n",
    "import datetime\n",
    "import glob as glob\n",
    "import time\n",
    "from datetime import date\n",
    "import io\n",
    "import json\n"
   ]
  },
  {
   "cell_type": "code",
   "execution_count": 2,
   "metadata": {},
   "outputs": [],
   "source": [
    "jsonfile='MEDWEST60_y2010m01d01-y2010m09d30.json'\n"
   ]
  },
  {
   "cell_type": "code",
   "execution_count": 3,
   "metadata": {},
   "outputs": [
    {
     "name": "stderr",
     "output_type": "stream",
     "text": [
      "/gpfslocalsup/pub/anaconda-py3/2020.02/lib/python3.7/site-packages/ipykernel_launcher.py:1: DeprecationWarning: 'U' mode is deprecated\n",
      "  \"\"\"Entry point for launching an IPython kernel.\n"
     ]
    }
   ],
   "source": [
    "sourcefile=open(jsonfile,'rU',encoding='utf-8')\n",
    "infos=json.load(sourcefile)\n",
    "nb_profilesEN4=len(infos)\n",
    "list_profiles=infos.keys()\n",
    "\n",
    "reference =  str(list(list_profiles)[0])\n",
    "lat_prof = infos[reference]['latitude']\n",
    "lon_prof = infos[reference]['longitude']\n"
   ]
  },
  {
   "cell_type": "code",
   "execution_count": 4,
   "metadata": {},
   "outputs": [
    {
     "name": "stdout",
     "output_type": "stream",
     "text": [
      "12031822\n"
     ]
    }
   ],
   "source": [
    "print(reference[2:10])"
   ]
  },
  {
   "cell_type": "code",
   "execution_count": 5,
   "metadata": {},
   "outputs": [],
   "source": [
    "with open('prof0.txt','w') as txt_file:\n",
    "    txt_file.write('Profile_'+str(reference[2:10])+' '+str(lon_prof)+' '+str(lat_prof))"
   ]
  },
  {
   "cell_type": "code",
   "execution_count": 6,
   "metadata": {},
   "outputs": [
    {
     "name": "stdout",
     "output_type": "stream",
     "text": [
      "CPU times: user 2 µs, sys: 1e+03 ns, total: 3 µs\n",
      "Wall time: 5.48 µs\n",
      "/gpfswork/rech/egi/rote001/git/sosie/bin/ij_from_lon_lat.x: error while loading shared libraries: libnetcdf.so.15: cannot open shared object file: No such file or directory\n"
     ]
    }
   ],
   "source": [
    "%time\n",
    "!/gpfswork/rech/egi/rote001/git/sosie/bin/ij_from_lon_lat.x -i /gpfsstore/rech/egi/commun/MEDWEST60/MEDWEST60-I/MEDWEST60_mesh_hgr.nc4 -p prof0.txt >/dev/null"
   ]
  },
  {
   "cell_type": "code",
   "execution_count": 7,
   "metadata": {},
   "outputs": [
    {
     "name": "stdout",
     "output_type": "stream",
     "text": [
      "604 446\n"
     ]
    }
   ],
   "source": [
    "with open('ij_found.out','r') as txt_file:\n",
    "    last_line = txt_file.readlines()[-1]\n",
    "    i0=last_line.split()[1]\n",
    "    j0=last_line.split()[2]\n",
    "    print(i0,j0)"
   ]
  },
  {
   "cell_type": "code",
   "execution_count": null,
   "metadata": {},
   "outputs": [],
   "source": []
  }
 ],
 "metadata": {
  "kernelspec": {
   "display_name": "Python 3",
   "language": "python",
   "name": "python3"
  },
  "language_info": {
   "codemirror_mode": {
    "name": "ipython",
    "version": 3
   },
   "file_extension": ".py",
   "mimetype": "text/x-python",
   "name": "python",
   "nbconvert_exporter": "python",
   "pygments_lexer": "ipython3",
   "version": "3.7.6"
  }
 },
 "nbformat": 4,
 "nbformat_minor": 4
}
