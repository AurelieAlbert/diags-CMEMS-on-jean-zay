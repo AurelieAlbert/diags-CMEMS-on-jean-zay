{
 "cells": [
  {
   "cell_type": "code",
   "execution_count": null,
   "metadata": {},
   "outputs": [],
   "source": [
    "import papermill as pm\n",
    "import datetime\n",
    "import time"
   ]
  },
  {
   "cell_type": "code",
   "execution_count": null,
   "metadata": {},
   "outputs": [],
   "source": [
    "datenow=time.strftime('%Y-%m-%d',time.localtime())\n"
   ]
  },
  {
   "cell_type": "code",
   "execution_count": null,
   "metadata": {},
   "outputs": [],
   "source": [
    "ymin=2010;mmin=1;dmin=1\n",
    "ymax=2010;mmax=9;dmax=30\n",
    "# depth of the desired comparison profile in m\n",
    "depthmin=2000\n",
    "# radius of the circle around the profile location in which we take the modeled profiles, in °  \n",
    "radius_max=0.25\n",
    "# period of time around the profile sampling date in which we take the modeled profiles, in days\n",
    "period=5\n",
    "# minimum amount of model profiles to be considered to make a significant statistical comparison, for instance in a 1° square and 30-days window we have 2.6 millions modeled profiles, in a 0.5°x10 days 216 000\n",
    "number_of_model_profiles=100000\n",
    "datemin=datetime.date(ymin,mmin,dmin)\n",
    "datemax=datetime.date(ymax,mmax,dmax)\n",
    "pm.execute_notebook('2020-08-03-AA-selection-script-with-options.ipynb','out/'+str(datenow)+'-AA-selection-script-with-options-MEDWEST60_'+str(datemin)+'-'+str(datemax)+'_'+str(depthmin)+'m_'+str(radius_max)+'x'+str(period)+'d_'+str(number_of_model_profiles)+'.ipynb',parameters=dict(ymin=ymin,mmin=mmin,dmin=dmin,ymax=ymax,mmax=mmax,dmax=dmax,depthmin=depthmin,radius_max=radius_max,period=period,number_of_model_profiles=number_of_model_profiles))\n",
    "pm.execute_notebook('2020-08-05-AA-map-selected-profiles.ipynb','out/'+str(datenow)+'-AA-map-selected-profiles-MEDWEST60_'+str(datemin)+'-'+str(datemax)+'_'+str(depthmin)+'m_'+str(radius_max)+'x'+str(period)+'d_'+str(number_of_model_profiles)+'.ipynb',parameters=dict(ymin=ymin,mmin=mmin,dmin=dmin,ymax=ymax,mmax=mmax,dmax=dmax,depthmin=depthmin,radius_max=radius_max,period=period,number_of_model_profiles=number_of_model_profiles))\n",
    "pm.execute_notebook('2020-08-07-AA-process-profiles.ipynb','out/'+str(datenow)+'-AA-process-profiles-MEDWEST60_'+str(datemin)+'-'+str(datemax)+'_'+str(depthmin)+'m_'+str(radius_max)+'x'+str(period)+'d_'+str(number_of_model_profiles)+'.ipynb',parameters=dict(ymin=ymin,mmin=mmin,dmin=dmin,ymax=ymax,mmax=mmax,dmax=dmax,depthmin=depthmin,radius_max=radius_max,period=period,number_of_model_profiles=number_of_model_profiles))\n",
    "pm.execute_notebook('2020-08-07-AA-final-plot.ipynb','out/'+str(datenow)+'-AA-final-plot-MEDWEST60_'+str(datemin)+'-'+str(datemax)+'_'+str(depthmin)+'m_'+str(radius_max)+'x'+str(period)+'d_'+str(number_of_model_profiles)+'.ipynb',parameters=dict(ymin=ymin,mmin=mmin,dmin=dmin,ymax=ymax,mmax=mmax,dmax=dmax,depthmin=depthmin,radius_max=radius_max,period=period,number_of_model_profiles=number_of_model_profiles))\n",
    "\n"
   ]
  },
  {
   "cell_type": "code",
   "execution_count": null,
   "metadata": {},
   "outputs": [],
   "source": []
  }
 ],
 "metadata": {
  "kernelspec": {
   "display_name": "new-seawater",
   "language": "python",
   "name": "seawater"
  },
  "language_info": {
   "codemirror_mode": {
    "name": "ipython",
    "version": 3
   },
   "file_extension": ".py",
   "mimetype": "text/x-python",
   "name": "python",
   "nbconvert_exporter": "python",
   "pygments_lexer": "ipython3",
   "version": "3.8.3"
  }
 },
 "nbformat": 4,
 "nbformat_minor": 4
}
