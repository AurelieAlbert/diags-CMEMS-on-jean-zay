{
 "cells": [
  {
   "cell_type": "markdown",
   "metadata": {},
   "source": [
    "## Plot the locations of all profiles"
   ]
  },
  {
   "cell_type": "code",
   "execution_count": null,
   "metadata": {},
   "outputs": [],
   "source": [
    "import cartopy.crs as ccrs\n",
    "import cartopy.feature as cfeature\n",
    "from cartopy.mpl.gridliner import LONGITUDE_FORMATTER, LATITUDE_FORMATTER\n",
    "import json\n",
    "import numpy as np\n",
    "import matplotlib.pyplot as plt\n",
    "\n",
    "import numpy as np\n",
    "import dask\n",
    "import xarray as xr\n",
    "import matplotlib.pyplot as plt\n",
    "import pandas as pd\n",
    "import datetime\n",
    "import glob as glob\n",
    "import time\n",
    "from datetime import date\n",
    "import io\n",
    "import json\n",
    "import seawater\n",
    "import sys"
   ]
  },
  {
   "cell_type": "code",
   "execution_count": null,
   "metadata": {},
   "outputs": [],
   "source": [
    "# location and name of the maskfile of the model configuration\n",
    "coordfile='/gpfsstore/rech/egi/commun/MEDWEST60/MEDWEST60-I/MEDWEST60_mesh_hgr.nc4'\n",
    "maskfile='/gpfsstore/rech/egi/commun/MEDWEST60/MEDWEST60-I/MEDWEST60_mask.nc4'\n",
    "zgrdfile='/gpfsstore/rech/egi/commun/MEDWEST60/MEDWEST60-I/MEDWEST60_mesh_zgr.nc4'\n",
    "# period of the simulation (year,month,day)\n",
    "ymin=2010;mmin=1;dmin=1;datemin=datetime.date(ymin,mmin,dmin)\n",
    "ymax=2010;mmax=9;dmax=30;datemax=datetime.date(ymax,mmax,dmax)\n",
    "# depth of the desired comparison profile in m\n",
    "depthmin=500\n",
    "# radius of the circle around the profile location in which we take the modeled profiles, in °  \n",
    "radius_max=0.25\n",
    "# period of time around the profile sampling date in which we take the modeled profiles, in days\n",
    "period=5\n",
    "# minimum amount of model profiles to be considered to make a significant statistical comparison, for instance in a 1° square and 30-days window we have 2.6 millions modeled profiles, in a 0.5°x10 days 216 000\n",
    "number_of_model_profiles=100000\n",
    "# name of the json file in which selection of profiles informations will be stored\n",
    "jsonfile='txt/MEDWEST60_'+str(datemin)+'-'+str(datemax)+'_'+str(depthmin)+'m_'+str(radius_max)+'x'+str(period)+'d_'+str(number_of_model_profiles)+'.json'"
   ]
  },
  {
   "cell_type": "code",
   "execution_count": null,
   "metadata": {},
   "outputs": [],
   "source": [
    "sourcefile=open(str(jsonfile),'rU',encoding='utf-8')\n",
    "infos=json.load(sourcefile)\n",
    "nb_profilesEN4=len(infos)\n",
    "list_profiles=infos.keys()\n",
    "\n",
    "all_lat=np.zeros((nb_profilesEN4))\n",
    "all_lon=np.zeros((nb_profilesEN4))\n",
    "    \n",
    "for prof in np.arange(nb_profilesEN4):\n",
    "    reference =  str(list(list_profiles)[prof])\n",
    "    lat_prof = infos[reference]['latitude']\n",
    "    lon_prof = infos[reference]['longitude']\n",
    "    all_lat[prof]=lat_prof\n",
    "    all_lon[prof]=lon_prof\n"
   ]
  },
  {
   "cell_type": "code",
   "execution_count": null,
   "metadata": {},
   "outputs": [],
   "source": [
    "ds=xr.open_dataset(maskfile)\n",
    "lat=ds.nav_lat\n",
    "lon=ds.nav_lon\n",
    "tmask=ds.tmask\n",
    "lat_mask=np.ma.masked_where(tmask[0,0]==0.,lat)\n",
    "lon_mask=np.ma.masked_where(tmask[0,0]==0.,lon)\n",
    "latmin,latmax,lonmin,lonmax=(lat_mask.min(),lat_mask.max(),lon_mask.min(),lon_mask.max())\n",
    "datemin=datetime.date(ymin,mmin,dmin)\n",
    "datemax=datetime.date(ymax,mmax,dmax)\n"
   ]
  },
  {
   "cell_type": "code",
   "execution_count": null,
   "metadata": {},
   "outputs": [],
   "source": [
    "len(all_lon)"
   ]
  },
  {
   "cell_type": "code",
   "execution_count": null,
   "metadata": {},
   "outputs": [],
   "source": [
    "def map_profiles_from_jsonfile(all_lat,all_lon):\n",
    "    fig=plt.figure(figsize=(20,15))\n",
    "    ax = plt.subplot(111,projection=ccrs.PlateCarree(central_longitude=0))\n",
    "    ax.set_extent((lonmin, lonmax, latmin, latmax))\n",
    "    ax.coastlines(resolution=\"10m\")\n",
    "    gl = ax.gridlines(draw_labels=True, linestyle=':', color='black',\n",
    "                      alpha=0.5)\n",
    "    gl.xlabels_top = False\n",
    "    gl.ylabels_right = False\n",
    "    gl.xformatter = LONGITUDE_FORMATTER\n",
    "    gl.yformatter = LATITUDE_FORMATTER\n",
    "    ax.tick_params('both',labelsize=22)\n",
    "\n",
    "    plt.scatter(all_lon, all_lat, c='g', linewidth='0', s=18);\n",
    "    plt.title('There are '+str(len(all_lon))+' '+str(depthmin)+'m-deep EN4 profiles in MEDWEST60 for '+str(datemin)+' to '+str(datemax)+' period with model outputs in a '+str(radius_max)+'° radius and '+str(period)+' days period around', size=20);\n",
    "    plt.savefig('plots/MEDWEST60_y'+str(ymin)+'m'+str(mmmin)+'d'+str(ddmin)+'-y'+str(ymax)+'m'+str(mmmax)+'d'+str(ddmax)+'_'+str(depthmin)+'m_'+str(radius_max)+'x'+str(period)+'d_'+str(number_of_model_profiles)+'.png')\n"
   ]
  },
  {
   "cell_type": "code",
   "execution_count": null,
   "metadata": {},
   "outputs": [],
   "source": [
    "map_profiles_from_jsonfile(all_lat,all_lon)"
   ]
  },
  {
   "cell_type": "code",
   "execution_count": null,
   "metadata": {},
   "outputs": [],
   "source": []
  }
 ],
 "metadata": {
  "kernelspec": {
   "display_name": "Python 3",
   "language": "python",
   "name": "python3"
  },
  "language_info": {
   "codemirror_mode": {
    "name": "ipython",
    "version": 3
   },
   "file_extension": ".py",
   "mimetype": "text/x-python",
   "name": "python",
   "nbconvert_exporter": "python",
   "pygments_lexer": "ipython3",
   "version": "3.8.3"
  }
 },
 "nbformat": 4,
 "nbformat_minor": 2
}
