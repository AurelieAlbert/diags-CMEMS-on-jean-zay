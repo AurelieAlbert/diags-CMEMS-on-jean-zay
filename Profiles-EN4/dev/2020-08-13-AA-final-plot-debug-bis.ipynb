{
 "cells": [
  {
   "cell_type": "markdown",
   "metadata": {},
   "source": [
    "## Import all the libraries"
   ]
  },
  {
   "cell_type": "code",
   "execution_count": 1,
   "metadata": {},
   "outputs": [],
   "source": [
    "import numpy as np\n",
    "import dask\n",
    "import xarray as xr\n",
    "from netCDF4 import Dataset\n",
    "import matplotlib.pyplot as plt\n",
    "import pandas as pd\n",
    "import datetime\n",
    "import glob as glob\n",
    "import time\n",
    "from dask.diagnostics import ProgressBar\n",
    "from datetime import date\n",
    "import json\n",
    "import os\n",
    "import warnings\n",
    "import seawater\n",
    "import re\n",
    "\n",
    "warnings.filterwarnings('ignore')\n"
   ]
  },
  {
   "cell_type": "markdown",
   "metadata": {},
   "source": [
    "## Parameters"
   ]
  },
  {
   "cell_type": "code",
   "execution_count": 2,
   "metadata": {
    "tags": [
     "parameters"
    ]
   },
   "outputs": [],
   "source": [
    "ymin=2010;mmin=1;dmin=1\n",
    "ymax=2010;mmax=4;dmax=30\n",
    "# depth of the desired comparison profile in m\n",
    "depthmin=500\n",
    "# radius of the circle around the profile location in which we take the modeled profiles, in °  \n",
    "radius_max=0.25\n",
    "# period of time around the profile sampling date in which we take the modeled profiles, in days\n",
    "period=5\n",
    "# minimum amount of model profiles to be considered to make a significant statistical comparison, for instance in a 1° square and 30-days window we have 2.6 millions modeled profiles, in a 0.5°x10 days 216 000\n",
    "number_of_model_profiles=100000\n"
   ]
  },
  {
   "cell_type": "code",
   "execution_count": 3,
   "metadata": {},
   "outputs": [],
   "source": [
    "datemin=datetime.date(ymin,mmin,dmin)\n",
    "datemax=datetime.date(ymax,mmax,dmax)\n",
    "jsonfile='txt/MEDWEST60-BLBT02_'+str(datemin)+'-'+str(datemax)+'_'+str(depthmin)+'m_'+str(radius_max)+'x'+str(period)+'d_'+str(number_of_model_profiles)+'.json'"
   ]
  },
  {
   "cell_type": "markdown",
   "metadata": {},
   "source": [
    "## Read the jsonfile"
   ]
  },
  {
   "cell_type": "code",
   "execution_count": 4,
   "metadata": {},
   "outputs": [],
   "source": [
    "sourcefile=open(jsonfile,'rU')\n",
    "infos=json.load(sourcefile)\n",
    "nb_profilesEN4=len(infos)\n"
   ]
  },
  {
   "cell_type": "code",
   "execution_count": 5,
   "metadata": {},
   "outputs": [],
   "source": [
    "vert_standart=np.array([0,2,4,6,8,10,12,14,16,18,20,25,30,35,40,45,50,55,60,65,70,75,80,85,90,95,100,\n",
    "                   110,120,130,140,150,160,170,180,190,200,220,240,260,280,300,320,340,360,380,400,\n",
    "                   420,440,460,480,500,520,540,560,580,600,620,640,660,680,700,720,740,760,780,800,\n",
    "                   820,840,860,880,900,920,940,960,980,1000,1050,1100,1150,1200,1250,1300,1350,1400,\n",
    "                   1450,1500,1550,1600,1650,1700,1750,1800,1850,1900,1950,2000])\n",
    "indz=np.where(vert_standart>depthmin)\n",
    "vert_standart_red=vert_standart[0:np.min(indz[0])-1]\n",
    "\n",
    "all_temp_mean_model=np.zeros((nb_profilesEN4,len(vert_standart_red)))\n",
    "all_salt_mean_model=np.zeros((nb_profilesEN4,len(vert_standart_red)))\n",
    "all_temp_en4=np.zeros((nb_profilesEN4,len(vert_standart_red)))\n",
    "all_salt_en4=np.zeros((nb_profilesEN4,len(vert_standart_red)))\n",
    "all_temp_percent10_model=np.zeros((nb_profilesEN4,len(vert_standart_red)))\n",
    "all_salt_percent10_model=np.zeros((nb_profilesEN4,len(vert_standart_red)))\n",
    "all_temp_percent90_model=np.zeros((nb_profilesEN4,len(vert_standart_red)))\n",
    "all_salt_percent90_model=np.zeros((nb_profilesEN4,len(vert_standart_red)))\n"
   ]
  },
  {
   "cell_type": "code",
   "execution_count": 14,
   "metadata": {},
   "outputs": [
    {
     "data": {
      "text/plain": [
       "51"
      ]
     },
     "execution_count": 14,
     "metadata": {},
     "output_type": "execute_result"
    }
   ],
   "source": [
    "len(vert_standart_red)"
   ]
  },
  {
   "cell_type": "code",
   "execution_count": 6,
   "metadata": {},
   "outputs": [
    {
     "name": "stdout",
     "output_type": "stream",
     "text": [
      "Processing profile  Profile_20100106_prof.nc_71\n",
      "Processing profile  Profile_20100106_prof.nc_76\n",
      "Processing profile  Profile_20100108_prof.nc_90\n",
      "Processing profile  Profile_20100108_prof.nc_92\n",
      "Processing profile  Profile_20100109_prof.nc_0\n",
      "Processing profile  Profile_20100109_prof.nc_62\n",
      "Processing profile  Profile_20100110_prof.nc_0\n",
      "Processing profile  Profile_20100110_prof.nc_81\n",
      "Processing profile  Profile_20100113_prof.nc_69\n",
      "Processing profile  Profile_20100114_prof.nc_3\n",
      "Processing profile  Profile_20100114_prof.nc_44\n",
      "Processing profile  Profile_20100115_prof.nc_0\n",
      "Processing profile  Profile_20100115_prof.nc_58\n",
      "Processing profile  Profile_20100116_prof.nc_79\n",
      "Processing profile  Profile_20100118_prof.nc_85\n",
      "Processing profile  Profile_20100118_prof.nc_88\n",
      "Processing profile  Profile_20100119_prof.nc_1\n",
      "Processing profile  Profile_20100119_prof.nc_58\n",
      "Processing profile  Profile_20100120_prof.nc_0\n",
      "Processing profile  Profile_20100120_prof.nc_91\n",
      "Processing profile  Profile_20100123_prof.nc_72\n",
      "Processing profile  Profile_20100124_prof.nc_42\n",
      "Processing profile  Profile_20100125_prof.nc_1\n",
      "Processing profile  Profile_20100125_prof.nc_57\n",
      "Processing profile  Profile_20100126_prof.nc_69\n",
      "Processing profile  Profile_20100128_prof.nc_92\n",
      "Processing profile  Profile_20100128_prof.nc_94\n",
      "Processing profile  Profile_20100129_prof.nc_0\n",
      "Processing profile  Profile_20100129_prof.nc_63\n",
      "Processing profile  Profile_20100130_prof.nc_112\n",
      "Processing profile  Profile_20100131_prof.nc_83\n",
      "Processing profile  Profile_20100202_prof.nc_70\n",
      "Processing profile  Profile_20100203_prof.nc_52\n",
      "Processing profile  Profile_20100204_prof.nc_0\n",
      "Processing profile  Profile_20100204_prof.nc_61\n",
      "Processing profile  Profile_20100205_prof.nc_79\n",
      "Processing profile  Profile_20100207_prof.nc_87\n",
      "Processing profile  Profile_20100207_prof.nc_92\n",
      "Processing profile  Profile_20100208_prof.nc_0\n",
      "Processing profile  Profile_20100208_prof.nc_61\n",
      "Processing profile  Profile_20100209_prof.nc_0\n",
      "Processing profile  Profile_20100209_prof.nc_79\n",
      "Processing profile  Profile_20100212_prof.nc_77\n",
      "Processing profile  Profile_20100213_prof.nc_3\n",
      "Processing profile  Profile_20100213_prof.nc_46\n",
      "Processing profile  Profile_20100214_prof.nc_57\n",
      "Processing profile  Profile_20100215_prof.nc_74\n",
      "Processing profile  Profile_20100215_prof.nc_81\n",
      "Processing profile  Profile_20100217_prof.nc_101\n",
      "Processing profile  Profile_20100217_prof.nc_96\n",
      "Processing profile  Profile_20100218_prof.nc_27\n",
      "Processing profile  Profile_20100219_prof.nc_0\n",
      "Processing profile  Profile_20100219_prof.nc_72\n",
      "Processing profile  Profile_20100219_prof.nc_96\n",
      "Processing profile  Profile_20100222_prof.nc_71\n",
      "Processing profile  Profile_20100223_prof.nc_25\n",
      "Processing profile  Profile_20100223_prof.nc_3\n",
      "Processing profile  Profile_20100224_prof.nc_58\n",
      "Processing profile  Profile_20100225_prof.nc_65\n",
      "Processing profile  Profile_20100225_prof.nc_73\n",
      "Processing profile  Profile_20100227_prof.nc_100\n",
      "Processing profile  Profile_20100227_prof.nc_99\n",
      "Processing profile  Profile_20100228_prof.nc_0\n",
      "Processing profile  Profile_20100228_prof.nc_59\n",
      "Processing profile  Profile_20100301_prof.nc_0\n",
      "Processing profile  Profile_20100301_prof.nc_82\n",
      "Processing profile  Profile_20100303_prof.nc_38\n",
      "Processing profile  Profile_20100303_prof.nc_41\n",
      "Processing profile  Profile_20100304_prof.nc_75\n",
      "Processing profile  Profile_20100305_prof.nc_2\n",
      "Processing profile  Profile_20100306_prof.nc_0\n",
      "Processing profile  Profile_20100306_prof.nc_61\n",
      "Processing profile  Profile_20100307_prof.nc_69\n",
      "Processing profile  Profile_20100308_prof.nc_1\n",
      "Processing profile  Profile_20100308_prof.nc_52\n",
      "Processing profile  Profile_20100308_prof.nc_63\n",
      "Processing profile  Profile_20100309_prof.nc_97\n",
      "Processing profile  Profile_20100310_prof.nc_0\n",
      "Processing profile  Profile_20100310_prof.nc_49\n",
      "Processing profile  Profile_20100310_prof.nc_58\n",
      "Processing profile  Profile_20100311_prof.nc_0\n",
      "Processing profile  Profile_20100311_prof.nc_80\n",
      "Processing profile  Profile_20100312_prof.nc_42\n",
      "Processing profile  Profile_20100312_prof.nc_48\n",
      "Processing profile  Profile_20100313_prof.nc_0\n",
      "Processing profile  Profile_20100314_prof.nc_36\n",
      "Processing profile  Profile_20100314_prof.nc_48\n",
      "Processing profile  Profile_20100315_prof.nc_0\n",
      "Processing profile  Profile_20100316_prof.nc_0\n",
      "Processing profile  Profile_20100316_prof.nc_18\n",
      "Processing profile  Profile_20100316_prof.nc_61\n",
      "Processing profile  Profile_20100317_prof.nc_81\n",
      "Processing profile  Profile_20100319_prof.nc_97\n",
      "Processing profile  Profile_20100319_prof.nc_99\n",
      "Processing profile  Profile_20100320_prof.nc_0\n",
      "Processing profile  Profile_20100321_prof.nc_92\n",
      "Processing profile  Profile_20100322_prof.nc_60\n",
      "Processing profile  Profile_20100324_prof.nc_78\n",
      "Processing profile  Profile_20100325_prof.nc_1\n",
      "Processing profile  Profile_20100326_prof.nc_0\n",
      "Processing profile  Profile_20100326_prof.nc_55\n",
      "Processing profile  Profile_20100327_prof.nc_69\n",
      "Processing profile  Profile_20100329_prof.nc_91\n",
      "Processing profile  Profile_20100329_prof.nc_95\n",
      "Processing profile  Profile_20100330_prof.nc_0\n",
      "Processing profile  Profile_20100331_prof.nc_0\n",
      "Processing profile  Profile_20100331_prof.nc_83\n",
      "Processing profile  Profile_20100403_prof.nc_85\n",
      "Processing profile  Profile_20100405_prof.nc_0\n",
      "Processing profile  Profile_20100405_prof.nc_56\n",
      "Processing profile  Profile_20100405_prof.nc_75\n",
      "Processing profile  Profile_20100406_prof.nc_68\n",
      "Processing profile  Profile_20100408_prof.nc_95\n",
      "Processing profile  Profile_20100408_prof.nc_96\n",
      "Processing profile  Profile_20100410_prof.nc_0\n",
      "Processing profile  Profile_20100410_prof.nc_103\n",
      "Processing profile  Profile_20100410_prof.nc_78\n",
      "Processing profile  Profile_20100412_prof.nc_0\n",
      "Processing profile  Profile_20100414_prof.nc_2\n",
      "Processing profile  Profile_20100415_prof.nc_0\n",
      "Processing profile  Profile_20100415_prof.nc_65\n",
      "Processing profile  Profile_20100416_prof.nc_74\n",
      "Processing profile  Profile_20100418_prof.nc_93\n",
      "Processing profile  Profile_20100418_prof.nc_96\n",
      "Processing profile  Profile_20100419_prof.nc_0\n",
      "Processing profile  Profile_20100420_prof.nc_0\n",
      "Processing profile  Profile_20100420_prof.nc_74\n",
      "Processing profile  Profile_20100422_prof.nc_0\n",
      "Processing profile  Profile_20100424_prof.nc_0\n",
      "Processing profile  Profile_20100425_prof.nc_0\n",
      "Processing profile  Profile_20100425_prof.nc_66\n"
     ]
    }
   ],
   "source": [
    "for prof in np.arange(nb_profilesEN4):\n",
    "    list_profiles = infos.keys()\n",
    "    reference =  str(list(list_profiles)[prof])\n",
    "    print('Processing profile ', reference)\n",
    "    # Open the netcdf file\n",
    "    match=re.search(r'([\\w.-]+).nc([\\w.-]+)', reference)\n",
    "    debut_ref=match.group(1)\n",
    "    fin_ref=match.group(2)\n",
    "    diren4=\"/gpfswork/rech/egi/rote001/EN4/\"\n",
    "    dirname=diren4+'profiles_files/MEDWEST60-BLBT02/'\n",
    "    outname=dirname+str(debut_ref)+str(fin_ref)+'_MEDWEST60-BLBT02_TS.nc'\n",
    "    dsprof=xr.open_dataset(outname)\n",
    "\n",
    "    depth_en4=dsprof['depth_en4']\n",
    "    temp_en4=dsprof['temp_profileEN4']\n",
    "    salt_en4=dsprof['salt_profileEN4']\n",
    "    mean_temp_model=dsprof['mean_temp_model']\n",
    "    mean_salt_model=dsprof['mean_salt_model']\n",
    "    percent10_temp_model=dsprof['percent10_temp_model']\n",
    "    percent10_salt_model=dsprof['percent10_salt_model']\n",
    "    percent90_temp_model=dsprof['percent90_temp_model']\n",
    "    percent90_salt_model=dsprof['percent90_salt_model']\n",
    "    obs_lat=dsprof['latitude_profileEN4']\n",
    "    obs_lon=dsprof['longitude_profileEN4']\n",
    "    obs_time=dsprof['time_profileEN4']\n",
    "    \n",
    "    # Project the profile to standart vertical levels\n",
    "    temp_en4_standart=np.interp(vert_standart_red,depth_en4,temp_en4)\n",
    "    salt_en4_standart=np.interp(vert_standart_red,depth_en4,salt_en4)\n",
    "    mean_temp_model_standart=np.interp(vert_standart_red,depth_en4,mean_temp_model)\n",
    "    mean_salt_model_standart=np.interp(vert_standart_red,depth_en4,mean_salt_model)\n",
    "    percent10_temp_model_standart=np.interp(vert_standart_red,depth_en4,percent10_temp_model)\n",
    "    percent10_salt_model_standart=np.interp(vert_standart_red,depth_en4,percent10_salt_model)\n",
    "    percent90_temp_model_standart=np.interp(vert_standart_red,depth_en4,percent90_temp_model)\n",
    "    percent90_salt_model_standart=np.interp(vert_standart_red,depth_en4,percent90_salt_model)\n",
    "\n",
    "    #Fill the all profiles\n",
    "    all_temp_mean_model[prof,:]=mean_temp_model_standart[:]\n",
    "    all_salt_mean_model[prof,:]=mean_salt_model_standart[:]\n",
    "    all_temp_en4[prof,:]=temp_en4_standart[:]\n",
    "    all_salt_en4[prof,:]=salt_en4_standart[:]\n",
    "    all_temp_percent10_model[prof,:]=percent10_temp_model_standart[:]\n",
    "    all_salt_percent10_model[prof,:]=percent10_salt_model_standart[:]\n",
    "    all_temp_percent90_model[prof,:]=percent90_temp_model_standart[:]\n",
    "    all_salt_percent90_model[prof,:]=percent90_salt_model_standart[:]\n"
   ]
  },
  {
   "cell_type": "code",
   "execution_count": 20,
   "metadata": {},
   "outputs": [
    {
     "name": "stdout",
     "output_type": "stream",
     "text": [
      "Processing profile  Profile_20100114_prof.nc_3\n",
      "[15.40994653 15.40994653 15.40994653 15.40994653 15.40994653 15.40994653\n",
      " 15.40994653 15.40994653 15.40964265 15.40909708 15.40855151 15.4071876\n",
      " 15.40542499 15.40358626 15.40131663 15.39891528 15.3957225  15.39252972\n",
      " 15.38913155 15.38570702 15.38248363 15.37928212 15.37559207 15.37185825\n",
      " 15.35766221 15.34272282 15.25297183 14.97562697 14.6354975  14.36226243\n",
      " 14.15040508 13.98139847 13.84070873 13.72513594 13.63109087 13.55676548\n",
      " 13.49934812 13.41986998 13.37107197 13.33898476 13.31659977 13.29750329\n",
      " 13.27814644 13.25594368 13.23229806  7.14170343         nan         nan\n",
      "         nan         nan         nan]\n"
     ]
    }
   ],
   "source": [
    "    prof=9\n",
    "    list_profiles = infos.keys()\n",
    "    reference =  str(list(list_profiles)[prof])\n",
    "    print('Processing profile ', reference)\n",
    "    # Open the netcdf file\n",
    "    match=re.search(r'([\\w.-]+).nc([\\w.-]+)', reference)\n",
    "    debut_ref=match.group(1)\n",
    "    fin_ref=match.group(2)\n",
    "    diren4=\"/gpfswork/rech/egi/rote001/EN4/\"\n",
    "    dirname=diren4+'profiles_files/MEDWEST60-BLBT02/'\n",
    "    outname=dirname+str(debut_ref)+str(fin_ref)+'_MEDWEST60-BLBT02_TS.nc'\n",
    "    dsprof=xr.open_dataset(outname)\n",
    "\n",
    "    depth_en4=dsprof['depth_en4']\n",
    "    temp_en4=dsprof['temp_profileEN4']\n",
    "    salt_en4=dsprof['salt_profileEN4']\n",
    "    mean_temp_model=dsprof['mean_temp_model']\n",
    "    mean_salt_model=dsprof['mean_salt_model']\n",
    "    percent10_temp_model=dsprof['percent10_temp_model']\n",
    "    percent10_salt_model=dsprof['percent10_salt_model']\n",
    "    percent90_temp_model=dsprof['percent90_temp_model']\n",
    "    percent90_salt_model=dsprof['percent90_salt_model']\n",
    "    obs_lat=dsprof['latitude_profileEN4']\n",
    "    obs_lon=dsprof['longitude_profileEN4']\n",
    "    obs_time=dsprof['time_profileEN4']\n",
    "    \n",
    "    # Project the profile to standart vertical levels\n",
    "    temp_en4_standart=np.interp(vert_standart_red,depth_en4,temp_en4)\n",
    "    salt_en4_standart=np.interp(vert_standart_red,depth_en4,salt_en4)\n",
    "    mean_temp_model_standart=np.interp(vert_standart_red,depth_en4,mean_temp_model)\n",
    "    mean_salt_model_standart=np.interp(vert_standart_red,depth_en4,mean_salt_model)\n",
    "    percent10_temp_model_standart=np.interp(vert_standart_red,depth_en4,percent10_temp_model)\n",
    "    percent10_salt_model_standart=np.interp(vert_standart_red,depth_en4,percent10_salt_model)\n",
    "    percent90_temp_model_standart=np.interp(vert_standart_red,depth_en4,percent90_temp_model)\n",
    "    percent90_salt_model_standart=np.interp(vert_standart_red,depth_en4,percent90_salt_model)\n",
    "\n",
    "print(percent10_temp_model_standart)"
   ]
  },
  {
   "cell_type": "code",
   "execution_count": 24,
   "metadata": {},
   "outputs": [
    {
     "name": "stdout",
     "output_type": "stream",
     "text": [
      "<xarray.DataArray 'percent10_temp_model' (depth: 50)>\n",
      "array([15.409947, 15.406969, 15.40332 , 15.399136, 15.392166, 15.385371,\n",
      "       15.379019, 15.371611, 15.341971, 15.156048, 14.785442, 14.482533,\n",
      "       14.243546, 14.061465, 13.907453, 13.781105, 13.67682 , 13.592941,\n",
      "       13.527608, 13.477349, 13.437821, 13.40685 , 13.382699, 13.363226,\n",
      "       13.347205, 13.333835, 13.322675, 13.313073, 13.303675, 13.294192,\n",
      "       13.284829, 13.274841, 13.264373, 13.252113, 13.241752, 13.228366,\n",
      "       13.215778,  4.839349,       nan,       nan,       nan,       nan,\n",
      "             nan,       nan,       nan,       nan,       nan,       nan,\n",
      "             nan,       nan])\n",
      "Dimensions without coordinates: depth\n",
      "Attributes:\n",
      "    units:      degC\n",
      "    valid_min:  -10.0\n",
      "    valid_max:  40.0\n",
      "    long_name:  Percent 10 Temperature profile of the model\n"
     ]
    }
   ],
   "source": [
    "print(percent10_temp_model)"
   ]
  },
  {
   "cell_type": "code",
   "execution_count": 22,
   "metadata": {},
   "outputs": [
    {
     "name": "stdout",
     "output_type": "stream",
     "text": [
      "<xarray.DataArray 'percent10_temp_model' (depth: 50)>\n",
      "array([15.409947, 15.406969, 15.40332 , 15.399136, 15.392166, 15.385371,\n",
      "       15.379019, 15.371611, 15.341971, 15.156048, 14.785442, 14.482533,\n",
      "       14.243546, 14.061465, 13.907453, 13.781105, 13.67682 , 13.592941,\n",
      "       13.527608, 13.477349, 13.437821, 13.40685 , 13.382699, 13.363226,\n",
      "       13.347205, 13.333835, 13.322675, 13.313073, 13.303675, 13.294192,\n",
      "       13.284829, 13.274841, 13.264373, 13.252113, 13.241752, 13.228366,\n",
      "       13.215778,  4.839349,       nan,       nan,       nan,       nan,\n",
      "             nan,       nan,       nan,       nan,       nan,       nan,\n",
      "             nan,       nan])\n",
      "Dimensions without coordinates: depth\n",
      "Attributes:\n",
      "    units:      degC\n",
      "    valid_min:  -10.0\n",
      "    valid_max:  40.0\n",
      "    long_name:  Percent 10 Temperature profile of the model\n"
     ]
    }
   ],
   "source": [
    "print(percent10_temp_model)"
   ]
  },
  {
   "cell_type": "code",
   "execution_count": 23,
   "metadata": {},
   "outputs": [
    {
     "name": "stdout",
     "output_type": "stream",
     "text": [
      "/gpfswork/rech/egi/rote001/EN4/profiles_files/MEDWEST60-BLBT02/Profile_20100114_prof_3_MEDWEST60-BLBT02_TS.nc\n"
     ]
    }
   ],
   "source": [
    "print(outname)"
   ]
  },
  {
   "cell_type": "code",
   "execution_count": 7,
   "metadata": {},
   "outputs": [],
   "source": [
    "mean_all_temp_mean_model=np.mean(all_temp_mean_model,axis=0)\n",
    "mean_all_salt_mean_model=np.mean(all_salt_mean_model,axis=0)\n",
    "mean_all_temp_en4=np.mean(all_temp_en4,axis=0)\n",
    "mean_all_salt_en4=np.mean(all_salt_en4,axis=0)\n",
    "mean_all_temp_percent10_model=np.mean(all_temp_percent10_model,axis=0)\n",
    "mean_all_salt_percent10_model=np.mean(all_salt_percent10_model,axis=0)\n",
    "mean_all_temp_percent90_model=np.mean(all_temp_percent90_model,axis=0)\n",
    "mean_all_salt_percent90_model=np.mean(all_salt_percent90_model,axis=0)\n"
   ]
  },
  {
   "cell_type": "code",
   "execution_count": 13,
   "metadata": {},
   "outputs": [
    {
     "data": {
      "text/plain": [
       "(131, 51)"
      ]
     },
     "execution_count": 13,
     "metadata": {},
     "output_type": "execute_result"
    }
   ],
   "source": [
    "all_temp_percent10_model.shape"
   ]
  },
  {
   "cell_type": "code",
   "execution_count": 16,
   "metadata": {},
   "outputs": [
    {
     "data": {
      "text/plain": [
       "array([13.19625634, 13.22658337, 13.17999397, 13.21576036, 13.13873454,\n",
       "       13.15919609, 13.19104319, 13.28231935, 13.20831216,         nan,\n",
       "       13.17972732, 13.18746256, 13.24341114, 13.21685331, 13.1868209 ,\n",
       "       13.19786168, 13.13185917, 13.17955293, 13.17980406, 13.246642  ,\n",
       "       13.21075163, 13.19672851, 13.19318485, 13.24244238, 13.24008284,\n",
       "       13.18137   , 13.21516401, 13.13535412, 13.18146118, 13.20878758,\n",
       "       13.19688529, 13.22311901, 13.17634393, 13.192623  , 13.22038673,\n",
       "       13.23578031, 13.26284563, 13.20033001, 13.12505394,         nan,\n",
       "       13.18200214, 13.26194425, 13.22654211,         nan,         nan,\n",
       "       13.22397251, 13.23552163, 13.17761527, 13.20405307, 13.20488307,\n",
       "               nan, 13.18499186, 13.21512559, 13.12956852, 13.24744665,\n",
       "               nan, 13.17293593, 13.22635659, 13.19123708, 13.23413675,\n",
       "       13.21546619, 13.17916345, 13.12867336,         nan, 13.20296915,\n",
       "       13.22251658,         nan,         nan, 13.18326319, 13.18486317,\n",
       "       13.20899509, 13.23447796, 13.25083653, 13.14925722, 13.16872882,\n",
       "       13.16872589, 13.17696044, 13.12828103, 13.17282648, 13.17283516,\n",
       "       13.22680218, 13.2118244 , 13.17186549, 13.17187202, 13.17300956,\n",
       "       13.17039755, 13.1704066 , 13.19177126, 13.26641959, 13.17210055,\n",
       "       13.23871818, 13.22886167, 13.15328341, 13.16624357, 13.12931833,\n",
       "       13.23495385, 13.2669241 , 13.17437658, 13.16577529, 13.22850297,\n",
       "       13.21615181, 13.24324857, 13.16186743, 13.18828599, 13.14544242,\n",
       "       13.197881  , 13.19279199, 13.16777127, 13.19370351, 13.2391088 ,\n",
       "       13.16454228,         nan, 13.16245317,         nan, 13.19475758,\n",
       "       13.18841079, 13.29492641, 13.18838549, 13.18185888,         nan,\n",
       "       13.2777586 , 13.19783331,         nan, 13.15472349, 13.18743087,\n",
       "       13.20000911, 13.20464706,         nan, 13.16929925, 13.20631046,\n",
       "       13.19214482])"
      ]
     },
     "execution_count": 16,
     "metadata": {},
     "output_type": "execute_result"
    }
   ],
   "source": [
    "all_temp_percent10_model[:,-1]"
   ]
  },
  {
   "cell_type": "code",
   "execution_count": 8,
   "metadata": {},
   "outputs": [
    {
     "data": {
      "text/plain": [
       "array([14.74629955, 14.74629955, 14.74629948, 14.74572508, 14.74498768,\n",
       "       14.74328429, 14.74139835, 14.73929474, 14.73664391, 14.73294347,\n",
       "       14.72873847, 14.71739518, 14.70408882, 14.6901359 , 14.67559728,\n",
       "       14.66032581, 14.6445837 , 14.62860852, 14.6123679 , 14.59597528,\n",
       "       14.57927985, 14.56260089, 14.54336399, 14.5227015 , 14.49727594,\n",
       "       14.47038948, 14.4384851 , 14.36862551, 14.2865529 , 14.19313996,\n",
       "       14.09074812, 13.98754401, 13.74673781,         nan,         nan,\n",
       "               nan,         nan,         nan,         nan,         nan,\n",
       "               nan,         nan,         nan,         nan,         nan,\n",
       "               nan,         nan,         nan,         nan,         nan,\n",
       "               nan])"
      ]
     },
     "execution_count": 8,
     "metadata": {},
     "output_type": "execute_result"
    }
   ],
   "source": [
    "mean_all_temp_percent10_model"
   ]
  },
  {
   "cell_type": "code",
   "execution_count": 9,
   "metadata": {},
   "outputs": [
    {
     "name": "stdout",
     "output_type": "stream",
     "text": [
      "12.908628388248138 15.222330959298416 37.628761018252426 38.53979215177431\n"
     ]
    }
   ],
   "source": [
    "min_temp=np.nanmin([np.nanmin(mean_all_temp_mean_model),\n",
    "                 np.nanmin(mean_all_temp_en4),\n",
    "                 np.nanmin(mean_all_temp_percent10_model),\n",
    "                 np.nanmin(mean_all_temp_percent90_model)])\n",
    "max_temp=np.nanmax([np.nanmax(mean_all_temp_mean_model),\n",
    "                 np.nanmax(mean_all_temp_en4),\n",
    "                 np.nanmax(mean_all_temp_percent10_model),\n",
    "                 np.nanmax(mean_all_temp_percent90_model)])\n",
    "min_salt=np.nanmin([np.nanmin(mean_all_salt_mean_model),\n",
    "                 np.nanmin(mean_all_salt_en4),\n",
    "                 np.nanmin(mean_all_salt_percent10_model),\n",
    "                 np.nanmin(mean_all_salt_percent90_model)])\n",
    "max_salt=np.nanmax([np.nanmax(mean_all_salt_mean_model),\n",
    "                 np.nanmax(mean_all_salt_en4),\n",
    "                 np.nanmax(mean_all_salt_percent10_model),\n",
    "                 np.nanmax(mean_all_salt_percent90_model)])\n",
    "print(min_temp,max_temp,min_salt,max_salt)\n",
    "\n"
   ]
  },
  {
   "cell_type": "code",
   "execution_count": 10,
   "metadata": {},
   "outputs": [
    {
     "data": {
      "image/png": "[encoded data removed]",
      "text/plain": [
       "<Figure size 1080x432 with 3 Axes>"
      ]
     },
     "metadata": {
      "needs_background": "light"
     },
     "output_type": "display_data"
    }
   ],
   "source": [
    "fig, axs = plt.subplots(1,3, figsize=(15, 6))\n",
    "axs = axs.ravel()\n",
    "title = 'Comparison of Temperature and Salinity Profiles with '+str(nb_profilesEN4)+' profiles of EN4 database'\n",
    "plt.suptitle(title,size = 15,y=1.05)\n",
    "axs[0].plot(mean_all_temp_en4,vert_standart_red,'k.-', label='temp en4')\n",
    "axs[0].plot(mean_all_temp_mean_model,vert_standart_red,'b.-', label='temp model-mean')\n",
    "axs[0].set_ylabel('Depth [m]', size=14)\n",
    "axs[0].set_xlim(left=min_temp-(max_temp-min_temp)/10,right=max_temp+(max_temp-min_temp)/10)\n",
    "axs[0].set_ylim(depthmin, 0)\n",
    "axs[0].grid(True, which='both')\n",
    "axs[0].xaxis.tick_top()\n",
    "axs[0].xaxis.set_label_position('top') \n",
    "axs[0].plot(mean_all_temp_percent10_model,vert_standart_red,'b-', label='temp model-percent10')\n",
    "axs[0].plot(mean_all_temp_percent90_model,vert_standart_red,'b-', label='temp model-percent90')\n",
    "axs[0].fill_betweenx(vert_standart_red, mean_all_temp_percent10_model, x2=mean_all_temp_percent90_model, alpha=0.2, facecolor='b')\n",
    "#        axs[0].set_title('Temperature profiles')\n",
    "axs[0].legend()\n",
    "        \n",
    "axs[1].plot(mean_all_salt_en4,vert_standart_red,'k.-', label='salt en4')\n",
    "axs[1].plot(mean_all_salt_mean_model,vert_standart_red,'b.-', label='salt model-mean')\n",
    "axs[1].set_ylabel('Depth [m]', size=14)\n",
    "axs[1].set_xlim(left=min_salt-(max_salt-min_salt)/10,right=max_salt+(max_salt-min_salt)/10)\n",
    "axs[1].set_ylim(depthmin, 0)\n",
    "axs[1].grid(True, which='both')\n",
    "axs[1].xaxis.tick_top()\n",
    "axs[1].xaxis.set_label_position('top') \n",
    "axs[1].plot(mean_all_salt_percent10_model,vert_standart_red,'b-', label='salt model-percent10')\n",
    "axs[1].plot(mean_all_salt_percent90_model,vert_standart_red,'b-', label='salt model-percent90')\n",
    "axs[1].fill_betweenx(vert_standart_red, mean_all_salt_percent10_model, x2=mean_all_salt_percent90_model, alpha=0.2, facecolor='b')\n",
    "#        axs[1].set_title('Salinity profiles')\n",
    "axs[1].legend()\n",
    "\n",
    "textstr = '\\n'.join((\n",
    "            ' simulation = MEDWEST60-BLBT02',\n",
    "            ' dates = '+str(datemin)+' '+str(datemax),\n",
    "            ' radius max = '+str(radius_max)+'°',\n",
    "            ' period = '+str(period)+'d',\n",
    "            ' depth min = '+str(depthmin)+'m',\n",
    "            ' nb_profiles = '+str(number_of_model_profiles)))        \n",
    "props = dict(boxstyle='round', facecolor='wheat', alpha=0.5)\n",
    "axs[2].text(0.05, 0.95, textstr, transform=axs[2].transAxes, fontsize=14,verticalalignment='top', bbox=props)\n",
    "axs[2].axis('off')\n",
    "fig.tight_layout()\n",
    "plt.savefig('plots/profiles-TS-MEDWEST60-BLBT02_'+str(datemin)+'-'+str(datemax)+'_'+str(depthmin)+'m_'+str(radius_max)+'x'+str(period)+'d_'+str(number_of_model_profiles)+'.png',bbox_inches='tight')\n"
   ]
  },
  {
   "cell_type": "code",
   "execution_count": null,
   "metadata": {},
   "outputs": [],
   "source": []
  }
 ],
 "metadata": {
  "celltoolbar": "Tags",
  "kernelspec": {
   "display_name": "new-seawater",
   "language": "python",
   "name": "seawater"
  },
  "language_info": {
   "codemirror_mode": {
    "name": "ipython",
    "version": 3
   },
   "file_extension": ".py",
   "mimetype": "text/x-python",
   "name": "python",
   "nbconvert_exporter": "python",
   "pygments_lexer": "ipython3",
   "version": "3.8.3"
  }
 },
 "nbformat": 4,
 "nbformat_minor": 4
}
