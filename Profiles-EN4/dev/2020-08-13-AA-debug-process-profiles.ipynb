{
 "cells": [
  {
   "cell_type": "markdown",
   "metadata": {},
   "source": [
    "## Import all the libraries"
   ]
  },
  {
   "cell_type": "code",
   "execution_count": 1,
   "metadata": {},
   "outputs": [],
   "source": [
    "import numpy as np\n",
    "import dask\n",
    "import xarray as xr\n",
    "from netCDF4 import Dataset\n",
    "import matplotlib.pyplot as plt\n",
    "import pandas as pd\n",
    "import datetime\n",
    "import glob as glob\n",
    "import time\n",
    "from dask.diagnostics import ProgressBar\n",
    "from datetime import date\n",
    "import json\n",
    "import os\n",
    "import warnings\n",
    "import seawater\n",
    "import re\n",
    "\n",
    "warnings.filterwarnings('ignore')\n"
   ]
  },
  {
   "cell_type": "markdown",
   "metadata": {},
   "source": [
    "## Parameters"
   ]
  },
  {
   "cell_type": "code",
   "execution_count": 5,
   "metadata": {
    "tags": [
     "parameters"
    ]
   },
   "outputs": [],
   "source": [
    "ymin=2010;mmin=1;dmin=1\n",
    "ymax=2010;mmax=4;dmax=30\n",
    "# depth of the desired comparison profile in m\n",
    "depthmin=500\n",
    "# radius of the circle around the profile location in which we take the modeled profiles, in °  \n",
    "radius_max=0.25\n",
    "# period of time around the profile sampling date in which we take the modeled profiles, in days\n",
    "period=5\n",
    "# minimum amount of model profiles to be considered to make a significant statistical comparison, for instance in a 1° square and 30-days window we have 2.6 millions modeled profiles, in a 0.5°x10 days 216 000\n",
    "number_of_model_profiles=100000\n",
    "# \n",
    "debug_plot=False\n"
   ]
  },
  {
   "cell_type": "code",
   "execution_count": 6,
   "metadata": {},
   "outputs": [],
   "source": [
    "datemin=datetime.date(ymin,mmin,dmin)\n",
    "datemax=datetime.date(ymax,mmax,dmax)\n",
    "jsonfile='txt/MEDWEST60-BLBT02_'+str(datemin)+'-'+str(datemax)+'_'+str(depthmin)+'m_'+str(radius_max)+'x'+str(period)+'d_'+str(number_of_model_profiles)+'.json'"
   ]
  },
  {
   "cell_type": "markdown",
   "metadata": {},
   "source": [
    "## Read the jsonfile"
   ]
  },
  {
   "cell_type": "code",
   "execution_count": 7,
   "metadata": {},
   "outputs": [],
   "source": [
    "sourcefile=open(jsonfile,'rU')\n",
    "infos=json.load(sourcefile)\n",
    "nb_profilesEN4=len(infos)\n"
   ]
  },
  {
   "cell_type": "markdown",
   "metadata": {},
   "source": [
    "## Loop on the number of profiles"
   ]
  },
  {
   "cell_type": "code",
   "execution_count": 17,
   "metadata": {},
   "outputs": [
    {
     "name": "stdout",
     "output_type": "stream",
     "text": [
      "Processing profile  Profile_20100114_prof.nc_3\n",
      "['/gpfsstore/rech/egi/commun/MEDWEST60/extracted_eNATL60/allv/MEDWEST60-BLBT02_y2010m01d09.1h_gridT.nc', '/gpfsstore/rech/egi/commun/MEDWEST60/extracted_eNATL60/allv/MEDWEST60-BLBT02_y2010m01d10.1h_gridT.nc', '/gpfsstore/rech/egi/commun/MEDWEST60/extracted_eNATL60/allv/MEDWEST60-BLBT02_y2010m01d11.1h_gridT.nc', '/gpfsstore/rech/egi/commun/MEDWEST60/extracted_eNATL60/allv/MEDWEST60-BLBT02_y2010m01d12.1h_gridT.nc', '/gpfsstore/rech/egi/commun/MEDWEST60/extracted_eNATL60/allv/MEDWEST60-BLBT02_y2010m01d13.1h_gridT.nc', '/gpfsstore/rech/egi/commun/MEDWEST60/extracted_eNATL60/allv/MEDWEST60-BLBT02_y2010m01d14.1h_gridT.nc', '/gpfsstore/rech/egi/commun/MEDWEST60/extracted_eNATL60/allv/MEDWEST60-BLBT02_y2010m01d15.1h_gridT.nc', '/gpfsstore/rech/egi/commun/MEDWEST60/extracted_eNATL60/allv/MEDWEST60-BLBT02_y2010m01d16.1h_gridT.nc', '/gpfsstore/rech/egi/commun/MEDWEST60/extracted_eNATL60/allv/MEDWEST60-BLBT02_y2010m01d17.1h_gridT.nc', '/gpfsstore/rech/egi/commun/MEDWEST60/extracted_eNATL60/allv/MEDWEST60-BLBT02_y2010m01d18.1h_gridT.nc', '/gpfsstore/rech/egi/commun/MEDWEST60/extracted_eNATL60/allv/MEDWEST60-BLBT02_y2010m01d19.1h_gridT.nc']\n"
     ]
    }
   ],
   "source": [
    "    prof=9\n",
    "    # Process one profile\n",
    "    list_profiles = infos.keys()\n",
    "    reference =  str(list(list_profiles)[prof])\n",
    "    print('Processing profile ', reference)\n",
    "\n",
    "    # Get all infos from json file\n",
    "    lat_prof = infos[list(list_profiles)[prof]]['latitude']\n",
    "    lon_prof = infos[list(list_profiles)[prof]]['longitude']\n",
    "    date_prof = infos[list(list_profiles)[prof]]['date']\n",
    "    file_prof = infos[list(list_profiles)[prof]]['file']\n",
    "    prof_prof = infos[list(list_profiles)[prof]]['profile no']\n",
    "    i0 = infos[list(list_profiles)[prof]]['i0']\n",
    "    j0 = infos[list(list_profiles)[prof]]['j0']\n",
    "\n",
    "    # List of all model files involved\n",
    "    date_profmin=datetime.date(int(date_prof[0:4]),int(date_prof[5:7]),int(date_prof[8:10]))-datetime.timedelta(days=int(period))\n",
    "    date_profmax=datetime.date(int(date_prof[0:4]),int(date_prof[5:7]),int(date_prof[8:10]))+datetime.timedelta(days=int(period))\n",
    "    def date_range(start, end):\n",
    "        r = (end+datetime.timedelta(days=1)-start).days\n",
    "        return [start+datetime.timedelta(days=i) for i in range(r)]\n",
    "    dateList = date_range(date_profmin, date_profmax) \n",
    "    dirmod=\"/gpfsstore/rech/egi/commun/MEDWEST60/extracted_eNATL60/allv/\"\n",
    "    list_filesmod_T=[]\n",
    "    list_filesmod_S=[]\n",
    "    for date in dateList:\n",
    "        year=date.year\n",
    "        month=date.month\n",
    "        day=date.day\n",
    "        mm=\"{:02d}\".format(month) #month on 2 digits\n",
    "        dd=\"{:02d}\".format(day) # day on 2 digits\n",
    "        list_filesmod_T.append(dirmod+'MEDWEST60-BLBT02_y'+str(year)+'m'+str(mm)+'d'+str(dd)+'.1h_gridT.nc')\n",
    "        list_filesmod_S.append(dirmod+'MEDWEST60-BLBT02_y'+str(year)+'m'+str(mm)+'d'+str(dd)+'.1h_gridS.nc')\n",
    "    print(list_filesmod_T)  \n",
    "    \n",
    "    # Read model files\n",
    "    dsT=xr.open_mfdataset(list_filesmod_T)\n",
    "    dsS=xr.open_mfdataset(list_filesmod_S)\n",
    "    gdpts=np.int(np.round(radius_max*60))\n",
    "\n",
    "    lonmod=dsT.nav_lon[0,j0-gdpts:j0+gdpts,i0-gdpts:i0+gdpts]\n",
    "    latmod=dsT.nav_lat[0,j0-gdpts:j0+gdpts,i0-gdpts:i0+gdpts]\n",
    "    tempmod=dsT.votemper[:,:,j0-gdpts:j0+gdpts,i0-gdpts:i0+gdpts]\n",
    "    saltmod=dsS.vosaline[:,:,j0-gdpts:j0+gdpts,i0-gdpts:i0+gdpts]\n",
    "    depthmod=dsT.deptht\n",
    "    meshfile='/gpfsstore/rech/egi/commun/MEDWEST60/MEDWEST60-I/mesh_mask.nc'\n",
    "    ds=xr.open_dataset(meshfile)\n",
    "    maskmod=ds.tmask[0,:,j0-gdpts:j0+gdpts,i0-gdpts:i0+gdpts]\n",
    "    maskmod0=ds.tmask[0,0,j0-gdpts:j0+gdpts,i0-gdpts:i0+gdpts]\n",
    "\n",
    "    #Get the depth at every grid point\n",
    "    d,ly,lx=maskmod.shape\n",
    "    depthmod2d=np.zeros([lx,ly])\n",
    "    for j in np.arange(ly):\n",
    "        for i in np.arange(lx):\n",
    "            depthmod2d[j,i]=depthmod[np.min(np.where(maskmod[:,j,i].values<1))].values\n",
    "    \n",
    "    # Read the profile file\n",
    "    diren4=\"/gpfswork/rech/egi/rote001/EN4/\"\n",
    "    tfileEN4=diren4+file_prof\n",
    "    dsen4=xr.open_dataset(tfileEN4)\n",
    "    laten4=dsen4['LATITUDE'][prof_prof]\n",
    "    lonen4=dsen4['LONGITUDE'][prof_prof]\n",
    "    dayen4=dsen4['JULD'][prof_prof]\n",
    "    tempen4=dsen4['TEMP'][prof_prof]\n",
    "    salten4=dsen4['PSAL'][prof_prof]\n",
    "    presen4=dsen4['PRES_ADJUSTED'][prof_prof]\n",
    "    depthen4=seawater.dpth(presen4,laten4)\n",
    "\n",
    "    # Find the last level and reduce the profiles\n",
    "    indzprof=np.min(np.where(np.isnan(depthen4)==True))\n",
    "    dmax=depthen4[indzprof-1]\n",
    "    obsred_dep=np.zeros(int(indzprof))\n",
    "    obsred_temp=np.zeros(int(indzprof))\n",
    "    obsred_salt=np.zeros(int(indzprof))\n",
    "    for z in np.arange(int(indzprof)):\n",
    "        obsred_dep[int(z)]=depthen4[int(z)]\n",
    "        obsred_temp[int(z)]=tempen4[int(z)]\n",
    "        obsred_salt[int(z)]=salten4[int(z)]\n",
    "\n"
   ]
  },
  {
   "cell_type": "code",
   "execution_count": 18,
   "metadata": {},
   "outputs": [],
   "source": [
    "    # Remove the NaN in the profiles\n",
    "    indtempnan=np.where(np.isnan(obsred_temp)==True)\n",
    "    if len(indtempnan[0]) > 0:\n",
    "        obsred_dep = np.delete(obsred_dep, indtempnan[0])    \n",
    "        obsred_salt = np.delete(obsred_salt, indtempnan[0])    \n",
    "        obsred_temp = np.delete(obsred_temp, indtempnan[0])    \n",
    "    indsaltnan=np.where(np.isnan(obsred_salt)==True)\n",
    "    if len(indsaltnan[0]) > 0:\n",
    "        obsred_dep = np.delete(obsred_dep, indsaltnan[0])    \n",
    "        obsred_salt = np.delete(obsred_salt, indsaltnan[0])    \n",
    "        obsred_temp = np.delete(obsred_temp, indsaltnan[0])    \n"
   ]
  },
  {
   "cell_type": "code",
   "execution_count": 19,
   "metadata": {},
   "outputs": [],
   "source": [
    "    # Find the model profiles\n",
    "    lon_stacked = lonmod.stack(profile=('x', 'y'))\n",
    "    lat_stacked = latmod.stack(profile=('x', 'y'))\n",
    "    mask_stacked = maskmod0.stack(profile=('x', 'y'))\n",
    "    xr_depthmod2d=xr.DataArray(depthmod2d, dims=('y', 'x'))\n",
    "    depth_stacked = xr_depthmod2d.stack(profile=('x', 'y'))\n",
    "    \n",
    "    distance_threshold = radius_max\n",
    "    square_distance_to_observation = (lon_stacked - lon_prof)**2 + (lat_stacked-lat_prof)**2\n",
    "    square_distance_to_observation_mask = np.ma.masked_where(mask_stacked==0.,square_distance_to_observation) \n",
    "    square_distance_to_observation_sorted = np.sort(square_distance_to_observation_mask)\n",
    "    nb_profiles_per_timestep=number_of_model_profiles/(24*period*2+24)\n",
    "    new_threshold=square_distance_to_observation_sorted[int(np.round(nb_profiles_per_timestep)+1)]\n",
    "    is_closer_to_observation = (square_distance_to_observation < new_threshold) & (depth_stacked > depthmin)\n",
    "\n",
    "    model_temperature_stacked = tempmod.stack(profile=('x', 'y'))\n",
    "    model_salinity_stacked = saltmod.stack(profile=('x', 'y'))\n",
    "\n",
    "    model_temperature_near_observation = model_temperature_stacked.where(is_closer_to_observation,drop=True)\n",
    "    model_salinity_near_observation = model_salinity_stacked.where(is_closer_to_observation, drop=True)\n",
    "    lat_near_observation = lat_stacked.where(is_closer_to_observation, drop=True)\n",
    "    lon_near_observation = lon_stacked.where(is_closer_to_observation, drop=True)\n",
    "    \n",
    "    # Compute statistics on the model profiles\n",
    "    temp_model_mean = np.mean(model_temperature_near_observation,axis=(0,2))\n",
    "    temp_percentile_10= np.percentile(model_temperature_near_observation,10,axis=(0,2))\n",
    "    temp_percentile_90= np.percentile(model_temperature_near_observation,90,axis=(0,2))\n",
    "    salt_model_mean = np.mean(model_salinity_near_observation,axis=(0,2))\n",
    "    salt_percentile_10= np.percentile(model_salinity_near_observation,10,axis=(0,2))\n",
    "    salt_percentile_90= np.percentile(model_salinity_near_observation,90,axis=(0,2))\n",
    "    \n",
    "    # Interpolate on obs vertical grid\n",
    "    temp_model_mean_depobs=np.interp(obsred_dep,depthmod,temp_model_mean)\n",
    "    temp_model_percentile_10_depobs=np.interp(obsred_dep,depthmod,temp_percentile_10)\n",
    "    temp_model_percentile_90_depobs=np.interp(obsred_dep,depthmod,temp_percentile_90)\n",
    "    salt_model_mean_depobs=np.interp(obsred_dep,depthmod,salt_model_mean)\n",
    "    salt_model_percentile_10_depobs=np.interp(obsred_dep,depthmod,salt_percentile_10)\n",
    "    salt_model_percentile_90_depobs=np.interp(obsred_dep,depthmod,salt_percentile_90)\n",
    "    \n"
   ]
  },
  {
   "cell_type": "code",
   "execution_count": 60,
   "metadata": {},
   "outputs": [
    {
     "data": {
      "text/plain": [
       "(264, 212, 282)"
      ]
     },
     "execution_count": 60,
     "metadata": {},
     "output_type": "execute_result"
    }
   ],
   "source": [
    "model_temperature_near_observation.shape"
   ]
  },
  {
   "cell_type": "code",
   "execution_count": 62,
   "metadata": {},
   "outputs": [
    {
     "data": {
      "text/plain": [
       "array([ 14.885993  ,  25.80169868,  35.72457123,  44.65472794,\n",
       "        55.56885529,  65.49027252,  75.41120911,  85.33168793,\n",
       "        95.25166321, 105.17116547, 115.09017944, 125.0087204 ,\n",
       "       134.92677307, 144.84437561, 154.76145935, 164.67808533,\n",
       "       174.59422302, 184.50990295, 194.42507935, 204.33976746,\n",
       "       214.25401306, 224.16773987, 234.08103943, 243.99380493,\n",
       "       253.90615845, 263.81799316, 273.7293396 , 283.64022827,\n",
       "       293.55062866, 303.46057129, 313.36999512, 323.2789917 ,\n",
       "       333.18746948, 343.09552002, 353.00305176, 362.91009521,\n",
       "       372.81668091, 382.72280884, 392.628479  , 409.46694946,\n",
       "       434.22689819, 458.98394775, 483.73797607, 508.48913574,\n",
       "       534.22705078, 557.9822998 , 582.72454834, 607.46380615,\n",
       "       632.20001221, 653.96557617])"
      ]
     },
     "execution_count": 62,
     "metadata": {},
     "output_type": "execute_result"
    }
   ],
   "source": [
    "obsred_dep"
   ]
  },
  {
   "cell_type": "code",
   "execution_count": 61,
   "metadata": {},
   "outputs": [
    {
     "data": {
      "text/plain": [
       "array([15.39740581, 15.39472346, 15.39104474, 15.38668852, 15.38136437,\n",
       "       15.37525706, 15.36904873, 15.36261683, 15.33243747, 15.1060912 ,\n",
       "       14.73817846, 14.44755925, 14.22131018, 14.04242619, 13.89163937,\n",
       "       13.76822671, 13.66784271, 13.58662374, 13.52238324, 13.47345806,\n",
       "       13.43510713, 13.40510038, 13.38138974, 13.36225069, 13.34646342,\n",
       "       13.33354584, 13.32265877, 13.31306274, 13.30388102, 13.29491117,\n",
       "       13.28587804, 13.2761835 , 13.26619396, 13.25541301, 13.2461311 ,\n",
       "       13.23629728, 13.22712963, 13.21811456, 13.20900819, 13.19408857,\n",
       "       13.17475789, 13.15788848, 13.14332993, 13.12848143, 13.11482132,\n",
       "        1.05254577,  0.        ,  0.        ,  0.        ,  0.        ])"
      ]
     },
     "execution_count": 61,
     "metadata": {},
     "output_type": "execute_result"
    }
   ],
   "source": [
    "temp_model_percentile_10_depobs"
   ]
  },
  {
   "cell_type": "code",
   "execution_count": 25,
   "metadata": {},
   "outputs": [
    {
     "name": "stdout",
     "output_type": "stream",
     "text": [
      "[ 14.885993    25.80169868  35.72457123  44.65472794  55.56885529\n",
      "  65.49027252  75.41120911  85.33168793  95.25166321 105.17116547\n",
      " 115.09017944 125.0087204  134.92677307 144.84437561 154.76145935\n",
      " 164.67808533 174.59422302 184.50990295 194.42507935 204.33976746\n",
      " 214.25401306 224.16773987 234.08103943 243.99380493 253.90615845\n",
      " 263.81799316 273.7293396  283.64022827 293.55062866 303.46057129\n",
      " 313.36999512 323.2789917  333.18746948 343.09552002 353.00305176\n",
      " 362.91009521 372.81668091 382.72280884 392.628479   409.46694946\n",
      " 434.22689819 458.98394775 483.73797607]\n"
     ]
    }
   ],
   "source": [
    "indz=np.where(obsred_dep>depthmin)\n",
    "obsred_dep_red=obsred_dep[0:np.min(indz[0])]\n",
    "print(obsred_dep_red)"
   ]
  },
  {
   "cell_type": "code",
   "execution_count": 26,
   "metadata": {},
   "outputs": [
    {
     "data": {
      "text/plain": [
       "array([15.40853262, 15.40791655, 15.40621948, 15.40431986, 15.40277786,\n",
       "       15.40115004, 15.39964304, 15.39867849, 15.39772673, 15.39716721,\n",
       "       15.396772  , 15.39631977, 15.39546652, 15.39428825, 15.39302444,\n",
       "       15.39181204, 15.39066229, 15.38872786, 15.3868206 , 15.38506393,\n",
       "       15.38314934, 15.38065434, 15.37771177, 15.37500925, 15.37198496,\n",
       "       15.36886854, 15.36570044, 15.36205826, 15.35214128, 15.32156458,\n",
       "       15.18657961, 14.95873585, 14.73525372, 14.53874741, 14.37182808,\n",
       "       14.2278573 , 14.09941206, 13.9847311 , 13.88115807, 13.78881359,\n",
       "       13.70774984, 13.63771315, 13.57768154])"
      ]
     },
     "execution_count": 26,
     "metadata": {},
     "output_type": "execute_result"
    }
   ],
   "source": [
    "temp_percentile_10[0:np.min(indz[0])]"
   ]
  },
  {
   "cell_type": "code",
   "execution_count": 35,
   "metadata": {},
   "outputs": [
    {
     "data": {
      "text/plain": [
       "array([15.68097565, 15.67823339, 15.67421769, 15.66962498, 15.66291436,\n",
       "       15.65510564, 15.64526891, 15.6237074 , 15.54857028, 15.40460403,\n",
       "       15.18228226, 14.8841285 , 14.58406873, 14.33435257, 14.12976967,\n",
       "       13.96649232, 13.83547774, 13.72915221, 13.64374615, 13.57528055,\n",
       "       13.52038953, 13.47658603, 13.44121006, 13.41217796, 13.38833922,\n",
       "       13.36886185, 13.35229722, 13.33838073, 13.32620387, 13.31517309,\n",
       "       13.3046975 , 13.29406386, 13.28357788, 13.27196277, 13.261254  ,\n",
       "       13.25029342, 13.24010002, 13.23051126, 13.22121616, 13.20613419,\n",
       "       13.18595212, 13.16812235, 13.15268832, 12.70841502, 12.43106678,\n",
       "       11.66640587, 10.81624344,  9.48055463,  7.93980637,  6.72056752])"
      ]
     },
     "execution_count": 35,
     "metadata": {},
     "output_type": "execute_result"
    }
   ],
   "source": [
    "temp_model_mean_depobs"
   ]
  },
  {
   "cell_type": "code",
   "execution_count": 36,
   "metadata": {},
   "outputs": [
    {
     "data": {
      "text/plain": [
       "array([15.39740581, 15.39472346, 15.39104474, 15.38668852, 15.38136437,\n",
       "       15.37525706, 15.36904873, 15.36261683, 15.33243747, 15.1060912 ,\n",
       "       14.73817846, 14.44755925, 14.22131018, 14.04242619, 13.89163937,\n",
       "       13.76822671, 13.66784271, 13.58662374, 13.52238324, 13.47345806,\n",
       "       13.43510713, 13.40510038, 13.38138974, 13.36225069, 13.34646342,\n",
       "       13.33354584, 13.32265877, 13.31306274, 13.30388102, 13.29491117,\n",
       "       13.28587804, 13.2761835 , 13.26619396, 13.25541301, 13.2461311 ,\n",
       "       13.23629728, 13.22712963, 13.21811456, 13.20900819, 13.19408857,\n",
       "       13.17475789, 13.15788848, 13.14332993, 13.12848143, 13.11482132,\n",
       "        1.05254577,  0.        ,  0.        ,  0.        ,  0.        ])"
      ]
     },
     "execution_count": 36,
     "metadata": {},
     "output_type": "execute_result"
    }
   ],
   "source": [
    "temp_model_percentile_10_depobs"
   ]
  },
  {
   "cell_type": "code",
   "execution_count": 37,
   "metadata": {},
   "outputs": [
    {
     "data": {
      "text/plain": [
       "array([ 14.885993  ,  25.80169868,  35.72457123,  44.65472794,\n",
       "        55.56885529,  65.49027252,  75.41120911,  85.33168793,\n",
       "        95.25166321, 105.17116547, 115.09017944, 125.0087204 ,\n",
       "       134.92677307, 144.84437561, 154.76145935, 164.67808533,\n",
       "       174.59422302, 184.50990295, 194.42507935, 204.33976746,\n",
       "       214.25401306, 224.16773987, 234.08103943, 243.99380493,\n",
       "       253.90615845, 263.81799316, 273.7293396 , 283.64022827,\n",
       "       293.55062866, 303.46057129, 313.36999512, 323.2789917 ,\n",
       "       333.18746948, 343.09552002, 353.00305176, 362.91009521,\n",
       "       372.81668091, 382.72280884, 392.628479  , 409.46694946,\n",
       "       434.22689819, 458.98394775, 483.73797607, 508.48913574,\n",
       "       534.22705078, 557.9822998 , 582.72454834, 607.46380615,\n",
       "       632.20001221, 653.96557617])"
      ]
     },
     "execution_count": 37,
     "metadata": {},
     "output_type": "execute_result"
    }
   ],
   "source": [
    "obsred_dep"
   ]
  },
  {
   "cell_type": "code",
   "execution_count": 41,
   "metadata": {},
   "outputs": [
    {
     "data": {
      "text/plain": [
       "array([4.80454773e-01, 1.55879164e+00, 2.79421043e+00, 4.18731070e+00,\n",
       "       5.73867321e+00, 7.44886065e+00, 9.31841755e+00, 1.13478689e+01,\n",
       "       1.35377216e+01, 1.58884602e+01, 1.84005527e+01, 2.10744438e+01,\n",
       "       2.39105644e+01, 2.69093151e+01, 3.00710869e+01, 3.33962402e+01,\n",
       "       3.68851204e+01, 4.05380478e+01, 4.43553276e+01, 4.83372383e+01,\n",
       "       5.24840355e+01, 5.67959518e+01, 6.12732086e+01, 6.59159927e+01,\n",
       "       7.07244797e+01, 7.56988144e+01, 8.08391113e+01, 8.61454926e+01,\n",
       "       9.16180191e+01, 9.72567673e+01, 1.03061752e+02, 1.09033005e+02,\n",
       "       1.15170502e+02, 1.21474220e+02, 1.27944099e+02, 1.34580063e+02,\n",
       "       1.41382019e+02, 1.48349823e+02, 1.55483353e+02, 1.62782425e+02,\n",
       "       1.70246857e+02, 1.77876450e+02, 1.85670959e+02, 1.93630112e+02,\n",
       "       2.01753662e+02, 2.10041290e+02, 2.18492691e+02, 2.27107513e+02,\n",
       "       2.35885391e+02, 2.44825958e+02, 2.53928802e+02, 2.63193481e+02,\n",
       "       2.72619568e+02, 2.82206635e+02, 2.91954132e+02, 3.01861572e+02,\n",
       "       3.11928467e+02, 3.22154236e+02, 3.32538330e+02, 3.43080200e+02,\n",
       "       3.53779205e+02, 3.64634766e+02, 3.75646210e+02, 3.86812927e+02,\n",
       "       3.98134247e+02, 4.09609467e+02, 4.21237915e+02, 4.33018829e+02,\n",
       "       4.44951508e+02, 4.57035217e+02, 4.69269196e+02, 4.81652649e+02,\n",
       "       4.94184784e+02, 5.06864807e+02, 5.19691956e+02, 5.32665283e+02,\n",
       "       5.45784058e+02, 5.59047363e+02, 5.72454346e+02, 5.86004150e+02,\n",
       "       5.99695862e+02, 6.13528625e+02, 6.27501465e+02, 6.41613525e+02,\n",
       "       6.55863770e+02, 6.70251404e+02, 6.84775391e+02, 6.99434814e+02,\n",
       "       7.14228699e+02, 7.29156006e+02, 7.44215881e+02, 7.59407227e+02,\n",
       "       7.74729126e+02, 7.90180542e+02, 8.05760498e+02, 8.21467957e+02,\n",
       "       8.37301941e+02, 8.53261353e+02, 8.69345276e+02, 8.85552551e+02,\n",
       "       9.01882263e+02, 9.18333374e+02, 9.34904724e+02, 9.51595459e+02,\n",
       "       9.68404358e+02, 9.85330444e+02, 1.00237274e+03, 1.01953009e+03,\n",
       "       1.03680151e+03, 1.05418591e+03, 1.07168225e+03, 1.08928955e+03,\n",
       "       1.10700671e+03, 1.12483264e+03, 1.14276636e+03, 1.16080676e+03,\n",
       "       1.17895288e+03, 1.19720349e+03, 1.21555786e+03, 1.23401465e+03,\n",
       "       1.25257300e+03, 1.27123181e+03, 1.28999011e+03, 1.30884680e+03,\n",
       "       1.32780078e+03, 1.34685120e+03, 1.36599707e+03, 1.38523718e+03,\n",
       "       1.40457068e+03, 1.42399646e+03, 1.44351367e+03, 1.46312109e+03,\n",
       "       1.48281799e+03, 1.50260315e+03, 1.52247583e+03, 1.54243481e+03,\n",
       "       1.56247937e+03, 1.58260840e+03, 1.60282104e+03, 1.62311621e+03,\n",
       "       1.64349304e+03, 1.66395068e+03, 1.68448816e+03, 1.70510449e+03,\n",
       "       1.72579883e+03, 1.74657031e+03, 1.76741797e+03, 1.78834106e+03,\n",
       "       1.80933850e+03, 1.83040955e+03, 1.85155334e+03, 1.87276892e+03,\n",
       "       1.89405566e+03, 1.91541260e+03, 1.93683887e+03, 1.95833374e+03,\n",
       "       1.97989636e+03, 2.00152612e+03, 2.02322192e+03, 2.04498315e+03,\n",
       "       2.06680908e+03, 2.08869897e+03, 2.11065210e+03, 2.13266772e+03,\n",
       "       2.15474487e+03, 2.17688330e+03, 2.19908203e+03, 2.22134033e+03,\n",
       "       2.24365771e+03, 2.26603345e+03, 2.28846704e+03, 2.31095752e+03,\n",
       "       2.33350439e+03, 2.35610742e+03, 2.37876562e+03, 2.40147852e+03,\n",
       "       2.42424536e+03, 2.44706616e+03, 2.46993994e+03, 2.49286621e+03,\n",
       "       2.51584473e+03, 2.53887476e+03, 2.56195605e+03, 2.58508813e+03,\n",
       "       2.60827026e+03, 2.63150269e+03, 2.65478442e+03, 2.67811523e+03,\n",
       "       2.70149512e+03, 2.72492334e+03, 2.74839990e+03, 2.77192432e+03,\n",
       "       2.79549658e+03, 2.81911621e+03, 2.84278320e+03, 2.86649731e+03,\n",
       "       2.89025854e+03, 2.91406665e+03, 2.93792139e+03, 2.96182300e+03,\n",
       "       2.98577148e+03, 3.00976660e+03, 3.03380835e+03, 3.05789722e+03,\n",
       "       3.08203320e+03, 3.10621631e+03, 3.13044678e+03, 3.15472510e+03,\n",
       "       3.17905127e+03, 3.20342578e+03, 3.22784912e+03, 3.25232153e+03],\n",
       "      dtype=float32)"
      ]
     },
     "execution_count": 41,
     "metadata": {},
     "output_type": "execute_result"
    }
   ],
   "source": [
    "depthmod.values"
   ]
  },
  {
   "cell_type": "code",
   "execution_count": 42,
   "metadata": {},
   "outputs": [
    {
     "data": {
      "text/plain": [
       "array([15.40853262, 15.40791655, 15.40621948, 15.40431986, 15.40277786,\n",
       "       15.40115004, 15.39964304, 15.39867849, 15.39772673, 15.39716721,\n",
       "       15.396772  , 15.39631977, 15.39546652, 15.39428825, 15.39302444,\n",
       "       15.39181204, 15.39066229, 15.38872786, 15.3868206 , 15.38506393,\n",
       "       15.38314934, 15.38065434, 15.37771177, 15.37500925, 15.37198496,\n",
       "       15.36886854, 15.36570044, 15.36205826, 15.35214128, 15.32156458,\n",
       "       15.18657961, 14.95873585, 14.73525372, 14.53874741, 14.37182808,\n",
       "       14.2278573 , 14.09941206, 13.9847311 , 13.88115807, 13.78881359,\n",
       "       13.70774984, 13.63771315, 13.57768154, 13.52650709, 13.48436661,\n",
       "       13.44940825, 13.42071791, 13.39701023, 13.37734804, 13.36070127,\n",
       "       13.34642792, 13.33424158, 13.32374039, 13.31439657, 13.30532742,\n",
       "       13.29635143, 13.2872839 , 13.27731113, 13.26690044, 13.25542736,\n",
       "       13.24540396, 13.23457718, 13.22455406, 13.21439266, 13.20391054,\n",
       "       13.19396505, 13.18437138, 13.17561979, 13.16710634, 13.15907383,\n",
       "       13.15163231, 13.14440632, 13.13793755, 13.12935991, 13.1224226 ,\n",
       "       13.11582127, 13.10742178,  0.        ,  0.        ,  0.        ,\n",
       "        0.        ,  0.        ,  0.        ,  0.        ,  0.        ,\n",
       "        0.        ,  0.        ,  0.        ,  0.        ,  0.        ,\n",
       "        0.        ,  0.        ,  0.        ,  0.        ,  0.        ,\n",
       "        0.        ,  0.        ,  0.        ,  0.        ,  0.        ,\n",
       "        0.        ,  0.        ,  0.        ,  0.        ,  0.        ,\n",
       "        0.        ,  0.        ,  0.        ,  0.        ,  0.        ,\n",
       "        0.        ,  0.        ,  0.        ,  0.        ,  0.        ,\n",
       "        0.        ,  0.        ,  0.        ,  0.        ,  0.        ,\n",
       "        0.        ,  0.        ,  0.        ,  0.        ,  0.        ,\n",
       "        0.        ,  0.        ,  0.        ,  0.        ,  0.        ,\n",
       "        0.        ,  0.        ,  0.        ,  0.        ,  0.        ,\n",
       "        0.        ,  0.        ,  0.        ,  0.        ,  0.        ,\n",
       "        0.        ,  0.        ,  0.        ,  0.        ,  0.        ,\n",
       "        0.        ,  0.        ,  0.        ,  0.        ,  0.        ,\n",
       "        0.        ,  0.        ,  0.        ,  0.        ,  0.        ,\n",
       "        0.        ,  0.        ,  0.        ,  0.        ,  0.        ,\n",
       "        0.        ,  0.        ,  0.        ,  0.        ,  0.        ,\n",
       "        0.        ,  0.        ,  0.        ,  0.        ,  0.        ,\n",
       "        0.        ,  0.        ,  0.        ,  0.        ,  0.        ,\n",
       "        0.        ,  0.        ,  0.        ,  0.        ,  0.        ,\n",
       "        0.        ,  0.        ,  0.        ,  0.        ,  0.        ,\n",
       "        0.        ,  0.        ,  0.        ,  0.        ,  0.        ,\n",
       "        0.        ,  0.        ,  0.        ,  0.        ,  0.        ,\n",
       "        0.        ,  0.        ,  0.        ,  0.        ,  0.        ,\n",
       "        0.        ,  0.        ,  0.        ,  0.        ,  0.        ,\n",
       "        0.        ,  0.        ,  0.        ,  0.        ,  0.        ,\n",
       "        0.        ,  0.        ])"
      ]
     },
     "execution_count": 42,
     "metadata": {},
     "output_type": "execute_result"
    }
   ],
   "source": [
    "temp_percentile_10"
   ]
  },
  {
   "cell_type": "code",
   "execution_count": 45,
   "metadata": {},
   "outputs": [
    {
     "name": "stdout",
     "output_type": "stream",
     "text": [
      "[ 77  78  79  80  81  82  83  84  85  86  87  88  89  90  91  92  93  94\n",
      "  95  96  97  98  99 100 101 102 103 104 105 106 107 108 109 110 111 112\n",
      " 113 114 115 116 117 118 119 120 121 122 123 124 125 126 127 128 129 130\n",
      " 131 132 133 134 135 136 137 138 139 140 141 142 143 144 145 146 147 148\n",
      " 149 150 151 152 153 154 155 156 157 158 159 160 161 162 163 164 165 166\n",
      " 167 168 169 170 171 172 173 174 175 176 177 178 179 180 181 182 183 184\n",
      " 185 186 187 188 189 190 191 192 193 194 195 196 197 198 199 200 201 202\n",
      " 203 204 205 206 207 208 209 210 211]\n"
     ]
    }
   ],
   "source": [
    "ind=np.where(temp_percentile_10==0)\n",
    "print(ind[0])"
   ]
  },
  {
   "cell_type": "code",
   "execution_count": 46,
   "metadata": {},
   "outputs": [
    {
     "data": {
      "text/plain": [
       "0.0"
      ]
     },
     "execution_count": 46,
     "metadata": {},
     "output_type": "execute_result"
    }
   ],
   "source": [
    "temp_percentile_10[77]"
   ]
  },
  {
   "cell_type": "code",
   "execution_count": 47,
   "metadata": {},
   "outputs": [
    {
     "data": {
      "text/plain": [
       "13.125358867645264"
      ]
     },
     "execution_count": 47,
     "metadata": {},
     "output_type": "execute_result"
    }
   ],
   "source": [
    "temp_percentile_90[77]"
   ]
  },
  {
   "cell_type": "code",
   "execution_count": 49,
   "metadata": {},
   "outputs": [
    {
     "data": {
      "text/plain": [
       "array(11.628672, dtype=float32)"
      ]
     },
     "execution_count": 49,
     "metadata": {},
     "output_type": "execute_result"
    }
   ],
   "source": [
    "temp_model_mean[77].values"
   ]
  },
  {
   "cell_type": "code",
   "execution_count": 51,
   "metadata": {},
   "outputs": [
    {
     "data": {
      "text/plain": [
       "(264, 212, 282)"
      ]
     },
     "execution_count": 51,
     "metadata": {},
     "output_type": "execute_result"
    }
   ],
   "source": [
    "model_temperature_near_observation.shape"
   ]
  },
  {
   "cell_type": "code",
   "execution_count": 53,
   "metadata": {},
   "outputs": [
    {
     "data": {
      "text/plain": [
       "array([ 0.       ,  0.       ,  0.       ,  0.       ,  0.       ,\n",
       "       13.116647 , 13.121037 , 13.120473 , 13.119684 , 13.122994 ,\n",
       "        0.       ,  0.       , 13.109489 , 13.112662 , 13.114429 ,\n",
       "       13.113795 , 13.115534 , 13.117997 , 13.118985 ,  0.       ,\n",
       "        0.       , 13.107102 , 13.106172 , 13.106108 , 13.109184 ,\n",
       "       13.110739 , 13.114375 , 13.1166   , 13.117456 , 13.116825 ,\n",
       "        0.       , 13.117871 , 13.114899 , 13.108356 , 13.104875 ,\n",
       "       13.10637  , 13.110501 , 13.109641 , 13.110933 , 13.111559 ,\n",
       "       13.112585 , 13.112851 ,  0.       , 13.116806 ,  0.       ,\n",
       "        0.       , 13.112588 , 13.107203 , 13.109852 , 13.107611 ,\n",
       "       13.107154 , 13.109458 , 13.111062 , 13.112394 , 13.112591 ,\n",
       "       13.135389 , 13.130575 , 13.132115 , 13.129757 ,  0.       ,\n",
       "        0.       ,  0.       ,  0.       ,  0.       ,  0.       ,\n",
       "        0.       , 13.121176 , 13.12104  , 13.117628 ,  0.       ,\n",
       "        0.       , 13.108997 , 13.1044855, 13.108951 , 13.107337 ,\n",
       "       13.108828 , 13.111385 , 13.112957 , 13.114137 , 13.114344 ,\n",
       "       13.136507 , 13.133364 , 13.134529 , 13.128984 , 13.130028 ,\n",
       "       13.132798 ,  0.       ,  0.       ,  0.       , 13.115737 ,\n",
       "       13.120439 , 13.119021 , 13.117558 , 13.116489 , 13.111161 ,\n",
       "       13.110326 , 13.107545 , 13.106244 , 13.109126 , 13.109958 ,\n",
       "       13.113201 , 13.11599  , 13.117649 , 13.1182575, 13.117845 ,\n",
       "       13.136012 , 13.135352 , 13.133402 , 13.129668 , 13.12836  ,\n",
       "       13.129083 , 13.129078 , 13.128107 ,  0.       ,  0.       ,\n",
       "       13.115184 , 13.11349  , 13.110899 , 13.110942 , 13.108265 ,\n",
       "       13.104345 , 13.112558 , 13.111484 , 13.111282 , 13.111926 ,\n",
       "       13.115447 , 13.119448 , 13.121965 , 13.122825 , 13.122777 ,\n",
       "       13.131553 , 13.130126 , 13.129015 , 13.126858 , 13.126085 ,\n",
       "       13.126077 , 13.124165 , 13.120507 , 13.11623  , 13.113577 ,\n",
       "       13.113677 , 13.116398 , 13.1144495,  0.       , 13.107057 ,\n",
       "       13.112528 , 13.1143265, 13.117286 , 13.121251 , 13.124708 ,\n",
       "       13.12693  , 13.127439 , 13.12782  , 13.126628 , 13.125641 ,\n",
       "       13.12458  , 13.1240015, 13.124066 , 13.120897 , 13.113963 ,\n",
       "       13.111526 , 13.113194 , 13.113278 , 13.117494 , 13.118301 ,\n",
       "        0.       , 13.114081 , 13.117456 , 13.119687 , 13.122354 ,\n",
       "       13.125513 , 13.128424 , 13.129701 , 13.125693 , 13.124038 ,\n",
       "       13.122107 , 13.120644 , 13.120234 , 13.121034 , 13.120847 ,\n",
       "       13.117465 , 13.111833 , 13.114723 , 13.11471  , 13.118385 ,\n",
       "       13.120197 , 13.121123 , 13.119232 , 13.120378 , 13.122583 ,\n",
       "       13.123709 , 13.125833 , 13.128115 , 13.123791 , 13.121327 ,\n",
       "       13.119412 , 13.118921 , 13.118786 , 13.117568 , 13.115788 ,\n",
       "       13.114129 , 13.11603  , 13.117082 , 13.118913 , 13.119491 ,\n",
       "       13.123352 ,  0.       ,  0.       , 13.121728 , 13.125293 ,\n",
       "       13.125325 , 13.125652 , 13.126417 , 13.121559 , 13.11973  ,\n",
       "       13.11908  , 13.119027 , 13.1187725, 13.11776  , 13.116255 ,\n",
       "       13.11701  , 13.117361 , 13.117925 , 13.117889 , 13.119029 ,\n",
       "       13.121631 ,  0.       , 13.123915 , 13.126305 , 13.121243 ,\n",
       "       13.1294565, 13.126817 , 13.127362 , 13.127318 , 13.119237 ,\n",
       "       13.118086 , 13.117067 , 13.116617 , 13.11656  , 13.1165905,\n",
       "       13.1167755, 13.117147 , 13.117721 , 13.117482 , 13.117427 ,\n",
       "       13.1203985, 13.122293 , 13.123653 , 13.119935 , 13.124649 ,\n",
       "       13.128174 , 13.127437 , 13.116697 , 13.115904 , 13.115758 ,\n",
       "       13.115798 , 13.11582  , 13.116043 , 13.116637 , 13.117336 ,\n",
       "       13.117186 , 13.116041 , 13.115807 , 13.117201 , 13.119964 ,\n",
       "       13.12241  , 13.125979 , 13.126914 , 13.11482  , 13.11487  ,\n",
       "       13.115147 , 13.115392 , 13.115711 , 13.116553 , 13.117042 ,\n",
       "       13.116914 , 13.117172 , 13.118541 , 13.121063 , 13.123681 ,\n",
       "       13.116139 , 13.11693  ], dtype=float32)"
      ]
     },
     "execution_count": 53,
     "metadata": {},
     "output_type": "execute_result"
    }
   ],
   "source": [
    "model_temperature_near_observation[0,77,:].values"
   ]
  },
  {
   "cell_type": "code",
   "execution_count": 56,
   "metadata": {},
   "outputs": [
    {
     "name": "stdout",
     "output_type": "stream",
     "text": [
      "[532.6652832  545.78405762 559.04736328 519.69195557 559.04736328\n",
      " 586.00415039 613.52862549 613.52862549 613.52862549 599.69586182\n",
      " 506.86480713 532.6652832  586.00415039 627.50146484 655.86376953\n",
      " 655.86376953 641.61352539 627.50146484 627.50146484 532.6652832\n",
      " 559.04736328 586.00415039 599.69586182 627.50146484 641.61352539\n",
      " 641.61352539 655.86376953 655.86376953 655.86376953 670.25140381\n",
      " 519.69195557 572.4543457  572.4543457  572.4543457  586.00415039\n",
      " 613.52862549 613.52862549 627.50146484 641.61352539 655.86376953\n",
      " 684.77539062 699.43481445 545.78405762 572.4543457  559.04736328\n",
      " 506.86480713 572.4543457  599.69586182 613.52862549 613.52862549\n",
      " 655.86376953 670.25140381 699.43481445 714.22869873 714.22869873\n",
      " 572.4543457  599.69586182 613.52862549 599.69586182 559.04736328\n",
      " 545.78405762 506.86480713 506.86480713 506.86480713 506.86480713\n",
      " 545.78405762 599.69586182 599.69586182 572.4543457  506.86480713\n",
      " 559.04736328 586.00415039 613.52862549 627.50146484 641.61352539\n",
      " 670.25140381 714.22869873 714.22869873 714.22869873 714.22869873\n",
      " 586.00415039 599.69586182 613.52862549 613.52862549 613.52862549\n",
      " 599.69586182 559.04736328 545.78405762 545.78405762 572.4543457\n",
      " 627.50146484 684.77539062 684.77539062 655.86376953 613.52862549\n",
      " 613.52862549 613.52862549 627.50146484 655.86376953 684.77539062\n",
      " 714.22869873 729.15600586 744.21588135 744.21588135 729.15600586\n",
      " 599.69586182 613.52862549 613.52862549 627.50146484 627.50146484\n",
      " 613.52862549 613.52862549 599.69586182 506.86480713 559.04736328\n",
      " 670.25140381 684.77539062 684.77539062 599.69586182 572.4543457\n",
      " 613.52862549 627.50146484 655.86376953 684.77539062 714.22869873\n",
      " 729.15600586 744.21588135 759.40722656 759.40722656 759.40722656\n",
      " 627.50146484 627.50146484 627.50146484 627.50146484 627.50146484\n",
      " 627.50146484 613.52862549 599.69586182 572.4543457  641.61352539\n",
      " 699.43481445 684.77539062 572.4543457  545.78405762 670.25140381\n",
      " 699.43481445 729.15600586 744.21588135 759.40722656 790.18054199\n",
      " 790.18054199 774.72912598 670.25140381 655.86376953 655.86376953\n",
      " 655.86376953 641.61352539 641.61352539 627.50146484 613.52862549\n",
      " 641.61352539 714.22869873 714.22869873 699.43481445 599.69586182\n",
      " 559.04736328 729.15600586 774.72912598 774.72912598 790.18054199\n",
      " 805.76049805 805.76049805 805.76049805 714.22869873 684.77539062\n",
      " 670.25140381 655.86376953 655.86376953 641.61352539 627.50146484\n",
      " 613.52862549 655.86376953 714.22869873 729.15600586 714.22869873\n",
      " 684.77539062 586.00415039 684.77539062 805.76049805 821.46795654\n",
      " 805.76049805 821.46795654 821.46795654 714.22869873 699.43481445\n",
      " 684.77539062 655.86376953 655.86376953 641.61352539 641.61352539\n",
      " 670.25140381 729.15600586 759.40722656 759.40722656 759.40722656\n",
      " 729.15600586 545.78405762 559.04736328 805.76049805 918.33337402\n",
      " 901.88226318 869.34527588 853.26135254 729.15600586 699.43481445\n",
      " 684.77539062 655.86376953 655.86376953 655.86376953 684.77539062\n",
      " 744.21588135 790.18054199 805.76049805 790.18054199 790.18054199\n",
      " 699.43481445 506.86480713 572.4543457  885.55255127 951.59545898\n",
      " 968.40435791 951.59545898 918.33337402 901.88226318 714.22869873\n",
      " 699.43481445 699.43481445 699.43481445 699.43481445 714.22869873\n",
      " 759.40722656 805.76049805 837.30194092 837.30194092 837.30194092\n",
      " 837.30194092 821.46795654 885.55255127 968.40435791 968.40435791\n",
      " 968.40435791 968.40435791 759.40722656 759.40722656 744.21588135\n",
      " 744.21588135 759.40722656 774.72912598 805.76049805 837.30194092\n",
      " 869.34527588 885.55255127 901.88226318 918.33337402 951.59545898\n",
      " 968.40435791 968.40435791 968.40435791 805.76049805 805.76049805\n",
      " 790.18054199 805.76049805 805.76049805 837.30194092 885.55255127\n",
      " 918.33337402 934.90472412 951.59545898 968.40435791 968.40435791\n",
      " 869.34527588 901.88226318]\n"
     ]
    }
   ],
   "source": [
    "depth_near_observation = depth_stacked.where(is_closer_to_observation, drop=True)\n",
    "print(depth_near_observation.values)"
   ]
  },
  {
   "cell_type": "code",
   "execution_count": 59,
   "metadata": {},
   "outputs": [
    {
     "data": {
      "text/plain": [
       "array(532.6652832)"
      ]
     },
     "execution_count": 59,
     "metadata": {},
     "output_type": "execute_result"
    }
   ],
   "source": [
    "depth_near_observation[0].values"
   ]
  },
  {
   "cell_type": "code",
   "execution_count": 31,
   "metadata": {},
   "outputs": [
    {
     "data": {
      "image/png": "[encoded data removed]",
      "text/plain": [
       "<Figure size 720x432 with 2 Axes>"
      ]
     },
     "metadata": {
      "needs_background": "light"
     },
     "output_type": "display_data"
    }
   ],
   "source": [
    "        fig, axs = plt.subplots(1,2, figsize=(10, 6))\n",
    "        axs = axs.ravel()\n",
    "        title = 'Temperature and Salinity Profiles for profile '+reference\n",
    "        plt.suptitle(title,size = 25,y=1.05)\n",
    "        axs[0].plot(temp_model_mean_depobs,obsred_dep,'b.-', label='temp model')\n",
    "        axs[0].plot(obsred_temp,obsred_dep,'k.-', label='temp en4')\n",
    "        axs[0].set_ylabel('Depth [m]', size=14)\n",
    "        axs[0].set_ylim(650, 400)\n",
    "        axs[0].grid(True, which='both')\n",
    "        axs[0].xaxis.tick_top()\n",
    "        axs[0].xaxis.set_label_position('top') \n",
    "        axs[0].plot(temp_model_percentile_10_depobs,obsred_dep,'b-', label='percent10')\n",
    "        axs[0].plot(temp_model_percentile_90_depobs,obsred_dep,'b-', label='percent90')\n",
    "        axs[0].fill_betweenx(obsred_dep, temp_model_percentile_10_depobs, x2=temp_model_percentile_90_depobs, alpha=0.2, facecolor='b')\n",
    "\n",
    "        axs[1].plot(salt_model_mean_depobs,obsred_dep,'b.-', label='salt model')\n",
    "        axs[1].plot(obsred_salt,obsred_dep,'k.-', label='salt en4')\n",
    "        axs[1].set_ylabel('Depth [m]', size=14)\n",
    "        axs[1].set_ylim(650, 400)\n",
    "        axs[1].grid(True, which='both')\n",
    "        axs[1].xaxis.tick_top()\n",
    "        axs[1].xaxis.set_label_position('top') \n",
    "        axs[1].plot(salt_model_percentile_10_depobs,obsred_dep,'b-', label='percent10')\n",
    "        axs[1].plot(salt_model_percentile_90_depobs,obsred_dep,'b-', label='percent90')\n",
    "        axs[1].fill_betweenx(obsred_dep, salt_model_percentile_10_depobs, x2=salt_model_percentile_90_depobs, alpha=0.2, facecolor='b')\n",
    "        fig.tight_layout()\n",
    "\n"
   ]
  },
  {
   "cell_type": "code",
   "execution_count": null,
   "metadata": {},
   "outputs": [],
   "source": [
    "        fig, axs = plt.subplots(1,2, figsize=(10, 6))\n",
    "        axs = axs.ravel()\n",
    "        title = 'Temperature and Salinity Profiles for profile '+reference\n",
    "        plt.suptitle(title,size = 25,y=1.05)\n",
    "        axs[0].plot(temp_model_mean_depobs[0:np.min(indz[0])],obsred_dep[0:np.min(indz[0])],'b.-', label='temp model')\n",
    "        axs[0].plot(obsred_temp[0:np.min(indz[0])],obsred_dep[0:np.min(indz[0])],'k.-', label='temp en4')\n",
    "        axs[0].set_ylabel('Depth [m]', size=14)\n",
    "        axs[0].set_ylim(depthmin, 0)\n",
    "        axs[0].grid(True, which='both')\n",
    "        axs[0].xaxis.tick_top()\n",
    "        axs[0].xaxis.set_label_position('top') \n",
    "        axs[0].plot(temp_model_percentile_10_depobs[0:np.min(indz[0])],obsred_dep[0:np.min(indz[0])],'b-', label='percent10')\n",
    "        axs[0].plot(temp_model_percentile_90_depobs[0:np.min(indz[0])],obsred_dep[0:np.min(indz[0])],'b-', label='percent90')\n",
    "        axs[0].fill_betweenx(obsred_dep[0:np.min(indz[0])], temp_model_percentile_10_depobs[0:np.min(indz[0])], x2=temp_model_percentile_90_depobs[0:np.min(indz[0])], alpha=0.2, facecolor='b')\n",
    "\n",
    "        axs[1].plot(salt_model_mean_depobs[0:np.min(indz[0])],obsred_dep[0:np.min(indz[0])],'b.-', label='salt model')\n",
    "        axs[1].plot(obsred_salt[0:np.min(indz[0])],obsred_dep[0:np.min(indz[0])],'k.-', label='salt en4')\n",
    "        axs[1].set_ylabel('Depth [m]', size=14)\n",
    "        axs[1].set_ylim(depthmin, 0)\n",
    "        axs[1].grid(True, which='both')\n",
    "        axs[1].xaxis.tick_top()\n",
    "        axs[1].xaxis.set_label_position('top') \n",
    "        axs[1].plot(salt_model_percentile_10_depobs[0:np.min(indz[0])],obsred_dep[0:np.min(indz[0])],'b-', label='percent10')\n",
    "        axs[1].plot(salt_model_percentile_90_depobs[0:np.min(indz[0])],obsred_dep[0:np.min(indz[0])],'b-', label='percent90')\n",
    "        axs[1].fill_betweenx(obsred_dep[0:np.min(indz[0])], salt_model_percentile_10_depobs[0:np.min(indz[0])], x2=salt_model_percentile_90_depobs[0:np.min(indz[0])], alpha=0.2, facecolor='b')\n",
    "        fig.tight_layout()\n",
    "\n"
   ]
  },
  {
   "cell_type": "code",
   "execution_count": null,
   "metadata": {},
   "outputs": [],
   "source": [
    "    # Write netcdf file\n",
    "    match=re.search(r'([\\w.-]+).nc([\\w.-]+)', reference)\n",
    "    debut_ref=match.group(1)\n",
    "    fin_ref=match.group(2)\n",
    "    dirname=diren4+'profiles_files/MEDWEST60-BLBT02/'\n",
    "    if not os.path.exists(dirname):\n",
    "        os.makedirs(dirname)    \n",
    "  \n",
    "    outname=dirname+str(debut_ref)+str(fin_ref)+'_MEDWEST60-BLBT02_TS.nc'\n",
    "    print('output file is '+outname)\n",
    "    dsout=Dataset(outname,'w')\n",
    "\n",
    "    today=date.today()\n",
    "    dsout.description = \"This file contains one profile of temperature and salinity from EN4 dataset and the mean and 10 and 90 percentile of NATL60-CJM165 data within a 0.25deg circle around the location of the profile and 15 days before and after it has been sampled. This file has been created \"+str(today.day)+\"/\"+str(today.month)+\"/\"+str(today.year)\n",
    "\n",
    "    depth=dsout.createDimension('depth',len(obsred_dep))\n",
    "    x=dsout.createDimension('x',1)\n",
    "    y=dsout.createDimension('y',1)\n",
    "    \n",
    "    lat = dsout.createVariable('latitude_profileEN4', 'f8', ('y','x'))\n",
    "    lat.standart_name=\"latitude_profileEN4\"\n",
    "    lat.long_name = \"Latitude of selected EN4 profile\" \n",
    "    lat.units = \"degrees_north\"\n",
    "\n",
    "    lon = dsout.createVariable('longitude_profileEN4', 'f8', ('y','x'))\n",
    "    lon.standart_name=\"longitude_profileEN4\"\n",
    "    lon.long_name = \"Longitude of selected EN4 profile\" \n",
    "    lon.units = \"degrees_east\"\n",
    "\n",
    "    time = dsout.createVariable('time_profileEN4', 'f8', ('y','x'))\n",
    "    time.standart_name=\"time_profileEN4\"\n",
    "    time.timeg_name = \"Time in seconds from 1-1-1958 of selected EN4 profile\" \n",
    "    time.units = \"s\"\n",
    "\n",
    "    depth_en4 = dsout.createVariable('depth_en4', 'f8', ('depth'),fill_value=0.)\n",
    "    depth_en4.units = \"m\" \n",
    "    depth_en4.valid_min = 0.\n",
    "    depth_en4.valid_max = 8000.\n",
    "    depth_en4.long_name = \"Depth\" \n",
    "\n",
    "    temp_en4 = dsout.createVariable('temp_profileEN4', 'f8', ('depth'),fill_value=0.)\n",
    "    temp_en4.units = \"degC\" \n",
    "    temp_en4.valid_min = -10.\n",
    "    temp_en4.valid_max = 40.\n",
    "    temp_en4.long_name = \"Temperature profile of the selected EN4 profile\" \n",
    "\n",
    "    salt_en4 = dsout.createVariable('salt_profileEN4', 'f8', ('depth'),fill_value=0.)\n",
    "    salt_en4.units = \"PSU\" \n",
    "    salt_en4.valid_min = 20.\n",
    "    salt_en4.valid_max = 40.\n",
    "    salt_en4.long_name = \"Salinity profile of the selected EN4 profile\" \n",
    "\n",
    "    mean_temp_model = dsout.createVariable('mean_temp_model', 'f8', ('depth'),fill_value=0.)\n",
    "    mean_temp_model.units = \"degC\" \n",
    "    mean_temp_model.valid_min = -10.\n",
    "    mean_temp_model.valid_max = 40.\n",
    "    mean_temp_model.long_name = \"Mean Temperature profile of the model\" \n",
    "\n",
    "    mean_salt_model = dsout.createVariable('mean_salt_model', 'f8', ('depth'),fill_value=0.)\n",
    "    mean_salt_model.units = \"PSU\" \n",
    "    mean_salt_model.valid_min = 20.\n",
    "    mean_salt_model.valid_max = 40.\n",
    "    mean_salt_model.long_name = \"Mean Salinity profile of the model\" \n",
    "\n",
    "    percent10_temp_model = dsout.createVariable('percent10_temp_model', 'f8', ('depth'),fill_value=0.)\n",
    "    percent10_temp_model.units = \"degC\" \n",
    "    percent10_temp_model.valid_min = -10.\n",
    "    percent10_temp_model.valid_max = 40.\n",
    "    percent10_temp_model.long_name = \"Percent 10 Temperature profile of the model\" \n",
    "\n",
    "    percent10_salt_model = dsout.createVariable('percent10_salt_model', 'f8', ('depth'),fill_value=0.)\n",
    "    percent10_salt_model.units = \"PSU\" \n",
    "    percent10_salt_model.valid_min = 20.\n",
    "    percent10_salt_model.valid_max = 40.\n",
    "    percent10_salt_model.long_name = \"Percent 10 Salinity profile of the model\" \n",
    "\n",
    "    percent90_temp_model = dsout.createVariable('percent90_temp_model', 'f8', ('depth'),fill_value=0.)\n",
    "    percent90_temp_model.units = \"degC\" \n",
    "    percent90_temp_model.valid_min = -90.\n",
    "    percent90_temp_model.valid_max = 40.\n",
    "    percent90_temp_model.long_name = \"Percent 90 Temperature profile of the model\" \n",
    "\n",
    "    percent90_salt_model = dsout.createVariable('percent90_salt_model', 'f8', ('depth'),fill_value=0.)\n",
    "    percent90_salt_model.units = \"PSU\" \n",
    "    percent90_salt_model.valid_min = 20.\n",
    "    percent90_salt_model.valid_max = 40.\n",
    "    percent90_salt_model.long_name = \"Percent 90 Salinity profile of the model\" \n",
    "\n",
    "\n",
    "    lat[:]=lat_prof\n",
    "    lon[:]=lon_prof\n",
    "    time[:]=(datetime.datetime(int(date_prof[0:4]),int(date_prof[5:7]),int(date_prof[8:10]))-datetime.datetime(1958,1,1,0,0)).total_seconds()\n",
    "    depth_en4[:]=obsred_dep\n",
    "    temp_en4[:]=obsred_temp\n",
    "    salt_en4[:]=obsred_salt\n",
    "    mean_temp_model[:]=temp_model_mean_depobs\n",
    "    mean_salt_model[:]=salt_model_mean_depobs\n",
    "    percent10_temp_model[:]=temp_model_percentile_10_depobs\n",
    "    percent10_salt_model[:]=salt_model_percentile_10_depobs\n",
    "    percent90_temp_model[:]=temp_model_percentile_90_depobs\n",
    "    percent90_salt_model[:]=salt_model_percentile_90_depobs\n",
    "    dsout.close()  # close the new file\n",
    "    "
   ]
  },
  {
   "cell_type": "code",
   "execution_count": null,
   "metadata": {},
   "outputs": [],
   "source": [
    "print(\"Nb de profiles : \"+str(nb_profilesEN4))\n",
    "print(time.strftime('%d/%m/%y %H:%M',time.localtime()))\n",
    "\n",
    "for prof in range(nb_profilesEN4):\n",
    "    list_profiles = infos.keys()\n",
    "    reference =  str(list(list_profiles)[prof])\n",
    "    match=re.search(r'([\\w.-]+).nc([\\w.-]+)', reference)\n",
    "    debut_ref=match.group(1)\n",
    "    fin_ref=match.group(2)\n",
    "    diren4=\"/gpfswork/rech/egi/rote001/EN4/\"\n",
    "    dirname=diren4+'profiles_files/MEDWEST60-BLBT02/'\n",
    "    outname=dirname+str(debut_ref)+str(fin_ref)+'_MEDWEST60-BLBT02_TS.nc'\n",
    "    if not os.path.exists(outname):\n",
    "        process_one_profile(prof)\n",
    "\n",
    "print(time.strftime('%d/%m/%y %H:%M',time.localtime()))\n"
   ]
  },
  {
   "cell_type": "code",
   "execution_count": null,
   "metadata": {},
   "outputs": [],
   "source": []
  }
 ],
 "metadata": {
  "celltoolbar": "Tags",
  "kernelspec": {
   "display_name": "new-seawater",
   "language": "python",
   "name": "seawater"
  },
  "language_info": {
   "codemirror_mode": {
    "name": "ipython",
    "version": 3
   },
   "file_extension": ".py",
   "mimetype": "text/x-python",
   "name": "python",
   "nbconvert_exporter": "python",
   "pygments_lexer": "ipython3",
   "version": "3.8.3"
  }
 },
 "nbformat": 4,
 "nbformat_minor": 4
}
