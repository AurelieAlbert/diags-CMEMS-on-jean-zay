{
 "cells": [
  {
   "cell_type": "markdown",
   "metadata": {},
   "source": [
    "## Import all the libraries"
   ]
  },
  {
   "cell_type": "code",
   "execution_count": 2,
   "metadata": {},
   "outputs": [],
   "source": [
    "import numpy as np\n",
    "import dask\n",
    "import xarray as xr\n",
    "from netCDF4 import Dataset\n",
    "import matplotlib.pyplot as plt\n",
    "import pandas as pd\n",
    "import datetime\n",
    "import glob as glob\n",
    "import time\n",
    "from dask.diagnostics import ProgressBar\n",
    "from datetime import date\n",
    "import json\n",
    "import os\n",
    "import warnings\n",
    "import seawater\n",
    "import re\n",
    "\n",
    "warnings.filterwarnings('ignore')\n"
   ]
  },
  {
   "cell_type": "markdown",
   "metadata": {},
   "source": [
    "## Parameters"
   ]
  },
  {
   "cell_type": "code",
   "execution_count": 3,
   "metadata": {
    "tags": [
     "parameters"
    ]
   },
   "outputs": [],
   "source": [
    "ymin=2010;mmin=1;dmin=1\n",
    "ymax=2010;mmax=9;dmax=30\n",
    "# depth of the desired comparison profile in m\n",
    "depthmin=1000\n",
    "# radius of the circle around the profile location in which we take the modeled profiles, in °  \n",
    "radius_max=0.25\n",
    "# period of time around the profile sampling date in which we take the modeled profiles, in days\n",
    "period=5\n",
    "# minimum amount of model profiles to be considered to make a significant statistical comparison, for instance in a 1° square and 30-days window we have 2.6 millions modeled profiles, in a 0.5°x10 days 216 000\n",
    "number_of_model_profiles=100000\n",
    "# \n",
    "debug_plot=False\n"
   ]
  },
  {
   "cell_type": "code",
   "execution_count": 4,
   "metadata": {},
   "outputs": [],
   "source": [
    "datemin=datetime.date(ymin,mmin,dmin)\n",
    "datemax=datetime.date(ymax,mmax,dmax)\n",
    "jsonfile='txt/MEDWEST60-BLBT02_'+str(datemin)+'-'+str(datemax)+'_'+str(depthmin)+'m_'+str(radius_max)+'x'+str(period)+'d_'+str(number_of_model_profiles)+'.json'"
   ]
  },
  {
   "cell_type": "markdown",
   "metadata": {},
   "source": [
    "## Read the jsonfile"
   ]
  },
  {
   "cell_type": "code",
   "execution_count": 5,
   "metadata": {},
   "outputs": [],
   "source": [
    "sourcefile=open(jsonfile,'rU')\n",
    "infos=json.load(sourcefile)\n",
    "nb_profilesEN4=len(infos)\n"
   ]
  },
  {
   "cell_type": "code",
   "execution_count": 6,
   "metadata": {},
   "outputs": [
    {
     "name": "stdout",
     "output_type": "stream",
     "text": [
      "Processing profile  Profile_20100106_prof.nc_71\n"
     ]
    }
   ],
   "source": [
    "    prof=0\n",
    "    list_profiles = infos.keys()\n",
    "    reference =  str(list(list_profiles)[prof])\n",
    "    print('Processing profile ', reference)\n"
   ]
  },
  {
   "cell_type": "code",
   "execution_count": 7,
   "metadata": {},
   "outputs": [],
   "source": [
    "    # Open the netcdf file\n",
    "    match=re.search(r'([\\w.-]+).nc([\\w.-]+)', reference)\n",
    "    debut_ref=match.group(1)\n",
    "    fin_ref=match.group(2)\n",
    "    diren4=\"/gpfswork/rech/egi/rote001/EN4/\"\n",
    "    dirname=diren4+'profiles_files/MEDWEST60-BLBT02/'\n",
    "    outname=dirname+str(debut_ref)+str(fin_ref)+'_MEDWEST60-BLBT02_TS.nc'\n"
   ]
  },
  {
   "cell_type": "code",
   "execution_count": 8,
   "metadata": {},
   "outputs": [
    {
     "name": "stdout",
     "output_type": "stream",
     "text": [
      "/gpfswork/rech/egi/rote001/EN4/profiles_files/MEDWEST60-BLBT02/Profile_20100106_prof_71_MEDWEST60-BLBT02_TS.nc\n"
     ]
    }
   ],
   "source": [
    "print(outname)"
   ]
  },
  {
   "cell_type": "code",
   "execution_count": 10,
   "metadata": {},
   "outputs": [],
   "source": [
    "dsprof=xr.open_dataset(outname)\n",
    "\n",
    "depth_en4=dsprof['depth_en4']\n",
    "temp_en4=dsprof['temp_profileEN4']\n",
    "salt_en4=dsprof['salt_profileEN4']\n",
    "mean_temp_model=dsprof['mean_temp_model']\n",
    "mean_salt_model=dsprof['mean_salt_model']\n",
    "percent10_temp_model=dsprof['percent10_temp_model']\n",
    "percent10_salt_model=dsprof['percent10_salt_model']\n",
    "percent90_temp_model=dsprof['percent90_temp_model']\n",
    "percent90_salt_model=dsprof['percent90_salt_model']\n",
    "obs_lat=dsprof['latitude_profileEN4']\n",
    "obs_lon=dsprof['longitude_profileEN4']\n",
    "obs_time=dsprof['time_profileEN4']\n"
   ]
  },
  {
   "cell_type": "code",
   "execution_count": 11,
   "metadata": {},
   "outputs": [
    {
     "name": "stdout",
     "output_type": "stream",
     "text": [
      "<xarray.DataArray 'depth_en4' (depth: 111)>\n",
      "array([   7.938258,   13.89175 ,   18.852859,   23.81385 ,   28.774719,\n",
      "         32.743328,   37.703976,   43.656609,   48.616997,   53.577267,\n",
      "         57.545399,   63.49744 ,   69.449318,   72.425186,   77.38488 ,\n",
      "         82.344444,   87.303909,   92.263237,   97.22245 ,  102.181541,\n",
      "        107.140495,  112.099373,  117.058098,  123.008415,  126.975189,\n",
      "        132.925232,  136.891815,  141.849945,  147.799561,  152.757431,\n",
      "        157.715179,  162.672791,  166.638824,  171.596222,  176.553528,\n",
      "        181.510696,  187.459152,  192.416077,  197.372849,  212.242493,\n",
      "        237.022873,  261.800262,  286.574646,  310.355286,  335.12381 ,\n",
      "        359.889374,  384.651978,  409.411591,  434.168182,  459.911957,\n",
      "        484.662567,  508.420349,  533.1651  ,  557.90686 ,  582.645752,\n",
      "        607.381653,  632.114563,  656.844604,  681.571594,  706.295654,\n",
      "        731.016785,  755.734924,  781.438782,  805.162598,  829.871887,\n",
      "        854.57843 ,  879.281799,  904.970337,  930.655762,  954.362549,\n",
      "        978.066589, 1002.755432, 1027.441406, 1052.124512, 1076.804565,\n",
      "       1101.481689, 1126.156006, 1150.827271, 1175.49585 , 1200.161377,\n",
      "       1225.810425, 1250.470093, 1276.112915, 1298.794678, 1323.445679,\n",
      "       1349.07959 , 1373.724854, 1397.381348, 1422.020874, 1447.643066,\n",
      "       1472.276611, 1496.907104, 1520.550049, 1545.175049, 1570.782349,\n",
      "       1594.416748, 1619.033081, 1643.646729, 1668.257568, 1692.865479,\n",
      "       1717.470337, 1742.07251 , 1767.656006, 1792.252197, 1816.845581,\n",
      "       1840.452637, 1865.040527, 1890.608765, 1915.190796, 1939.77002 ,\n",
      "       1959.431396])\n",
      "Dimensions without coordinates: depth\n",
      "Attributes:\n",
      "    units:      m\n",
      "    valid_min:  0.0\n",
      "    valid_max:  8000.0\n",
      "    long_name:  Depth\n"
     ]
    }
   ],
   "source": [
    "print(depth_en4)"
   ]
  },
  {
   "cell_type": "code",
   "execution_count": 13,
   "metadata": {},
   "outputs": [],
   "source": [
    "# Project the profile to standart vertical levels\n",
    "vert_standart=[0,2,4,6,8,10,12,14,16,18,20,25,30,35,40,45,50,55,60,65,70,75,80,85,90,95,100,\n",
    "               110,120,130,140,150,160,170,180,190,200,220,240,260,280,300,320,340,360,380,400,\n",
    "               420,440,460,480,500,520,540,560,580,600,620,640,660,680,700,720,740,760,780,800,\n",
    "               820,840,860,880,900,920,940,960,980,1000,1050,1100,1150,1200,1250,1300,1350,1400,\n",
    "               1450,1500,1550,1600,1650,1700,1750,1800,1850,1900,1950,2000]\n",
    "\n",
    "temp_en4_standart=np.interp(vert_standart,depth_en4,temp_en4)\n",
    "salt_en4_standart=np.interp(vert_standart,depth_en4,salt_en4)\n",
    "mean_temp_model_standart=np.interp(vert_standart,depth_en4,mean_temp_model)\n",
    "mean_salt_model_standart=np.interp(vert_standart,depth_en4,mean_salt_model)\n",
    "percent10_temp_model_standart=np.interp(vert_standart,depth_en4,percent10_temp_model)\n",
    "percent10_salt_model_standart=np.interp(vert_standart,depth_en4,percent10_salt_model)\n",
    "percent90_temp_model_standart=np.interp(vert_standart,depth_en4,percent90_temp_model)\n",
    "percent90_salt_model_standart=np.interp(vert_standart,depth_en4,percent90_salt_model)\n"
   ]
  },
  {
   "cell_type": "code",
   "execution_count": 15,
   "metadata": {},
   "outputs": [
    {
     "data": {
      "image/png": "[encoded data removed]",
      "text/plain": [
       "<Figure size 720x432 with 2 Axes>"
      ]
     },
     "metadata": {
      "needs_background": "light"
     },
     "output_type": "display_data"
    }
   ],
   "source": [
    "        fig, axs = plt.subplots(1,2, figsize=(10, 6))\n",
    "        axs = axs.ravel()\n",
    "        title = 'Temperature and Salinity Profiles for profile '+reference\n",
    "        plt.suptitle(title,size = 25,y=1.05)\n",
    "        axs[0].plot(mean_temp_model_standart,vert_standart,'b.-', label='temp model')\n",
    "        axs[0].plot(temp_en4_standart,vert_standart,'k.-', label='temp en4')\n",
    "        axs[0].set_ylabel('Depth [m]', size=14)\n",
    "        axs[0].set_ylim(depthmin, 0)\n",
    "        axs[0].grid(True, which='both')\n",
    "        axs[0].xaxis.tick_top()\n",
    "        axs[0].xaxis.set_label_position('top') \n",
    "        axs[0].plot(percent10_temp_model_standart,vert_standart,'b-', label='percent10')\n",
    "        axs[0].plot(percent90_temp_model_standart,vert_standart,'b-', label='percent90')\n",
    "        axs[0].fill_betweenx(vert_standart, percent10_temp_model_standart, x2=percent90_temp_model_standart, alpha=0.2, facecolor='b')\n",
    "\n",
    "        axs[1].plot(mean_salt_model_standart,vert_standart,'b.-', label='salt model')\n",
    "        axs[1].plot(salt_en4_standart,vert_standart,'k.-', label='salt en4')\n",
    "        axs[1].set_ylabel('Depth [m]', size=14)\n",
    "        axs[1].set_ylim(depthmin, 0)\n",
    "        axs[1].grid(True, which='both')\n",
    "        axs[1].xaxis.tick_top()\n",
    "        axs[1].xaxis.set_label_position('top') \n",
    "        axs[1].plot(percent10_salt_model_standart,vert_standart,'b-', label='percent10')\n",
    "        axs[1].plot(percent90_salt_model_standart,vert_standart,'b-', label='percent90')\n",
    "        axs[1].fill_betweenx(vert_standart, percent10_salt_model_standart, x2=percent90_salt_model_standart, alpha=0.2, facecolor='b')\n",
    "        fig.tight_layout()\n",
    "        plt.savefig('plots/MEDWEST60-BLBT02_'+str(datemin)+'-'+str(datemax)+'_'+str(depthmin)+'m_'+str(radius_max)+'x'+str(period)+'d_'+str(number_of_model_profiles)+'_prof'+str(prof)+'.png')\n"
   ]
  },
  {
   "cell_type": "code",
   "execution_count": 16,
   "metadata": {},
   "outputs": [],
   "source": [
    "    all_temp_mean_model=np.zeros((nb_profilesEN4,len(vert_standart)))\n",
    "    all_salt_mean_model=np.zeros((nb_profilesEN4,len(vert_standart)))\n",
    "    all_temp_en4=np.zeros((nb_profilesEN4,len(vert_standart)))\n",
    "    all_salt_en4=np.zeros((nb_profilesEN4,len(vert_standart)))\n",
    "    all_temp_percent10_model=np.zeros((nb_profilesEN4,len(vert_standart)))\n",
    "    all_salt_percent10_model=np.zeros((nb_profilesEN4,len(vert_standart)))\n",
    "    all_temp_percent90_model=np.zeros((nb_profilesEN4,len(vert_standart)))\n",
    "    all_salt_percent90_model=np.zeros((nb_profilesEN4,len(vert_standart)))\n"
   ]
  },
  {
   "cell_type": "code",
   "execution_count": 17,
   "metadata": {},
   "outputs": [
    {
     "name": "stdout",
     "output_type": "stream",
     "text": [
      "Processing profile  Profile_20100106_prof.nc_71\n",
      "Processing profile  Profile_20100106_prof.nc_76\n",
      "Processing profile  Profile_20100108_prof.nc_90\n",
      "Processing profile  Profile_20100108_prof.nc_92\n",
      "Processing profile  Profile_20100109_prof.nc_0\n",
      "Processing profile  Profile_20100110_prof.nc_0\n",
      "Processing profile  Profile_20100113_prof.nc_69\n",
      "Processing profile  Profile_20100115_prof.nc_0\n",
      "Processing profile  Profile_20100116_prof.nc_79\n",
      "Processing profile  Profile_20100118_prof.nc_85\n",
      "Processing profile  Profile_20100118_prof.nc_88\n",
      "Processing profile  Profile_20100119_prof.nc_1\n",
      "Processing profile  Profile_20100120_prof.nc_0\n",
      "Processing profile  Profile_20100123_prof.nc_72\n",
      "Processing profile  Profile_20100125_prof.nc_1\n",
      "Processing profile  Profile_20100126_prof.nc_69\n",
      "Processing profile  Profile_20100128_prof.nc_92\n",
      "Processing profile  Profile_20100128_prof.nc_94\n",
      "Processing profile  Profile_20100129_prof.nc_0\n",
      "Processing profile  Profile_20100131_prof.nc_83\n",
      "Processing profile  Profile_20100202_prof.nc_70\n",
      "Processing profile  Profile_20100204_prof.nc_0\n",
      "Processing profile  Profile_20100205_prof.nc_79\n",
      "Processing profile  Profile_20100207_prof.nc_87\n",
      "Processing profile  Profile_20100207_prof.nc_92\n",
      "Processing profile  Profile_20100208_prof.nc_0\n",
      "Processing profile  Profile_20100209_prof.nc_0\n",
      "Processing profile  Profile_20100212_prof.nc_77\n",
      "Processing profile  Profile_20100215_prof.nc_74\n",
      "Processing profile  Profile_20100215_prof.nc_81\n",
      "Processing profile  Profile_20100217_prof.nc_101\n",
      "Processing profile  Profile_20100217_prof.nc_96\n",
      "Processing profile  Profile_20100219_prof.nc_0\n",
      "Processing profile  Profile_20100219_prof.nc_96\n",
      "Processing profile  Profile_20100222_prof.nc_71\n",
      "Processing profile  Profile_20100225_prof.nc_65\n",
      "Processing profile  Profile_20100225_prof.nc_73\n",
      "Processing profile  Profile_20100227_prof.nc_100\n",
      "Processing profile  Profile_20100227_prof.nc_99\n",
      "Processing profile  Profile_20100228_prof.nc_0\n",
      "Processing profile  Profile_20100228_prof.nc_59\n",
      "Processing profile  Profile_20100301_prof.nc_0\n",
      "Processing profile  Profile_20100304_prof.nc_75\n",
      "Processing profile  Profile_20100305_prof.nc_2\n",
      "Processing profile  Profile_20100306_prof.nc_0\n",
      "Processing profile  Profile_20100307_prof.nc_69\n",
      "Processing profile  Profile_20100308_prof.nc_1\n",
      "Processing profile  Profile_20100309_prof.nc_97\n",
      "Processing profile  Profile_20100310_prof.nc_0\n",
      "Processing profile  Profile_20100311_prof.nc_0\n",
      "Processing profile  Profile_20100313_prof.nc_0\n",
      "Processing profile  Profile_20100315_prof.nc_0\n",
      "Processing profile  Profile_20100316_prof.nc_0\n",
      "Processing profile  Profile_20100317_prof.nc_81\n",
      "Processing profile  Profile_20100319_prof.nc_97\n",
      "Processing profile  Profile_20100319_prof.nc_99\n",
      "Processing profile  Profile_20100320_prof.nc_0\n",
      "Processing profile  Profile_20100322_prof.nc_60\n",
      "Processing profile  Profile_20100324_prof.nc_78\n",
      "Processing profile  Profile_20100325_prof.nc_1\n",
      "Processing profile  Profile_20100326_prof.nc_0\n",
      "Processing profile  Profile_20100327_prof.nc_69\n",
      "Processing profile  Profile_20100329_prof.nc_91\n",
      "Processing profile  Profile_20100329_prof.nc_95\n",
      "Processing profile  Profile_20100330_prof.nc_0\n",
      "Processing profile  Profile_20100331_prof.nc_0\n",
      "Processing profile  Profile_20100403_prof.nc_85\n",
      "Processing profile  Profile_20100405_prof.nc_0\n",
      "Processing profile  Profile_20100405_prof.nc_75\n",
      "Processing profile  Profile_20100406_prof.nc_68\n",
      "Processing profile  Profile_20100408_prof.nc_95\n",
      "Processing profile  Profile_20100408_prof.nc_96\n",
      "Processing profile  Profile_20100410_prof.nc_0\n",
      "Processing profile  Profile_20100410_prof.nc_103\n",
      "Processing profile  Profile_20100412_prof.nc_0\n",
      "Processing profile  Profile_20100414_prof.nc_2\n",
      "Processing profile  Profile_20100415_prof.nc_0\n",
      "Processing profile  Profile_20100416_prof.nc_74\n"
     ]
    },
    {
     "ename": "FileNotFoundError",
     "evalue": "[Errno 2] No such file or directory: b'/gpfswork/rech/egi/rote001/EN4/profiles_files/MEDWEST60-BLBT02/Profile_20100416_prof_74_MEDWEST60-BLBT02_TS.nc'",
     "output_type": "error",
     "traceback": [
      "\u001b[0;31m---------------------------------------------------------------------------\u001b[0m",
      "\u001b[0;31mKeyError\u001b[0m                                  Traceback (most recent call last)",
      "\u001b[0;32m/gpfswork/rech/yrf/rote001/miniconda2/envs/seawater/lib/python3.8/site-packages/xarray/backends/file_manager.py\u001b[0m in \u001b[0;36m_acquire_with_cache_info\u001b[0;34m(self, needs_lock)\u001b[0m\n\u001b[1;32m    197\u001b[0m             \u001b[0;32mtry\u001b[0m\u001b[0;34m:\u001b[0m\u001b[0;34m\u001b[0m\u001b[0;34m\u001b[0m\u001b[0m\n\u001b[0;32m--> 198\u001b[0;31m                 \u001b[0mfile\u001b[0m \u001b[0;34m=\u001b[0m \u001b[0mself\u001b[0m\u001b[0;34m.\u001b[0m\u001b[0m_cache\u001b[0m\u001b[0;34m[\u001b[0m\u001b[0mself\u001b[0m\u001b[0;34m.\u001b[0m\u001b[0m_key\u001b[0m\u001b[0;34m]\u001b[0m\u001b[0;34m\u001b[0m\u001b[0;34m\u001b[0m\u001b[0m\n\u001b[0m\u001b[1;32m    199\u001b[0m             \u001b[0;32mexcept\u001b[0m \u001b[0mKeyError\u001b[0m\u001b[0;34m:\u001b[0m\u001b[0;34m\u001b[0m\u001b[0;34m\u001b[0m\u001b[0m\n",
      "\u001b[0;32m/gpfswork/rech/yrf/rote001/miniconda2/envs/seawater/lib/python3.8/site-packages/xarray/backends/lru_cache.py\u001b[0m in \u001b[0;36m__getitem__\u001b[0;34m(self, key)\u001b[0m\n\u001b[1;32m     52\u001b[0m         \u001b[0;32mwith\u001b[0m \u001b[0mself\u001b[0m\u001b[0;34m.\u001b[0m\u001b[0m_lock\u001b[0m\u001b[0;34m:\u001b[0m\u001b[0;34m\u001b[0m\u001b[0;34m\u001b[0m\u001b[0m\n\u001b[0;32m---> 53\u001b[0;31m             \u001b[0mvalue\u001b[0m \u001b[0;34m=\u001b[0m \u001b[0mself\u001b[0m\u001b[0;34m.\u001b[0m\u001b[0m_cache\u001b[0m\u001b[0;34m[\u001b[0m\u001b[0mkey\u001b[0m\u001b[0;34m]\u001b[0m\u001b[0;34m\u001b[0m\u001b[0;34m\u001b[0m\u001b[0m\n\u001b[0m\u001b[1;32m     54\u001b[0m             \u001b[0mself\u001b[0m\u001b[0;34m.\u001b[0m\u001b[0m_cache\u001b[0m\u001b[0;34m.\u001b[0m\u001b[0mmove_to_end\u001b[0m\u001b[0;34m(\u001b[0m\u001b[0mkey\u001b[0m\u001b[0;34m)\u001b[0m\u001b[0;34m\u001b[0m\u001b[0;34m\u001b[0m\u001b[0m\n",
      "\u001b[0;31mKeyError\u001b[0m: [<class 'netCDF4._netCDF4.Dataset'>, ('/gpfswork/rech/egi/rote001/EN4/profiles_files/MEDWEST60-BLBT02/Profile_20100416_prof_74_MEDWEST60-BLBT02_TS.nc',), 'r', (('clobber', True), ('diskless', False), ('format', 'NETCDF4'), ('persist', False))]",
      "\nDuring handling of the above exception, another exception occurred:\n",
      "\u001b[0;31mFileNotFoundError\u001b[0m                         Traceback (most recent call last)",
      "\u001b[0;32m<ipython-input-17-e7c8406903fa>\u001b[0m in \u001b[0;36m<module>\u001b[0;34m\u001b[0m\n\u001b[1;32m     10\u001b[0m     \u001b[0mdirname\u001b[0m\u001b[0;34m=\u001b[0m\u001b[0mdiren4\u001b[0m\u001b[0;34m+\u001b[0m\u001b[0;34m'profiles_files/MEDWEST60-BLBT02/'\u001b[0m\u001b[0;34m\u001b[0m\u001b[0;34m\u001b[0m\u001b[0m\n\u001b[1;32m     11\u001b[0m     \u001b[0moutname\u001b[0m\u001b[0;34m=\u001b[0m\u001b[0mdirname\u001b[0m\u001b[0;34m+\u001b[0m\u001b[0mstr\u001b[0m\u001b[0;34m(\u001b[0m\u001b[0mdebut_ref\u001b[0m\u001b[0;34m)\u001b[0m\u001b[0;34m+\u001b[0m\u001b[0mstr\u001b[0m\u001b[0;34m(\u001b[0m\u001b[0mfin_ref\u001b[0m\u001b[0;34m)\u001b[0m\u001b[0;34m+\u001b[0m\u001b[0;34m'_MEDWEST60-BLBT02_TS.nc'\u001b[0m\u001b[0;34m\u001b[0m\u001b[0;34m\u001b[0m\u001b[0m\n\u001b[0;32m---> 12\u001b[0;31m     \u001b[0mdsprof\u001b[0m\u001b[0;34m=\u001b[0m\u001b[0mxr\u001b[0m\u001b[0;34m.\u001b[0m\u001b[0mopen_dataset\u001b[0m\u001b[0;34m(\u001b[0m\u001b[0moutname\u001b[0m\u001b[0;34m)\u001b[0m\u001b[0;34m\u001b[0m\u001b[0;34m\u001b[0m\u001b[0m\n\u001b[0m\u001b[1;32m     13\u001b[0m \u001b[0;34m\u001b[0m\u001b[0m\n\u001b[1;32m     14\u001b[0m     \u001b[0mdepth_en4\u001b[0m\u001b[0;34m=\u001b[0m\u001b[0mdsprof\u001b[0m\u001b[0;34m[\u001b[0m\u001b[0;34m'depth_en4'\u001b[0m\u001b[0;34m]\u001b[0m\u001b[0;34m\u001b[0m\u001b[0;34m\u001b[0m\u001b[0m\n",
      "\u001b[0;32m/gpfswork/rech/yrf/rote001/miniconda2/envs/seawater/lib/python3.8/site-packages/xarray/backends/api.py\u001b[0m in \u001b[0;36mopen_dataset\u001b[0;34m(filename_or_obj, group, decode_cf, mask_and_scale, decode_times, autoclose, concat_characters, decode_coords, engine, chunks, lock, cache, drop_variables, backend_kwargs, use_cftime, decode_timedelta)\u001b[0m\n\u001b[1;32m    506\u001b[0m             \u001b[0mengine\u001b[0m \u001b[0;34m=\u001b[0m \u001b[0m_get_default_engine\u001b[0m\u001b[0;34m(\u001b[0m\u001b[0mfilename_or_obj\u001b[0m\u001b[0;34m,\u001b[0m \u001b[0mallow_remote\u001b[0m\u001b[0;34m=\u001b[0m\u001b[0;32mTrue\u001b[0m\u001b[0;34m)\u001b[0m\u001b[0;34m\u001b[0m\u001b[0;34m\u001b[0m\u001b[0m\n\u001b[1;32m    507\u001b[0m         \u001b[0;32mif\u001b[0m \u001b[0mengine\u001b[0m \u001b[0;34m==\u001b[0m \u001b[0;34m\"netcdf4\"\u001b[0m\u001b[0;34m:\u001b[0m\u001b[0;34m\u001b[0m\u001b[0;34m\u001b[0m\u001b[0m\n\u001b[0;32m--> 508\u001b[0;31m             store = backends.NetCDF4DataStore.open(\n\u001b[0m\u001b[1;32m    509\u001b[0m                 \u001b[0mfilename_or_obj\u001b[0m\u001b[0;34m,\u001b[0m \u001b[0mgroup\u001b[0m\u001b[0;34m=\u001b[0m\u001b[0mgroup\u001b[0m\u001b[0;34m,\u001b[0m \u001b[0mlock\u001b[0m\u001b[0;34m=\u001b[0m\u001b[0mlock\u001b[0m\u001b[0;34m,\u001b[0m \u001b[0;34m**\u001b[0m\u001b[0mbackend_kwargs\u001b[0m\u001b[0;34m\u001b[0m\u001b[0;34m\u001b[0m\u001b[0m\n\u001b[1;32m    510\u001b[0m             )\n",
      "\u001b[0;32m/gpfswork/rech/yrf/rote001/miniconda2/envs/seawater/lib/python3.8/site-packages/xarray/backends/netCDF4_.py\u001b[0m in \u001b[0;36mopen\u001b[0;34m(cls, filename, mode, format, group, clobber, diskless, persist, lock, lock_maker, autoclose)\u001b[0m\n\u001b[1;32m    356\u001b[0m             \u001b[0mnetCDF4\u001b[0m\u001b[0;34m.\u001b[0m\u001b[0mDataset\u001b[0m\u001b[0;34m,\u001b[0m \u001b[0mfilename\u001b[0m\u001b[0;34m,\u001b[0m \u001b[0mmode\u001b[0m\u001b[0;34m=\u001b[0m\u001b[0mmode\u001b[0m\u001b[0;34m,\u001b[0m \u001b[0mkwargs\u001b[0m\u001b[0;34m=\u001b[0m\u001b[0mkwargs\u001b[0m\u001b[0;34m\u001b[0m\u001b[0;34m\u001b[0m\u001b[0m\n\u001b[1;32m    357\u001b[0m         )\n\u001b[0;32m--> 358\u001b[0;31m         \u001b[0;32mreturn\u001b[0m \u001b[0mcls\u001b[0m\u001b[0;34m(\u001b[0m\u001b[0mmanager\u001b[0m\u001b[0;34m,\u001b[0m \u001b[0mgroup\u001b[0m\u001b[0;34m=\u001b[0m\u001b[0mgroup\u001b[0m\u001b[0;34m,\u001b[0m \u001b[0mmode\u001b[0m\u001b[0;34m=\u001b[0m\u001b[0mmode\u001b[0m\u001b[0;34m,\u001b[0m \u001b[0mlock\u001b[0m\u001b[0;34m=\u001b[0m\u001b[0mlock\u001b[0m\u001b[0;34m,\u001b[0m \u001b[0mautoclose\u001b[0m\u001b[0;34m=\u001b[0m\u001b[0mautoclose\u001b[0m\u001b[0;34m)\u001b[0m\u001b[0;34m\u001b[0m\u001b[0;34m\u001b[0m\u001b[0m\n\u001b[0m\u001b[1;32m    359\u001b[0m \u001b[0;34m\u001b[0m\u001b[0m\n\u001b[1;32m    360\u001b[0m     \u001b[0;32mdef\u001b[0m \u001b[0m_acquire\u001b[0m\u001b[0;34m(\u001b[0m\u001b[0mself\u001b[0m\u001b[0;34m,\u001b[0m \u001b[0mneeds_lock\u001b[0m\u001b[0;34m=\u001b[0m\u001b[0;32mTrue\u001b[0m\u001b[0;34m)\u001b[0m\u001b[0;34m:\u001b[0m\u001b[0;34m\u001b[0m\u001b[0;34m\u001b[0m\u001b[0m\n",
      "\u001b[0;32m/gpfswork/rech/yrf/rote001/miniconda2/envs/seawater/lib/python3.8/site-packages/xarray/backends/netCDF4_.py\u001b[0m in \u001b[0;36m__init__\u001b[0;34m(self, manager, group, mode, lock, autoclose)\u001b[0m\n\u001b[1;32m    312\u001b[0m         \u001b[0mself\u001b[0m\u001b[0;34m.\u001b[0m\u001b[0m_group\u001b[0m \u001b[0;34m=\u001b[0m \u001b[0mgroup\u001b[0m\u001b[0;34m\u001b[0m\u001b[0;34m\u001b[0m\u001b[0m\n\u001b[1;32m    313\u001b[0m         \u001b[0mself\u001b[0m\u001b[0;34m.\u001b[0m\u001b[0m_mode\u001b[0m \u001b[0;34m=\u001b[0m \u001b[0mmode\u001b[0m\u001b[0;34m\u001b[0m\u001b[0;34m\u001b[0m\u001b[0m\n\u001b[0;32m--> 314\u001b[0;31m         \u001b[0mself\u001b[0m\u001b[0;34m.\u001b[0m\u001b[0mformat\u001b[0m \u001b[0;34m=\u001b[0m \u001b[0mself\u001b[0m\u001b[0;34m.\u001b[0m\u001b[0mds\u001b[0m\u001b[0;34m.\u001b[0m\u001b[0mdata_model\u001b[0m\u001b[0;34m\u001b[0m\u001b[0;34m\u001b[0m\u001b[0m\n\u001b[0m\u001b[1;32m    315\u001b[0m         \u001b[0mself\u001b[0m\u001b[0;34m.\u001b[0m\u001b[0m_filename\u001b[0m \u001b[0;34m=\u001b[0m \u001b[0mself\u001b[0m\u001b[0;34m.\u001b[0m\u001b[0mds\u001b[0m\u001b[0;34m.\u001b[0m\u001b[0mfilepath\u001b[0m\u001b[0;34m(\u001b[0m\u001b[0;34m)\u001b[0m\u001b[0;34m\u001b[0m\u001b[0;34m\u001b[0m\u001b[0m\n\u001b[1;32m    316\u001b[0m         \u001b[0mself\u001b[0m\u001b[0;34m.\u001b[0m\u001b[0mis_remote\u001b[0m \u001b[0;34m=\u001b[0m \u001b[0mis_remote_uri\u001b[0m\u001b[0;34m(\u001b[0m\u001b[0mself\u001b[0m\u001b[0;34m.\u001b[0m\u001b[0m_filename\u001b[0m\u001b[0;34m)\u001b[0m\u001b[0;34m\u001b[0m\u001b[0;34m\u001b[0m\u001b[0m\n",
      "\u001b[0;32m/gpfswork/rech/yrf/rote001/miniconda2/envs/seawater/lib/python3.8/site-packages/xarray/backends/netCDF4_.py\u001b[0m in \u001b[0;36mds\u001b[0;34m(self)\u001b[0m\n\u001b[1;32m    365\u001b[0m     \u001b[0;34m@\u001b[0m\u001b[0mproperty\u001b[0m\u001b[0;34m\u001b[0m\u001b[0;34m\u001b[0m\u001b[0m\n\u001b[1;32m    366\u001b[0m     \u001b[0;32mdef\u001b[0m \u001b[0mds\u001b[0m\u001b[0;34m(\u001b[0m\u001b[0mself\u001b[0m\u001b[0;34m)\u001b[0m\u001b[0;34m:\u001b[0m\u001b[0;34m\u001b[0m\u001b[0;34m\u001b[0m\u001b[0m\n\u001b[0;32m--> 367\u001b[0;31m         \u001b[0;32mreturn\u001b[0m \u001b[0mself\u001b[0m\u001b[0;34m.\u001b[0m\u001b[0m_acquire\u001b[0m\u001b[0;34m(\u001b[0m\u001b[0;34m)\u001b[0m\u001b[0;34m\u001b[0m\u001b[0;34m\u001b[0m\u001b[0m\n\u001b[0m\u001b[1;32m    368\u001b[0m \u001b[0;34m\u001b[0m\u001b[0m\n\u001b[1;32m    369\u001b[0m     \u001b[0;32mdef\u001b[0m \u001b[0mopen_store_variable\u001b[0m\u001b[0;34m(\u001b[0m\u001b[0mself\u001b[0m\u001b[0;34m,\u001b[0m \u001b[0mname\u001b[0m\u001b[0;34m,\u001b[0m \u001b[0mvar\u001b[0m\u001b[0;34m)\u001b[0m\u001b[0;34m:\u001b[0m\u001b[0;34m\u001b[0m\u001b[0;34m\u001b[0m\u001b[0m\n",
      "\u001b[0;32m/gpfswork/rech/yrf/rote001/miniconda2/envs/seawater/lib/python3.8/site-packages/xarray/backends/netCDF4_.py\u001b[0m in \u001b[0;36m_acquire\u001b[0;34m(self, needs_lock)\u001b[0m\n\u001b[1;32m    359\u001b[0m \u001b[0;34m\u001b[0m\u001b[0m\n\u001b[1;32m    360\u001b[0m     \u001b[0;32mdef\u001b[0m \u001b[0m_acquire\u001b[0m\u001b[0;34m(\u001b[0m\u001b[0mself\u001b[0m\u001b[0;34m,\u001b[0m \u001b[0mneeds_lock\u001b[0m\u001b[0;34m=\u001b[0m\u001b[0;32mTrue\u001b[0m\u001b[0;34m)\u001b[0m\u001b[0;34m:\u001b[0m\u001b[0;34m\u001b[0m\u001b[0;34m\u001b[0m\u001b[0m\n\u001b[0;32m--> 361\u001b[0;31m         \u001b[0;32mwith\u001b[0m \u001b[0mself\u001b[0m\u001b[0;34m.\u001b[0m\u001b[0m_manager\u001b[0m\u001b[0;34m.\u001b[0m\u001b[0macquire_context\u001b[0m\u001b[0;34m(\u001b[0m\u001b[0mneeds_lock\u001b[0m\u001b[0;34m)\u001b[0m \u001b[0;32mas\u001b[0m \u001b[0mroot\u001b[0m\u001b[0;34m:\u001b[0m\u001b[0;34m\u001b[0m\u001b[0;34m\u001b[0m\u001b[0m\n\u001b[0m\u001b[1;32m    362\u001b[0m             \u001b[0mds\u001b[0m \u001b[0;34m=\u001b[0m \u001b[0m_nc4_require_group\u001b[0m\u001b[0;34m(\u001b[0m\u001b[0mroot\u001b[0m\u001b[0;34m,\u001b[0m \u001b[0mself\u001b[0m\u001b[0;34m.\u001b[0m\u001b[0m_group\u001b[0m\u001b[0;34m,\u001b[0m \u001b[0mself\u001b[0m\u001b[0;34m.\u001b[0m\u001b[0m_mode\u001b[0m\u001b[0;34m)\u001b[0m\u001b[0;34m\u001b[0m\u001b[0;34m\u001b[0m\u001b[0m\n\u001b[1;32m    363\u001b[0m         \u001b[0;32mreturn\u001b[0m \u001b[0mds\u001b[0m\u001b[0;34m\u001b[0m\u001b[0;34m\u001b[0m\u001b[0m\n",
      "\u001b[0;32m/gpfswork/rech/yrf/rote001/miniconda2/envs/seawater/lib/python3.8/contextlib.py\u001b[0m in \u001b[0;36m__enter__\u001b[0;34m(self)\u001b[0m\n\u001b[1;32m    111\u001b[0m         \u001b[0;32mdel\u001b[0m \u001b[0mself\u001b[0m\u001b[0;34m.\u001b[0m\u001b[0margs\u001b[0m\u001b[0;34m,\u001b[0m \u001b[0mself\u001b[0m\u001b[0;34m.\u001b[0m\u001b[0mkwds\u001b[0m\u001b[0;34m,\u001b[0m \u001b[0mself\u001b[0m\u001b[0;34m.\u001b[0m\u001b[0mfunc\u001b[0m\u001b[0;34m\u001b[0m\u001b[0;34m\u001b[0m\u001b[0m\n\u001b[1;32m    112\u001b[0m         \u001b[0;32mtry\u001b[0m\u001b[0;34m:\u001b[0m\u001b[0;34m\u001b[0m\u001b[0;34m\u001b[0m\u001b[0m\n\u001b[0;32m--> 113\u001b[0;31m             \u001b[0;32mreturn\u001b[0m \u001b[0mnext\u001b[0m\u001b[0;34m(\u001b[0m\u001b[0mself\u001b[0m\u001b[0;34m.\u001b[0m\u001b[0mgen\u001b[0m\u001b[0;34m)\u001b[0m\u001b[0;34m\u001b[0m\u001b[0;34m\u001b[0m\u001b[0m\n\u001b[0m\u001b[1;32m    114\u001b[0m         \u001b[0;32mexcept\u001b[0m \u001b[0mStopIteration\u001b[0m\u001b[0;34m:\u001b[0m\u001b[0;34m\u001b[0m\u001b[0;34m\u001b[0m\u001b[0m\n\u001b[1;32m    115\u001b[0m             \u001b[0;32mraise\u001b[0m \u001b[0mRuntimeError\u001b[0m\u001b[0;34m(\u001b[0m\u001b[0;34m\"generator didn't yield\"\u001b[0m\u001b[0;34m)\u001b[0m \u001b[0;32mfrom\u001b[0m \u001b[0;32mNone\u001b[0m\u001b[0;34m\u001b[0m\u001b[0;34m\u001b[0m\u001b[0m\n",
      "\u001b[0;32m/gpfswork/rech/yrf/rote001/miniconda2/envs/seawater/lib/python3.8/site-packages/xarray/backends/file_manager.py\u001b[0m in \u001b[0;36macquire_context\u001b[0;34m(self, needs_lock)\u001b[0m\n\u001b[1;32m    184\u001b[0m     \u001b[0;32mdef\u001b[0m \u001b[0macquire_context\u001b[0m\u001b[0;34m(\u001b[0m\u001b[0mself\u001b[0m\u001b[0;34m,\u001b[0m \u001b[0mneeds_lock\u001b[0m\u001b[0;34m=\u001b[0m\u001b[0;32mTrue\u001b[0m\u001b[0;34m)\u001b[0m\u001b[0;34m:\u001b[0m\u001b[0;34m\u001b[0m\u001b[0;34m\u001b[0m\u001b[0m\n\u001b[1;32m    185\u001b[0m         \u001b[0;34m\"\"\"Context manager for acquiring a file.\"\"\"\u001b[0m\u001b[0;34m\u001b[0m\u001b[0;34m\u001b[0m\u001b[0m\n\u001b[0;32m--> 186\u001b[0;31m         \u001b[0mfile\u001b[0m\u001b[0;34m,\u001b[0m \u001b[0mcached\u001b[0m \u001b[0;34m=\u001b[0m \u001b[0mself\u001b[0m\u001b[0;34m.\u001b[0m\u001b[0m_acquire_with_cache_info\u001b[0m\u001b[0;34m(\u001b[0m\u001b[0mneeds_lock\u001b[0m\u001b[0;34m)\u001b[0m\u001b[0;34m\u001b[0m\u001b[0;34m\u001b[0m\u001b[0m\n\u001b[0m\u001b[1;32m    187\u001b[0m         \u001b[0;32mtry\u001b[0m\u001b[0;34m:\u001b[0m\u001b[0;34m\u001b[0m\u001b[0;34m\u001b[0m\u001b[0m\n\u001b[1;32m    188\u001b[0m             \u001b[0;32myield\u001b[0m \u001b[0mfile\u001b[0m\u001b[0;34m\u001b[0m\u001b[0;34m\u001b[0m\u001b[0m\n",
      "\u001b[0;32m/gpfswork/rech/yrf/rote001/miniconda2/envs/seawater/lib/python3.8/site-packages/xarray/backends/file_manager.py\u001b[0m in \u001b[0;36m_acquire_with_cache_info\u001b[0;34m(self, needs_lock)\u001b[0m\n\u001b[1;32m    202\u001b[0m                     \u001b[0mkwargs\u001b[0m \u001b[0;34m=\u001b[0m \u001b[0mkwargs\u001b[0m\u001b[0;34m.\u001b[0m\u001b[0mcopy\u001b[0m\u001b[0;34m(\u001b[0m\u001b[0;34m)\u001b[0m\u001b[0;34m\u001b[0m\u001b[0;34m\u001b[0m\u001b[0m\n\u001b[1;32m    203\u001b[0m                     \u001b[0mkwargs\u001b[0m\u001b[0;34m[\u001b[0m\u001b[0;34m\"mode\"\u001b[0m\u001b[0;34m]\u001b[0m \u001b[0;34m=\u001b[0m \u001b[0mself\u001b[0m\u001b[0;34m.\u001b[0m\u001b[0m_mode\u001b[0m\u001b[0;34m\u001b[0m\u001b[0;34m\u001b[0m\u001b[0m\n\u001b[0;32m--> 204\u001b[0;31m                 \u001b[0mfile\u001b[0m \u001b[0;34m=\u001b[0m \u001b[0mself\u001b[0m\u001b[0;34m.\u001b[0m\u001b[0m_opener\u001b[0m\u001b[0;34m(\u001b[0m\u001b[0;34m*\u001b[0m\u001b[0mself\u001b[0m\u001b[0;34m.\u001b[0m\u001b[0m_args\u001b[0m\u001b[0;34m,\u001b[0m \u001b[0;34m**\u001b[0m\u001b[0mkwargs\u001b[0m\u001b[0;34m)\u001b[0m\u001b[0;34m\u001b[0m\u001b[0;34m\u001b[0m\u001b[0m\n\u001b[0m\u001b[1;32m    205\u001b[0m                 \u001b[0;32mif\u001b[0m \u001b[0mself\u001b[0m\u001b[0;34m.\u001b[0m\u001b[0m_mode\u001b[0m \u001b[0;34m==\u001b[0m \u001b[0;34m\"w\"\u001b[0m\u001b[0;34m:\u001b[0m\u001b[0;34m\u001b[0m\u001b[0;34m\u001b[0m\u001b[0m\n\u001b[1;32m    206\u001b[0m                     \u001b[0;31m# ensure file doesn't get overriden when opened again\u001b[0m\u001b[0;34m\u001b[0m\u001b[0;34m\u001b[0m\u001b[0;34m\u001b[0m\u001b[0m\n",
      "\u001b[0;32mnetCDF4/_netCDF4.pyx\u001b[0m in \u001b[0;36mnetCDF4._netCDF4.Dataset.__init__\u001b[0;34m()\u001b[0m\n",
      "\u001b[0;32mnetCDF4/_netCDF4.pyx\u001b[0m in \u001b[0;36mnetCDF4._netCDF4._ensure_nc_success\u001b[0;34m()\u001b[0m\n",
      "\u001b[0;31mFileNotFoundError\u001b[0m: [Errno 2] No such file or directory: b'/gpfswork/rech/egi/rote001/EN4/profiles_files/MEDWEST60-BLBT02/Profile_20100416_prof_74_MEDWEST60-BLBT02_TS.nc'"
     ]
    }
   ],
   "source": [
    "for prof in np.arange(nb_profilesEN4):\n",
    "    list_profiles = infos.keys()\n",
    "    reference =  str(list(list_profiles)[prof])\n",
    "    print('Processing profile ', reference)\n",
    "    # Open the netcdf file\n",
    "    match=re.search(r'([\\w.-]+).nc([\\w.-]+)', reference)\n",
    "    debut_ref=match.group(1)\n",
    "    fin_ref=match.group(2)\n",
    "    diren4=\"/gpfswork/rech/egi/rote001/EN4/\"\n",
    "    dirname=diren4+'profiles_files/MEDWEST60-BLBT02/'\n",
    "    outname=dirname+str(debut_ref)+str(fin_ref)+'_MEDWEST60-BLBT02_TS.nc'\n",
    "    dsprof=xr.open_dataset(outname)\n",
    "\n",
    "    depth_en4=dsprof['depth_en4']\n",
    "    temp_en4=dsprof['temp_profileEN4']\n",
    "    salt_en4=dsprof['salt_profileEN4']\n",
    "    mean_temp_model=dsprof['mean_temp_model']\n",
    "    mean_salt_model=dsprof['mean_salt_model']\n",
    "    percent10_temp_model=dsprof['percent10_temp_model']\n",
    "    percent10_salt_model=dsprof['percent10_salt_model']\n",
    "    percent90_temp_model=dsprof['percent90_temp_model']\n",
    "    percent90_salt_model=dsprof['percent90_salt_model']\n",
    "    obs_lat=dsprof['latitude_profileEN4']\n",
    "    obs_lon=dsprof['longitude_profileEN4']\n",
    "    obs_time=dsprof['time_profileEN4']\n",
    "    # Project the profile to standart vertical levels\n",
    "    vert_standart=[0,2,4,6,8,10,12,14,16,18,20,25,30,35,40,45,50,55,60,65,70,75,80,85,90,95,100,\n",
    "                   110,120,130,140,150,160,170,180,190,200,220,240,260,280,300,320,340,360,380,400,\n",
    "                   420,440,460,480,500,520,540,560,580,600,620,640,660,680,700,720,740,760,780,800,\n",
    "                   820,840,860,880,900,920,940,960,980,1000,1050,1100,1150,1200,1250,1300,1350,1400,\n",
    "                   1450,1500,1550,1600,1650,1700,1750,1800,1850,1900,1950,2000]\n",
    "\n",
    "    temp_en4_standart=np.interp(vert_standart,depth_en4,temp_en4)\n",
    "    salt_en4_standart=np.interp(vert_standart,depth_en4,salt_en4)\n",
    "    mean_temp_model_standart=np.interp(vert_standart,depth_en4,mean_temp_model)\n",
    "    mean_salt_model_standart=np.interp(vert_standart,depth_en4,mean_salt_model)\n",
    "    percent10_temp_model_standart=np.interp(vert_standart,depth_en4,percent10_temp_model)\n",
    "    percent10_salt_model_standart=np.interp(vert_standart,depth_en4,percent10_salt_model)\n",
    "    percent90_temp_model_standart=np.interp(vert_standart,depth_en4,percent90_temp_model)\n",
    "    percent90_salt_model_standart=np.interp(vert_standart,depth_en4,percent90_salt_model)\n",
    "\n",
    "    #Fill the all profiles\n",
    "    all_temp_mean_model[prof,:]=mean_temp_model_standart[:]\n",
    "    all_salt_mean_model[prof,:]=mean_salt_model_standart[:]\n",
    "    all_temp_en4[prof,:]=temp_en4_standart[:]\n",
    "    all_salt_en4[prof,:]=salt_en4_standart[:]\n",
    "    all_temp_percent10_model[prof,:]=percent10_temp_model_standart[:]\n",
    "    all_salt_percent10_model[prof,:]=percent10_salt_model_standart[:]\n",
    "    all_temp_percent90_model[prof,:]=percent90_temp_model_standart[:]\n",
    "    all_salt_percent90_model[prof,:]=percent90_salt_model_standart[:]\n"
   ]
  },
  {
   "cell_type": "code",
   "execution_count": 20,
   "metadata": {},
   "outputs": [
    {
     "data": {
      "text/plain": [
       "array([38.05000106, 38.05000106, 38.05000106, 38.05000106, 38.05000492,\n",
       "       38.05013019, 38.05025546, 38.05038413, 38.05057227, 38.0507604 ,\n",
       "       38.05101108, 38.05179679, 38.05298728, 38.05542189, 38.058581  ,\n",
       "       38.06197196, 38.06528186, 38.06848498, 38.0716131 , 38.07477154,\n",
       "       38.07799194, 38.08116701, 38.08468823, 38.08896346, 38.09406351,\n",
       "       38.09994806, 38.10668426, 38.12451218, 38.14603213, 38.17042906,\n",
       "       38.20100071, 38.23706922, 38.27491873, 38.3103412 , 38.34171396,\n",
       "       38.36973933, 38.3942907 , 38.43209866, 38.46149997, 38.48356343,\n",
       "       38.49867313, 38.50973746, 38.51757436, 38.52309821, 38.52671066,\n",
       "       38.52862407, 38.52963468, 38.53023522, 38.53056668, 38.5305363 ,\n",
       "       38.52988451, 38.52894224, 38.52774682, 38.52638915, 38.52494828,\n",
       "       38.52349424, 38.52210611, 38.52080424, 38.51960102, 38.51850343,\n",
       "       38.51752622, 38.51666557, 38.51588863, 38.51519506, 38.514583  ,\n",
       "       38.51404777, 38.51358835, 38.51318916, 38.51283349, 38.51251254,\n",
       "       38.51222144, 38.51195588, 38.51170899, 38.5114764 , 38.51125941,\n",
       "       38.51106071, 38.51088215, 38.51055096, 38.51045683, 38.51062179,\n",
       "       38.51103265, 38.51163928, 38.51235948, 38.51315827, 38.51405979,\n",
       "       38.51501962, 38.51598479, 38.51688592, 38.51767665, 38.51832443,\n",
       "       38.51880433, 38.51911571, 38.51925019, 38.51925749, 38.51917575,\n",
       "       38.51904852, 38.51902519])"
      ]
     },
     "execution_count": 20,
     "metadata": {},
     "output_type": "execute_result"
    }
   ],
   "source": [
    "all_salt_percent90_model[0]"
   ]
  },
  {
   "cell_type": "code",
   "execution_count": null,
   "metadata": {},
   "outputs": [],
   "source": []
  }
 ],
 "metadata": {
  "celltoolbar": "Tags",
  "kernelspec": {
   "display_name": "new-seawater",
   "language": "python",
   "name": "seawater"
  },
  "language_info": {
   "codemirror_mode": {
    "name": "ipython",
    "version": 3
   },
   "file_extension": ".py",
   "mimetype": "text/x-python",
   "name": "python",
   "nbconvert_exporter": "python",
   "pygments_lexer": "ipython3",
   "version": "3.8.3"
  }
 },
 "nbformat": 4,
 "nbformat_minor": 4
}
