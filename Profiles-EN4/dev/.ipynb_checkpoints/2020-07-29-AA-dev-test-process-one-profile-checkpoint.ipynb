{
 "cells": [
  {
   "cell_type": "code",
   "execution_count": 1,
   "metadata": {},
   "outputs": [],
   "source": [
    "import numpy as np\n",
    "import dask\n",
    "import xarray as xr\n",
    "import matplotlib.pyplot as plt\n",
    "import pandas as pd\n",
    "import datetime\n",
    "import glob as glob\n",
    "import time\n",
    "from datetime import date\n",
    "import io\n",
    "import json\n",
    "import os"
   ]
  },
  {
   "cell_type": "code",
   "execution_count": 2,
   "metadata": {},
   "outputs": [
    {
     "name": "stdout",
     "output_type": "stream",
     "text": [
      "/gpfswork/rech/egi/rote001/git/sosie/bin/ij_from_lon_lat.x: error while loading shared libraries: libnetcdf.so.15: cannot open shared object file: No such file or directory\r\n"
     ]
    },
    {
     "name": "stderr",
     "output_type": "stream",
     "text": [
      "/gpfslocalsup/pub/anaconda-py3/2020.02/lib/python3.7/site-packages/ipykernel_launcher.py:3: DeprecationWarning: 'U' mode is deprecated\n",
      "  This is separate from the ipykernel package so we can avoid doing imports until\n"
     ]
    },
    {
     "name": "stdout",
     "output_type": "stream",
     "text": [
      "check if profile is in the ocean\n",
      "profile is in the ocean\n",
      "check if profile is in the right period\n",
      "profile date is 2010-01-14\n",
      "profile is in the right period\n",
      "check if profile is too close to continent, island or boundary\n",
      "profile is not too close to continent, island or boundary\n"
     ]
    }
   ],
   "source": [
    "prof=11\n",
    "jsonfile='MEDWEST60_y2010m01d01-y2010m09d30.json'\n",
    "sourcefile=open(jsonfile,'rU',encoding='utf-8')\n",
    "infos=json.load(sourcefile)\n",
    "nb_profilesEN4=len(infos)\n",
    "list_profiles=infos.keys()\n",
    "\n",
    "reference =  str(list(list_profiles)[prof])\n",
    "lat_prof = infos[reference]['latitude']\n",
    "lon_prof = infos[reference]['longitude']\n",
    "\n",
    "with open('prof0.txt','w') as txt_file:\n",
    "    txt_file.write('Profile_'+str(reference[2:10])+' '+str(lon_prof)+' '+str(lat_prof))\n",
    "    \n",
    "!/gpfswork/rech/egi/rote001/git/sosie/bin/ij_from_lon_lat.x -i /gpfsstore/rech/egi/commun/MEDWEST60/MEDWEST60-I/MEDWEST60_mesh_hgr.nc4 -p prof0.txt >/dev/null\n",
    "\n",
    "with open('ij_found.out','r') as txt_file:\n",
    "    last_line = txt_file.readlines()[-1]\n",
    "    i0=int(last_line.split()[1])\n",
    "    j0=int(last_line.split()[2])\n",
    "\n",
    "def check_prof_in_ocean(i0,j0):\n",
    "    print('check if profile is in the ocean')\n",
    "    dsN=xr.open_dataset('/gpfsstore/rech/egi/commun/MEDWEST60/MEDWEST60-I/MEDWEST60_mask.nc4')\n",
    "    tmaskN=dsN.tmask\n",
    "    if tmaskN[0,0,int(j0),int(i0)] == 1:\n",
    "        check=0\n",
    "    else:\n",
    "        check=1\n",
    "    return check\n",
    "\n",
    "check=check_prof_in_ocean(i0,j0)\n",
    "if check == 0:\n",
    "    print('profile is in the ocean')\n",
    "else:\n",
    "    print('profile is on the land')\n",
    "            \n",
    "def check_prof_date():\n",
    "    print('check if profile is in the right period')\n",
    "    check=0\n",
    "    date_prof = infos[reference]['date']\n",
    "    file_prof = infos[reference]['file']\n",
    "    prof_prof = infos[reference]['profile no']\n",
    "    year=int(date_prof[0:4])\n",
    "    month=int(date_prof[5:7])\n",
    "    day=int(date_prof[8:10])\n",
    "    date=datetime.date(int(date_prof[0:4]),int(date_prof[5:7]),int(date_prof[8:10]))\n",
    "    print('profile date is '+str(date))\n",
    "    date_avant=date-datetime.timedelta(days=10)\n",
    "    date_apres=date+datetime.timedelta(days=10)\n",
    "    def date_range(start, end):\n",
    "        r = (end+datetime.timedelta(days=1)-start).days\n",
    "        return [start+datetime.timedelta(days=i) for i in range(r)]\n",
    "    dateList = date_range(date_avant, date_apres) # list of days between datemin and datemax\n",
    "    list_files=[]\n",
    "    for date in dateList:\n",
    "        mm=\"{:02d}\".format(date.month) #month on 2 digits\n",
    "        dd=\"{:02d}\".format(date.day) # day on 2 digits\n",
    "        file='/gpfsstore/rech/egi/commun/MEDWEST60/extracted_eNATL60/allv/MEDWEST60-BLBT02_y'+str(date.year)+'m'+str(mm)+'d'+str(dd)+'.1h_gridT.nc'\n",
    "        if not os.path.exists(file):\n",
    "            check=check+1\n",
    "        else:\n",
    "            list_files.append(file)\n",
    "    return check,dateList   \n",
    "\n",
    "check,dateList=check_prof_date()\n",
    "if check == 0:\n",
    "    print('profile is in the right period')\n",
    "else:\n",
    "    print('profile is too soon or too late')\n",
    "\n",
    "\n",
    "def check_prof_near_coast(i0,j0):\n",
    "    print('check if profile is too close to continent, island or boundary')\n",
    "    dsN=xr.open_dataset('/gpfsstore/rech/egi/commun/MEDWEST60/MEDWEST60-I/MEDWEST60_mask.nc4')\n",
    "    tmaskN=dsN.tmask\n",
    "    check=0\n",
    "    for i in np.arange(15):\n",
    "        for j in np.arange(15):\n",
    "            if (np.array(tmaskN[0,0,int(j0)-j,int(i0)-i])+np.array(tmaskN[0,0,int(j0)-j,int(i0)+i])+np.array(tmaskN[0,0,int(j0)+j,int(i0)-i])+np.array(tmaskN[0,0,int(j0)+j,int(i0)+i])) < 4:\n",
    "                check=check+1\n",
    "                print('selected profile is too close to continent, the program is stopping')\n",
    "    return check\n",
    "\n",
    "check=check_prof_near_coast(i0,j0)\n",
    "if check == 0:\n",
    "    print('profile is not too close to continent, island or boundary')\n",
    "else:\n",
    "    print('profile is too close to continent, island or boundary')\n"
   ]
  },
  {
   "cell_type": "code",
   "execution_count": 3,
   "metadata": {},
   "outputs": [
    {
     "name": "stdout",
     "output_type": "stream",
     "text": [
      "check if profile has a good depth\n"
     ]
    }
   ],
   "source": [
    "    print('check if profile has a good depth')\n",
    "    dsN=xr.open_dataset('/gpfsstore/rech/egi/commun/MEDWEST60/MEDWEST60-I/MEDWEST60_mask.nc4')\n",
    "    tmaskN=dsN.tmask\n",
    "    prof_mod=tmaskN[0,:,int(j0),int(i0)]\n",
    "    dsH=xr.open_dataset('/gpfsstore/rech/egi/commun/MEDWEST60/MEDWEST60-I/MEDWEST60_mesh_zgr.nc4')\n",
    "    depthN=dsH.gdept_1d[0]\n"
   ]
  },
  {
   "cell_type": "code",
   "execution_count": 4,
   "metadata": {},
   "outputs": [],
   "source": [
    "indz=np.where(prof_mod.values<1)"
   ]
  },
  {
   "cell_type": "code",
   "execution_count": 5,
   "metadata": {},
   "outputs": [
    {
     "name": "stdout",
     "output_type": "stream",
     "text": [
      "<xarray.DataArray 'gdept_1d' ()>\n",
      "array(332.538341)\n"
     ]
    }
   ],
   "source": [
    "print(depthN[np.min(indz)])"
   ]
  },
  {
   "cell_type": "code",
   "execution_count": 6,
   "metadata": {},
   "outputs": [],
   "source": [
    "    diren4=\"/gpfswork/rech/egi/rote001/EN4/\"\n",
    "    file_prof = infos[reference]['file']\n",
    "    tfileEN4=diren4+file_prof\n",
    "\n"
   ]
  },
  {
   "cell_type": "code",
   "execution_count": 7,
   "metadata": {},
   "outputs": [],
   "source": [
    "    dsen4=xr.open_dataset(tfileEN4)\n"
   ]
  },
  {
   "cell_type": "code",
   "execution_count": 8,
   "metadata": {},
   "outputs": [],
   "source": [
    "ref_prof = infos[list(list_profiles)[prof]]['profile no']"
   ]
  },
  {
   "cell_type": "code",
   "execution_count": 9,
   "metadata": {},
   "outputs": [],
   "source": [
    "    tempen4=dsen4['TEMP_ADJUSTED'][ref_prof]\n",
    "    salten4=dsen4['PSAL_ADJUSTED'][ref_prof]\n",
    "    presen4=dsen4['PRES_ADJUSTED'][ref_prof]\n"
   ]
  },
  {
   "cell_type": "code",
   "execution_count": 10,
   "metadata": {},
   "outputs": [
    {
     "ename": "ModuleNotFoundError",
     "evalue": "No module named 'seawater'",
     "output_type": "error",
     "traceback": [
      "\u001b[0;31m---------------------------------------------------------------------------\u001b[0m",
      "\u001b[0;31mModuleNotFoundError\u001b[0m                       Traceback (most recent call last)",
      "\u001b[0;32m<ipython-input-10-f62de0939ac0>\u001b[0m in \u001b[0;36m<module>\u001b[0;34m\u001b[0m\n\u001b[0;32m----> 1\u001b[0;31m \u001b[0;32mimport\u001b[0m \u001b[0mseawater\u001b[0m\u001b[0;34m\u001b[0m\u001b[0;34m\u001b[0m\u001b[0m\n\u001b[0m",
      "\u001b[0;31mModuleNotFoundError\u001b[0m: No module named 'seawater'"
     ]
    }
   ],
   "source": [
    "import seawater"
   ]
  },
  {
   "cell_type": "code",
   "execution_count": 11,
   "metadata": {},
   "outputs": [
    {
     "ename": "ModuleNotFoundError",
     "evalue": "No module named 'gsw'",
     "output_type": "error",
     "traceback": [
      "\u001b[0;31m---------------------------------------------------------------------------\u001b[0m",
      "\u001b[0;31mModuleNotFoundError\u001b[0m                       Traceback (most recent call last)",
      "\u001b[0;32m<ipython-input-11-ed31f21983d2>\u001b[0m in \u001b[0;36m<module>\u001b[0;34m\u001b[0m\n\u001b[0;32m----> 1\u001b[0;31m \u001b[0;32mimport\u001b[0m \u001b[0mgsw\u001b[0m\u001b[0;34m\u001b[0m\u001b[0;34m\u001b[0m\u001b[0m\n\u001b[0m",
      "\u001b[0;31mModuleNotFoundError\u001b[0m: No module named 'gsw'"
     ]
    }
   ],
   "source": [
    "import gsw"
   ]
  },
  {
   "cell_type": "code",
   "execution_count": 13,
   "metadata": {},
   "outputs": [
    {
     "data": {
      "text/plain": [
       "'/gpfslocalsup/pub/anaconda-py3/2020.02/bin/python'"
      ]
     },
     "execution_count": 13,
     "metadata": {},
     "output_type": "execute_result"
    }
   ],
   "source": [
    "import sys\n",
    "sys.executable"
   ]
  },
  {
   "cell_type": "code",
   "execution_count": 14,
   "metadata": {},
   "outputs": [
    {
     "data": {
      "text/plain": [
       "['/gpfsdswork/projects/rech/egi/rote001/git/diags-CMEMS-on-jean-zay/Profiles-EN4',\n",
       " '/gpfslocalsup/pub/anaconda-py3/2020.02/lib/python37.zip',\n",
       " '/gpfslocalsup/pub/anaconda-py3/2020.02/lib/python3.7',\n",
       " '/gpfslocalsup/pub/anaconda-py3/2020.02/lib/python3.7/lib-dynload',\n",
       " '',\n",
       " '/gpfslocalsup/pub/anaconda-py3/2020.02/lib/python3.7/site-packages',\n",
       " '/gpfslocalsup/pub/anaconda-py3/2020.02/lib/python3.7/site-packages/cdat_info-8.2-py2.7.egg',\n",
       " '/gpfslocalsup/pub/anaconda-py3/2020.02/lib/python3.7/site-packages/IPython/extensions',\n",
       " '/gpfs7kw/linkhome/rech/genige01/rote001/.ipython']"
      ]
     },
     "execution_count": 14,
     "metadata": {},
     "output_type": "execute_result"
    }
   ],
   "source": [
    "sys.path"
   ]
  },
  {
   "cell_type": "code",
   "execution_count": null,
   "metadata": {},
   "outputs": [],
   "source": []
  }
 ],
 "metadata": {
  "kernelspec": {
   "display_name": "profiles",
   "language": "python",
   "name": "profiles"
  },
  "language_info": {
   "codemirror_mode": {
    "name": "ipython",
    "version": 3
   },
   "file_extension": ".py",
   "mimetype": "text/x-python",
   "name": "python",
   "nbconvert_exporter": "python",
   "pygments_lexer": "ipython3",
   "version": "3.7.6"
  }
 },
 "nbformat": 4,
 "nbformat_minor": 2
}
