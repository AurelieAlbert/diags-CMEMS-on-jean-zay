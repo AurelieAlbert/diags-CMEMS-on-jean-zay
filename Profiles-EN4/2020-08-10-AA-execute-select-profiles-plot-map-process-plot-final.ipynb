{
 "cells": [
  {
   "cell_type": "code",
   "execution_count": 1,
   "metadata": {},
   "outputs": [],
   "source": [
    "import papermill as pm\n",
    "import datetime\n",
    "import time"
   ]
  },
  {
   "cell_type": "code",
   "execution_count": 2,
   "metadata": {},
   "outputs": [],
   "source": [
    "datenow=time.strftime('%Y-%m-%d',time.localtime())\n"
   ]
  },
  {
   "cell_type": "code",
   "execution_count": 3,
   "metadata": {},
   "outputs": [
    {
     "name": "stdout",
     "output_type": "stream",
     "text": [
      "12/08/20 10:16\n"
     ]
    },
    {
     "data": {
      "application/vnd.jupyter.widget-view+json": {
       "model_id": "e2c938b55e87485db089eb77cfc5778a",
       "version_major": 2,
       "version_minor": 0
      },
      "text/plain": [
       "HBox(children=(FloatProgress(value=0.0, description='Executing', max=24.0, style=ProgressStyle(description_wid…"
      ]
     },
     "metadata": {},
     "output_type": "display_data"
    },
    {
     "name": "stdout",
     "output_type": "stream",
     "text": [
      "\n",
      "12/08/20 10:17\n"
     ]
    },
    {
     "data": {
      "application/vnd.jupyter.widget-view+json": {
       "model_id": "f9f7f1cf26484755a6f7694e45e43c6b",
       "version_major": 2,
       "version_minor": 0
      },
      "text/plain": [
       "HBox(children=(FloatProgress(value=0.0, description='Executing', max=9.0, style=ProgressStyle(description_widt…"
      ]
     },
     "metadata": {},
     "output_type": "display_data"
    },
    {
     "name": "stdout",
     "output_type": "stream",
     "text": [
      "\n",
      "12/08/20 10:17\n"
     ]
    },
    {
     "data": {
      "application/vnd.jupyter.widget-view+json": {
       "model_id": "68d4ab89aa50497d84e990804d09b244",
       "version_major": 2,
       "version_minor": 0
      },
      "text/plain": [
       "HBox(children=(FloatProgress(value=0.0, description='Executing', max=12.0, style=ProgressStyle(description_wid…"
      ]
     },
     "metadata": {},
     "output_type": "display_data"
    },
    {
     "name": "stdout",
     "output_type": "stream",
     "text": [
      "\n",
      "12/08/20 14:01\n"
     ]
    },
    {
     "data": {
      "application/vnd.jupyter.widget-view+json": {
       "model_id": "81f63d9e7ee94cddb932dff0676d2bf5",
       "version_major": 2,
       "version_minor": 0
      },
      "text/plain": [
       "HBox(children=(FloatProgress(value=0.0, description='Executing', max=12.0, style=ProgressStyle(description_wid…"
      ]
     },
     "metadata": {},
     "output_type": "display_data"
    },
    {
     "name": "stdout",
     "output_type": "stream",
     "text": [
      "\n"
     ]
    },
    {
     "ename": "PapermillExecutionError",
     "evalue": "\n---------------------------------------------------------------------------\nException encountered at \"In [8]\":\n  File \"<ipython-input-8-2ec610535f55>\", line 29\n    axs = axs.ravel()\n    ^\nIndentationError: unexpected indent\n\n",
     "output_type": "error",
     "traceback": [
      "\u001b[0;31m---------------------------------------------------------------------------\u001b[0m",
      "\u001b[0;31mPapermillExecutionError\u001b[0m                   Traceback (most recent call last)",
      "\u001b[0;32m<ipython-input-3-a903debda381>\u001b[0m in \u001b[0;36m<module>\u001b[0;34m\u001b[0m\n\u001b[1;32m     18\u001b[0m \u001b[0mpm\u001b[0m\u001b[0;34m.\u001b[0m\u001b[0mexecute_notebook\u001b[0m\u001b[0;34m(\u001b[0m\u001b[0;34m'2020-08-07-AA-process-profiles.ipynb'\u001b[0m\u001b[0;34m,\u001b[0m\u001b[0;34m'out/'\u001b[0m\u001b[0;34m+\u001b[0m\u001b[0mstr\u001b[0m\u001b[0;34m(\u001b[0m\u001b[0mdatenow\u001b[0m\u001b[0;34m)\u001b[0m\u001b[0;34m+\u001b[0m\u001b[0;34m'-AA-process-profiles-MEDWEST60_'\u001b[0m\u001b[0;34m+\u001b[0m\u001b[0mstr\u001b[0m\u001b[0;34m(\u001b[0m\u001b[0mdatemin\u001b[0m\u001b[0;34m)\u001b[0m\u001b[0;34m+\u001b[0m\u001b[0;34m'-'\u001b[0m\u001b[0;34m+\u001b[0m\u001b[0mstr\u001b[0m\u001b[0;34m(\u001b[0m\u001b[0mdatemax\u001b[0m\u001b[0;34m)\u001b[0m\u001b[0;34m+\u001b[0m\u001b[0;34m'_'\u001b[0m\u001b[0;34m+\u001b[0m\u001b[0mstr\u001b[0m\u001b[0;34m(\u001b[0m\u001b[0mdepthmin\u001b[0m\u001b[0;34m)\u001b[0m\u001b[0;34m+\u001b[0m\u001b[0;34m'm_'\u001b[0m\u001b[0;34m+\u001b[0m\u001b[0mstr\u001b[0m\u001b[0;34m(\u001b[0m\u001b[0mradius_max\u001b[0m\u001b[0;34m)\u001b[0m\u001b[0;34m+\u001b[0m\u001b[0;34m'x'\u001b[0m\u001b[0;34m+\u001b[0m\u001b[0mstr\u001b[0m\u001b[0;34m(\u001b[0m\u001b[0mperiod\u001b[0m\u001b[0;34m)\u001b[0m\u001b[0;34m+\u001b[0m\u001b[0;34m'd_'\u001b[0m\u001b[0;34m+\u001b[0m\u001b[0mstr\u001b[0m\u001b[0;34m(\u001b[0m\u001b[0mnumber_of_model_profiles\u001b[0m\u001b[0;34m)\u001b[0m\u001b[0;34m+\u001b[0m\u001b[0;34m'.ipynb'\u001b[0m\u001b[0;34m,\u001b[0m\u001b[0mparameters\u001b[0m\u001b[0;34m=\u001b[0m\u001b[0mdict\u001b[0m\u001b[0;34m(\u001b[0m\u001b[0mymin\u001b[0m\u001b[0;34m=\u001b[0m\u001b[0mymin\u001b[0m\u001b[0;34m,\u001b[0m\u001b[0mmmin\u001b[0m\u001b[0;34m=\u001b[0m\u001b[0mmmin\u001b[0m\u001b[0;34m,\u001b[0m\u001b[0mdmin\u001b[0m\u001b[0;34m=\u001b[0m\u001b[0mdmin\u001b[0m\u001b[0;34m,\u001b[0m\u001b[0mymax\u001b[0m\u001b[0;34m=\u001b[0m\u001b[0mymax\u001b[0m\u001b[0;34m,\u001b[0m\u001b[0mmmax\u001b[0m\u001b[0;34m=\u001b[0m\u001b[0mmmax\u001b[0m\u001b[0;34m,\u001b[0m\u001b[0mdmax\u001b[0m\u001b[0;34m=\u001b[0m\u001b[0mdmax\u001b[0m\u001b[0;34m,\u001b[0m\u001b[0mdepthmin\u001b[0m\u001b[0;34m=\u001b[0m\u001b[0mdepthmin\u001b[0m\u001b[0;34m,\u001b[0m\u001b[0mradius_max\u001b[0m\u001b[0;34m=\u001b[0m\u001b[0mradius_max\u001b[0m\u001b[0;34m,\u001b[0m\u001b[0mperiod\u001b[0m\u001b[0;34m=\u001b[0m\u001b[0mperiod\u001b[0m\u001b[0;34m,\u001b[0m\u001b[0mnumber_of_model_profiles\u001b[0m\u001b[0;34m=\u001b[0m\u001b[0mnumber_of_model_profiles\u001b[0m\u001b[0;34m)\u001b[0m\u001b[0;34m)\u001b[0m\u001b[0;34m\u001b[0m\u001b[0;34m\u001b[0m\u001b[0m\n\u001b[1;32m     19\u001b[0m \u001b[0mprint\u001b[0m\u001b[0;34m(\u001b[0m\u001b[0mtime\u001b[0m\u001b[0;34m.\u001b[0m\u001b[0mstrftime\u001b[0m\u001b[0;34m(\u001b[0m\u001b[0;34m'%d/%m/%y %H:%M'\u001b[0m\u001b[0;34m,\u001b[0m\u001b[0mtime\u001b[0m\u001b[0;34m.\u001b[0m\u001b[0mlocaltime\u001b[0m\u001b[0;34m(\u001b[0m\u001b[0;34m)\u001b[0m\u001b[0;34m)\u001b[0m\u001b[0;34m)\u001b[0m\u001b[0;34m\u001b[0m\u001b[0;34m\u001b[0m\u001b[0m\n\u001b[0;32m---> 20\u001b[0;31m \u001b[0mpm\u001b[0m\u001b[0;34m.\u001b[0m\u001b[0mexecute_notebook\u001b[0m\u001b[0;34m(\u001b[0m\u001b[0;34m'2020-08-07-AA-final-plot.ipynb'\u001b[0m\u001b[0;34m,\u001b[0m\u001b[0;34m'out/'\u001b[0m\u001b[0;34m+\u001b[0m\u001b[0mstr\u001b[0m\u001b[0;34m(\u001b[0m\u001b[0mdatenow\u001b[0m\u001b[0;34m)\u001b[0m\u001b[0;34m+\u001b[0m\u001b[0;34m'-AA-final-plot-MEDWEST60_'\u001b[0m\u001b[0;34m+\u001b[0m\u001b[0mstr\u001b[0m\u001b[0;34m(\u001b[0m\u001b[0mdatemin\u001b[0m\u001b[0;34m)\u001b[0m\u001b[0;34m+\u001b[0m\u001b[0;34m'-'\u001b[0m\u001b[0;34m+\u001b[0m\u001b[0mstr\u001b[0m\u001b[0;34m(\u001b[0m\u001b[0mdatemax\u001b[0m\u001b[0;34m)\u001b[0m\u001b[0;34m+\u001b[0m\u001b[0;34m'_'\u001b[0m\u001b[0;34m+\u001b[0m\u001b[0mstr\u001b[0m\u001b[0;34m(\u001b[0m\u001b[0mdepthmin\u001b[0m\u001b[0;34m)\u001b[0m\u001b[0;34m+\u001b[0m\u001b[0;34m'm_'\u001b[0m\u001b[0;34m+\u001b[0m\u001b[0mstr\u001b[0m\u001b[0;34m(\u001b[0m\u001b[0mradius_max\u001b[0m\u001b[0;34m)\u001b[0m\u001b[0;34m+\u001b[0m\u001b[0;34m'x'\u001b[0m\u001b[0;34m+\u001b[0m\u001b[0mstr\u001b[0m\u001b[0;34m(\u001b[0m\u001b[0mperiod\u001b[0m\u001b[0;34m)\u001b[0m\u001b[0;34m+\u001b[0m\u001b[0;34m'd_'\u001b[0m\u001b[0;34m+\u001b[0m\u001b[0mstr\u001b[0m\u001b[0;34m(\u001b[0m\u001b[0mnumber_of_model_profiles\u001b[0m\u001b[0;34m)\u001b[0m\u001b[0;34m+\u001b[0m\u001b[0;34m'.ipynb'\u001b[0m\u001b[0;34m,\u001b[0m\u001b[0mparameters\u001b[0m\u001b[0;34m=\u001b[0m\u001b[0mdict\u001b[0m\u001b[0;34m(\u001b[0m\u001b[0mymin\u001b[0m\u001b[0;34m=\u001b[0m\u001b[0mymin\u001b[0m\u001b[0;34m,\u001b[0m\u001b[0mmmin\u001b[0m\u001b[0;34m=\u001b[0m\u001b[0mmmin\u001b[0m\u001b[0;34m,\u001b[0m\u001b[0mdmin\u001b[0m\u001b[0;34m=\u001b[0m\u001b[0mdmin\u001b[0m\u001b[0;34m,\u001b[0m\u001b[0mymax\u001b[0m\u001b[0;34m=\u001b[0m\u001b[0mymax\u001b[0m\u001b[0;34m,\u001b[0m\u001b[0mmmax\u001b[0m\u001b[0;34m=\u001b[0m\u001b[0mmmax\u001b[0m\u001b[0;34m,\u001b[0m\u001b[0mdmax\u001b[0m\u001b[0;34m=\u001b[0m\u001b[0mdmax\u001b[0m\u001b[0;34m,\u001b[0m\u001b[0mdepthmin\u001b[0m\u001b[0;34m=\u001b[0m\u001b[0mdepthmin\u001b[0m\u001b[0;34m,\u001b[0m\u001b[0mradius_max\u001b[0m\u001b[0;34m=\u001b[0m\u001b[0mradius_max\u001b[0m\u001b[0;34m,\u001b[0m\u001b[0mperiod\u001b[0m\u001b[0;34m=\u001b[0m\u001b[0mperiod\u001b[0m\u001b[0;34m,\u001b[0m\u001b[0mnumber_of_model_profiles\u001b[0m\u001b[0;34m=\u001b[0m\u001b[0mnumber_of_model_profiles\u001b[0m\u001b[0;34m)\u001b[0m\u001b[0;34m)\u001b[0m\u001b[0;34m\u001b[0m\u001b[0;34m\u001b[0m\u001b[0m\n\u001b[0m\u001b[1;32m     21\u001b[0m \u001b[0mprint\u001b[0m\u001b[0;34m(\u001b[0m\u001b[0mtime\u001b[0m\u001b[0;34m.\u001b[0m\u001b[0mstrftime\u001b[0m\u001b[0;34m(\u001b[0m\u001b[0;34m'%d/%m/%y %H:%M'\u001b[0m\u001b[0;34m,\u001b[0m\u001b[0mtime\u001b[0m\u001b[0;34m.\u001b[0m\u001b[0mlocaltime\u001b[0m\u001b[0;34m(\u001b[0m\u001b[0;34m)\u001b[0m\u001b[0;34m)\u001b[0m\u001b[0;34m)\u001b[0m\u001b[0;34m\u001b[0m\u001b[0;34m\u001b[0m\u001b[0m\n\u001b[1;32m     22\u001b[0m \u001b[0;34m\u001b[0m\u001b[0m\n",
      "\u001b[0;32m/gpfswork/rech/yrf/rote001/miniconda2/envs/seawater/lib/python3.8/site-packages/papermill/execute.py\u001b[0m in \u001b[0;36mexecute_notebook\u001b[0;34m(input_path, output_path, parameters, engine_name, request_save_on_cell_execute, prepare_only, kernel_name, progress_bar, log_output, stdout_file, stderr_file, start_timeout, report_mode, cwd, **engine_kwargs)\u001b[0m\n\u001b[1;32m    108\u001b[0m \u001b[0;34m\u001b[0m\u001b[0m\n\u001b[1;32m    109\u001b[0m             \u001b[0;31m# Check for errors first (it saves on error before raising)\u001b[0m\u001b[0;34m\u001b[0m\u001b[0;34m\u001b[0m\u001b[0;34m\u001b[0m\u001b[0m\n\u001b[0;32m--> 110\u001b[0;31m             \u001b[0mraise_for_execution_errors\u001b[0m\u001b[0;34m(\u001b[0m\u001b[0mnb\u001b[0m\u001b[0;34m,\u001b[0m \u001b[0moutput_path\u001b[0m\u001b[0;34m)\u001b[0m\u001b[0;34m\u001b[0m\u001b[0;34m\u001b[0m\u001b[0m\n\u001b[0m\u001b[1;32m    111\u001b[0m \u001b[0;34m\u001b[0m\u001b[0m\n\u001b[1;32m    112\u001b[0m         \u001b[0;31m# Write final output in case the engine didn't write it on cell completion.\u001b[0m\u001b[0;34m\u001b[0m\u001b[0;34m\u001b[0m\u001b[0;34m\u001b[0m\u001b[0m\n",
      "\u001b[0;32m/gpfswork/rech/yrf/rote001/miniconda2/envs/seawater/lib/python3.8/site-packages/papermill/execute.py\u001b[0m in \u001b[0;36mraise_for_execution_errors\u001b[0;34m(nb, output_path)\u001b[0m\n\u001b[1;32m    220\u001b[0m \u001b[0;34m\u001b[0m\u001b[0m\n\u001b[1;32m    221\u001b[0m         \u001b[0mwrite_ipynb\u001b[0m\u001b[0;34m(\u001b[0m\u001b[0mnb\u001b[0m\u001b[0;34m,\u001b[0m \u001b[0moutput_path\u001b[0m\u001b[0;34m)\u001b[0m\u001b[0;34m\u001b[0m\u001b[0;34m\u001b[0m\u001b[0m\n\u001b[0;32m--> 222\u001b[0;31m         \u001b[0;32mraise\u001b[0m \u001b[0merror\u001b[0m\u001b[0;34m\u001b[0m\u001b[0;34m\u001b[0m\u001b[0m\n\u001b[0m",
      "\u001b[0;31mPapermillExecutionError\u001b[0m: \n---------------------------------------------------------------------------\nException encountered at \"In [8]\":\n  File \"<ipython-input-8-2ec610535f55>\", line 29\n    axs = axs.ravel()\n    ^\nIndentationError: unexpected indent\n\n"
     ]
    }
   ],
   "source": [
    "ymin=2010;mmin=1;dmin=1\n",
    "ymax=2010;mmax=4;dmax=30\n",
    "# depth of the desired comparison profile in m\n",
    "depthmin=100\n",
    "# radius of the circle around the profile location in which we take the modeled profiles, in °  \n",
    "radius_max=0.25\n",
    "# period of time around the profile sampling date in which we take the modeled profiles, in days\n",
    "period=5\n",
    "# minimum amount of model profiles to be considered to make a significant statistical comparison, for instance in a 1° square and 30-days window we have 2.6 millions modeled profiles, in a 0.5°x10 days 216 000\n",
    "number_of_model_profiles=100000\n",
    "datemin=datetime.date(ymin,mmin,dmin)\n",
    "datemax=datetime.date(ymax,mmax,dmax)\n",
    "print(time.strftime('%d/%m/%y %H:%M',time.localtime()))\n",
    "pm.execute_notebook('2020-08-03-AA-selection-script-with-options.ipynb','out/'+str(datenow)+'-AA-selection-script-with-options-MEDWEST60_'+str(datemin)+'-'+str(datemax)+'_'+str(depthmin)+'m_'+str(radius_max)+'x'+str(period)+'d_'+str(number_of_model_profiles)+'.ipynb',parameters=dict(ymin=ymin,mmin=mmin,dmin=dmin,ymax=ymax,mmax=mmax,dmax=dmax,depthmin=depthmin,radius_max=radius_max,period=period,number_of_model_profiles=number_of_model_profiles))\n",
    "print(time.strftime('%d/%m/%y %H:%M',time.localtime()))\n",
    "pm.execute_notebook('2020-08-05-AA-map-selected-profiles.ipynb','out/'+str(datenow)+'-AA-map-selected-profiles-MEDWEST60_'+str(datemin)+'-'+str(datemax)+'_'+str(depthmin)+'m_'+str(radius_max)+'x'+str(period)+'d_'+str(number_of_model_profiles)+'.ipynb',parameters=dict(ymin=ymin,mmin=mmin,dmin=dmin,ymax=ymax,mmax=mmax,dmax=dmax,depthmin=depthmin,radius_max=radius_max,period=period,number_of_model_profiles=number_of_model_profiles))\n",
    "print(time.strftime('%d/%m/%y %H:%M',time.localtime()))\n",
    "pm.execute_notebook('2020-08-07-AA-process-profiles.ipynb','out/'+str(datenow)+'-AA-process-profiles-MEDWEST60_'+str(datemin)+'-'+str(datemax)+'_'+str(depthmin)+'m_'+str(radius_max)+'x'+str(period)+'d_'+str(number_of_model_profiles)+'.ipynb',parameters=dict(ymin=ymin,mmin=mmin,dmin=dmin,ymax=ymax,mmax=mmax,dmax=dmax,depthmin=depthmin,radius_max=radius_max,period=period,number_of_model_profiles=number_of_model_profiles))\n",
    "print(time.strftime('%d/%m/%y %H:%M',time.localtime()))\n",
    "pm.execute_notebook('2020-08-07-AA-final-plot.ipynb','out/'+str(datenow)+'-AA-final-plot-MEDWEST60_'+str(datemin)+'-'+str(datemax)+'_'+str(depthmin)+'m_'+str(radius_max)+'x'+str(period)+'d_'+str(number_of_model_profiles)+'.ipynb',parameters=dict(ymin=ymin,mmin=mmin,dmin=dmin,ymax=ymax,mmax=mmax,dmax=dmax,depthmin=depthmin,radius_max=radius_max,period=period,number_of_model_profiles=number_of_model_profiles))\n",
    "print(time.strftime('%d/%m/%y %H:%M',time.localtime()))\n",
    "\n"
   ]
  },
  {
   "cell_type": "code",
   "execution_count": 4,
   "metadata": {},
   "outputs": [
    {
     "name": "stdout",
     "output_type": "stream",
     "text": [
      "12/08/20 14:04\n"
     ]
    },
    {
     "data": {
      "application/vnd.jupyter.widget-view+json": {
       "model_id": "831754093c89409eb2cce0c358c68a16",
       "version_major": 2,
       "version_minor": 0
      },
      "text/plain": [
       "HBox(children=(FloatProgress(value=0.0, description='Executing', max=12.0, style=ProgressStyle(description_wid…"
      ]
     },
     "metadata": {},
     "output_type": "display_data"
    },
    {
     "name": "stdout",
     "output_type": "stream",
     "text": [
      "\n"
     ]
    },
    {
     "ename": "PapermillExecutionError",
     "evalue": "\n---------------------------------------------------------------------------\nException encountered at \"In [8]\":\n---------------------------------------------------------------------------\nValueError                                Traceback (most recent call last)\n<ipython-input-8-1feb4a7d6ecd> in <module>\n     33 axs[0].plot(mean_temp_model_standart,vert_standart,'b.-', label='temp model-mean')\n     34 axs[0].set_ylabel('Depth [m]', size=14)\n---> 35 axs[0].set_xlim(min_temp,max_temp)\n     36 axs[0].set_ylim(depthmin, 0)\n     37 axs[0].grid(True, which='both')\n\n/gpfswork/rech/yrf/rote001/miniconda2/envs/seawater/lib/python3.8/site-packages/matplotlib/axes/_base.py in set_xlim(self, left, right, emit, auto, xmin, xmax)\n   3182 \n   3183         self._process_unit_info(xdata=(left, right))\n-> 3184         left = self._validate_converted_limits(left, self.convert_xunits)\n   3185         right = self._validate_converted_limits(right, self.convert_xunits)\n   3186 \n\n/gpfswork/rech/yrf/rote001/miniconda2/envs/seawater/lib/python3.8/site-packages/matplotlib/axes/_base.py in _validate_converted_limits(self, limit, convert)\n   3099             if (isinstance(converted_limit, Real)\n   3100                     and not np.isfinite(converted_limit)):\n-> 3101                 raise ValueError(\"Axis limits cannot be NaN or Inf\")\n   3102             return converted_limit\n   3103 \n\nValueError: Axis limits cannot be NaN or Inf\n",
     "output_type": "error",
     "traceback": [
      "\u001b[0;31m---------------------------------------------------------------------------\u001b[0m",
      "\u001b[0;31mPapermillExecutionError\u001b[0m                   Traceback (most recent call last)",
      "\u001b[0;32m<ipython-input-4-5fe8ed1fe563>\u001b[0m in \u001b[0;36m<module>\u001b[0;34m\u001b[0m\n\u001b[1;32m      1\u001b[0m \u001b[0mprint\u001b[0m\u001b[0;34m(\u001b[0m\u001b[0mtime\u001b[0m\u001b[0;34m.\u001b[0m\u001b[0mstrftime\u001b[0m\u001b[0;34m(\u001b[0m\u001b[0;34m'%d/%m/%y %H:%M'\u001b[0m\u001b[0;34m,\u001b[0m\u001b[0mtime\u001b[0m\u001b[0;34m.\u001b[0m\u001b[0mlocaltime\u001b[0m\u001b[0;34m(\u001b[0m\u001b[0;34m)\u001b[0m\u001b[0;34m)\u001b[0m\u001b[0;34m)\u001b[0m\u001b[0;34m\u001b[0m\u001b[0;34m\u001b[0m\u001b[0m\n\u001b[0;32m----> 2\u001b[0;31m \u001b[0mpm\u001b[0m\u001b[0;34m.\u001b[0m\u001b[0mexecute_notebook\u001b[0m\u001b[0;34m(\u001b[0m\u001b[0;34m'2020-08-07-AA-final-plot.ipynb'\u001b[0m\u001b[0;34m,\u001b[0m\u001b[0;34m'out/'\u001b[0m\u001b[0;34m+\u001b[0m\u001b[0mstr\u001b[0m\u001b[0;34m(\u001b[0m\u001b[0mdatenow\u001b[0m\u001b[0;34m)\u001b[0m\u001b[0;34m+\u001b[0m\u001b[0;34m'-AA-final-plot-MEDWEST60_'\u001b[0m\u001b[0;34m+\u001b[0m\u001b[0mstr\u001b[0m\u001b[0;34m(\u001b[0m\u001b[0mdatemin\u001b[0m\u001b[0;34m)\u001b[0m\u001b[0;34m+\u001b[0m\u001b[0;34m'-'\u001b[0m\u001b[0;34m+\u001b[0m\u001b[0mstr\u001b[0m\u001b[0;34m(\u001b[0m\u001b[0mdatemax\u001b[0m\u001b[0;34m)\u001b[0m\u001b[0;34m+\u001b[0m\u001b[0;34m'_'\u001b[0m\u001b[0;34m+\u001b[0m\u001b[0mstr\u001b[0m\u001b[0;34m(\u001b[0m\u001b[0mdepthmin\u001b[0m\u001b[0;34m)\u001b[0m\u001b[0;34m+\u001b[0m\u001b[0;34m'm_'\u001b[0m\u001b[0;34m+\u001b[0m\u001b[0mstr\u001b[0m\u001b[0;34m(\u001b[0m\u001b[0mradius_max\u001b[0m\u001b[0;34m)\u001b[0m\u001b[0;34m+\u001b[0m\u001b[0;34m'x'\u001b[0m\u001b[0;34m+\u001b[0m\u001b[0mstr\u001b[0m\u001b[0;34m(\u001b[0m\u001b[0mperiod\u001b[0m\u001b[0;34m)\u001b[0m\u001b[0;34m+\u001b[0m\u001b[0;34m'd_'\u001b[0m\u001b[0;34m+\u001b[0m\u001b[0mstr\u001b[0m\u001b[0;34m(\u001b[0m\u001b[0mnumber_of_model_profiles\u001b[0m\u001b[0;34m)\u001b[0m\u001b[0;34m+\u001b[0m\u001b[0;34m'.ipynb'\u001b[0m\u001b[0;34m,\u001b[0m\u001b[0mparameters\u001b[0m\u001b[0;34m=\u001b[0m\u001b[0mdict\u001b[0m\u001b[0;34m(\u001b[0m\u001b[0mymin\u001b[0m\u001b[0;34m=\u001b[0m\u001b[0mymin\u001b[0m\u001b[0;34m,\u001b[0m\u001b[0mmmin\u001b[0m\u001b[0;34m=\u001b[0m\u001b[0mmmin\u001b[0m\u001b[0;34m,\u001b[0m\u001b[0mdmin\u001b[0m\u001b[0;34m=\u001b[0m\u001b[0mdmin\u001b[0m\u001b[0;34m,\u001b[0m\u001b[0mymax\u001b[0m\u001b[0;34m=\u001b[0m\u001b[0mymax\u001b[0m\u001b[0;34m,\u001b[0m\u001b[0mmmax\u001b[0m\u001b[0;34m=\u001b[0m\u001b[0mmmax\u001b[0m\u001b[0;34m,\u001b[0m\u001b[0mdmax\u001b[0m\u001b[0;34m=\u001b[0m\u001b[0mdmax\u001b[0m\u001b[0;34m,\u001b[0m\u001b[0mdepthmin\u001b[0m\u001b[0;34m=\u001b[0m\u001b[0mdepthmin\u001b[0m\u001b[0;34m,\u001b[0m\u001b[0mradius_max\u001b[0m\u001b[0;34m=\u001b[0m\u001b[0mradius_max\u001b[0m\u001b[0;34m,\u001b[0m\u001b[0mperiod\u001b[0m\u001b[0;34m=\u001b[0m\u001b[0mperiod\u001b[0m\u001b[0;34m,\u001b[0m\u001b[0mnumber_of_model_profiles\u001b[0m\u001b[0;34m=\u001b[0m\u001b[0mnumber_of_model_profiles\u001b[0m\u001b[0;34m)\u001b[0m\u001b[0;34m)\u001b[0m\u001b[0;34m\u001b[0m\u001b[0;34m\u001b[0m\u001b[0m\n\u001b[0m\u001b[1;32m      3\u001b[0m \u001b[0mprint\u001b[0m\u001b[0;34m(\u001b[0m\u001b[0mtime\u001b[0m\u001b[0;34m.\u001b[0m\u001b[0mstrftime\u001b[0m\u001b[0;34m(\u001b[0m\u001b[0;34m'%d/%m/%y %H:%M'\u001b[0m\u001b[0;34m,\u001b[0m\u001b[0mtime\u001b[0m\u001b[0;34m.\u001b[0m\u001b[0mlocaltime\u001b[0m\u001b[0;34m(\u001b[0m\u001b[0;34m)\u001b[0m\u001b[0;34m)\u001b[0m\u001b[0;34m)\u001b[0m\u001b[0;34m\u001b[0m\u001b[0;34m\u001b[0m\u001b[0m\n",
      "\u001b[0;32m/gpfswork/rech/yrf/rote001/miniconda2/envs/seawater/lib/python3.8/site-packages/papermill/execute.py\u001b[0m in \u001b[0;36mexecute_notebook\u001b[0;34m(input_path, output_path, parameters, engine_name, request_save_on_cell_execute, prepare_only, kernel_name, progress_bar, log_output, stdout_file, stderr_file, start_timeout, report_mode, cwd, **engine_kwargs)\u001b[0m\n\u001b[1;32m    108\u001b[0m \u001b[0;34m\u001b[0m\u001b[0m\n\u001b[1;32m    109\u001b[0m             \u001b[0;31m# Check for errors first (it saves on error before raising)\u001b[0m\u001b[0;34m\u001b[0m\u001b[0;34m\u001b[0m\u001b[0;34m\u001b[0m\u001b[0m\n\u001b[0;32m--> 110\u001b[0;31m             \u001b[0mraise_for_execution_errors\u001b[0m\u001b[0;34m(\u001b[0m\u001b[0mnb\u001b[0m\u001b[0;34m,\u001b[0m \u001b[0moutput_path\u001b[0m\u001b[0;34m)\u001b[0m\u001b[0;34m\u001b[0m\u001b[0;34m\u001b[0m\u001b[0m\n\u001b[0m\u001b[1;32m    111\u001b[0m \u001b[0;34m\u001b[0m\u001b[0m\n\u001b[1;32m    112\u001b[0m         \u001b[0;31m# Write final output in case the engine didn't write it on cell completion.\u001b[0m\u001b[0;34m\u001b[0m\u001b[0;34m\u001b[0m\u001b[0;34m\u001b[0m\u001b[0m\n",
      "\u001b[0;32m/gpfswork/rech/yrf/rote001/miniconda2/envs/seawater/lib/python3.8/site-packages/papermill/execute.py\u001b[0m in \u001b[0;36mraise_for_execution_errors\u001b[0;34m(nb, output_path)\u001b[0m\n\u001b[1;32m    220\u001b[0m \u001b[0;34m\u001b[0m\u001b[0m\n\u001b[1;32m    221\u001b[0m         \u001b[0mwrite_ipynb\u001b[0m\u001b[0;34m(\u001b[0m\u001b[0mnb\u001b[0m\u001b[0;34m,\u001b[0m \u001b[0moutput_path\u001b[0m\u001b[0;34m)\u001b[0m\u001b[0;34m\u001b[0m\u001b[0;34m\u001b[0m\u001b[0m\n\u001b[0;32m--> 222\u001b[0;31m         \u001b[0;32mraise\u001b[0m \u001b[0merror\u001b[0m\u001b[0;34m\u001b[0m\u001b[0;34m\u001b[0m\u001b[0m\n\u001b[0m",
      "\u001b[0;31mPapermillExecutionError\u001b[0m: \n---------------------------------------------------------------------------\nException encountered at \"In [8]\":\n---------------------------------------------------------------------------\nValueError                                Traceback (most recent call last)\n<ipython-input-8-1feb4a7d6ecd> in <module>\n     33 axs[0].plot(mean_temp_model_standart,vert_standart,'b.-', label='temp model-mean')\n     34 axs[0].set_ylabel('Depth [m]', size=14)\n---> 35 axs[0].set_xlim(min_temp,max_temp)\n     36 axs[0].set_ylim(depthmin, 0)\n     37 axs[0].grid(True, which='both')\n\n/gpfswork/rech/yrf/rote001/miniconda2/envs/seawater/lib/python3.8/site-packages/matplotlib/axes/_base.py in set_xlim(self, left, right, emit, auto, xmin, xmax)\n   3182 \n   3183         self._process_unit_info(xdata=(left, right))\n-> 3184         left = self._validate_converted_limits(left, self.convert_xunits)\n   3185         right = self._validate_converted_limits(right, self.convert_xunits)\n   3186 \n\n/gpfswork/rech/yrf/rote001/miniconda2/envs/seawater/lib/python3.8/site-packages/matplotlib/axes/_base.py in _validate_converted_limits(self, limit, convert)\n   3099             if (isinstance(converted_limit, Real)\n   3100                     and not np.isfinite(converted_limit)):\n-> 3101                 raise ValueError(\"Axis limits cannot be NaN or Inf\")\n   3102             return converted_limit\n   3103 \n\nValueError: Axis limits cannot be NaN or Inf\n"
     ]
    }
   ],
   "source": [
    "print(time.strftime('%d/%m/%y %H:%M',time.localtime()))\n",
    "pm.execute_notebook('2020-08-07-AA-final-plot.ipynb','out/'+str(datenow)+'-AA-final-plot-MEDWEST60_'+str(datemin)+'-'+str(datemax)+'_'+str(depthmin)+'m_'+str(radius_max)+'x'+str(period)+'d_'+str(number_of_model_profiles)+'.ipynb',parameters=dict(ymin=ymin,mmin=mmin,dmin=dmin,ymax=ymax,mmax=mmax,dmax=dmax,depthmin=depthmin,radius_max=radius_max,period=period,number_of_model_profiles=number_of_model_profiles))\n",
    "print(time.strftime('%d/%m/%y %H:%M',time.localtime()))\n"
   ]
  },
  {
   "cell_type": "code",
   "execution_count": null,
   "metadata": {},
   "outputs": [],
   "source": []
  }
 ],
 "metadata": {
  "kernelspec": {
   "display_name": "new-seawater",
   "language": "python",
   "name": "seawater"
  },
  "language_info": {
   "codemirror_mode": {
    "name": "ipython",
    "version": 3
   },
   "file_extension": ".py",
   "mimetype": "text/x-python",
   "name": "python",
   "nbconvert_exporter": "python",
   "pygments_lexer": "ipython3",
   "version": "3.8.3"
  }
 },
 "nbformat": 4,
 "nbformat_minor": 4
}
